{
 "cells": [
  {
   "cell_type": "markdown",
   "metadata": {},
   "source": [
    "# 1) IMPORT & INSTALL PACKAGES"
   ]
  },
  {
   "cell_type": "code",
<<<<<<< HEAD
   "execution_count": 348,
=======
   "execution_count": 237,
>>>>>>> parent of cc539bd... Nuevo modelo de RF con GSearchCV
   "metadata": {},
   "outputs": [],
   "source": [
    "import pandas as pd\n",
    "import numpy as np\n",
    "import matplotlib.pylab as pylab \n",
    "from matplotlib import pyplot as plt\n",
    "import seaborn as sns\n",
    "from scipy import stats \n",
    "from sklearn import metrics as mt\n",
    "\n",
    "%matplotlib inline\n",
    "pylab.rcParams['figure.figsize'] = 6,4\n",
    "\n",
    "# Ignorar warnings\n",
    "import warnings\n",
    "warnings.filterwarnings(\"ignore\")"
   ]
  },
  {
   "cell_type": "markdown",
   "metadata": {},
   "source": [
    "# 2) DATA UNDERSTANDING"
   ]
  },
  {
   "cell_type": "markdown",
   "metadata": {},
   "source": [
    "## 2.1) Load Data"
   ]
  },
  {
   "cell_type": "code",
<<<<<<< HEAD
   "execution_count": 349,
=======
   "execution_count": 238,
>>>>>>> parent of cc539bd... Nuevo modelo de RF con GSearchCV
   "metadata": {},
   "outputs": [],
   "source": [
    "# Import from\n",
    "\n",
    "path = \"input/\"\n",
    "df_train = pd.read_csv(path+\"churn_data_train.csv\",encoding='latin-1')\n",
    "df_test = pd.read_csv(path+\"churn_data_test.csv\",encoding='latin-1')"
   ]
  },
  {
   "cell_type": "markdown",
   "metadata": {},
   "source": [
    "## 2.2) Data Exploration"
   ]
  },
  {
   "cell_type": "code",
<<<<<<< HEAD
   "execution_count": 350,
=======
   "execution_count": 239,
>>>>>>> parent of cc539bd... Nuevo modelo de RF con GSearchCV
   "metadata": {},
   "outputs": [
    {
     "data": {
      "text/plain": [
       "((4577, 21), (2466, 20))"
      ]
     },
<<<<<<< HEAD
     "execution_count": 350,
=======
     "execution_count": 239,
>>>>>>> parent of cc539bd... Nuevo modelo de RF con GSearchCV
     "metadata": {},
     "output_type": "execute_result"
    }
   ],
   "source": [
    "df_train.shape, df_test.shape"
   ]
  },
  {
   "cell_type": "code",
<<<<<<< HEAD
   "execution_count": 351,
=======
   "execution_count": 240,
>>>>>>> parent of cc539bd... Nuevo modelo de RF con GSearchCV
   "metadata": {},
   "outputs": [
    {
     "data": {
      "text/html": [
       "<div>\n",
       "<style scoped>\n",
       "    .dataframe tbody tr th:only-of-type {\n",
       "        vertical-align: middle;\n",
       "    }\n",
       "\n",
       "    .dataframe tbody tr th {\n",
       "        vertical-align: top;\n",
       "    }\n",
       "\n",
       "    .dataframe thead th {\n",
       "        text-align: right;\n",
       "    }\n",
       "</style>\n",
       "<table border=\"1\" class=\"dataframe\">\n",
       "  <thead>\n",
       "    <tr style=\"text-align: right;\">\n",
       "      <th></th>\n",
       "      <th>ID</th>\n",
       "      <th>Sexo</th>\n",
       "      <th>AdultoMayor</th>\n",
       "      <th>Socio</th>\n",
       "      <th>Dependientes</th>\n",
       "      <th>MesesCliente</th>\n",
       "      <th>ServicioTelefonico</th>\n",
       "      <th>LineasMultiples</th>\n",
       "      <th>ServicioInternet</th>\n",
       "      <th>SeguridadOnline</th>\n",
       "      <th>...</th>\n",
       "      <th>ProteccionDispositivo</th>\n",
       "      <th>SoporteTecnico</th>\n",
       "      <th>TransmisionTV</th>\n",
       "      <th>TransmisionPeliculas</th>\n",
       "      <th>TerminoContrato</th>\n",
       "      <th>FacturacionElectronica</th>\n",
       "      <th>MetodoPago</th>\n",
       "      <th>MontoCargadoMes</th>\n",
       "      <th>MontoCargadoTotal</th>\n",
       "      <th>Churn</th>\n",
       "    </tr>\n",
       "  </thead>\n",
       "  <tbody>\n",
       "    <tr>\n",
       "      <th>0</th>\n",
       "      <td>ID01802</td>\n",
       "      <td>Masculino</td>\n",
       "      <td>1.0</td>\n",
       "      <td>No</td>\n",
       "      <td>No</td>\n",
       "      <td>11.0</td>\n",
       "      <td>Si</td>\n",
       "      <td>Si</td>\n",
       "      <td>DSL</td>\n",
       "      <td>Si</td>\n",
       "      <td>...</td>\n",
       "      <td>No</td>\n",
       "      <td>No</td>\n",
       "      <td>No</td>\n",
       "      <td>No</td>\n",
       "      <td>Mes a mes</td>\n",
       "      <td>No</td>\n",
       "      <td>Tarjeta de credito (automatico)</td>\n",
       "      <td>60.25</td>\n",
       "      <td>662.95</td>\n",
       "      <td>0</td>\n",
       "    </tr>\n",
       "    <tr>\n",
       "      <th>1</th>\n",
       "      <td>ID05696</td>\n",
       "      <td>Masculino</td>\n",
       "      <td>0.0</td>\n",
       "      <td>No</td>\n",
       "      <td>No</td>\n",
       "      <td>1.0</td>\n",
       "      <td>Si</td>\n",
       "      <td>No</td>\n",
       "      <td>No</td>\n",
       "      <td>Sin servicio de internet</td>\n",
       "      <td>...</td>\n",
       "      <td>Sin servicio de internet</td>\n",
       "      <td>Sin servicio de internet</td>\n",
       "      <td>Sin servicio de internet</td>\n",
       "      <td>Sin servicio de internet</td>\n",
       "      <td>Mes a mes</td>\n",
       "      <td>No</td>\n",
       "      <td>Checke electronico</td>\n",
       "      <td>20.05</td>\n",
       "      <td>20.05</td>\n",
       "      <td>0</td>\n",
       "    </tr>\n",
       "    <tr>\n",
       "      <th>2</th>\n",
       "      <td>ID03166</td>\n",
       "      <td>Femenino</td>\n",
       "      <td>0.0</td>\n",
       "      <td>Si</td>\n",
       "      <td>Si</td>\n",
       "      <td>8.0</td>\n",
       "      <td>Si</td>\n",
       "      <td>No</td>\n",
       "      <td>Fibra Optica</td>\n",
       "      <td>No</td>\n",
       "      <td>...</td>\n",
       "      <td>Si</td>\n",
       "      <td>No</td>\n",
       "      <td>Si</td>\n",
       "      <td>Si</td>\n",
       "      <td>Mes a mes</td>\n",
       "      <td>Si</td>\n",
       "      <td>Checke por correo</td>\n",
       "      <td>94.20</td>\n",
       "      <td>777.3</td>\n",
       "      <td>1</td>\n",
       "    </tr>\n",
       "    <tr>\n",
       "      <th>3</th>\n",
       "      <td>ID00104</td>\n",
       "      <td>Masculino</td>\n",
       "      <td>0.0</td>\n",
       "      <td>Si</td>\n",
       "      <td>Si</td>\n",
       "      <td>50.0</td>\n",
       "      <td>No</td>\n",
       "      <td>Sin servicio telefonico</td>\n",
       "      <td>DSL</td>\n",
       "      <td>Si</td>\n",
       "      <td>...</td>\n",
       "      <td>No</td>\n",
       "      <td>No</td>\n",
       "      <td>Si</td>\n",
       "      <td>No</td>\n",
       "      <td>Mes a mes</td>\n",
       "      <td>Si</td>\n",
       "      <td>Transferencia bancaria (automatico)</td>\n",
       "      <td>39.45</td>\n",
       "      <td>2021.35</td>\n",
       "      <td>0</td>\n",
       "    </tr>\n",
       "    <tr>\n",
       "      <th>4</th>\n",
       "      <td>ID05060</td>\n",
       "      <td>Femenino</td>\n",
       "      <td>0.0</td>\n",
       "      <td>No</td>\n",
       "      <td>No</td>\n",
       "      <td>71.0</td>\n",
       "      <td>Si</td>\n",
       "      <td>Si</td>\n",
       "      <td>Fibra Optica</td>\n",
       "      <td>Si</td>\n",
       "      <td>...</td>\n",
       "      <td>Si</td>\n",
       "      <td>Si</td>\n",
       "      <td>Si</td>\n",
       "      <td>Si</td>\n",
       "      <td>Bianual</td>\n",
       "      <td>Si</td>\n",
       "      <td>Checke por correo</td>\n",
       "      <td>118.65</td>\n",
       "      <td>NaN</td>\n",
       "      <td>0</td>\n",
       "    </tr>\n",
       "  </tbody>\n",
       "</table>\n",
       "<p>5 rows × 21 columns</p>\n",
       "</div>"
      ],
      "text/plain": [
       "        ID       Sexo  AdultoMayor Socio Dependientes  MesesCliente  \\\n",
       "0  ID01802  Masculino          1.0    No           No          11.0   \n",
       "1  ID05696  Masculino          0.0    No           No           1.0   \n",
       "2  ID03166   Femenino          0.0    Si           Si           8.0   \n",
       "3  ID00104  Masculino          0.0    Si           Si          50.0   \n",
       "4  ID05060   Femenino          0.0    No           No          71.0   \n",
       "\n",
       "  ServicioTelefonico          LineasMultiples ServicioInternet  \\\n",
       "0                 Si                       Si              DSL   \n",
       "1                 Si                       No               No   \n",
       "2                 Si                       No     Fibra Optica   \n",
       "3                 No  Sin servicio telefonico              DSL   \n",
       "4                 Si                       Si     Fibra Optica   \n",
       "\n",
       "            SeguridadOnline  ...      ProteccionDispositivo  \\\n",
       "0                        Si  ...                         No   \n",
       "1  Sin servicio de internet  ...   Sin servicio de internet   \n",
       "2                        No  ...                         Si   \n",
       "3                        Si  ...                         No   \n",
       "4                        Si  ...                         Si   \n",
       "\n",
       "             SoporteTecnico             TransmisionTV  \\\n",
       "0                        No                        No   \n",
       "1  Sin servicio de internet  Sin servicio de internet   \n",
       "2                        No                        Si   \n",
       "3                        No                        Si   \n",
       "4                        Si                        Si   \n",
       "\n",
       "       TransmisionPeliculas TerminoContrato FacturacionElectronica  \\\n",
       "0                        No       Mes a mes                     No   \n",
       "1  Sin servicio de internet       Mes a mes                     No   \n",
       "2                        Si       Mes a mes                     Si   \n",
       "3                        No       Mes a mes                     Si   \n",
       "4                        Si         Bianual                     Si   \n",
       "\n",
       "                            MetodoPago MontoCargadoMes  MontoCargadoTotal  \\\n",
       "0      Tarjeta de credito (automatico)           60.25             662.95   \n",
       "1                   Checke electronico           20.05              20.05   \n",
       "2                    Checke por correo           94.20              777.3   \n",
       "3  Transferencia bancaria (automatico)           39.45            2021.35   \n",
       "4                    Checke por correo          118.65                NaN   \n",
       "\n",
       "  Churn  \n",
       "0     0  \n",
       "1     0  \n",
       "2     1  \n",
       "3     0  \n",
       "4     0  \n",
       "\n",
       "[5 rows x 21 columns]"
      ]
     },
<<<<<<< HEAD
     "execution_count": 351,
=======
     "execution_count": 240,
>>>>>>> parent of cc539bd... Nuevo modelo de RF con GSearchCV
     "metadata": {},
     "output_type": "execute_result"
    }
   ],
   "source": [
    "df_train.head()"
   ]
  },
  {
   "cell_type": "code",
<<<<<<< HEAD
   "execution_count": 352,
=======
   "execution_count": 241,
>>>>>>> parent of cc539bd... Nuevo modelo de RF con GSearchCV
   "metadata": {},
   "outputs": [
    {
     "data": {
      "text/html": [
       "<div>\n",
       "<style scoped>\n",
       "    .dataframe tbody tr th:only-of-type {\n",
       "        vertical-align: middle;\n",
       "    }\n",
       "\n",
       "    .dataframe tbody tr th {\n",
       "        vertical-align: top;\n",
       "    }\n",
       "\n",
       "    .dataframe thead th {\n",
       "        text-align: right;\n",
       "    }\n",
       "</style>\n",
       "<table border=\"1\" class=\"dataframe\">\n",
       "  <thead>\n",
       "    <tr style=\"text-align: right;\">\n",
       "      <th></th>\n",
       "      <th>ID</th>\n",
       "      <th>Sexo</th>\n",
       "      <th>AdultoMayor</th>\n",
       "      <th>Socio</th>\n",
       "      <th>Dependientes</th>\n",
       "      <th>MesesCliente</th>\n",
       "      <th>ServicioTelefonico</th>\n",
       "      <th>LineasMultiples</th>\n",
       "      <th>ServicioInternet</th>\n",
       "      <th>SeguridadOnline</th>\n",
       "      <th>RespaldoOnline</th>\n",
       "      <th>ProteccionDispositivo</th>\n",
       "      <th>SoporteTecnico</th>\n",
       "      <th>TransmisionTV</th>\n",
       "      <th>TransmisionPeliculas</th>\n",
       "      <th>TerminoContrato</th>\n",
       "      <th>FacturacionElectronica</th>\n",
       "      <th>MetodoPago</th>\n",
       "      <th>MontoCargadoMes</th>\n",
       "      <th>MontoCargadoTotal</th>\n",
       "    </tr>\n",
       "  </thead>\n",
       "  <tbody>\n",
       "    <tr>\n",
       "      <th>0</th>\n",
       "      <td>ID03436</td>\n",
       "      <td>Masculino</td>\n",
       "      <td>0.0</td>\n",
       "      <td>No</td>\n",
       "      <td>No</td>\n",
       "      <td>1.0</td>\n",
       "      <td>Si</td>\n",
       "      <td>No</td>\n",
       "      <td>DSL</td>\n",
       "      <td>Si</td>\n",
       "      <td>No</td>\n",
       "      <td>No</td>\n",
       "      <td>No</td>\n",
       "      <td>No</td>\n",
       "      <td>No</td>\n",
       "      <td>Mes a mes</td>\n",
       "      <td>No</td>\n",
       "      <td>Checke por correo</td>\n",
       "      <td>47.95</td>\n",
       "      <td>47.95</td>\n",
       "    </tr>\n",
       "    <tr>\n",
       "      <th>1</th>\n",
       "      <td>ID05166</td>\n",
       "      <td>Femenino</td>\n",
       "      <td>0.0</td>\n",
       "      <td>Si</td>\n",
       "      <td>Si</td>\n",
       "      <td>62.0</td>\n",
       "      <td>Si</td>\n",
       "      <td>Si</td>\n",
       "      <td>Fibra Optica</td>\n",
       "      <td>No</td>\n",
       "      <td>Si</td>\n",
       "      <td>Si</td>\n",
       "      <td>Si</td>\n",
       "      <td>Si</td>\n",
       "      <td>Si</td>\n",
       "      <td>Anual</td>\n",
       "      <td>Si</td>\n",
       "      <td>Checke por correo</td>\n",
       "      <td>110.80</td>\n",
       "      <td>6840.95</td>\n",
       "    </tr>\n",
       "    <tr>\n",
       "      <th>2</th>\n",
       "      <td>ID04004</td>\n",
       "      <td>Femenino</td>\n",
       "      <td>0.0</td>\n",
       "      <td>Si</td>\n",
       "      <td>No</td>\n",
       "      <td>7.0</td>\n",
       "      <td>Si</td>\n",
       "      <td>No</td>\n",
       "      <td>Fibra Optica</td>\n",
       "      <td>No</td>\n",
       "      <td>No</td>\n",
       "      <td>Si</td>\n",
       "      <td>No</td>\n",
       "      <td>Si</td>\n",
       "      <td>No</td>\n",
       "      <td>Mes a mes</td>\n",
       "      <td>Si</td>\n",
       "      <td>Checke por correo</td>\n",
       "      <td>86.25</td>\n",
       "      <td>587.1</td>\n",
       "    </tr>\n",
       "    <tr>\n",
       "      <th>3</th>\n",
       "      <td>ID05309</td>\n",
       "      <td>Femenino</td>\n",
       "      <td>1.0</td>\n",
       "      <td>Si</td>\n",
       "      <td>No</td>\n",
       "      <td>50.0</td>\n",
       "      <td>Si</td>\n",
       "      <td>Si</td>\n",
       "      <td>No</td>\n",
       "      <td>Sin servicio de internet</td>\n",
       "      <td>Sin servicio de internet</td>\n",
       "      <td>Sin servicio de internet</td>\n",
       "      <td>Sin servicio de internet</td>\n",
       "      <td>Sin servicio de internet</td>\n",
       "      <td>Sin servicio de internet</td>\n",
       "      <td>Anual</td>\n",
       "      <td>No</td>\n",
       "      <td>Checke por correo</td>\n",
       "      <td>25.20</td>\n",
       "      <td>1306.3</td>\n",
       "    </tr>\n",
       "    <tr>\n",
       "      <th>4</th>\n",
       "      <td>ID05434</td>\n",
       "      <td>Masculino</td>\n",
       "      <td>0.0</td>\n",
       "      <td>Si</td>\n",
       "      <td>Si</td>\n",
       "      <td>1.0</td>\n",
       "      <td>Si</td>\n",
       "      <td>No</td>\n",
       "      <td>No</td>\n",
       "      <td>Sin servicio de internet</td>\n",
       "      <td>Sin servicio de internet</td>\n",
       "      <td>Sin servicio de internet</td>\n",
       "      <td>Sin servicio de internet</td>\n",
       "      <td>Sin servicio de internet</td>\n",
       "      <td>Sin servicio de internet</td>\n",
       "      <td>Mes a mes</td>\n",
       "      <td>No</td>\n",
       "      <td>Checke electronico</td>\n",
       "      <td>NaN</td>\n",
       "      <td>19.2</td>\n",
       "    </tr>\n",
       "  </tbody>\n",
       "</table>\n",
       "</div>"
      ],
      "text/plain": [
       "        ID       Sexo  AdultoMayor Socio Dependientes  MesesCliente  \\\n",
       "0  ID03436  Masculino          0.0    No           No           1.0   \n",
       "1  ID05166   Femenino          0.0    Si           Si          62.0   \n",
       "2  ID04004   Femenino          0.0    Si           No           7.0   \n",
       "3  ID05309   Femenino          1.0    Si           No          50.0   \n",
       "4  ID05434  Masculino          0.0    Si           Si           1.0   \n",
       "\n",
       "  ServicioTelefonico LineasMultiples ServicioInternet  \\\n",
       "0                 Si              No              DSL   \n",
       "1                 Si              Si     Fibra Optica   \n",
       "2                 Si              No     Fibra Optica   \n",
       "3                 Si              Si               No   \n",
       "4                 Si              No               No   \n",
       "\n",
       "            SeguridadOnline            RespaldoOnline  \\\n",
       "0                        Si                        No   \n",
       "1                        No                        Si   \n",
       "2                        No                        No   \n",
       "3  Sin servicio de internet  Sin servicio de internet   \n",
       "4  Sin servicio de internet  Sin servicio de internet   \n",
       "\n",
       "      ProteccionDispositivo            SoporteTecnico  \\\n",
       "0                        No                        No   \n",
       "1                        Si                        Si   \n",
       "2                        Si                        No   \n",
       "3  Sin servicio de internet  Sin servicio de internet   \n",
       "4  Sin servicio de internet  Sin servicio de internet   \n",
       "\n",
       "              TransmisionTV      TransmisionPeliculas TerminoContrato  \\\n",
       "0                        No                        No       Mes a mes   \n",
       "1                        Si                        Si           Anual   \n",
       "2                        Si                        No       Mes a mes   \n",
       "3  Sin servicio de internet  Sin servicio de internet           Anual   \n",
       "4  Sin servicio de internet  Sin servicio de internet       Mes a mes   \n",
       "\n",
       "  FacturacionElectronica          MetodoPago  MontoCargadoMes  \\\n",
       "0                     No   Checke por correo            47.95   \n",
       "1                     Si   Checke por correo           110.80   \n",
       "2                     Si   Checke por correo            86.25   \n",
       "3                     No   Checke por correo            25.20   \n",
       "4                     No  Checke electronico              NaN   \n",
       "\n",
       "  MontoCargadoTotal  \n",
       "0             47.95  \n",
       "1           6840.95  \n",
       "2             587.1  \n",
       "3            1306.3  \n",
       "4              19.2  "
      ]
     },
<<<<<<< HEAD
     "execution_count": 352,
=======
     "execution_count": 241,
>>>>>>> parent of cc539bd... Nuevo modelo de RF con GSearchCV
     "metadata": {},
     "output_type": "execute_result"
    }
   ],
   "source": [
    "df_test.head()"
   ]
  },
  {
   "cell_type": "code",
<<<<<<< HEAD
   "execution_count": 353,
=======
   "execution_count": 242,
>>>>>>> parent of cc539bd... Nuevo modelo de RF con GSearchCV
   "metadata": {},
   "outputs": [
    {
     "name": "stdout",
     "output_type": "stream",
     "text": [
      "<class 'pandas.core.frame.DataFrame'>\n",
      "RangeIndex: 4577 entries, 0 to 4576\n",
      "Data columns (total 21 columns):\n",
      "ID                        4577 non-null object\n",
      "Sexo                      4577 non-null object\n",
      "AdultoMayor               4503 non-null float64\n",
      "Socio                     4548 non-null object\n",
      "Dependientes              4577 non-null object\n",
      "MesesCliente              4573 non-null float64\n",
      "ServicioTelefonico        4577 non-null object\n",
      "LineasMultiples           4577 non-null object\n",
      "ServicioInternet          4577 non-null object\n",
      "SeguridadOnline           4483 non-null object\n",
      "RespaldoOnline            4483 non-null object\n",
      "ProteccionDispositivo     4483 non-null object\n",
      "SoporteTecnico            4483 non-null object\n",
      "TransmisionTV             4483 non-null object\n",
      "TransmisionPeliculas      4483 non-null object\n",
      "TerminoContrato           4577 non-null object\n",
      "FacturacionElectronica    4531 non-null object\n",
      "MetodoPago                4577 non-null object\n",
      "MontoCargadoMes           4163 non-null float64\n",
      "MontoCargadoTotal         4350 non-null object\n",
      "Churn                     4577 non-null int64\n",
      "dtypes: float64(3), int64(1), object(17)\n",
      "memory usage: 751.0+ KB\n"
     ]
    }
   ],
   "source": [
    "df_train.info()"
   ]
  },
  {
   "cell_type": "code",
<<<<<<< HEAD
   "execution_count": 354,
=======
   "execution_count": 243,
>>>>>>> parent of cc539bd... Nuevo modelo de RF con GSearchCV
   "metadata": {},
   "outputs": [
    {
     "name": "stdout",
     "output_type": "stream",
     "text": [
      "<class 'pandas.core.frame.DataFrame'>\n",
      "RangeIndex: 2466 entries, 0 to 2465\n",
      "Data columns (total 20 columns):\n",
      "ID                        2466 non-null object\n",
      "Sexo                      2466 non-null object\n",
      "AdultoMayor               2414 non-null float64\n",
      "Socio                     2447 non-null object\n",
      "Dependientes              2466 non-null object\n",
      "MesesCliente              2459 non-null float64\n",
      "ServicioTelefonico        2466 non-null object\n",
      "LineasMultiples           2466 non-null object\n",
      "ServicioInternet          2466 non-null object\n",
      "SeguridadOnline           2404 non-null object\n",
      "RespaldoOnline            2404 non-null object\n",
      "ProteccionDispositivo     2404 non-null object\n",
      "SoporteTecnico            2404 non-null object\n",
      "TransmisionTV             2404 non-null object\n",
      "TransmisionPeliculas      2404 non-null object\n",
      "TerminoContrato           2466 non-null object\n",
      "FacturacionElectronica    2442 non-null object\n",
      "MetodoPago                2466 non-null object\n",
      "MontoCargadoMes           2267 non-null float64\n",
      "MontoCargadoTotal         2353 non-null object\n",
      "dtypes: float64(3), object(17)\n",
      "memory usage: 385.4+ KB\n"
     ]
    }
   ],
   "source": [
    "df_test.info()"
   ]
  },
  {
   "cell_type": "code",
<<<<<<< HEAD
   "execution_count": 355,
=======
   "execution_count": 244,
>>>>>>> parent of cc539bd... Nuevo modelo de RF con GSearchCV
   "metadata": {},
   "outputs": [],
   "source": [
    "# Defining features types\n",
    "ID = 'ID'\n",
    "TARGET = 'Churn'"
   ]
  },
  {
   "cell_type": "code",
<<<<<<< HEAD
   "execution_count": 356,
=======
   "execution_count": 245,
>>>>>>> parent of cc539bd... Nuevo modelo de RF con GSearchCV
   "metadata": {},
   "outputs": [
    {
     "data": {
      "text/plain": [
       "0    3362\n",
       "1    1215\n",
       "Name: Churn, dtype: int64"
      ]
     },
<<<<<<< HEAD
     "execution_count": 356,
=======
     "execution_count": 245,
>>>>>>> parent of cc539bd... Nuevo modelo de RF con GSearchCV
     "metadata": {},
     "output_type": "execute_result"
    }
   ],
   "source": [
    "# Distribución del Target\n",
    "df_train[TARGET].value_counts(dropna=False)"
   ]
  },
  {
   "cell_type": "code",
<<<<<<< HEAD
   "execution_count": 357,
=======
   "execution_count": 246,
>>>>>>> parent of cc539bd... Nuevo modelo de RF con GSearchCV
   "metadata": {
    "scrolled": true
   },
   "outputs": [
    {
     "data": {
      "text/plain": [
       "0    73.454228\n",
       "1    26.545772\n",
       "Name: Churn, dtype: float64"
      ]
     },
<<<<<<< HEAD
     "execution_count": 357,
=======
     "execution_count": 246,
>>>>>>> parent of cc539bd... Nuevo modelo de RF con GSearchCV
     "metadata": {},
     "output_type": "execute_result"
    }
   ],
   "source": [
    "df_train[TARGET].value_counts(dropna=False, normalize = True)*100"
   ]
  },
  {
   "cell_type": "code",
<<<<<<< HEAD
   "execution_count": 358,
=======
   "execution_count": 247,
>>>>>>> parent of cc539bd... Nuevo modelo de RF con GSearchCV
   "metadata": {},
   "outputs": [],
   "source": [
    "df_train['AdultoMayor'] = df_train['AdultoMayor'].astype(str) # Convertir a variable categorica\n",
    "df_test['AdultoMayor'] = df_test['AdultoMayor'].astype(str) # Convertir a variable categorica"
   ]
  },
  {
   "cell_type": "code",
<<<<<<< HEAD
   "execution_count": 359,
=======
   "execution_count": 248,
>>>>>>> parent of cc539bd... Nuevo modelo de RF con GSearchCV
   "metadata": {},
   "outputs": [],
   "source": [
    "# Arreglando valores \" \" en esta columna\n",
    "df_train.MontoCargadoTotal= df_train.MontoCargadoTotal.replace(\" \",0)\n",
    "df_train.MontoCargadoTotal = df_train.MontoCargadoTotal.astype(float)\n",
    "\n",
    "df_test.MontoCargadoTotal= df_test.MontoCargadoTotal.replace(\" \",0)\n",
    "df_test.MontoCargadoTotal = df_test.MontoCargadoTotal.astype(float)"
   ]
  },
  {
   "cell_type": "code",
<<<<<<< HEAD
   "execution_count": 360,
=======
   "execution_count": 249,
>>>>>>> parent of cc539bd... Nuevo modelo de RF con GSearchCV
   "metadata": {},
   "outputs": [
    {
     "data": {
      "text/html": [
       "<div>\n",
       "<style scoped>\n",
       "    .dataframe tbody tr th:only-of-type {\n",
       "        vertical-align: middle;\n",
       "    }\n",
       "\n",
       "    .dataframe tbody tr th {\n",
       "        vertical-align: top;\n",
       "    }\n",
       "\n",
       "    .dataframe thead th {\n",
       "        text-align: right;\n",
       "    }\n",
       "</style>\n",
       "<table border=\"1\" class=\"dataframe\">\n",
       "  <thead>\n",
       "    <tr style=\"text-align: right;\">\n",
       "      <th></th>\n",
       "      <th>count</th>\n",
       "      <th>unique</th>\n",
       "      <th>top</th>\n",
       "      <th>freq</th>\n",
       "      <th>mean</th>\n",
       "      <th>std</th>\n",
       "      <th>min</th>\n",
       "      <th>25%</th>\n",
       "      <th>50%</th>\n",
       "      <th>75%</th>\n",
       "      <th>max</th>\n",
       "    </tr>\n",
       "  </thead>\n",
       "  <tbody>\n",
       "    <tr>\n",
       "      <th>ID</th>\n",
       "      <td>4577</td>\n",
       "      <td>4577</td>\n",
       "      <td>ID04461</td>\n",
       "      <td>1</td>\n",
       "      <td>NaN</td>\n",
       "      <td>NaN</td>\n",
       "      <td>NaN</td>\n",
       "      <td>NaN</td>\n",
       "      <td>NaN</td>\n",
       "      <td>NaN</td>\n",
       "      <td>NaN</td>\n",
       "    </tr>\n",
       "    <tr>\n",
       "      <th>Sexo</th>\n",
       "      <td>4577</td>\n",
       "      <td>2</td>\n",
       "      <td>Masculino</td>\n",
       "      <td>2323</td>\n",
       "      <td>NaN</td>\n",
       "      <td>NaN</td>\n",
       "      <td>NaN</td>\n",
       "      <td>NaN</td>\n",
       "      <td>NaN</td>\n",
       "      <td>NaN</td>\n",
       "      <td>NaN</td>\n",
       "    </tr>\n",
       "    <tr>\n",
       "      <th>AdultoMayor</th>\n",
       "      <td>4577</td>\n",
       "      <td>3</td>\n",
       "      <td>0.0</td>\n",
       "      <td>3808</td>\n",
       "      <td>NaN</td>\n",
       "      <td>NaN</td>\n",
       "      <td>NaN</td>\n",
       "      <td>NaN</td>\n",
       "      <td>NaN</td>\n",
       "      <td>NaN</td>\n",
       "      <td>NaN</td>\n",
       "    </tr>\n",
       "    <tr>\n",
       "      <th>Socio</th>\n",
       "      <td>4548</td>\n",
       "      <td>2</td>\n",
       "      <td>No</td>\n",
       "      <td>2368</td>\n",
       "      <td>NaN</td>\n",
       "      <td>NaN</td>\n",
       "      <td>NaN</td>\n",
       "      <td>NaN</td>\n",
       "      <td>NaN</td>\n",
       "      <td>NaN</td>\n",
       "      <td>NaN</td>\n",
       "    </tr>\n",
       "    <tr>\n",
       "      <th>Dependientes</th>\n",
       "      <td>4577</td>\n",
       "      <td>2</td>\n",
       "      <td>No</td>\n",
       "      <td>3216</td>\n",
       "      <td>NaN</td>\n",
       "      <td>NaN</td>\n",
       "      <td>NaN</td>\n",
       "      <td>NaN</td>\n",
       "      <td>NaN</td>\n",
       "      <td>NaN</td>\n",
       "      <td>NaN</td>\n",
       "    </tr>\n",
       "    <tr>\n",
       "      <th>MesesCliente</th>\n",
       "      <td>4573</td>\n",
       "      <td>NaN</td>\n",
       "      <td>NaN</td>\n",
       "      <td>NaN</td>\n",
       "      <td>32.4083</td>\n",
       "      <td>24.6555</td>\n",
       "      <td>1</td>\n",
       "      <td>9</td>\n",
       "      <td>29</td>\n",
       "      <td>56</td>\n",
       "      <td>72</td>\n",
       "    </tr>\n",
       "    <tr>\n",
       "      <th>ServicioTelefonico</th>\n",
       "      <td>4577</td>\n",
       "      <td>2</td>\n",
       "      <td>Si</td>\n",
       "      <td>4118</td>\n",
       "      <td>NaN</td>\n",
       "      <td>NaN</td>\n",
       "      <td>NaN</td>\n",
       "      <td>NaN</td>\n",
       "      <td>NaN</td>\n",
       "      <td>NaN</td>\n",
       "      <td>NaN</td>\n",
       "    </tr>\n",
       "    <tr>\n",
       "      <th>LineasMultiples</th>\n",
       "      <td>4577</td>\n",
       "      <td>3</td>\n",
       "      <td>No</td>\n",
       "      <td>2205</td>\n",
       "      <td>NaN</td>\n",
       "      <td>NaN</td>\n",
       "      <td>NaN</td>\n",
       "      <td>NaN</td>\n",
       "      <td>NaN</td>\n",
       "      <td>NaN</td>\n",
       "      <td>NaN</td>\n",
       "    </tr>\n",
       "    <tr>\n",
       "      <th>ServicioInternet</th>\n",
       "      <td>4577</td>\n",
       "      <td>3</td>\n",
       "      <td>Fibra Optica</td>\n",
       "      <td>1988</td>\n",
       "      <td>NaN</td>\n",
       "      <td>NaN</td>\n",
       "      <td>NaN</td>\n",
       "      <td>NaN</td>\n",
       "      <td>NaN</td>\n",
       "      <td>NaN</td>\n",
       "      <td>NaN</td>\n",
       "    </tr>\n",
       "    <tr>\n",
       "      <th>SeguridadOnline</th>\n",
       "      <td>4483</td>\n",
       "      <td>3</td>\n",
       "      <td>No</td>\n",
       "      <td>2261</td>\n",
       "      <td>NaN</td>\n",
       "      <td>NaN</td>\n",
       "      <td>NaN</td>\n",
       "      <td>NaN</td>\n",
       "      <td>NaN</td>\n",
       "      <td>NaN</td>\n",
       "      <td>NaN</td>\n",
       "    </tr>\n",
       "    <tr>\n",
       "      <th>RespaldoOnline</th>\n",
       "      <td>4483</td>\n",
       "      <td>3</td>\n",
       "      <td>No</td>\n",
       "      <td>1996</td>\n",
       "      <td>NaN</td>\n",
       "      <td>NaN</td>\n",
       "      <td>NaN</td>\n",
       "      <td>NaN</td>\n",
       "      <td>NaN</td>\n",
       "      <td>NaN</td>\n",
       "      <td>NaN</td>\n",
       "    </tr>\n",
       "    <tr>\n",
       "      <th>ProteccionDispositivo</th>\n",
       "      <td>4483</td>\n",
       "      <td>3</td>\n",
       "      <td>No</td>\n",
       "      <td>2032</td>\n",
       "      <td>NaN</td>\n",
       "      <td>NaN</td>\n",
       "      <td>NaN</td>\n",
       "      <td>NaN</td>\n",
       "      <td>NaN</td>\n",
       "      <td>NaN</td>\n",
       "      <td>NaN</td>\n",
       "    </tr>\n",
       "    <tr>\n",
       "      <th>SoporteTecnico</th>\n",
       "      <td>4483</td>\n",
       "      <td>3</td>\n",
       "      <td>No</td>\n",
       "      <td>2249</td>\n",
       "      <td>NaN</td>\n",
       "      <td>NaN</td>\n",
       "      <td>NaN</td>\n",
       "      <td>NaN</td>\n",
       "      <td>NaN</td>\n",
       "      <td>NaN</td>\n",
       "      <td>NaN</td>\n",
       "    </tr>\n",
       "    <tr>\n",
       "      <th>TransmisionTV</th>\n",
       "      <td>4483</td>\n",
       "      <td>3</td>\n",
       "      <td>No</td>\n",
       "      <td>1840</td>\n",
       "      <td>NaN</td>\n",
       "      <td>NaN</td>\n",
       "      <td>NaN</td>\n",
       "      <td>NaN</td>\n",
       "      <td>NaN</td>\n",
       "      <td>NaN</td>\n",
       "      <td>NaN</td>\n",
       "    </tr>\n",
       "    <tr>\n",
       "      <th>TransmisionPeliculas</th>\n",
       "      <td>4483</td>\n",
       "      <td>3</td>\n",
       "      <td>No</td>\n",
       "      <td>1810</td>\n",
       "      <td>NaN</td>\n",
       "      <td>NaN</td>\n",
       "      <td>NaN</td>\n",
       "      <td>NaN</td>\n",
       "      <td>NaN</td>\n",
       "      <td>NaN</td>\n",
       "      <td>NaN</td>\n",
       "    </tr>\n",
       "    <tr>\n",
       "      <th>TerminoContrato</th>\n",
       "      <td>4577</td>\n",
       "      <td>3</td>\n",
       "      <td>Mes a mes</td>\n",
       "      <td>2529</td>\n",
       "      <td>NaN</td>\n",
       "      <td>NaN</td>\n",
       "      <td>NaN</td>\n",
       "      <td>NaN</td>\n",
       "      <td>NaN</td>\n",
       "      <td>NaN</td>\n",
       "      <td>NaN</td>\n",
       "    </tr>\n",
       "    <tr>\n",
       "      <th>FacturacionElectronica</th>\n",
       "      <td>4531</td>\n",
       "      <td>2</td>\n",
       "      <td>Si</td>\n",
       "      <td>2714</td>\n",
       "      <td>NaN</td>\n",
       "      <td>NaN</td>\n",
       "      <td>NaN</td>\n",
       "      <td>NaN</td>\n",
       "      <td>NaN</td>\n",
       "      <td>NaN</td>\n",
       "      <td>NaN</td>\n",
       "    </tr>\n",
       "    <tr>\n",
       "      <th>MetodoPago</th>\n",
       "      <td>4577</td>\n",
       "      <td>4</td>\n",
       "      <td>Checke por correo</td>\n",
       "      <td>1566</td>\n",
       "      <td>NaN</td>\n",
       "      <td>NaN</td>\n",
       "      <td>NaN</td>\n",
       "      <td>NaN</td>\n",
       "      <td>NaN</td>\n",
       "      <td>NaN</td>\n",
       "      <td>NaN</td>\n",
       "    </tr>\n",
       "    <tr>\n",
       "      <th>MontoCargadoMes</th>\n",
       "      <td>4163</td>\n",
       "      <td>NaN</td>\n",
       "      <td>NaN</td>\n",
       "      <td>NaN</td>\n",
       "      <td>68.7042</td>\n",
       "      <td>28.0161</td>\n",
       "      <td>20</td>\n",
       "      <td>48.75</td>\n",
       "      <td>74.4</td>\n",
       "      <td>90.825</td>\n",
       "      <td>118.65</td>\n",
       "    </tr>\n",
       "    <tr>\n",
       "      <th>MontoCargadoTotal</th>\n",
       "      <td>4350</td>\n",
       "      <td>NaN</td>\n",
       "      <td>NaN</td>\n",
       "      <td>NaN</td>\n",
       "      <td>1987.4</td>\n",
       "      <td>1965.94</td>\n",
       "      <td>0</td>\n",
       "      <td>347.35</td>\n",
       "      <td>1251.42</td>\n",
       "      <td>3236.25</td>\n",
       "      <td>6976.75</td>\n",
       "    </tr>\n",
       "    <tr>\n",
       "      <th>Churn</th>\n",
       "      <td>4577</td>\n",
       "      <td>NaN</td>\n",
       "      <td>NaN</td>\n",
       "      <td>NaN</td>\n",
       "      <td>0.265458</td>\n",
       "      <td>0.441625</td>\n",
       "      <td>0</td>\n",
       "      <td>0</td>\n",
       "      <td>0</td>\n",
       "      <td>1</td>\n",
       "      <td>1</td>\n",
       "    </tr>\n",
       "  </tbody>\n",
       "</table>\n",
       "</div>"
      ],
      "text/plain": [
       "                       count unique                top  freq      mean  \\\n",
       "ID                      4577   4577            ID04461     1       NaN   \n",
       "Sexo                    4577      2          Masculino  2323       NaN   \n",
       "AdultoMayor             4577      3                0.0  3808       NaN   \n",
       "Socio                   4548      2                 No  2368       NaN   \n",
       "Dependientes            4577      2                 No  3216       NaN   \n",
       "MesesCliente            4573    NaN                NaN   NaN   32.4083   \n",
       "ServicioTelefonico      4577      2                 Si  4118       NaN   \n",
       "LineasMultiples         4577      3                 No  2205       NaN   \n",
       "ServicioInternet        4577      3       Fibra Optica  1988       NaN   \n",
       "SeguridadOnline         4483      3                 No  2261       NaN   \n",
       "RespaldoOnline          4483      3                 No  1996       NaN   \n",
       "ProteccionDispositivo   4483      3                 No  2032       NaN   \n",
       "SoporteTecnico          4483      3                 No  2249       NaN   \n",
       "TransmisionTV           4483      3                 No  1840       NaN   \n",
       "TransmisionPeliculas    4483      3                 No  1810       NaN   \n",
       "TerminoContrato         4577      3          Mes a mes  2529       NaN   \n",
       "FacturacionElectronica  4531      2                 Si  2714       NaN   \n",
       "MetodoPago              4577      4  Checke por correo  1566       NaN   \n",
       "MontoCargadoMes         4163    NaN                NaN   NaN   68.7042   \n",
       "MontoCargadoTotal       4350    NaN                NaN   NaN    1987.4   \n",
       "Churn                   4577    NaN                NaN   NaN  0.265458   \n",
       "\n",
       "                             std  min     25%      50%      75%      max  \n",
       "ID                           NaN  NaN     NaN      NaN      NaN      NaN  \n",
       "Sexo                         NaN  NaN     NaN      NaN      NaN      NaN  \n",
       "AdultoMayor                  NaN  NaN     NaN      NaN      NaN      NaN  \n",
       "Socio                        NaN  NaN     NaN      NaN      NaN      NaN  \n",
       "Dependientes                 NaN  NaN     NaN      NaN      NaN      NaN  \n",
       "MesesCliente             24.6555    1       9       29       56       72  \n",
       "ServicioTelefonico           NaN  NaN     NaN      NaN      NaN      NaN  \n",
       "LineasMultiples              NaN  NaN     NaN      NaN      NaN      NaN  \n",
       "ServicioInternet             NaN  NaN     NaN      NaN      NaN      NaN  \n",
       "SeguridadOnline              NaN  NaN     NaN      NaN      NaN      NaN  \n",
       "RespaldoOnline               NaN  NaN     NaN      NaN      NaN      NaN  \n",
       "ProteccionDispositivo        NaN  NaN     NaN      NaN      NaN      NaN  \n",
       "SoporteTecnico               NaN  NaN     NaN      NaN      NaN      NaN  \n",
       "TransmisionTV                NaN  NaN     NaN      NaN      NaN      NaN  \n",
       "TransmisionPeliculas         NaN  NaN     NaN      NaN      NaN      NaN  \n",
       "TerminoContrato              NaN  NaN     NaN      NaN      NaN      NaN  \n",
       "FacturacionElectronica       NaN  NaN     NaN      NaN      NaN      NaN  \n",
       "MetodoPago                   NaN  NaN     NaN      NaN      NaN      NaN  \n",
       "MontoCargadoMes          28.0161   20   48.75     74.4   90.825   118.65  \n",
       "MontoCargadoTotal        1965.94    0  347.35  1251.42  3236.25  6976.75  \n",
       "Churn                   0.441625    0       0        0        1        1  "
      ]
     },
<<<<<<< HEAD
     "execution_count": 360,
=======
     "execution_count": 249,
>>>>>>> parent of cc539bd... Nuevo modelo de RF con GSearchCV
     "metadata": {},
     "output_type": "execute_result"
    }
   ],
   "source": [
    "df_train.describe(include = 'all').T"
   ]
  },
  {
   "cell_type": "code",
<<<<<<< HEAD
   "execution_count": 361,
=======
   "execution_count": 250,
>>>>>>> parent of cc539bd... Nuevo modelo de RF con GSearchCV
   "metadata": {},
   "outputs": [
    {
     "data": {
      "text/html": [
       "<div>\n",
       "<style scoped>\n",
       "    .dataframe tbody tr th:only-of-type {\n",
       "        vertical-align: middle;\n",
       "    }\n",
       "\n",
       "    .dataframe tbody tr th {\n",
       "        vertical-align: top;\n",
       "    }\n",
       "\n",
       "    .dataframe thead th {\n",
       "        text-align: right;\n",
       "    }\n",
       "</style>\n",
       "<table border=\"1\" class=\"dataframe\">\n",
       "  <thead>\n",
       "    <tr style=\"text-align: right;\">\n",
       "      <th></th>\n",
       "      <th>count</th>\n",
       "      <th>unique</th>\n",
       "      <th>top</th>\n",
       "      <th>freq</th>\n",
       "      <th>mean</th>\n",
       "      <th>std</th>\n",
       "      <th>min</th>\n",
       "      <th>25%</th>\n",
       "      <th>50%</th>\n",
       "      <th>75%</th>\n",
       "      <th>max</th>\n",
       "    </tr>\n",
       "  </thead>\n",
       "  <tbody>\n",
       "    <tr>\n",
       "      <th>ID</th>\n",
       "      <td>2466</td>\n",
       "      <td>2466</td>\n",
       "      <td>ID02150</td>\n",
       "      <td>1</td>\n",
       "      <td>NaN</td>\n",
       "      <td>NaN</td>\n",
       "      <td>NaN</td>\n",
       "      <td>NaN</td>\n",
       "      <td>NaN</td>\n",
       "      <td>NaN</td>\n",
       "      <td>NaN</td>\n",
       "    </tr>\n",
       "    <tr>\n",
       "      <th>Sexo</th>\n",
       "      <td>2466</td>\n",
       "      <td>2</td>\n",
       "      <td>Femenino</td>\n",
       "      <td>1234</td>\n",
       "      <td>NaN</td>\n",
       "      <td>NaN</td>\n",
       "      <td>NaN</td>\n",
       "      <td>NaN</td>\n",
       "      <td>NaN</td>\n",
       "      <td>NaN</td>\n",
       "      <td>NaN</td>\n",
       "    </tr>\n",
       "    <tr>\n",
       "      <th>AdultoMayor</th>\n",
       "      <td>2466</td>\n",
       "      <td>3</td>\n",
       "      <td>0.0</td>\n",
       "      <td>2028</td>\n",
       "      <td>NaN</td>\n",
       "      <td>NaN</td>\n",
       "      <td>NaN</td>\n",
       "      <td>NaN</td>\n",
       "      <td>NaN</td>\n",
       "      <td>NaN</td>\n",
       "      <td>NaN</td>\n",
       "    </tr>\n",
       "    <tr>\n",
       "      <th>Socio</th>\n",
       "      <td>2447</td>\n",
       "      <td>2</td>\n",
       "      <td>No</td>\n",
       "      <td>1225</td>\n",
       "      <td>NaN</td>\n",
       "      <td>NaN</td>\n",
       "      <td>NaN</td>\n",
       "      <td>NaN</td>\n",
       "      <td>NaN</td>\n",
       "      <td>NaN</td>\n",
       "      <td>NaN</td>\n",
       "    </tr>\n",
       "    <tr>\n",
       "      <th>Dependientes</th>\n",
       "      <td>2466</td>\n",
       "      <td>2</td>\n",
       "      <td>No</td>\n",
       "      <td>1717</td>\n",
       "      <td>NaN</td>\n",
       "      <td>NaN</td>\n",
       "      <td>NaN</td>\n",
       "      <td>NaN</td>\n",
       "      <td>NaN</td>\n",
       "      <td>NaN</td>\n",
       "      <td>NaN</td>\n",
       "    </tr>\n",
       "    <tr>\n",
       "      <th>MesesCliente</th>\n",
       "      <td>2459</td>\n",
       "      <td>NaN</td>\n",
       "      <td>NaN</td>\n",
       "      <td>NaN</td>\n",
       "      <td>32.4469</td>\n",
       "      <td>24.344</td>\n",
       "      <td>1</td>\n",
       "      <td>9</td>\n",
       "      <td>29</td>\n",
       "      <td>55</td>\n",
       "      <td>72</td>\n",
       "    </tr>\n",
       "    <tr>\n",
       "      <th>ServicioTelefonico</th>\n",
       "      <td>2466</td>\n",
       "      <td>2</td>\n",
       "      <td>Si</td>\n",
       "      <td>2243</td>\n",
       "      <td>NaN</td>\n",
       "      <td>NaN</td>\n",
       "      <td>NaN</td>\n",
       "      <td>NaN</td>\n",
       "      <td>NaN</td>\n",
       "      <td>NaN</td>\n",
       "      <td>NaN</td>\n",
       "    </tr>\n",
       "    <tr>\n",
       "      <th>LineasMultiples</th>\n",
       "      <td>2466</td>\n",
       "      <td>3</td>\n",
       "      <td>No</td>\n",
       "      <td>1185</td>\n",
       "      <td>NaN</td>\n",
       "      <td>NaN</td>\n",
       "      <td>NaN</td>\n",
       "      <td>NaN</td>\n",
       "      <td>NaN</td>\n",
       "      <td>NaN</td>\n",
       "      <td>NaN</td>\n",
       "    </tr>\n",
       "    <tr>\n",
       "      <th>ServicioInternet</th>\n",
       "      <td>2466</td>\n",
       "      <td>3</td>\n",
       "      <td>Fibra Optica</td>\n",
       "      <td>1108</td>\n",
       "      <td>NaN</td>\n",
       "      <td>NaN</td>\n",
       "      <td>NaN</td>\n",
       "      <td>NaN</td>\n",
       "      <td>NaN</td>\n",
       "      <td>NaN</td>\n",
       "      <td>NaN</td>\n",
       "    </tr>\n",
       "    <tr>\n",
       "      <th>SeguridadOnline</th>\n",
       "      <td>2404</td>\n",
       "      <td>3</td>\n",
       "      <td>No</td>\n",
       "      <td>1237</td>\n",
       "      <td>NaN</td>\n",
       "      <td>NaN</td>\n",
       "      <td>NaN</td>\n",
       "      <td>NaN</td>\n",
       "      <td>NaN</td>\n",
       "      <td>NaN</td>\n",
       "      <td>NaN</td>\n",
       "    </tr>\n",
       "    <tr>\n",
       "      <th>RespaldoOnline</th>\n",
       "      <td>2404</td>\n",
       "      <td>3</td>\n",
       "      <td>No</td>\n",
       "      <td>1092</td>\n",
       "      <td>NaN</td>\n",
       "      <td>NaN</td>\n",
       "      <td>NaN</td>\n",
       "      <td>NaN</td>\n",
       "      <td>NaN</td>\n",
       "      <td>NaN</td>\n",
       "      <td>NaN</td>\n",
       "    </tr>\n",
       "    <tr>\n",
       "      <th>ProteccionDispositivo</th>\n",
       "      <td>2404</td>\n",
       "      <td>3</td>\n",
       "      <td>No</td>\n",
       "      <td>1063</td>\n",
       "      <td>NaN</td>\n",
       "      <td>NaN</td>\n",
       "      <td>NaN</td>\n",
       "      <td>NaN</td>\n",
       "      <td>NaN</td>\n",
       "      <td>NaN</td>\n",
       "      <td>NaN</td>\n",
       "    </tr>\n",
       "    <tr>\n",
       "      <th>SoporteTecnico</th>\n",
       "      <td>2404</td>\n",
       "      <td>3</td>\n",
       "      <td>No</td>\n",
       "      <td>1224</td>\n",
       "      <td>NaN</td>\n",
       "      <td>NaN</td>\n",
       "      <td>NaN</td>\n",
       "      <td>NaN</td>\n",
       "      <td>NaN</td>\n",
       "      <td>NaN</td>\n",
       "      <td>NaN</td>\n",
       "    </tr>\n",
       "    <tr>\n",
       "      <th>TransmisionTV</th>\n",
       "      <td>2404</td>\n",
       "      <td>3</td>\n",
       "      <td>Si</td>\n",
       "      <td>980</td>\n",
       "      <td>NaN</td>\n",
       "      <td>NaN</td>\n",
       "      <td>NaN</td>\n",
       "      <td>NaN</td>\n",
       "      <td>NaN</td>\n",
       "      <td>NaN</td>\n",
       "      <td>NaN</td>\n",
       "    </tr>\n",
       "    <tr>\n",
       "      <th>TransmisionPeliculas</th>\n",
       "      <td>2404</td>\n",
       "      <td>3</td>\n",
       "      <td>Si</td>\n",
       "      <td>975</td>\n",
       "      <td>NaN</td>\n",
       "      <td>NaN</td>\n",
       "      <td>NaN</td>\n",
       "      <td>NaN</td>\n",
       "      <td>NaN</td>\n",
       "      <td>NaN</td>\n",
       "      <td>NaN</td>\n",
       "    </tr>\n",
       "    <tr>\n",
       "      <th>TerminoContrato</th>\n",
       "      <td>2466</td>\n",
       "      <td>3</td>\n",
       "      <td>Mes a mes</td>\n",
       "      <td>1346</td>\n",
       "      <td>NaN</td>\n",
       "      <td>NaN</td>\n",
       "      <td>NaN</td>\n",
       "      <td>NaN</td>\n",
       "      <td>NaN</td>\n",
       "      <td>NaN</td>\n",
       "      <td>NaN</td>\n",
       "    </tr>\n",
       "    <tr>\n",
       "      <th>FacturacionElectronica</th>\n",
       "      <td>2442</td>\n",
       "      <td>2</td>\n",
       "      <td>Si</td>\n",
       "      <td>1424</td>\n",
       "      <td>NaN</td>\n",
       "      <td>NaN</td>\n",
       "      <td>NaN</td>\n",
       "      <td>NaN</td>\n",
       "      <td>NaN</td>\n",
       "      <td>NaN</td>\n",
       "      <td>NaN</td>\n",
       "    </tr>\n",
       "    <tr>\n",
       "      <th>MetodoPago</th>\n",
       "      <td>2466</td>\n",
       "      <td>4</td>\n",
       "      <td>Checke por correo</td>\n",
       "      <td>799</td>\n",
       "      <td>NaN</td>\n",
       "      <td>NaN</td>\n",
       "      <td>NaN</td>\n",
       "      <td>NaN</td>\n",
       "      <td>NaN</td>\n",
       "      <td>NaN</td>\n",
       "      <td>NaN</td>\n",
       "    </tr>\n",
       "    <tr>\n",
       "      <th>MontoCargadoMes</th>\n",
       "      <td>2267</td>\n",
       "      <td>NaN</td>\n",
       "      <td>NaN</td>\n",
       "      <td>NaN</td>\n",
       "      <td>69.744</td>\n",
       "      <td>27.6766</td>\n",
       "      <td>20</td>\n",
       "      <td>50.05</td>\n",
       "      <td>74.8</td>\n",
       "      <td>91.6</td>\n",
       "      <td>118.75</td>\n",
       "    </tr>\n",
       "    <tr>\n",
       "      <th>MontoCargadoTotal</th>\n",
       "      <td>2353</td>\n",
       "      <td>NaN</td>\n",
       "      <td>NaN</td>\n",
       "      <td>NaN</td>\n",
       "      <td>2045.97</td>\n",
       "      <td>1961.37</td>\n",
       "      <td>0</td>\n",
       "      <td>386.5</td>\n",
       "      <td>1345.75</td>\n",
       "      <td>3437.45</td>\n",
       "      <td>6953.4</td>\n",
       "    </tr>\n",
       "  </tbody>\n",
       "</table>\n",
       "</div>"
      ],
      "text/plain": [
       "                       count unique                top  freq     mean  \\\n",
       "ID                      2466   2466            ID02150     1      NaN   \n",
       "Sexo                    2466      2           Femenino  1234      NaN   \n",
       "AdultoMayor             2466      3                0.0  2028      NaN   \n",
       "Socio                   2447      2                 No  1225      NaN   \n",
       "Dependientes            2466      2                 No  1717      NaN   \n",
       "MesesCliente            2459    NaN                NaN   NaN  32.4469   \n",
       "ServicioTelefonico      2466      2                 Si  2243      NaN   \n",
       "LineasMultiples         2466      3                 No  1185      NaN   \n",
       "ServicioInternet        2466      3       Fibra Optica  1108      NaN   \n",
       "SeguridadOnline         2404      3                 No  1237      NaN   \n",
       "RespaldoOnline          2404      3                 No  1092      NaN   \n",
       "ProteccionDispositivo   2404      3                 No  1063      NaN   \n",
       "SoporteTecnico          2404      3                 No  1224      NaN   \n",
       "TransmisionTV           2404      3                 Si   980      NaN   \n",
       "TransmisionPeliculas    2404      3                 Si   975      NaN   \n",
       "TerminoContrato         2466      3          Mes a mes  1346      NaN   \n",
       "FacturacionElectronica  2442      2                 Si  1424      NaN   \n",
       "MetodoPago              2466      4  Checke por correo   799      NaN   \n",
       "MontoCargadoMes         2267    NaN                NaN   NaN   69.744   \n",
       "MontoCargadoTotal       2353    NaN                NaN   NaN  2045.97   \n",
       "\n",
       "                            std  min    25%      50%      75%     max  \n",
       "ID                          NaN  NaN    NaN      NaN      NaN     NaN  \n",
       "Sexo                        NaN  NaN    NaN      NaN      NaN     NaN  \n",
       "AdultoMayor                 NaN  NaN    NaN      NaN      NaN     NaN  \n",
       "Socio                       NaN  NaN    NaN      NaN      NaN     NaN  \n",
       "Dependientes                NaN  NaN    NaN      NaN      NaN     NaN  \n",
       "MesesCliente             24.344    1      9       29       55      72  \n",
       "ServicioTelefonico          NaN  NaN    NaN      NaN      NaN     NaN  \n",
       "LineasMultiples             NaN  NaN    NaN      NaN      NaN     NaN  \n",
       "ServicioInternet            NaN  NaN    NaN      NaN      NaN     NaN  \n",
       "SeguridadOnline             NaN  NaN    NaN      NaN      NaN     NaN  \n",
       "RespaldoOnline              NaN  NaN    NaN      NaN      NaN     NaN  \n",
       "ProteccionDispositivo       NaN  NaN    NaN      NaN      NaN     NaN  \n",
       "SoporteTecnico              NaN  NaN    NaN      NaN      NaN     NaN  \n",
       "TransmisionTV               NaN  NaN    NaN      NaN      NaN     NaN  \n",
       "TransmisionPeliculas        NaN  NaN    NaN      NaN      NaN     NaN  \n",
       "TerminoContrato             NaN  NaN    NaN      NaN      NaN     NaN  \n",
       "FacturacionElectronica      NaN  NaN    NaN      NaN      NaN     NaN  \n",
       "MetodoPago                  NaN  NaN    NaN      NaN      NaN     NaN  \n",
       "MontoCargadoMes         27.6766   20  50.05     74.8     91.6  118.75  \n",
       "MontoCargadoTotal       1961.37    0  386.5  1345.75  3437.45  6953.4  "
      ]
     },
<<<<<<< HEAD
     "execution_count": 361,
=======
     "execution_count": 250,
>>>>>>> parent of cc539bd... Nuevo modelo de RF con GSearchCV
     "metadata": {},
     "output_type": "execute_result"
    }
   ],
   "source": [
    "df_test.describe(include = 'all').T"
   ]
  },
  {
   "cell_type": "code",
<<<<<<< HEAD
   "execution_count": 362,
=======
   "execution_count": 251,
>>>>>>> parent of cc539bd... Nuevo modelo de RF con GSearchCV
   "metadata": {},
   "outputs": [],
   "source": [
    "df_train['AdultoMayor'] = df_train['AdultoMayor'].astype(float) # Convertir a variable numerica\n",
    "df_test['AdultoMayor'] = df_test['AdultoMayor'].astype(float) "
   ]
  },
  {
   "cell_type": "markdown",
   "metadata": {},
   "source": [
    "## 2.3) Evaluate missings"
   ]
  },
  {
   "cell_type": "code",
<<<<<<< HEAD
   "execution_count": 363,
=======
   "execution_count": 252,
>>>>>>> parent of cc539bd... Nuevo modelo de RF con GSearchCV
   "metadata": {},
   "outputs": [
    {
     "data": {
      "text/plain": [
<<<<<<< HEAD
       "<matplotlib.axes._subplots.AxesSubplot at 0x18038f239b0>"
      ]
     },
     "execution_count": 363,
=======
       "<matplotlib.axes._subplots.AxesSubplot at 0x1d32a62f9e8>"
      ]
     },
     "execution_count": 252,
>>>>>>> parent of cc539bd... Nuevo modelo de RF con GSearchCV
     "metadata": {},
     "output_type": "execute_result"
    },
    {
     "data": {
      "image/png": "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\n",
      "text/plain": [
       "<Figure size 1800x720 with 2 Axes>"
      ]
     },
     "metadata": {
      "needs_background": "light"
     },
     "output_type": "display_data"
    }
   ],
   "source": [
    "import missingno as msno\n",
    "\n",
    "msno.matrix(df_train)"
   ]
  },
  {
   "cell_type": "code",
<<<<<<< HEAD
   "execution_count": 364,
=======
   "execution_count": 253,
>>>>>>> parent of cc539bd... Nuevo modelo de RF con GSearchCV
   "metadata": {},
   "outputs": [
    {
     "data": {
      "text/plain": [
<<<<<<< HEAD
       "<matplotlib.axes._subplots.AxesSubplot at 0x18038e7d748>"
      ]
     },
     "execution_count": 364,
=======
       "<matplotlib.axes._subplots.AxesSubplot at 0x1d32aa859b0>"
      ]
     },
     "execution_count": 253,
>>>>>>> parent of cc539bd... Nuevo modelo de RF con GSearchCV
     "metadata": {},
     "output_type": "execute_result"
    },
    {
     "data": {
      "image/png": "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\n",
      "text/plain": [
       "<Figure size 1800x720 with 2 Axes>"
      ]
     },
     "metadata": {
      "needs_background": "light"
     },
     "output_type": "display_data"
    }
   ],
   "source": [
    "msno.matrix(df_test)"
   ]
  },
  {
   "cell_type": "code",
<<<<<<< HEAD
   "execution_count": 365,
=======
   "execution_count": 254,
>>>>>>> parent of cc539bd... Nuevo modelo de RF con GSearchCV
   "metadata": {},
   "outputs": [],
   "source": [
    "# No hay outliers"
   ]
  },
  {
   "cell_type": "markdown",
   "metadata": {},
   "source": [
    "# 3) DATA PREPARATION"
   ]
  },
  {
   "cell_type": "code",
<<<<<<< HEAD
   "execution_count": 593,
=======
   "execution_count": 255,
>>>>>>> parent of cc539bd... Nuevo modelo de RF con GSearchCV
   "metadata": {},
   "outputs": [],
   "source": [
    "# Copy dataset and then apply transformation to copied dataset\n",
    "ds_train = df_train.copy()\n",
    "\n",
    "ds_test = df_test.copy()"
   ]
  },
  {
   "cell_type": "markdown",
   "metadata": {},
   "source": [
    "## 3.1) Impute missings"
   ]
  },
  {
   "cell_type": "code",
<<<<<<< HEAD
   "execution_count": 594,
=======
   "execution_count": 256,
>>>>>>> parent of cc539bd... Nuevo modelo de RF con GSearchCV
   "metadata": {},
   "outputs": [],
   "source": [
    "# AdultoMayor (imputacion por MODA)\n",
    "ds_train[\"AdultoMayor\"].fillna(0, inplace = True)\n",
    "ds_test[\"AdultoMayor\"].fillna(0, inplace = True)\n",
    "\n",
    "#Socio (imputacion por MODA)\n",
    "ds_train[\"Socio\"].fillna(\"No\",inplace = True)\n",
    "ds_test[\"Socio\"].fillna(\"No\",inplace = True)\n",
    "\n",
    "# MesesCliente (imputacion por MEDIA)\n",
    "ds_train[\"MesesCliente\"].fillna(32, inplace = True)\n",
    "ds_test[\"MesesCliente\"].fillna(32, inplace = True)\n",
    "\n",
    "#SeguridadOnline (imputacion por MODA)\n",
    "ds_train[\"SeguridadOnline\"].fillna(\"No\", inplace = True)\n",
    "ds_test[\"SeguridadOnline\"].fillna(\"No\", inplace = True)\n",
    "\n",
    "#RespaldoOnline (imputacion por MODA)\n",
    "ds_train[\"RespaldoOnline\"].fillna(\"No\", inplace = True)\n",
    "ds_test[\"RespaldoOnline\"].fillna(\"No\", inplace = True)\n",
    "\n",
    "# ProteccionDispositivo (imputacion por MODA)\n",
    "ds_train[\"ProteccionDispositivo\"].fillna('No', inplace = True)\n",
    "ds_test[\"ProteccionDispositivo\"].fillna('No', inplace = True)\n",
    "\n",
    "# SoporteTecnico (imputacion por MODA)\n",
    "ds_train[\"SoporteTecnico\"].fillna('No', inplace = True)\n",
    "ds_test[\"SoporteTecnico\"].fillna('No', inplace = True)\n",
    "\n",
    "# TransmisionTV (imputacion por MODA)\n",
    "ds_train[\"TransmisionTV\"].fillna('No', inplace = True)\n",
    "ds_test[\"TransmisionTV\"].fillna('No', inplace = True)\n",
    "\n",
    "# TransmisionPeliculas (imputacion por MODA)\n",
    "ds_train[\"TransmisionPeliculas\"].fillna('No', inplace = True)\n",
    "ds_test[\"TransmisionPeliculas\"].fillna('No', inplace = True)\n",
    "\n",
    "# TerminoContrato (imputacion por MODA)\n",
    "ds_train[\"TerminoContrato\"].fillna('Mes a mes', inplace = True)\n",
    "ds_test[\"TerminoContrato\"].fillna('Mes a mes', inplace = True)\n",
    "\n",
    "# FacturacionElectronica (imputacion por MODA)\n",
    "ds_train[\"FacturacionElectronica\"].fillna('Si', inplace = True)\n",
    "ds_test[\"FacturacionElectronica\"].fillna('Si', inplace = True)\n",
    "\n",
    "# MetodoPago (imputacion por MODA)\n",
    "ds_train[\"MetodoPago\"].fillna('Checke por correo', inplace = True)\n",
    "ds_test[\"MetodoPago\"].fillna('Checke por correo', inplace = True)\n",
    "\n",
    "# MontoCargadoMes (imputacion por MEDIA)\n",
    "#ds_train[\"MontoCargadoMes\"].fillna(68.7, inplace = True)\n",
    "#ds_test[\"MontoCargadoMes\"].fillna(69.7, inplace = True)\n",
    "\n",
    "# MontoCargadoTotal (imputacion por MEDIA)\n",
    "#ds_train[\"MontoCargadoTotal\"].fillna(1987.4, inplace = True)\n",
    "#ds_test[\"MontoCargadoTotal\"].fillna(2045.97, inplace = True)\n",
    "\n",
    "\n",
    "\n",
    "\n"
   ]
  },
  {
   "cell_type": "code",
   "execution_count": 595,
   "metadata": {},
   "outputs": [],
   "source": [
    "# Arreglando MontoCargadoMes y MontoCargadoTotal\n",
    "# La logica es que MontoCargaMes es la tarifa mensual fija y MontoCargaTotal es la tarifa mensual x el numero de meses.\n",
    "# Entonces se reemplazaran los missings con este ajuste\n",
    "\n",
    "def NuevoMontoCargadoMes(row):\n",
    "    \n",
    "    if np.isnan(row.MontoCargadoMes):\n",
    "        if np.isnan(row.MontoCargadoTotal):\n",
    "            return np.nan\n",
    "        else:\n",
    "            return row.MontoCargadoTotal / row.MesesCliente\n",
    "    else: \n",
    "        return row.MontoCargadoMes\n",
    "    \n",
    "    if (row.MontoCargadoMes == 0) & (row.MontoCargadoTotal == 0):\n",
    "        return row.MontoCargadoMes.mean()\n",
    "    \n",
    "def NuevoMontoCargadoTotal(row):\n",
    "    \n",
    "    if (np.isnan(row.MontoCargadoTotal)) | (row.MontoCargadoTotal == 0):\n",
    "        if np.isnan(row.MontoCargadoMes):\n",
    "            return np.nan\n",
    "        else:\n",
    "            return row.MontoCargadoMes * row.MesesCliente\n",
    "    else: \n",
    "        return row.MontoCargadoTotal\n"
   ]
  },
  {
   "cell_type": "code",
   "execution_count": 596,
   "metadata": {
    "scrolled": true
   },
   "outputs": [],
   "source": [
    "ds_train[\"MontoCargadoMes\"] = ds_train.apply(NuevoMontoCargadoMes, axis= 1)\n",
    "ds_train[\"MontoCargadoTotal\"] = ds_train.apply(NuevoMontoCargadoTotal, axis= 1)\n",
    "\n",
    "ds_test[\"MontoCargadoMes\"] = ds_test.apply(NuevoMontoCargadoMes, axis= 1)\n",
    "ds_test[\"MontoCargadoTotal\"] = ds_test.apply(NuevoMontoCargadoTotal, axis= 1)\n",
    "\n"
   ]
  },
  {
   "cell_type": "code",
   "execution_count": 597,
   "metadata": {},
   "outputs": [],
   "source": [
    "#Puede haber casos en que queden en 0 ambos valores\n",
    "\n",
    "ds_train.loc[(ds_train[\"MontoCargadoMes\"] == 0) & (ds_train[\"MontoCargadoTotal\"] == 0), \"MontoCargadoMes\"] = ds_train.MontoCargadoMes.mean()\n",
    "ds_train.loc[ds_train[\"MontoCargadoTotal\"] == 0, \"MontoCargadoTotal\"] = ds_train.MontoCargadoMes * ds_train.MesesCliente\n",
    "\n",
    "ds_test.loc[(ds_test[\"MontoCargadoMes\"] == 0) & (ds_test[\"MontoCargadoTotal\"] == 0), \"MontoCargadoMes\"] = ds_test.MontoCargadoMes.mean()\n",
    "ds_test.loc[ds_test[\"MontoCargadoTotal\"] == 0, \"MontoCargadoTotal\"] = ds_test.MontoCargadoMes * ds_test.MesesCliente"
   ]
  },
  {
   "cell_type": "markdown",
   "metadata": {},
   "source": [
    "## 3.2) Data Transformation"
   ]
  },
  {
   "cell_type": "code",
<<<<<<< HEAD
   "execution_count": 603,
=======
   "execution_count": 257,
>>>>>>> parent of cc539bd... Nuevo modelo de RF con GSearchCV
   "metadata": {},
   "outputs": [],
   "source": [
    "# ServicioTelefonico \n",
    "dicc_serv_telef = {'Si': 1, 'No':0 }\n",
    "ds_train[\"ServicioTelefonico\"] = ds_train[\"ServicioTelefonico\"].map(dicc_serv_telef)\n",
    "ds_test[\"ServicioTelefonico\"] = ds_test[\"ServicioTelefonico\"].map(dicc_serv_telef)\n",
    "\n",
    "# Socio\n",
    "dicc = {'Si': 1, 'No':0 }\n",
    "ds_train[\"Socio\"] = ds_train[\"Socio\"].map(dicc)\n",
    "ds_test[\"Socio\"] = ds_test[\"Socio\"].map(dicc)\n",
    "\n",
    "# Dependientes\n",
    "dicc = {'Si': 1, 'No':0 }\n",
    "ds_train[\"Dependientes\"] = ds_train[\"Dependientes\"].map(dicc)\n",
    "ds_test[\"Dependientes\"] = ds_test[\"Dependientes\"].map(dicc)\n",
    "\n",
    "# Sexo\n",
    "dicc = {'Masculino': 1, 'Femenino':0 }\n",
    "ds_train[\"Sexo\"] = ds_train[\"Sexo\"].map(dicc)\n",
    "ds_test[\"Sexo\"] = ds_test[\"Sexo\"].map(dicc)\n",
    "\n",
    "\n",
    "# ServicioInternet \n",
    "dicc = {'Fibra Optica': 1, 'DSL':2, 'No':0 }\n",
    "ds_train[\"ServicioInternet\"] = ds_train[\"ServicioInternet\"].map(dicc)\n",
    "ds_test[\"ServicioInternet\"] = ds_test[\"ServicioInternet\"].map(dicc)\n",
    "\n",
    "\n",
    "# TerminoContrato\n",
    "dicc = {'Mes a mes': 0, 'Anual':1, 'Bianual':2 }\n",
    "ds_train[\"TerminoContrato\"] = ds_train[\"TerminoContrato\"].map(dicc)\n",
    "ds_test[\"TerminoContrato\"] = ds_test[\"TerminoContrato\"].map(dicc)\n",
    "\n",
    "# FacturacionElectronica \n",
    "dicc_fact_elect = {'Si': 1, 'No':0 }\n",
    "ds_train[\"FacturacionElectronica\"] = ds_train[\"FacturacionElectronica\"].map(dicc_fact_elect)\n",
    "ds_test[\"FacturacionElectronica\"] = ds_test[\"FacturacionElectronica\"].map(dicc_fact_elect)\n",
    "\n",
    "# Lineas Multiples\n",
    "dicc_fact_elect = {'Si': 2, 'No':1 , \"Sin servicio telefonico\": 0}\n",
    "ds_train['LineasMultiples'] = ds_train['LineasMultiples'].map(dicc_fact_elect)\n",
    "ds_test['LineasMultiples'] = ds_test['LineasMultiples'].map(dicc_fact_elect)\n",
    "\n",
    "# MetodoPago\n",
    "dicc_fact_elect = {'Checke por correo': 0, 'Checke electronico':1 , \"Tarjeta de credito (automatico)\": 2,\"Transferencia bancaria (automatico)\":3}\n",
    "ds_train['MetodoPago'] = ds_train['MetodoPago'].map(dicc_fact_elect)\n",
    "ds_test['MetodoPago'] = ds_test['MetodoPago'].map(dicc_fact_elect)\n",
    "\n",
    "\n",
    "# Mapeo multiple\n",
    "list_cols = ['SeguridadOnline', 'RespaldoOnline', 'TransmisionTV',\n",
    "       'TransmisionPeliculas',  'ProteccionDispositivo', 'SoporteTecnico']\n",
    "\n",
    "dicc = {'Si': 2, 'No':1, 'Sin servicio de internet':0 }\n",
    "\n",
    "for col in list_cols:\n",
    "    \n",
    "    ds_train[col] = ds_train[col].map(dicc)\n",
    "    ds_test[col] = ds_test[col].map(dicc)\n",
    "\n"
   ]
  },
  {
   "cell_type": "code",
<<<<<<< HEAD
   "execution_count": 604,
=======
   "execution_count": 258,
>>>>>>> parent of cc539bd... Nuevo modelo de RF con GSearchCV
   "metadata": {},
   "outputs": [],
   "source": [
    "ds_train['AdultoMayor'] = ds_train['AdultoMayor'].astype(int)\n",
    "ds_test['AdultoMayor'] = ds_test['AdultoMayor'].astype(int)"
   ]
  },
  {
   "cell_type": "markdown",
   "metadata": {},
   "source": [
    "## 3.3) Feature Engineering"
   ]
  },
  {
   "cell_type": "code",
<<<<<<< HEAD
   "execution_count": 605,
   "metadata": {
    "scrolled": true
   },
=======
   "execution_count": 259,
   "metadata": {},
>>>>>>> parent of cc539bd... Nuevo modelo de RF con GSearchCV
   "outputs": [
    {
     "data": {
      "text/plain": [
       "AdultoMayor\n",
       "0    69.0\n",
       "1    85.0\n",
       "Name: MontoCargadoMes, dtype: float64"
      ]
     },
<<<<<<< HEAD
     "execution_count": 605,
=======
     "execution_count": 259,
>>>>>>> parent of cc539bd... Nuevo modelo de RF con GSearchCV
     "metadata": {},
     "output_type": "execute_result"
    }
   ],
   "source": [
    "# New Feature 1\n",
    "tmp_byAdultoMayor_medianMontoMes = ds_train.groupby(['AdultoMayor'])['MontoCargadoMes'].median().round()\n",
    "tmp_byAdultoMayor_medianMontoMes"
   ]
  },
  {
   "cell_type": "code",
   "execution_count": 260,
   "metadata": {},
   "outputs": [],
   "source": [
    "ds_train['flg_bySexo_mayorMedianMontoMes'] = ds_train.apply(lambda x: 1 if x.MontoCargadoMes >= tmp_byAdultoMayor_medianMontoMes[x.AdultoMayor] else 0,\n",
    "                                                       axis = 1)\n",
    "\n",
    "ds_test['flg_bySexo_mayorMedianMontoMes'] = ds_test.apply(lambda x: 1 if x.MontoCargadoMes >= tmp_byAdultoMayor_medianMontoMes[x.AdultoMayor] else 0,\n",
    "                                                       axis = 1)"
   ]
  },
  {
   "cell_type": "code",
   "execution_count": 261,
   "metadata": {},
   "outputs": [],
   "source": [
    "# Crear Features Dummies\n",
    "ds_train = pd.get_dummies(ds_train, columns=list_cols+[\"AdultoMayor\",\"Socio\",\"Dependientes\",\"ServicioInternet\",\"TerminoContrato\",\"FacturacionElectronica\",\"LineasMultiples\",\"MetodoPago\",\"Sexo\",\"ServicioTelefonico\"])\n",
    "ds_test = pd.get_dummies(ds_test, columns=list_cols+[\"AdultoMayor\",\"Socio\",\"Dependientes\",\"ServicioInternet\",\"TerminoContrato\",\"FacturacionElectronica\",\"LineasMultiples\",\"MetodoPago\",\"Sexo\",\"ServicioTelefonico\"])"
   ]
  },
  {
   "cell_type": "code",
<<<<<<< HEAD
   "execution_count": 606,
=======
   "execution_count": 262,
>>>>>>> parent of cc539bd... Nuevo modelo de RF con GSearchCV
   "metadata": {},
   "outputs": [
    {
     "data": {
      "text/plain": [
       "((4577, 49), (2466, 48))"
      ]
     },
<<<<<<< HEAD
     "execution_count": 606,
=======
     "execution_count": 262,
>>>>>>> parent of cc539bd... Nuevo modelo de RF con GSearchCV
     "metadata": {},
     "output_type": "execute_result"
    }
   ],
   "source": [
    "ds_train.shape, ds_test.shape"
   ]
  },
  {
   "cell_type": "code",
<<<<<<< HEAD
   "execution_count": 607,
   "metadata": {
    "colab": {
     "base_uri": "https://localhost:8080/",
     "height": 118
    },
    "colab_type": "code",
    "id": "lFo_Ko-0tSgf",
    "outputId": "17e53db0-7625-4a10-ee87-276a5f4c0c48",
    "scrolled": false
   },
=======
   "execution_count": 263,
   "metadata": {},
>>>>>>> parent of cc539bd... Nuevo modelo de RF con GSearchCV
   "outputs": [
    {
     "name": "stdout",
     "output_type": "stream",
     "text": [
      "<class 'pandas.core.frame.DataFrame'>\n",
      "RangeIndex: 4577 entries, 0 to 4576\n",
      "Data columns (total 49 columns):\n",
      "ID                                4577 non-null object\n",
      "MesesCliente                      4577 non-null float64\n",
      "MontoCargadoMes                   4577 non-null float64\n",
      "MontoCargadoTotal                 4577 non-null float64\n",
      "Churn                             4577 non-null int64\n",
      "flg_bySexo_mayorMedianMontoMes    4577 non-null int64\n",
      "SeguridadOnline_0                 4577 non-null uint8\n",
      "SeguridadOnline_1                 4577 non-null uint8\n",
      "SeguridadOnline_2                 4577 non-null uint8\n",
      "RespaldoOnline_0                  4577 non-null uint8\n",
      "RespaldoOnline_1                  4577 non-null uint8\n",
      "RespaldoOnline_2                  4577 non-null uint8\n",
      "TransmisionTV_0                   4577 non-null uint8\n",
      "TransmisionTV_1                   4577 non-null uint8\n",
      "TransmisionTV_2                   4577 non-null uint8\n",
      "TransmisionPeliculas_0            4577 non-null uint8\n",
      "TransmisionPeliculas_1            4577 non-null uint8\n",
      "TransmisionPeliculas_2            4577 non-null uint8\n",
      "ProteccionDispositivo_0           4577 non-null uint8\n",
      "ProteccionDispositivo_1           4577 non-null uint8\n",
      "ProteccionDispositivo_2           4577 non-null uint8\n",
      "SoporteTecnico_0                  4577 non-null uint8\n",
      "SoporteTecnico_1                  4577 non-null uint8\n",
      "SoporteTecnico_2                  4577 non-null uint8\n",
      "AdultoMayor_0                     4577 non-null uint8\n",
      "AdultoMayor_1                     4577 non-null uint8\n",
      "Socio_0                           4577 non-null uint8\n",
      "Socio_1                           4577 non-null uint8\n",
      "Dependientes_0                    4577 non-null uint8\n",
      "Dependientes_1                    4577 non-null uint8\n",
      "ServicioInternet_0                4577 non-null uint8\n",
      "ServicioInternet_1                4577 non-null uint8\n",
      "ServicioInternet_2                4577 non-null uint8\n",
      "TerminoContrato_0                 4577 non-null uint8\n",
      "TerminoContrato_1                 4577 non-null uint8\n",
      "TerminoContrato_2                 4577 non-null uint8\n",
      "FacturacionElectronica_0          4577 non-null uint8\n",
      "FacturacionElectronica_1          4577 non-null uint8\n",
      "LineasMultiples_0                 4577 non-null uint8\n",
      "LineasMultiples_1                 4577 non-null uint8\n",
      "LineasMultiples_2                 4577 non-null uint8\n",
      "MetodoPago_0                      4577 non-null uint8\n",
      "MetodoPago_1                      4577 non-null uint8\n",
      "MetodoPago_2                      4577 non-null uint8\n",
      "MetodoPago_3                      4577 non-null uint8\n",
      "Sexo_0                            4577 non-null uint8\n",
      "Sexo_1                            4577 non-null uint8\n",
      "ServicioTelefonico_0              4577 non-null uint8\n",
      "ServicioTelefonico_1              4577 non-null uint8\n",
      "dtypes: float64(3), int64(2), object(1), uint8(43)\n",
      "memory usage: 406.8+ KB\n",
      "<class 'pandas.core.frame.DataFrame'>\n",
      "RangeIndex: 2466 entries, 0 to 2465\n",
      "Data columns (total 48 columns):\n",
      "ID                                2466 non-null object\n",
      "MesesCliente                      2466 non-null float64\n",
      "MontoCargadoMes                   2466 non-null float64\n",
      "MontoCargadoTotal                 2466 non-null float64\n",
      "flg_bySexo_mayorMedianMontoMes    2466 non-null int64\n",
      "SeguridadOnline_0                 2466 non-null uint8\n",
      "SeguridadOnline_1                 2466 non-null uint8\n",
      "SeguridadOnline_2                 2466 non-null uint8\n",
      "RespaldoOnline_0                  2466 non-null uint8\n",
      "RespaldoOnline_1                  2466 non-null uint8\n",
      "RespaldoOnline_2                  2466 non-null uint8\n",
      "TransmisionTV_0                   2466 non-null uint8\n",
      "TransmisionTV_1                   2466 non-null uint8\n",
      "TransmisionTV_2                   2466 non-null uint8\n",
      "TransmisionPeliculas_0            2466 non-null uint8\n",
      "TransmisionPeliculas_1            2466 non-null uint8\n",
      "TransmisionPeliculas_2            2466 non-null uint8\n",
      "ProteccionDispositivo_0           2466 non-null uint8\n",
      "ProteccionDispositivo_1           2466 non-null uint8\n",
      "ProteccionDispositivo_2           2466 non-null uint8\n",
      "SoporteTecnico_0                  2466 non-null uint8\n",
      "SoporteTecnico_1                  2466 non-null uint8\n",
      "SoporteTecnico_2                  2466 non-null uint8\n",
      "AdultoMayor_0                     2466 non-null uint8\n",
      "AdultoMayor_1                     2466 non-null uint8\n",
      "Socio_0                           2466 non-null uint8\n",
      "Socio_1                           2466 non-null uint8\n",
      "Dependientes_0                    2466 non-null uint8\n",
      "Dependientes_1                    2466 non-null uint8\n",
      "ServicioInternet_0                2466 non-null uint8\n",
      "ServicioInternet_1                2466 non-null uint8\n",
      "ServicioInternet_2                2466 non-null uint8\n",
      "TerminoContrato_0                 2466 non-null uint8\n",
      "TerminoContrato_1                 2466 non-null uint8\n",
      "TerminoContrato_2                 2466 non-null uint8\n",
      "FacturacionElectronica_0          2466 non-null uint8\n",
      "FacturacionElectronica_1          2466 non-null uint8\n",
      "LineasMultiples_0                 2466 non-null uint8\n",
      "LineasMultiples_1                 2466 non-null uint8\n",
      "LineasMultiples_2                 2466 non-null uint8\n",
      "MetodoPago_0                      2466 non-null uint8\n",
      "MetodoPago_1                      2466 non-null uint8\n",
      "MetodoPago_2                      2466 non-null uint8\n",
      "MetodoPago_3                      2466 non-null uint8\n",
      "Sexo_0                            2466 non-null uint8\n",
      "Sexo_1                            2466 non-null uint8\n",
      "ServicioTelefonico_0              2466 non-null uint8\n",
      "ServicioTelefonico_1              2466 non-null uint8\n",
      "dtypes: float64(3), int64(1), object(1), uint8(43)\n",
      "memory usage: 200.0+ KB\n"
     ]
    },
    {
     "data": {
      "text/plain": [
       "(None, None)"
      ]
     },
<<<<<<< HEAD
     "execution_count": 607,
=======
     "execution_count": 263,
>>>>>>> parent of cc539bd... Nuevo modelo de RF con GSearchCV
     "metadata": {},
     "output_type": "execute_result"
    }
   ],
   "source": [
    "ds_train.info(), ds_test.info()"
   ]
  },
  {
<<<<<<< HEAD
   "cell_type": "code",
   "execution_count": 608,
   "metadata": {},
   "outputs": [],
   "source": [
    "X_train = ds_train[features_to_model]\n",
    "y_train = ds_train[TARGET]"
   ]
  },
  {
   "cell_type": "code",
   "execution_count": 609,
   "metadata": {
    "colab": {},
    "colab_type": "code",
    "id": "z2DjunbNtSgi"
   },
   "outputs": [],
   "source": [
    "# Create  model objet \n",
    "model_tree = DecisionTreeClassifier(min_samples_leaf=20)\n",
    "\n",
    "# Fit the model:\n",
    "model_tree.fit(X_train, y_train)\n",
    "\n",
    "model = model_tree"
   ]
  },
  {
   "cell_type": "code",
   "execution_count": 610,
   "metadata": {
    "colab": {},
    "colab_type": "code",
    "id": "Po5_fRk-tSgk"
   },
   "outputs": [],
=======
   "cell_type": "markdown",
   "metadata": {},
>>>>>>> parent of cc539bd... Nuevo modelo de RF con GSearchCV
   "source": [
    "## 3.4) Feature Selection"
   ]
  },
  {
   "cell_type": "code",
<<<<<<< HEAD
   "execution_count": 611,
=======
   "execution_count": 271,
>>>>>>> parent of cc539bd... Nuevo modelo de RF con GSearchCV
   "metadata": {
    "scrolled": true
   },
   "outputs": [
    {
<<<<<<< HEAD
     "name": "stdout",
     "output_type": "stream",
     "text": [
      "Accuracy - Train: 0.8263054402447018\n"
     ]
=======
     "data": {
      "text/plain": [
       "['MesesCliente',\n",
       " 'MontoCargadoMes',\n",
       " 'MontoCargadoTotal',\n",
       " 'flg_bySexo_mayorMedianMontoMes',\n",
       " 'SeguridadOnline_0',\n",
       " 'SeguridadOnline_1',\n",
       " 'SeguridadOnline_2',\n",
       " 'RespaldoOnline_0',\n",
       " 'RespaldoOnline_1',\n",
       " 'RespaldoOnline_2',\n",
       " 'TransmisionTV_0',\n",
       " 'TransmisionTV_1',\n",
       " 'TransmisionTV_2',\n",
       " 'TransmisionPeliculas_0',\n",
       " 'TransmisionPeliculas_1',\n",
       " 'TransmisionPeliculas_2',\n",
       " 'ProteccionDispositivo_0',\n",
       " 'ProteccionDispositivo_1',\n",
       " 'ProteccionDispositivo_2',\n",
       " 'SoporteTecnico_0',\n",
       " 'SoporteTecnico_1',\n",
       " 'SoporteTecnico_2',\n",
       " 'AdultoMayor_0',\n",
       " 'AdultoMayor_1',\n",
       " 'Socio_0',\n",
       " 'Socio_1',\n",
       " 'Dependientes_0',\n",
       " 'Dependientes_1',\n",
       " 'ServicioInternet_0',\n",
       " 'ServicioInternet_1',\n",
       " 'ServicioInternet_2',\n",
       " 'TerminoContrato_0',\n",
       " 'TerminoContrato_1',\n",
       " 'TerminoContrato_2',\n",
       " 'FacturacionElectronica_0',\n",
       " 'FacturacionElectronica_1',\n",
       " 'LineasMultiples_0',\n",
       " 'LineasMultiples_1',\n",
       " 'LineasMultiples_2',\n",
       " 'MetodoPago_0',\n",
       " 'MetodoPago_1',\n",
       " 'MetodoPago_2',\n",
       " 'MetodoPago_3',\n",
       " 'Sexo_0',\n",
       " 'Sexo_1',\n",
       " 'ServicioTelefonico_0',\n",
       " 'ServicioTelefonico_1']"
      ]
     },
     "execution_count": 271,
     "metadata": {},
     "output_type": "execute_result"
>>>>>>> parent of cc539bd... Nuevo modelo de RF con GSearchCV
    }
   ],
   "source": [
    "features_to_model = list(ds_train.columns)\n",
    "\n",
<<<<<<< HEAD
    "print(\"Accuracy - Train: {}\".format(accuracy_train))\n"
   ]
  },
  {
   "cell_type": "code",
   "execution_count": 612,
   "metadata": {
    "colab": {
     "base_uri": "https://localhost:8080/",
     "height": 462
    },
    "colab_type": "code",
    "id": "x5Hziz4p_R_c",
    "outputId": "79e918f7-fc11-431b-8ba5-7d1c4c13e385"
   },
   "outputs": [
    {
     "data": {
      "text/html": [
       "<div>\n",
       "<style scoped>\n",
       "    .dataframe tbody tr th:only-of-type {\n",
       "        vertical-align: middle;\n",
       "    }\n",
       "\n",
       "    .dataframe tbody tr th {\n",
       "        vertical-align: top;\n",
       "    }\n",
       "\n",
       "    .dataframe thead th {\n",
       "        text-align: right;\n",
       "    }\n",
       "</style>\n",
       "<table border=\"1\" class=\"dataframe\">\n",
       "  <thead>\n",
       "    <tr style=\"text-align: right;\">\n",
       "      <th></th>\n",
       "      <th>feature</th>\n",
       "      <th>importance</th>\n",
       "    </tr>\n",
       "  </thead>\n",
       "  <tbody>\n",
       "    <tr>\n",
       "      <th>0</th>\n",
       "      <td>TerminoContrato</td>\n",
       "      <td>39.487411</td>\n",
       "    </tr>\n",
       "    <tr>\n",
       "      <th>1</th>\n",
       "      <td>MontoCargadoMes</td>\n",
       "      <td>21.327134</td>\n",
       "    </tr>\n",
       "    <tr>\n",
       "      <th>2</th>\n",
       "      <td>MesesCliente</td>\n",
       "      <td>14.150014</td>\n",
       "    </tr>\n",
       "    <tr>\n",
       "      <th>3</th>\n",
       "      <td>MontoCargadoTotal</td>\n",
       "      <td>9.353122</td>\n",
       "    </tr>\n",
       "    <tr>\n",
       "      <th>4</th>\n",
       "      <td>ServicioInternet</td>\n",
       "      <td>3.108240</td>\n",
       "    </tr>\n",
       "    <tr>\n",
       "      <th>5</th>\n",
       "      <td>MetodoPago</td>\n",
       "      <td>1.939448</td>\n",
       "    </tr>\n",
       "    <tr>\n",
       "      <th>6</th>\n",
       "      <td>AdultoMayor</td>\n",
       "      <td>1.723046</td>\n",
       "    </tr>\n",
       "    <tr>\n",
       "      <th>7</th>\n",
       "      <td>Sexo</td>\n",
       "      <td>1.701942</td>\n",
       "    </tr>\n",
       "    <tr>\n",
       "      <th>8</th>\n",
       "      <td>SeguridadOnline</td>\n",
       "      <td>1.601151</td>\n",
       "    </tr>\n",
       "    <tr>\n",
       "      <th>9</th>\n",
       "      <td>FacturacionElectronica</td>\n",
       "      <td>1.287855</td>\n",
       "    </tr>\n",
       "    <tr>\n",
       "      <th>10</th>\n",
       "      <td>LineasMultiples</td>\n",
       "      <td>0.943962</td>\n",
       "    </tr>\n",
       "    <tr>\n",
       "      <th>11</th>\n",
       "      <td>ServicioTelefonico</td>\n",
       "      <td>0.808129</td>\n",
       "    </tr>\n",
       "    <tr>\n",
       "      <th>12</th>\n",
       "      <td>TransmisionPeliculas</td>\n",
       "      <td>0.693611</td>\n",
       "    </tr>\n",
       "    <tr>\n",
       "      <th>13</th>\n",
       "      <td>SoporteTecnico</td>\n",
       "      <td>0.649717</td>\n",
       "    </tr>\n",
       "    <tr>\n",
       "      <th>14</th>\n",
       "      <td>Socio</td>\n",
       "      <td>0.370210</td>\n",
       "    </tr>\n",
       "    <tr>\n",
       "      <th>15</th>\n",
       "      <td>TransmisionTV</td>\n",
       "      <td>0.276916</td>\n",
       "    </tr>\n",
       "    <tr>\n",
       "      <th>16</th>\n",
       "      <td>Dependientes</td>\n",
       "      <td>0.276682</td>\n",
       "    </tr>\n",
       "    <tr>\n",
       "      <th>17</th>\n",
       "      <td>RespaldoOnline</td>\n",
       "      <td>0.207114</td>\n",
       "    </tr>\n",
       "    <tr>\n",
       "      <th>18</th>\n",
       "      <td>ProteccionDispositivo</td>\n",
       "      <td>0.094299</td>\n",
       "    </tr>\n",
       "  </tbody>\n",
       "</table>\n",
       "</div>"
      ],
      "text/plain": [
       "                   feature  importance\n",
       "0          TerminoContrato   39.487411\n",
       "1          MontoCargadoMes   21.327134\n",
       "2             MesesCliente   14.150014\n",
       "3        MontoCargadoTotal    9.353122\n",
       "4         ServicioInternet    3.108240\n",
       "5               MetodoPago    1.939448\n",
       "6              AdultoMayor    1.723046\n",
       "7                     Sexo    1.701942\n",
       "8          SeguridadOnline    1.601151\n",
       "9   FacturacionElectronica    1.287855\n",
       "10         LineasMultiples    0.943962\n",
       "11      ServicioTelefonico    0.808129\n",
       "12    TransmisionPeliculas    0.693611\n",
       "13          SoporteTecnico    0.649717\n",
       "14                   Socio    0.370210\n",
       "15           TransmisionTV    0.276916\n",
       "16            Dependientes    0.276682\n",
       "17          RespaldoOnline    0.207114\n",
       "18   ProteccionDispositivo    0.094299"
      ]
     },
     "execution_count": 612,
     "metadata": {},
     "output_type": "execute_result"
    }
   ],
   "source": [
    "df_feature_importances = pd.DataFrame()\n",
    "df_feature_importances['feature'] = X_train.columns\n",
    "df_feature_importances['importance'] = (model.feature_importances_/model.feature_importances_.sum())*100\n",
    "df_feature_importances = df_feature_importances.sort_values(by = ['importance','feature'],ascending=False)\n",
    "df_feature_importances.reset_index(drop = True,inplace=True)\n",
    "\n",
    "df_feature_importances"
   ]
  },
  {
   "cell_type": "code",
   "execution_count": 613,
   "metadata": {},
   "outputs": [],
   "source": [
    "#Variables finales a usar (> 1% tanto en arbol de 20 y 10 minleaf)\n",
    "\n",
    "features_to_model = ['Sexo',\n",
    " 'AdultoMayor',\n",
    " 'MesesCliente',\n",
    " 'ServicioInternet',\n",
    " 'SeguridadOnline',\n",
    " 'TerminoContrato',\n",
    " 'FacturacionElectronica',\n",
    " 'MetodoPago',\n",
    " 'MontoCargadoMes',\n",
    " 'MontoCargadoTotal']"
   ]
  },
  {
   "cell_type": "code",
   "execution_count": 614,
   "metadata": {},
   "outputs": [],
   "source": [
    "ds_train = ds_train[features_to_model+[TARGET]]\n",
    "ds_test = ds_test[features_to_model]"
   ]
  },
  {
   "cell_type": "markdown",
   "metadata": {},
   "source": [
    "## 3.3) Feature Engineering"
   ]
  },
  {
   "cell_type": "code",
   "execution_count": 615,
   "metadata": {},
   "outputs": [
    {
     "data": {
      "text/plain": [
       "AdultoMayor\n",
       "0    66.0\n",
       "1    85.0\n",
       "Name: MontoCargadoMes, dtype: float64"
      ]
     },
     "execution_count": 615,
     "metadata": {},
     "output_type": "execute_result"
    }
   ],
   "source": [
    "# New Feature 1\n",
    "tmp_byAdultoMayor_medianMontoMes = ds_train.groupby(['AdultoMayor'])['MontoCargadoMes'].median().round()\n",
    "tmp_byAdultoMayor_medianMontoMes"
   ]
  },
  {
   "cell_type": "code",
   "execution_count": 616,
   "metadata": {},
   "outputs": [],
   "source": [
    "ds_train['flg_bySexo_mayorMedianMontoMes'] = ds_train.apply(lambda x: 1 if x.MontoCargadoMes >= tmp_byAdultoMayor_medianMontoMes[x.AdultoMayor] else 0,\n",
    "                                                       axis = 1)\n",
    "\n",
    "ds_test['flg_bySexo_mayorMedianMontoMes'] = ds_test.apply(lambda x: 1 if x.MontoCargadoMes >= tmp_byAdultoMayor_medianMontoMes[x.AdultoMayor] else 0,\n",
    "                                                       axis = 1)"
   ]
  },
  {
   "cell_type": "code",
   "execution_count": 617,
   "metadata": {},
   "outputs": [],
   "source": [
    "# MontoCargoTotal a veces tiene valores por encima o por debajo que el MontoCargoMes x Numero Meses. Esto implica que parece haber\n",
    "# un sobrecargo o descuento. Vamos a mapear eso en otra variable"
   ]
  },
  {
   "cell_type": "code",
   "execution_count": 618,
   "metadata": {},
   "outputs": [],
   "source": [
    "ds_train[\"%Gap\"] =  ds_train.MontoCargadoTotal / (ds_train.MontoCargadoMes * ds_train.MesesCliente) - 1\n",
    "ds_test[\"%Gap\"] =  ds_test.MontoCargadoTotal / (ds_test.MontoCargadoMes * ds_test.MesesCliente) - 1"
   ]
  },
  {
   "cell_type": "code",
   "execution_count": 619,
   "metadata": {},
   "outputs": [],
   "source": [
    "def Sobrecosto(row):\n",
    "    if row[\"%Gap\"] <= -0.05:\n",
    "        return -1\n",
    "    elif row[\"%Gap\"] >= 0.05:\n",
    "        return 1\n",
    "    else:\n",
    "        return 0"
   ]
  },
  {
   "cell_type": "code",
   "execution_count": 620,
   "metadata": {},
   "outputs": [],
   "source": [
    "ds_train[\"Sobrecosto\"] = ds_train.apply(Sobrecosto, axis= 1)\n",
    "ds_test[\"Sobrecosto\"] = ds_test.apply(Sobrecosto, axis= 1)"
   ]
  },
  {
   "cell_type": "code",
   "execution_count": 621,
   "metadata": {},
   "outputs": [],
   "source": [
    "# Meses restante que le queda del contrato\n",
    "def MesesRestante(row):\n",
    "    \n",
    "    if row.TerminoContrato == 0:\n",
    "        return 1\n",
    "    elif row.TerminoContrato == 1:\n",
    "        return 12 - row.MesesCliente % 12\n",
    "    else:\n",
    "        return 24 - row.MesesCliente % 24\n"
   ]
  },
  {
   "cell_type": "code",
   "execution_count": 622,
   "metadata": {},
   "outputs": [],
   "source": [
    "ds_train[\"MesesRestantes\"] = ds_train.apply(MesesRestante, axis= 1)\n",
    "ds_test[\"MesesRestantes\"] = ds_test.apply(MesesRestante, axis= 1)"
   ]
  },
  {
   "cell_type": "code",
   "execution_count": 623,
   "metadata": {},
   "outputs": [
    {
     "data": {
      "text/html": [
       "<div>\n",
       "<style scoped>\n",
       "    .dataframe tbody tr th:only-of-type {\n",
       "        vertical-align: middle;\n",
       "    }\n",
       "\n",
       "    .dataframe tbody tr th {\n",
       "        vertical-align: top;\n",
       "    }\n",
       "\n",
       "    .dataframe thead th {\n",
       "        text-align: right;\n",
       "    }\n",
       "</style>\n",
       "<table border=\"1\" class=\"dataframe\">\n",
       "  <thead>\n",
       "    <tr style=\"text-align: right;\">\n",
       "      <th></th>\n",
       "      <th>MesesCliente</th>\n",
       "      <th>TerminoContrato</th>\n",
       "      <th>MesesRestantes</th>\n",
       "    </tr>\n",
       "  </thead>\n",
       "  <tbody>\n",
       "    <tr>\n",
       "      <th>0</th>\n",
       "      <td>11.0</td>\n",
       "      <td>0</td>\n",
       "      <td>1.0</td>\n",
       "    </tr>\n",
       "    <tr>\n",
       "      <th>1</th>\n",
       "      <td>1.0</td>\n",
       "      <td>0</td>\n",
       "      <td>1.0</td>\n",
       "    </tr>\n",
       "    <tr>\n",
       "      <th>2</th>\n",
       "      <td>8.0</td>\n",
       "      <td>0</td>\n",
       "      <td>1.0</td>\n",
       "    </tr>\n",
       "    <tr>\n",
       "      <th>3</th>\n",
       "      <td>50.0</td>\n",
       "      <td>0</td>\n",
       "      <td>1.0</td>\n",
       "    </tr>\n",
       "    <tr>\n",
       "      <th>4</th>\n",
       "      <td>71.0</td>\n",
       "      <td>2</td>\n",
       "      <td>1.0</td>\n",
       "    </tr>\n",
       "    <tr>\n",
       "      <th>5</th>\n",
       "      <td>35.0</td>\n",
       "      <td>0</td>\n",
       "      <td>1.0</td>\n",
       "    </tr>\n",
       "    <tr>\n",
       "      <th>6</th>\n",
       "      <td>11.0</td>\n",
       "      <td>0</td>\n",
       "      <td>1.0</td>\n",
       "    </tr>\n",
       "    <tr>\n",
       "      <th>7</th>\n",
       "      <td>1.0</td>\n",
       "      <td>0</td>\n",
       "      <td>1.0</td>\n",
       "    </tr>\n",
       "    <tr>\n",
       "      <th>8</th>\n",
       "      <td>32.0</td>\n",
       "      <td>0</td>\n",
       "      <td>1.0</td>\n",
       "    </tr>\n",
       "    <tr>\n",
       "      <th>9</th>\n",
       "      <td>4.0</td>\n",
       "      <td>0</td>\n",
       "      <td>1.0</td>\n",
       "    </tr>\n",
       "    <tr>\n",
       "      <th>10</th>\n",
       "      <td>33.0</td>\n",
       "      <td>1</td>\n",
       "      <td>3.0</td>\n",
       "    </tr>\n",
       "    <tr>\n",
       "      <th>11</th>\n",
       "      <td>56.0</td>\n",
       "      <td>2</td>\n",
       "      <td>16.0</td>\n",
       "    </tr>\n",
       "    <tr>\n",
       "      <th>12</th>\n",
       "      <td>6.0</td>\n",
       "      <td>0</td>\n",
       "      <td>1.0</td>\n",
       "    </tr>\n",
       "    <tr>\n",
       "      <th>13</th>\n",
       "      <td>4.0</td>\n",
       "      <td>0</td>\n",
       "      <td>1.0</td>\n",
       "    </tr>\n",
       "    <tr>\n",
       "      <th>14</th>\n",
       "      <td>60.0</td>\n",
       "      <td>0</td>\n",
       "      <td>1.0</td>\n",
       "    </tr>\n",
       "    <tr>\n",
       "      <th>15</th>\n",
       "      <td>36.0</td>\n",
       "      <td>2</td>\n",
       "      <td>12.0</td>\n",
       "    </tr>\n",
       "    <tr>\n",
       "      <th>16</th>\n",
       "      <td>21.0</td>\n",
       "      <td>1</td>\n",
       "      <td>3.0</td>\n",
       "    </tr>\n",
       "    <tr>\n",
       "      <th>17</th>\n",
       "      <td>7.0</td>\n",
       "      <td>0</td>\n",
       "      <td>1.0</td>\n",
       "    </tr>\n",
       "    <tr>\n",
       "      <th>18</th>\n",
       "      <td>69.0</td>\n",
       "      <td>2</td>\n",
       "      <td>3.0</td>\n",
       "    </tr>\n",
       "    <tr>\n",
       "      <th>19</th>\n",
       "      <td>72.0</td>\n",
       "      <td>2</td>\n",
       "      <td>24.0</td>\n",
       "    </tr>\n",
       "  </tbody>\n",
       "</table>\n",
       "</div>"
      ],
      "text/plain": [
       "    MesesCliente  TerminoContrato  MesesRestantes\n",
       "0           11.0                0             1.0\n",
       "1            1.0                0             1.0\n",
       "2            8.0                0             1.0\n",
       "3           50.0                0             1.0\n",
       "4           71.0                2             1.0\n",
       "5           35.0                0             1.0\n",
       "6           11.0                0             1.0\n",
       "7            1.0                0             1.0\n",
       "8           32.0                0             1.0\n",
       "9            4.0                0             1.0\n",
       "10          33.0                1             3.0\n",
       "11          56.0                2            16.0\n",
       "12           6.0                0             1.0\n",
       "13           4.0                0             1.0\n",
       "14          60.0                0             1.0\n",
       "15          36.0                2            12.0\n",
       "16          21.0                1             3.0\n",
       "17           7.0                0             1.0\n",
       "18          69.0                2             3.0\n",
       "19          72.0                2            24.0"
      ]
     },
     "execution_count": 623,
     "metadata": {},
     "output_type": "execute_result"
    }
   ],
   "source": [
    "ds_train.head(20)[[\"MesesCliente\",\"TerminoContrato\",\"MesesRestantes\"]]"
   ]
  },
  {
   "cell_type": "code",
   "execution_count": 624,
   "metadata": {},
   "outputs": [],
   "source": [
    "# Crear Features Dummies\n",
    "#ds_train = pd.get_dummies(ds_train, columns=list_cols+[\"AdultoMayor\",\"Socio\",\"Dependientes\",\"ServicioInternet\",\"TerminoContrato\",\"FacturacionElectronica\",\"LineasMultiples\",\"MetodoPago\",\"Sexo\",\"ServicioTelefonico\"])\n",
    "#ds_test = pd.get_dummies(ds_test, columns=list_cols+[\"AdultoMayor\",\"Socio\",\"Dependientes\",\"ServicioInternet\",\"TerminoContrato\",\"FacturacionElectronica\",\"LineasMultiples\",\"MetodoPago\",\"Sexo\",\"ServicioTelefonico\"])\n",
    "\n",
    "ds_train = pd.get_dummies(ds_train, columns=['Sexo',\n",
    " 'AdultoMayor',\n",
    " 'ServicioInternet',\n",
    " 'SeguridadOnline',\n",
    " 'TerminoContrato',\n",
    " 'FacturacionElectronica',\n",
    " 'MetodoPago',\n",
    " 'Sobrecosto'])\n",
    "\n",
    "ds_test = pd.get_dummies(ds_test, columns=['Sexo',\n",
    " 'AdultoMayor',\n",
    " 'ServicioInternet',\n",
    " 'SeguridadOnline',\n",
    " 'TerminoContrato',\n",
    " 'FacturacionElectronica',\n",
    " 'MetodoPago',\n",
    " 'Sobrecosto'])"
   ]
  },
  {
   "cell_type": "code",
   "execution_count": 625,
   "metadata": {},
   "outputs": [
    {
     "data": {
      "text/plain": [
       "((4577, 29), (2466, 28))"
      ]
     },
     "execution_count": 625,
     "metadata": {},
     "output_type": "execute_result"
    }
   ],
   "source": [
    "ds_train.shape, ds_test.shape"
   ]
  },
  {
   "cell_type": "code",
   "execution_count": 626,
   "metadata": {
    "scrolled": true
   },
   "outputs": [
    {
     "name": "stdout",
     "output_type": "stream",
     "text": [
      "<class 'pandas.core.frame.DataFrame'>\n",
      "RangeIndex: 4577 entries, 0 to 4576\n",
      "Data columns (total 29 columns):\n",
      "MesesCliente                      4577 non-null float64\n",
      "MontoCargadoMes                   4577 non-null float64\n",
      "MontoCargadoTotal                 4577 non-null float64\n",
      "Churn                             4577 non-null int64\n",
      "flg_bySexo_mayorMedianMontoMes    4577 non-null int64\n",
      "%Gap                              4577 non-null float64\n",
      "MesesRestantes                    4577 non-null float64\n",
      "Sexo_0                            4577 non-null uint8\n",
      "Sexo_1                            4577 non-null uint8\n",
      "AdultoMayor_0                     4577 non-null uint8\n",
      "AdultoMayor_1                     4577 non-null uint8\n",
      "ServicioInternet_0                4577 non-null uint8\n",
      "ServicioInternet_1                4577 non-null uint8\n",
      "ServicioInternet_2                4577 non-null uint8\n",
      "SeguridadOnline_0                 4577 non-null uint8\n",
      "SeguridadOnline_1                 4577 non-null uint8\n",
      "SeguridadOnline_2                 4577 non-null uint8\n",
      "TerminoContrato_0                 4577 non-null uint8\n",
      "TerminoContrato_1                 4577 non-null uint8\n",
      "TerminoContrato_2                 4577 non-null uint8\n",
      "FacturacionElectronica_0          4577 non-null uint8\n",
      "FacturacionElectronica_1          4577 non-null uint8\n",
      "MetodoPago_0                      4577 non-null uint8\n",
      "MetodoPago_1                      4577 non-null uint8\n",
      "MetodoPago_2                      4577 non-null uint8\n",
      "MetodoPago_3                      4577 non-null uint8\n",
      "Sobrecosto_-1                     4577 non-null uint8\n",
      "Sobrecosto_0                      4577 non-null uint8\n",
      "Sobrecosto_1                      4577 non-null uint8\n",
      "dtypes: float64(5), int64(2), uint8(22)\n",
      "memory usage: 348.7 KB\n",
      "<class 'pandas.core.frame.DataFrame'>\n",
      "RangeIndex: 2466 entries, 0 to 2465\n",
      "Data columns (total 28 columns):\n",
      "MesesCliente                      2466 non-null float64\n",
      "MontoCargadoMes                   2466 non-null float64\n",
      "MontoCargadoTotal                 2466 non-null float64\n",
      "flg_bySexo_mayorMedianMontoMes    2466 non-null int64\n",
      "%Gap                              2466 non-null float64\n",
      "MesesRestantes                    2466 non-null float64\n",
      "Sexo_0                            2466 non-null uint8\n",
      "Sexo_1                            2466 non-null uint8\n",
      "AdultoMayor_0                     2466 non-null uint8\n",
      "AdultoMayor_1                     2466 non-null uint8\n",
      "ServicioInternet_0                2466 non-null uint8\n",
      "ServicioInternet_1                2466 non-null uint8\n",
      "ServicioInternet_2                2466 non-null uint8\n",
      "SeguridadOnline_0                 2466 non-null uint8\n",
      "SeguridadOnline_1                 2466 non-null uint8\n",
      "SeguridadOnline_2                 2466 non-null uint8\n",
      "TerminoContrato_0                 2466 non-null uint8\n",
      "TerminoContrato_1                 2466 non-null uint8\n",
      "TerminoContrato_2                 2466 non-null uint8\n",
      "FacturacionElectronica_0          2466 non-null uint8\n",
      "FacturacionElectronica_1          2466 non-null uint8\n",
      "MetodoPago_0                      2466 non-null uint8\n",
      "MetodoPago_1                      2466 non-null uint8\n",
      "MetodoPago_2                      2466 non-null uint8\n",
      "MetodoPago_3                      2466 non-null uint8\n",
      "Sobrecosto_-1                     2466 non-null uint8\n",
      "Sobrecosto_0                      2466 non-null uint8\n",
      "Sobrecosto_1                      2466 non-null uint8\n",
      "dtypes: float64(5), int64(1), uint8(22)\n",
      "memory usage: 168.7 KB\n"
     ]
    },
    {
     "data": {
      "text/plain": [
       "(None, None)"
      ]
     },
     "execution_count": 626,
     "metadata": {},
     "output_type": "execute_result"
    }
   ],
   "source": [
    "ds_train.info(), ds_test.info()"
   ]
  },
  {
   "cell_type": "markdown",
   "metadata": {},
   "source": [
    "### Nuevo Feature Selection"
   ]
  },
  {
   "cell_type": "code",
   "execution_count": 627,
   "metadata": {},
   "outputs": [],
   "source": [
    "X_train = ds_train.drop([TARGET], axis=1)\n",
    "y_train = ds_train[TARGET]"
   ]
  },
  {
   "cell_type": "code",
   "execution_count": 628,
   "metadata": {
    "colab": {},
    "colab_type": "code",
    "id": "z2DjunbNtSgi"
   },
   "outputs": [],
   "source": [
    "# Create  model objet \n",
    "model_tree = DecisionTreeClassifier(min_samples_leaf=30)\n",
    "\n",
    "# Fit the model:\n",
    "model_tree.fit(X_train, y_train)\n",
    "\n",
    "model = model_tree"
   ]
  },
  {
   "cell_type": "code",
   "execution_count": 629,
   "metadata": {
    "colab": {},
    "colab_type": "code",
    "id": "Po5_fRk-tSgk"
   },
   "outputs": [],
   "source": [
    "# Generar las predicciones:\n",
    "y_pred_train = model.predict(X_train)"
   ]
  },
  {
   "cell_type": "code",
   "execution_count": 630,
   "metadata": {
    "colab": {
     "base_uri": "https://localhost:8080/",
     "height": 50
    },
    "colab_type": "code",
    "id": "9XkSSTS74xDt",
    "outputId": "e0154ea4-4aa5-4ef5-8265-cef2351c1b10",
    "scrolled": false
   },
   "outputs": [
    {
     "name": "stdout",
     "output_type": "stream",
     "text": [
      "Accuracy - Train: 0.8225912169543369\n"
     ]
    }
   ],
   "source": [
    "accuracy_train = mt.accuracy_score(y_train, y_pred_train)\n",
    "\n",
    "print(\"Accuracy - Train: {}\".format(accuracy_train))\n"
   ]
  },
  {
   "cell_type": "code",
   "execution_count": 631,
   "metadata": {
    "colab": {
     "base_uri": "https://localhost:8080/",
     "height": 462
    },
    "colab_type": "code",
    "id": "x5Hziz4p_R_c",
    "outputId": "79e918f7-fc11-431b-8ba5-7d1c4c13e385"
   },
   "outputs": [
    {
     "data": {
      "text/html": [
       "<div>\n",
       "<style scoped>\n",
       "    .dataframe tbody tr th:only-of-type {\n",
       "        vertical-align: middle;\n",
       "    }\n",
       "\n",
       "    .dataframe tbody tr th {\n",
       "        vertical-align: top;\n",
       "    }\n",
       "\n",
       "    .dataframe thead th {\n",
       "        text-align: right;\n",
       "    }\n",
       "</style>\n",
       "<table border=\"1\" class=\"dataframe\">\n",
       "  <thead>\n",
       "    <tr style=\"text-align: right;\">\n",
       "      <th></th>\n",
       "      <th>feature</th>\n",
       "      <th>importance</th>\n",
       "    </tr>\n",
       "  </thead>\n",
       "  <tbody>\n",
       "    <tr>\n",
       "      <th>0</th>\n",
       "      <td>TerminoContrato_0</td>\n",
       "      <td>40.911737</td>\n",
       "    </tr>\n",
       "    <tr>\n",
       "      <th>1</th>\n",
       "      <td>MontoCargadoTotal</td>\n",
       "      <td>20.786419</td>\n",
       "    </tr>\n",
       "    <tr>\n",
       "      <th>2</th>\n",
       "      <td>ServicioInternet_1</td>\n",
       "      <td>14.409130</td>\n",
       "    </tr>\n",
       "    <tr>\n",
       "      <th>3</th>\n",
       "      <td>MontoCargadoMes</td>\n",
       "      <td>8.422936</td>\n",
       "    </tr>\n",
       "    <tr>\n",
       "      <th>4</th>\n",
       "      <td>MesesCliente</td>\n",
       "      <td>4.911363</td>\n",
       "    </tr>\n",
       "    <tr>\n",
       "      <th>5</th>\n",
       "      <td>ServicioInternet_0</td>\n",
       "      <td>2.625113</td>\n",
       "    </tr>\n",
       "    <tr>\n",
       "      <th>6</th>\n",
       "      <td>%Gap</td>\n",
       "      <td>2.122655</td>\n",
       "    </tr>\n",
       "    <tr>\n",
       "      <th>7</th>\n",
       "      <td>MetodoPago_0</td>\n",
       "      <td>1.342545</td>\n",
       "    </tr>\n",
       "    <tr>\n",
       "      <th>8</th>\n",
       "      <td>SeguridadOnline_1</td>\n",
       "      <td>0.795275</td>\n",
       "    </tr>\n",
       "    <tr>\n",
       "      <th>9</th>\n",
       "      <td>AdultoMayor_0</td>\n",
       "      <td>0.792745</td>\n",
       "    </tr>\n",
       "    <tr>\n",
       "      <th>10</th>\n",
       "      <td>MetodoPago_1</td>\n",
       "      <td>0.700526</td>\n",
       "    </tr>\n",
       "    <tr>\n",
       "      <th>11</th>\n",
       "      <td>SeguridadOnline_2</td>\n",
       "      <td>0.638178</td>\n",
       "    </tr>\n",
       "    <tr>\n",
       "      <th>12</th>\n",
       "      <td>Sobrecosto_0</td>\n",
       "      <td>0.341454</td>\n",
       "    </tr>\n",
       "    <tr>\n",
       "      <th>13</th>\n",
       "      <td>Sexo_1</td>\n",
       "      <td>0.325798</td>\n",
       "    </tr>\n",
       "    <tr>\n",
       "      <th>14</th>\n",
       "      <td>FacturacionElectronica_1</td>\n",
       "      <td>0.250719</td>\n",
       "    </tr>\n",
       "    <tr>\n",
       "      <th>15</th>\n",
       "      <td>MesesRestantes</td>\n",
       "      <td>0.214396</td>\n",
       "    </tr>\n",
       "    <tr>\n",
       "      <th>16</th>\n",
       "      <td>Sexo_0</td>\n",
       "      <td>0.183568</td>\n",
       "    </tr>\n",
       "    <tr>\n",
       "      <th>17</th>\n",
       "      <td>TerminoContrato_2</td>\n",
       "      <td>0.147935</td>\n",
       "    </tr>\n",
       "    <tr>\n",
       "      <th>18</th>\n",
       "      <td>MetodoPago_3</td>\n",
       "      <td>0.077507</td>\n",
       "    </tr>\n",
       "    <tr>\n",
       "      <th>19</th>\n",
       "      <td>flg_bySexo_mayorMedianMontoMes</td>\n",
       "      <td>0.000000</td>\n",
       "    </tr>\n",
       "    <tr>\n",
       "      <th>20</th>\n",
       "      <td>TerminoContrato_1</td>\n",
       "      <td>0.000000</td>\n",
       "    </tr>\n",
       "    <tr>\n",
       "      <th>21</th>\n",
       "      <td>Sobrecosto_1</td>\n",
       "      <td>0.000000</td>\n",
       "    </tr>\n",
       "    <tr>\n",
       "      <th>22</th>\n",
       "      <td>Sobrecosto_-1</td>\n",
       "      <td>0.000000</td>\n",
       "    </tr>\n",
       "    <tr>\n",
       "      <th>23</th>\n",
       "      <td>ServicioInternet_2</td>\n",
       "      <td>0.000000</td>\n",
       "    </tr>\n",
       "    <tr>\n",
       "      <th>24</th>\n",
       "      <td>SeguridadOnline_0</td>\n",
       "      <td>0.000000</td>\n",
       "    </tr>\n",
       "    <tr>\n",
       "      <th>25</th>\n",
       "      <td>MetodoPago_2</td>\n",
       "      <td>0.000000</td>\n",
       "    </tr>\n",
       "    <tr>\n",
       "      <th>26</th>\n",
       "      <td>FacturacionElectronica_0</td>\n",
       "      <td>0.000000</td>\n",
       "    </tr>\n",
       "    <tr>\n",
       "      <th>27</th>\n",
       "      <td>AdultoMayor_1</td>\n",
       "      <td>0.000000</td>\n",
       "    </tr>\n",
       "  </tbody>\n",
       "</table>\n",
       "</div>"
      ],
      "text/plain": [
       "                           feature  importance\n",
       "0                TerminoContrato_0   40.911737\n",
       "1                MontoCargadoTotal   20.786419\n",
       "2               ServicioInternet_1   14.409130\n",
       "3                  MontoCargadoMes    8.422936\n",
       "4                     MesesCliente    4.911363\n",
       "5               ServicioInternet_0    2.625113\n",
       "6                             %Gap    2.122655\n",
       "7                     MetodoPago_0    1.342545\n",
       "8                SeguridadOnline_1    0.795275\n",
       "9                    AdultoMayor_0    0.792745\n",
       "10                    MetodoPago_1    0.700526\n",
       "11               SeguridadOnline_2    0.638178\n",
       "12                    Sobrecosto_0    0.341454\n",
       "13                          Sexo_1    0.325798\n",
       "14        FacturacionElectronica_1    0.250719\n",
       "15                  MesesRestantes    0.214396\n",
       "16                          Sexo_0    0.183568\n",
       "17               TerminoContrato_2    0.147935\n",
       "18                    MetodoPago_3    0.077507\n",
       "19  flg_bySexo_mayorMedianMontoMes    0.000000\n",
       "20               TerminoContrato_1    0.000000\n",
       "21                    Sobrecosto_1    0.000000\n",
       "22                   Sobrecosto_-1    0.000000\n",
       "23              ServicioInternet_2    0.000000\n",
       "24               SeguridadOnline_0    0.000000\n",
       "25                    MetodoPago_2    0.000000\n",
       "26        FacturacionElectronica_0    0.000000\n",
       "27                   AdultoMayor_1    0.000000"
      ]
     },
     "execution_count": 631,
     "metadata": {},
     "output_type": "execute_result"
    }
   ],
   "source": [
    "df_feature_importances = pd.DataFrame()\n",
    "df_feature_importances['feature'] = X_train.columns\n",
    "df_feature_importances['importance'] = (model.feature_importances_/model.feature_importances_.sum())*100\n",
    "df_feature_importances = df_feature_importances.sort_values(by = ['importance','feature'],ascending=False)\n",
    "df_feature_importances.reset_index(drop = True,inplace=True)\n",
    "\n",
    "df_feature_importances"
   ]
  },
  {
   "cell_type": "code",
   "execution_count": 632,
   "metadata": {},
   "outputs": [],
   "source": [
    "#Variables finales a usar (> 1% tanto en arbol de 20 y 10 minleaf)\n",
    "features_to_remove = [\"Sobrecosto_1\",\"Sobrecosto_-1\",\"Sobrecosto_0\",\"flg_bySexo_mayorMedianMontoMes\",\n",
    "                                                  \"SeguridadOnline_0\",\"SeguridadOnline_1\",\"SeguridadOnline_2\",\"Sexo_0\",\"Sexo_1\"]"
   ]
  },
  {
   "cell_type": "code",
   "execution_count": 633,
   "metadata": {},
   "outputs": [],
   "source": [
    "ds_train = ds_train.drop(features_to_remove, axis = 1)\n",
    "ds_test = ds_test.drop(features_to_remove, axis = 1)"
   ]
  },
  {
   "cell_type": "code",
   "execution_count": 634,
   "metadata": {},
   "outputs": [
    {
     "name": "stdout",
     "output_type": "stream",
     "text": [
      "train:  (4577, 19) , summit:  (2466, 19)\n"
     ]
    }
   ],
   "source": [
    "# Features & Target\n",
    "features = list(ds_train.columns)\n",
    "features.remove(TARGET)\n",
    "\n",
    "X = ds_train[features]\n",
    "y = ds_train[TARGET]\n",
    "\n",
    "X_summit = ds_test\n",
    "\n",
    "print(\"train: \", X.shape,\", summit: \", X_summit.shape)"
   ]
  },
  {
   "cell_type": "code",
   "execution_count": 635,
   "metadata": {},
   "outputs": [
    {
     "data": {
      "text/html": [
       "<div>\n",
       "<style scoped>\n",
       "    .dataframe tbody tr th:only-of-type {\n",
       "        vertical-align: middle;\n",
       "    }\n",
       "\n",
       "    .dataframe tbody tr th {\n",
       "        vertical-align: top;\n",
       "    }\n",
       "\n",
       "    .dataframe thead th {\n",
       "        text-align: right;\n",
       "    }\n",
       "</style>\n",
       "<table border=\"1\" class=\"dataframe\">\n",
       "  <thead>\n",
       "    <tr style=\"text-align: right;\">\n",
       "      <th></th>\n",
       "      <th>count</th>\n",
       "      <th>mean</th>\n",
       "      <th>std</th>\n",
       "      <th>min</th>\n",
       "      <th>25%</th>\n",
       "      <th>50%</th>\n",
       "      <th>75%</th>\n",
       "      <th>max</th>\n",
       "    </tr>\n",
       "  </thead>\n",
       "  <tbody>\n",
       "    <tr>\n",
       "      <th>MesesCliente</th>\n",
       "      <td>2466.0</td>\n",
       "      <td>32.445661</td>\n",
       "      <td>24.309392</td>\n",
       "      <td>1.000000</td>\n",
       "      <td>9.000000</td>\n",
       "      <td>29.000</td>\n",
       "      <td>55.000000</td>\n",
       "      <td>72.000000</td>\n",
       "    </tr>\n",
       "    <tr>\n",
       "      <th>MontoCargadoMes</th>\n",
       "      <td>2466.0</td>\n",
       "      <td>65.734710</td>\n",
       "      <td>29.820663</td>\n",
       "      <td>15.346000</td>\n",
       "      <td>43.712500</td>\n",
       "      <td>70.725</td>\n",
       "      <td>90.350000</td>\n",
       "      <td>118.750000</td>\n",
       "    </tr>\n",
       "    <tr>\n",
       "      <th>MontoCargadoTotal</th>\n",
       "      <td>2466.0</td>\n",
       "      <td>2305.242158</td>\n",
       "      <td>2238.220889</td>\n",
       "      <td>19.000000</td>\n",
       "      <td>417.700000</td>\n",
       "      <td>1471.350</td>\n",
       "      <td>3846.125000</td>\n",
       "      <td>8550.000000</td>\n",
       "    </tr>\n",
       "    <tr>\n",
       "      <th>%Gap</th>\n",
       "      <td>2466.0</td>\n",
       "      <td>-0.000389</td>\n",
       "      <td>0.042759</td>\n",
       "      <td>-0.241701</td>\n",
       "      <td>-0.016135</td>\n",
       "      <td>0.000</td>\n",
       "      <td>0.015137</td>\n",
       "      <td>0.293586</td>\n",
       "    </tr>\n",
       "    <tr>\n",
       "      <th>MesesRestantes</th>\n",
       "      <td>2466.0</td>\n",
       "      <td>4.929846</td>\n",
       "      <td>6.547838</td>\n",
       "      <td>1.000000</td>\n",
       "      <td>1.000000</td>\n",
       "      <td>1.000</td>\n",
       "      <td>7.000000</td>\n",
       "      <td>24.000000</td>\n",
       "    </tr>\n",
       "    <tr>\n",
       "      <th>AdultoMayor_0</th>\n",
       "      <td>2466.0</td>\n",
       "      <td>0.843471</td>\n",
       "      <td>0.363430</td>\n",
       "      <td>0.000000</td>\n",
       "      <td>1.000000</td>\n",
       "      <td>1.000</td>\n",
       "      <td>1.000000</td>\n",
       "      <td>1.000000</td>\n",
       "    </tr>\n",
       "    <tr>\n",
       "      <th>AdultoMayor_1</th>\n",
       "      <td>2466.0</td>\n",
       "      <td>0.156529</td>\n",
       "      <td>0.363430</td>\n",
       "      <td>0.000000</td>\n",
       "      <td>0.000000</td>\n",
       "      <td>0.000</td>\n",
       "      <td>0.000000</td>\n",
       "      <td>1.000000</td>\n",
       "    </tr>\n",
       "    <tr>\n",
       "      <th>ServicioInternet_0</th>\n",
       "      <td>2466.0</td>\n",
       "      <td>0.209246</td>\n",
       "      <td>0.406853</td>\n",
       "      <td>0.000000</td>\n",
       "      <td>0.000000</td>\n",
       "      <td>0.000</td>\n",
       "      <td>0.000000</td>\n",
       "      <td>1.000000</td>\n",
       "    </tr>\n",
       "    <tr>\n",
       "      <th>ServicioInternet_1</th>\n",
       "      <td>2466.0</td>\n",
       "      <td>0.449311</td>\n",
       "      <td>0.497525</td>\n",
       "      <td>0.000000</td>\n",
       "      <td>0.000000</td>\n",
       "      <td>0.000</td>\n",
       "      <td>1.000000</td>\n",
       "      <td>1.000000</td>\n",
       "    </tr>\n",
       "    <tr>\n",
       "      <th>ServicioInternet_2</th>\n",
       "      <td>2466.0</td>\n",
       "      <td>0.341444</td>\n",
       "      <td>0.474290</td>\n",
       "      <td>0.000000</td>\n",
       "      <td>0.000000</td>\n",
       "      <td>0.000</td>\n",
       "      <td>1.000000</td>\n",
       "      <td>1.000000</td>\n",
       "    </tr>\n",
       "    <tr>\n",
       "      <th>TerminoContrato_0</th>\n",
       "      <td>2466.0</td>\n",
       "      <td>0.545823</td>\n",
       "      <td>0.497997</td>\n",
       "      <td>0.000000</td>\n",
       "      <td>0.000000</td>\n",
       "      <td>1.000</td>\n",
       "      <td>1.000000</td>\n",
       "      <td>1.000000</td>\n",
       "    </tr>\n",
       "    <tr>\n",
       "      <th>TerminoContrato_1</th>\n",
       "      <td>2466.0</td>\n",
       "      <td>0.211679</td>\n",
       "      <td>0.408581</td>\n",
       "      <td>0.000000</td>\n",
       "      <td>0.000000</td>\n",
       "      <td>0.000</td>\n",
       "      <td>0.000000</td>\n",
       "      <td>1.000000</td>\n",
       "    </tr>\n",
       "    <tr>\n",
       "      <th>TerminoContrato_2</th>\n",
       "      <td>2466.0</td>\n",
       "      <td>0.242498</td>\n",
       "      <td>0.428681</td>\n",
       "      <td>0.000000</td>\n",
       "      <td>0.000000</td>\n",
       "      <td>0.000</td>\n",
       "      <td>0.000000</td>\n",
       "      <td>1.000000</td>\n",
       "    </tr>\n",
       "    <tr>\n",
       "      <th>FacturacionElectronica_0</th>\n",
       "      <td>2466.0</td>\n",
       "      <td>0.412814</td>\n",
       "      <td>0.492440</td>\n",
       "      <td>0.000000</td>\n",
       "      <td>0.000000</td>\n",
       "      <td>0.000</td>\n",
       "      <td>1.000000</td>\n",
       "      <td>1.000000</td>\n",
       "    </tr>\n",
       "    <tr>\n",
       "      <th>FacturacionElectronica_1</th>\n",
       "      <td>2466.0</td>\n",
       "      <td>0.587186</td>\n",
       "      <td>0.492440</td>\n",
       "      <td>0.000000</td>\n",
       "      <td>0.000000</td>\n",
       "      <td>1.000</td>\n",
       "      <td>1.000000</td>\n",
       "      <td>1.000000</td>\n",
       "    </tr>\n",
       "    <tr>\n",
       "      <th>MetodoPago_0</th>\n",
       "      <td>2466.0</td>\n",
       "      <td>0.324006</td>\n",
       "      <td>0.468097</td>\n",
       "      <td>0.000000</td>\n",
       "      <td>0.000000</td>\n",
       "      <td>0.000</td>\n",
       "      <td>1.000000</td>\n",
       "      <td>1.000000</td>\n",
       "    </tr>\n",
       "    <tr>\n",
       "      <th>MetodoPago_1</th>\n",
       "      <td>2466.0</td>\n",
       "      <td>0.227494</td>\n",
       "      <td>0.419299</td>\n",
       "      <td>0.000000</td>\n",
       "      <td>0.000000</td>\n",
       "      <td>0.000</td>\n",
       "      <td>0.000000</td>\n",
       "      <td>1.000000</td>\n",
       "    </tr>\n",
       "    <tr>\n",
       "      <th>MetodoPago_2</th>\n",
       "      <td>2466.0</td>\n",
       "      <td>0.222628</td>\n",
       "      <td>0.416095</td>\n",
       "      <td>0.000000</td>\n",
       "      <td>0.000000</td>\n",
       "      <td>0.000</td>\n",
       "      <td>0.000000</td>\n",
       "      <td>1.000000</td>\n",
       "    </tr>\n",
       "    <tr>\n",
       "      <th>MetodoPago_3</th>\n",
       "      <td>2466.0</td>\n",
       "      <td>0.225872</td>\n",
       "      <td>0.418240</td>\n",
       "      <td>0.000000</td>\n",
       "      <td>0.000000</td>\n",
       "      <td>0.000</td>\n",
       "      <td>0.000000</td>\n",
       "      <td>1.000000</td>\n",
       "    </tr>\n",
       "  </tbody>\n",
       "</table>\n",
       "</div>"
      ],
      "text/plain": [
       "                           count         mean          std        min  \\\n",
       "MesesCliente              2466.0    32.445661    24.309392   1.000000   \n",
       "MontoCargadoMes           2466.0    65.734710    29.820663  15.346000   \n",
       "MontoCargadoTotal         2466.0  2305.242158  2238.220889  19.000000   \n",
       "%Gap                      2466.0    -0.000389     0.042759  -0.241701   \n",
       "MesesRestantes            2466.0     4.929846     6.547838   1.000000   \n",
       "AdultoMayor_0             2466.0     0.843471     0.363430   0.000000   \n",
       "AdultoMayor_1             2466.0     0.156529     0.363430   0.000000   \n",
       "ServicioInternet_0        2466.0     0.209246     0.406853   0.000000   \n",
       "ServicioInternet_1        2466.0     0.449311     0.497525   0.000000   \n",
       "ServicioInternet_2        2466.0     0.341444     0.474290   0.000000   \n",
       "TerminoContrato_0         2466.0     0.545823     0.497997   0.000000   \n",
       "TerminoContrato_1         2466.0     0.211679     0.408581   0.000000   \n",
       "TerminoContrato_2         2466.0     0.242498     0.428681   0.000000   \n",
       "FacturacionElectronica_0  2466.0     0.412814     0.492440   0.000000   \n",
       "FacturacionElectronica_1  2466.0     0.587186     0.492440   0.000000   \n",
       "MetodoPago_0              2466.0     0.324006     0.468097   0.000000   \n",
       "MetodoPago_1              2466.0     0.227494     0.419299   0.000000   \n",
       "MetodoPago_2              2466.0     0.222628     0.416095   0.000000   \n",
       "MetodoPago_3              2466.0     0.225872     0.418240   0.000000   \n",
       "\n",
       "                                 25%       50%          75%          max  \n",
       "MesesCliente                9.000000    29.000    55.000000    72.000000  \n",
       "MontoCargadoMes            43.712500    70.725    90.350000   118.750000  \n",
       "MontoCargadoTotal         417.700000  1471.350  3846.125000  8550.000000  \n",
       "%Gap                       -0.016135     0.000     0.015137     0.293586  \n",
       "MesesRestantes              1.000000     1.000     7.000000    24.000000  \n",
       "AdultoMayor_0               1.000000     1.000     1.000000     1.000000  \n",
       "AdultoMayor_1               0.000000     0.000     0.000000     1.000000  \n",
       "ServicioInternet_0          0.000000     0.000     0.000000     1.000000  \n",
       "ServicioInternet_1          0.000000     0.000     1.000000     1.000000  \n",
       "ServicioInternet_2          0.000000     0.000     1.000000     1.000000  \n",
       "TerminoContrato_0           0.000000     1.000     1.000000     1.000000  \n",
       "TerminoContrato_1           0.000000     0.000     0.000000     1.000000  \n",
       "TerminoContrato_2           0.000000     0.000     0.000000     1.000000  \n",
       "FacturacionElectronica_0    0.000000     0.000     1.000000     1.000000  \n",
       "FacturacionElectronica_1    0.000000     1.000     1.000000     1.000000  \n",
       "MetodoPago_0                0.000000     0.000     1.000000     1.000000  \n",
       "MetodoPago_1                0.000000     0.000     0.000000     1.000000  \n",
       "MetodoPago_2                0.000000     0.000     0.000000     1.000000  \n",
       "MetodoPago_3                0.000000     0.000     0.000000     1.000000  "
      ]
     },
     "execution_count": 635,
     "metadata": {},
     "output_type": "execute_result"
    }
   ],
   "source": [
    "X_summit.describe().T"
   ]
  },
  {
   "cell_type": "code",
   "execution_count": 636,
   "metadata": {},
   "outputs": [
    {
     "data": {
      "text/html": [
       "<div>\n",
       "<style scoped>\n",
       "    .dataframe tbody tr th:only-of-type {\n",
       "        vertical-align: middle;\n",
       "    }\n",
       "\n",
       "    .dataframe tbody tr th {\n",
       "        vertical-align: top;\n",
       "    }\n",
       "\n",
       "    .dataframe thead th {\n",
       "        text-align: right;\n",
       "    }\n",
       "</style>\n",
       "<table border=\"1\" class=\"dataframe\">\n",
       "  <thead>\n",
       "    <tr style=\"text-align: right;\">\n",
       "      <th></th>\n",
       "      <th>MesesCliente</th>\n",
       "      <th>MontoCargadoMes</th>\n",
       "      <th>MontoCargadoTotal</th>\n",
       "      <th>%Gap</th>\n",
       "      <th>MesesRestantes</th>\n",
       "      <th>AdultoMayor_0</th>\n",
       "      <th>AdultoMayor_1</th>\n",
       "      <th>ServicioInternet_0</th>\n",
       "      <th>ServicioInternet_1</th>\n",
       "      <th>ServicioInternet_2</th>\n",
       "      <th>TerminoContrato_0</th>\n",
       "      <th>TerminoContrato_1</th>\n",
       "      <th>TerminoContrato_2</th>\n",
       "      <th>FacturacionElectronica_0</th>\n",
       "      <th>FacturacionElectronica_1</th>\n",
       "      <th>MetodoPago_0</th>\n",
       "      <th>MetodoPago_1</th>\n",
       "      <th>MetodoPago_2</th>\n",
       "      <th>MetodoPago_3</th>\n",
       "    </tr>\n",
       "  </thead>\n",
       "  <tbody>\n",
       "  </tbody>\n",
       "</table>\n",
       "</div>"
      ],
      "text/plain": [
       "Empty DataFrame\n",
       "Columns: [MesesCliente, MontoCargadoMes, MontoCargadoTotal, %Gap, MesesRestantes, AdultoMayor_0, AdultoMayor_1, ServicioInternet_0, ServicioInternet_1, ServicioInternet_2, TerminoContrato_0, TerminoContrato_1, TerminoContrato_2, FacturacionElectronica_0, FacturacionElectronica_1, MetodoPago_0, MetodoPago_1, MetodoPago_2, MetodoPago_3]\n",
       "Index: []"
      ]
     },
     "execution_count": 636,
     "metadata": {},
     "output_type": "execute_result"
    }
   ],
   "source": [
    "X_summit[X_summit[\"%Gap\"].isna()]"
   ]
  },
  {
   "cell_type": "markdown",
   "metadata": {},
   "source": [
    "# 4) Modeling & Evaluation - Simple"
   ]
  },
  {
   "cell_type": "markdown",
   "metadata": {},
   "source": [
    "## 4.1) Train & Test Split"
   ]
  },
  {
   "cell_type": "code",
   "execution_count": 637,
   "metadata": {},
   "outputs": [
    {
     "name": "stdout",
     "output_type": "stream",
     "text": [
      "(3203, 3203) (1374, 1374)\n"
     ]
    }
   ],
   "source": [
    "from sklearn import model_selection\n",
    "X_train, X_test, y_train, y_test = model_selection.train_test_split(X, y, train_size = 0.70, random_state=9)\n",
    "print((len(X_train), len(y_train)), (len(X_test), len(y_test)))"
   ]
  },
  {
   "cell_type": "code",
   "execution_count": 638,
   "metadata": {},
   "outputs": [
    {
     "name": "stdout",
     "output_type": "stream",
     "text": [
      "<class 'pandas.core.frame.DataFrame'>\n",
      "Int64Index: 3203 entries, 2927 to 382\n",
      "Data columns (total 19 columns):\n",
      "MesesCliente                3203 non-null float64\n",
      "MontoCargadoMes             3203 non-null float64\n",
      "MontoCargadoTotal           3203 non-null float64\n",
      "%Gap                        3203 non-null float64\n",
      "MesesRestantes              3203 non-null float64\n",
      "AdultoMayor_0               3203 non-null uint8\n",
      "AdultoMayor_1               3203 non-null uint8\n",
      "ServicioInternet_0          3203 non-null uint8\n",
      "ServicioInternet_1          3203 non-null uint8\n",
      "ServicioInternet_2          3203 non-null uint8\n",
      "TerminoContrato_0           3203 non-null uint8\n",
      "TerminoContrato_1           3203 non-null uint8\n",
      "TerminoContrato_2           3203 non-null uint8\n",
      "FacturacionElectronica_0    3203 non-null uint8\n",
      "FacturacionElectronica_1    3203 non-null uint8\n",
      "MetodoPago_0                3203 non-null uint8\n",
      "MetodoPago_1                3203 non-null uint8\n",
      "MetodoPago_2                3203 non-null uint8\n",
      "MetodoPago_3                3203 non-null uint8\n",
      "dtypes: float64(5), uint8(14)\n",
      "memory usage: 193.9 KB\n"
     ]
    }
   ],
   "source": [
    "X_train.info()"
   ]
  },
  {
   "cell_type": "markdown",
   "metadata": {},
   "source": [
    "## 4.2.A. LogisticRegression"
   ]
  },
  {
   "cell_type": "markdown",
   "metadata": {},
   "source": [
    "### 4.2.1 Training"
   ]
  },
  {
   "cell_type": "code",
   "execution_count": 639,
   "metadata": {},
   "outputs": [],
   "source": [
    "from sklearn.linear_model import LogisticRegression\n",
    "\n",
    "# Create  model objet \n",
    "model_rlog = LogisticRegression(C=0.01, max_iter= 100, random_state=0, n_jobs = 4, penalty = 'l1')\n",
    "\n",
    "# Fit the model:\n",
    "model_rlog.fit(X_train, y_train)\n",
    "\n",
    "model = model_rlog "
   ]
  },
  {
   "cell_type": "code",
   "execution_count": 640,
   "metadata": {},
   "outputs": [
    {
     "data": {
      "text/html": [
       "<div>\n",
       "<style scoped>\n",
       "    .dataframe tbody tr th:only-of-type {\n",
       "        vertical-align: middle;\n",
       "    }\n",
       "\n",
       "    .dataframe tbody tr th {\n",
       "        vertical-align: top;\n",
       "    }\n",
       "\n",
       "    .dataframe thead th {\n",
       "        text-align: right;\n",
       "    }\n",
       "</style>\n",
       "<table border=\"1\" class=\"dataframe\">\n",
       "  <thead>\n",
       "    <tr style=\"text-align: right;\">\n",
       "      <th></th>\n",
       "      <th>feature</th>\n",
       "      <th>beta</th>\n",
       "    </tr>\n",
       "  </thead>\n",
       "  <tbody>\n",
       "    <tr>\n",
       "      <th>4</th>\n",
       "      <td>MesesRestantes</td>\n",
       "      <td>-0.1117</td>\n",
       "    </tr>\n",
       "    <tr>\n",
       "      <th>0</th>\n",
       "      <td>MesesCliente</td>\n",
       "      <td>-0.1014</td>\n",
       "    </tr>\n",
       "    <tr>\n",
       "      <th>16</th>\n",
       "      <td>MetodoPago_1</td>\n",
       "      <td>0.0000</td>\n",
       "    </tr>\n",
       "    <tr>\n",
       "      <th>15</th>\n",
       "      <td>MetodoPago_0</td>\n",
       "      <td>0.0000</td>\n",
       "    </tr>\n",
       "    <tr>\n",
       "      <th>14</th>\n",
       "      <td>FacturacionElectronica_1</td>\n",
       "      <td>0.0000</td>\n",
       "    </tr>\n",
       "    <tr>\n",
       "      <th>13</th>\n",
       "      <td>FacturacionElectronica_0</td>\n",
       "      <td>0.0000</td>\n",
       "    </tr>\n",
       "    <tr>\n",
       "      <th>12</th>\n",
       "      <td>TerminoContrato_2</td>\n",
       "      <td>0.0000</td>\n",
       "    </tr>\n",
       "    <tr>\n",
       "      <th>11</th>\n",
       "      <td>TerminoContrato_1</td>\n",
       "      <td>0.0000</td>\n",
       "    </tr>\n",
       "    <tr>\n",
       "      <th>10</th>\n",
       "      <td>TerminoContrato_0</td>\n",
       "      <td>0.0000</td>\n",
       "    </tr>\n",
       "    <tr>\n",
       "      <th>9</th>\n",
       "      <td>ServicioInternet_2</td>\n",
       "      <td>0.0000</td>\n",
       "    </tr>\n",
       "    <tr>\n",
       "      <th>8</th>\n",
       "      <td>ServicioInternet_1</td>\n",
       "      <td>0.0000</td>\n",
       "    </tr>\n",
       "    <tr>\n",
       "      <th>7</th>\n",
       "      <td>ServicioInternet_0</td>\n",
       "      <td>0.0000</td>\n",
       "    </tr>\n",
       "    <tr>\n",
       "      <th>6</th>\n",
       "      <td>AdultoMayor_1</td>\n",
       "      <td>0.0000</td>\n",
       "    </tr>\n",
       "    <tr>\n",
       "      <th>5</th>\n",
       "      <td>AdultoMayor_0</td>\n",
       "      <td>0.0000</td>\n",
       "    </tr>\n",
       "    <tr>\n",
       "      <th>3</th>\n",
       "      <td>%Gap</td>\n",
       "      <td>0.0000</td>\n",
       "    </tr>\n",
       "    <tr>\n",
       "      <th>17</th>\n",
       "      <td>MetodoPago_2</td>\n",
       "      <td>0.0000</td>\n",
       "    </tr>\n",
       "    <tr>\n",
       "      <th>18</th>\n",
       "      <td>MetodoPago_3</td>\n",
       "      <td>0.0000</td>\n",
       "    </tr>\n",
       "    <tr>\n",
       "      <th>2</th>\n",
       "      <td>MontoCargadoTotal</td>\n",
       "      <td>0.0007</td>\n",
       "    </tr>\n",
       "    <tr>\n",
       "      <th>1</th>\n",
       "      <td>MontoCargadoMes</td>\n",
       "      <td>0.0095</td>\n",
       "    </tr>\n",
       "  </tbody>\n",
       "</table>\n",
       "</div>"
      ],
      "text/plain": [
       "                     feature    beta\n",
       "4             MesesRestantes -0.1117\n",
       "0               MesesCliente -0.1014\n",
       "16              MetodoPago_1  0.0000\n",
       "15              MetodoPago_0  0.0000\n",
       "14  FacturacionElectronica_1  0.0000\n",
       "13  FacturacionElectronica_0  0.0000\n",
       "12         TerminoContrato_2  0.0000\n",
       "11         TerminoContrato_1  0.0000\n",
       "10         TerminoContrato_0  0.0000\n",
       "9         ServicioInternet_2  0.0000\n",
       "8         ServicioInternet_1  0.0000\n",
       "7         ServicioInternet_0  0.0000\n",
       "6              AdultoMayor_1  0.0000\n",
       "5              AdultoMayor_0  0.0000\n",
       "3                       %Gap  0.0000\n",
       "17              MetodoPago_2  0.0000\n",
       "18              MetodoPago_3  0.0000\n",
       "2          MontoCargadoTotal  0.0007\n",
       "1            MontoCargadoMes  0.0095"
      ]
     },
     "execution_count": 640,
     "metadata": {},
     "output_type": "execute_result"
    }
   ],
   "source": [
    "df_weights = pd.DataFrame({'feature':X_train.columns.values, 'beta': np.round(model_rlog.coef_[0],4) })\n",
    "df_weights.sort_values(\"beta\")"
   ]
  },
  {
   "cell_type": "markdown",
   "metadata": {},
   "source": [
    "### 4.2.2 Evaluación del Modelo"
   ]
  },
  {
   "cell_type": "code",
   "execution_count": 641,
   "metadata": {},
   "outputs": [],
   "source": [
    "# Generar las predicciones:\n",
    "y_pred_train = model.predict(X_train)\n",
    "y_pred_test = model.predict(X_test)\n",
    "\n",
    "# Generar las probabilidades\n",
    "y_pred_proba_train = model.predict_proba(X_train)[:,1]\n",
    "y_pred_proba_test = model.predict_proba(X_test)[:,1]"
   ]
  },
  {
   "cell_type": "code",
   "execution_count": 642,
   "metadata": {},
   "outputs": [
    {
     "name": "stdout",
     "output_type": "stream",
     "text": [
      "Accuracy - Train: 0.7930065563534187\n",
      "Accuracy - Test : 0.7809315866084425\n"
     ]
    }
   ],
   "source": [
    "accuracy_train = mt.accuracy_score(y_train, y_pred_train)\n",
    "accuracy_test = mt.accuracy_score(y_test, y_pred_test)\n",
    "\n",
    "print(\"Accuracy - Train: {}\".format(accuracy_train))\n",
    "print(\"Accuracy - Test : {}\".format(accuracy_test))"
   ]
  },
  {
   "cell_type": "markdown",
   "metadata": {},
   "source": [
    "El punto de corte por defecto es de 0.50 para decidir si la predicción final será 1 ó 0. A continuación trataremos de encontrar ese punto de corte que optimice la métrica de evaluación del problema.."
   ]
  },
  {
   "cell_type": "markdown",
   "metadata": {},
   "source": [
    "### ****Find best threshold:****"
=======
    "features_to_model.remove(TARGET) # Eliminar variable Target\n",
    "features_to_model.remove(ID) # Eliminar variable ID\n",
    "\n",
    "list(features_to_model)"
>>>>>>> parent of cc539bd... Nuevo modelo de RF con GSearchCV
   ]
  },
  {
   "cell_type": "code",
<<<<<<< HEAD
   "execution_count": 643,
   "metadata": {},
   "outputs": [],
   "source": [
    "list_accuracy_test = []\n",
    "for threshold in range(0,100):\n",
    "  pred_0_1 = [1 if x >= threshold/100 else 0 for x in y_pred_proba_test]\n",
    "  list_accuracy_test.append(mt.accuracy_score(y_test, pred_0_1))"
   ]
  },
  {
   "cell_type": "code",
   "execution_count": 644,
   "metadata": {},
   "outputs": [
    {
     "data": {
      "text/plain": [
       "[<matplotlib.lines.Line2D at 0x18039f6e780>]"
      ]
     },
     "execution_count": 644,
     "metadata": {},
     "output_type": "execute_result"
    },
    {
     "data": {
      "image/png": "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\n",
      "text/plain": [
       "<Figure size 432x288 with 1 Axes>"
      ]
     },
     "metadata": {
      "needs_background": "light"
     },
     "output_type": "display_data"
    }
   ],
   "source": [
    "xs = [x/100 for x in range(0,100)]\n",
    "ys = list_accuracy_test\n",
    "plt.plot(xs, ys)"
   ]
  },
  {
   "cell_type": "code",
   "execution_count": 645,
   "metadata": {},
   "outputs": [
    {
     "name": "stdout",
     "output_type": "stream",
     "text": [
      "El mejor threshold es: 0.55\n"
     ]
    }
   ],
   "source": [
    "best_scoring = max(list_accuracy_test)\n",
    "best_threshold = list_accuracy_test.index(best_scoring)/100\n",
    "print(\"El mejor threshold es: {}\".format(best_threshold))"
   ]
  },
  {
   "cell_type": "code",
   "execution_count": 646,
   "metadata": {},
   "outputs": [
    {
     "name": "stdout",
     "output_type": "stream",
     "text": [
      "Accuracy - Train: 0.7945675928816734\n",
      "Accuracy - Test : 0.7874818049490538\n"
     ]
    }
   ],
   "source": [
    "accuracy_train = mt.accuracy_score(y_train, [1 if x >= best_threshold else 0 for x in y_pred_proba_train])\n",
    "accuracy_test = mt.accuracy_score(y_test, [1 if x >= best_threshold else 0 for x in y_pred_proba_test])\n",
    "\n",
    "print(\"Accuracy - Train: {}\".format(accuracy_train))\n",
    "print(\"Accuracy - Test : {}\".format(accuracy_test))"
   ]
  },
  {
   "cell_type": "markdown",
   "metadata": {
    "colab_type": "text",
    "id": "-1DC3WCrtSge"
   },
   "source": [
    "## 4.2.B. Decision Tree"
   ]
  },
  {
   "cell_type": "markdown",
   "metadata": {
    "colab_type": "text",
    "id": "Sn1ZmXjrtSge"
   },
   "source": [
    "### 4.2.1 Training"
   ]
  },
  {
   "cell_type": "code",
   "execution_count": 647,
   "metadata": {
    "colab": {
     "base_uri": "https://localhost:8080/",
     "height": 118
    },
    "colab_type": "code",
    "id": "lFo_Ko-0tSgf",
    "outputId": "17e53db0-7625-4a10-ee87-276a5f4c0c48"
   },
   "outputs": [
    {
     "data": {
      "text/plain": [
       "DecisionTreeClassifier(class_weight=None, criterion='gini', max_depth=None,\n",
       "            max_features=None, max_leaf_nodes=None,\n",
       "            min_impurity_decrease=0.0, min_impurity_split=None,\n",
       "            min_samples_leaf=1, min_samples_split=2,\n",
       "            min_weight_fraction_leaf=0.0, presort=False, random_state=None,\n",
       "            splitter='best')"
      ]
     },
     "execution_count": 647,
     "metadata": {},
     "output_type": "execute_result"
    }
   ],
   "source": [
    "from sklearn.tree import DecisionTreeClassifier\n",
    "DecisionTreeClassifier()"
   ]
  },
  {
   "cell_type": "code",
   "execution_count": 648,
   "metadata": {
    "colab": {},
    "colab_type": "code",
    "id": "z2DjunbNtSgi"
   },
   "outputs": [],
   "source": [
    "# Create  model objet \n",
    "model_tree = DecisionTreeClassifier(max_depth=6, min_samples_leaf=5,random_state=0)\n",
    "\n",
    "# Fit the model:\n",
    "model_tree.fit(X_train, y_train)\n",
    "\n",
    "model = model_tree"
   ]
  },
  {
   "cell_type": "markdown",
   "metadata": {
    "colab_type": "text",
    "id": "1dSIZjwStSgn"
   },
   "source": [
    "### 4.2.2 Evaluación del Modelo"
   ]
  },
  {
   "cell_type": "code",
   "execution_count": 649,
   "metadata": {
    "colab": {},
    "colab_type": "code",
    "id": "Po5_fRk-tSgk"
   },
   "outputs": [],
   "source": [
    "# Generar las predicciones:\n",
    "y_pred_train = model.predict(X_train)\n",
    "y_pred_test = model.predict(X_test)\n",
    "\n",
    "# Generar las probabilidades\n",
    "y_pred_proba_train = model.predict_proba(X_train)[:,1]\n",
    "y_pred_proba_test = model.predict_proba(X_test)[:,1]"
   ]
  },
  {
   "cell_type": "code",
   "execution_count": 650,
   "metadata": {
    "colab": {
     "base_uri": "https://localhost:8080/",
     "height": 50
    },
    "colab_type": "code",
    "id": "9XkSSTS74xDt",
    "outputId": "e0154ea4-4aa5-4ef5-8265-cef2351c1b10"
   },
   "outputs": [
    {
     "name": "stdout",
     "output_type": "stream",
     "text": [
      "Accuracy - Train: 0.8148610677489854\n",
      "Accuracy - Test : 0.7714701601164483\n"
     ]
    }
   ],
   "source": [
    "accuracy_train = mt.accuracy_score(y_train, y_pred_train)\n",
    "accuracy_test = mt.accuracy_score(y_test, y_pred_test)\n",
    "\n",
    "print(\"Accuracy - Train: {}\".format(accuracy_train))\n",
    "print(\"Accuracy - Test : {}\".format(accuracy_test))"
   ]
  },
  {
   "cell_type": "markdown",
   "metadata": {
    "colab_type": "text",
    "id": "Uki5re6889CC"
   },
   "source": [
    "El punto de corte por defecto es de 0.50 para decidir si la predicción final será 1 ó 0. A continuación trataremos de encontrar ese punto de corte que optimice la métrica de evaluación del problema.."
   ]
  },
  {
   "cell_type": "markdown",
   "metadata": {
    "colab_type": "text",
    "id": "g4r8lID8tSgt"
   },
   "source": [
    "### ****Find best threshold:****"
   ]
  },
  {
   "cell_type": "code",
   "execution_count": 651,
   "metadata": {
    "colab": {},
    "colab_type": "code",
    "id": "t3DQ-OxZ5d-s"
   },
   "outputs": [],
   "source": [
    "list_accuracy_test = []\n",
    "for threshold in range(0,100):\n",
    "  pred_0_1 = [1 if x >= threshold/100 else 0 for x in y_pred_proba_test]\n",
    "  list_accuracy_test.append(mt.accuracy_score(y_test, pred_0_1))"
   ]
  },
  {
   "cell_type": "code",
   "execution_count": 652,
   "metadata": {
    "colab": {
     "base_uri": "https://localhost:8080/",
     "height": 286
    },
    "colab_type": "code",
    "id": "VnM7wmrt8LPs",
    "outputId": "3ad82548-9d55-4afa-fb9b-d38d36f04c06"
   },
=======
   "execution_count": 272,
   "metadata": {},
>>>>>>> parent of cc539bd... Nuevo modelo de RF con GSearchCV
   "outputs": [
    {
     "data": {
      "text/plain": [
<<<<<<< HEAD
       "[<matplotlib.lines.Line2D at 0x18039fc4898>]"
      ]
     },
     "execution_count": 652,
=======
       "47"
      ]
     },
     "execution_count": 272,
>>>>>>> parent of cc539bd... Nuevo modelo de RF con GSearchCV
     "metadata": {},
     "output_type": "execute_result"
    }
   ],
   "source": [
    "len(features_to_model)"
   ]
  },
  {
   "cell_type": "code",
   "execution_count": 273,
   "metadata": {},
   "outputs": [
    {
<<<<<<< HEAD
     "data": {
      "image/png": "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\n",
      "text/plain": [
       "<Figure size 432x288 with 1 Axes>"
      ]
     },
     "metadata": {
      "needs_background": "light"
     },
     "output_type": "display_data"
=======
     "name": "stdout",
     "output_type": "stream",
     "text": [
      "train:  (4577, 47) , summit:  (2466, 47)\n"
     ]
>>>>>>> parent of cc539bd... Nuevo modelo de RF con GSearchCV
    }
   ],
   "source": [
    "# Features & Target\n",
    "X = ds_train[features_to_model]\n",
    "y = ds_train[TARGET]\n",
    "\n",
    "X_summit = ds_test[features_to_model]\n",
    "\n",
    "print(\"train: \", X.shape,\", summit: \", X_summit.shape)"
   ]
  },
  {
   "cell_type": "markdown",
   "metadata": {},
   "source": [
    "# 4) Modeling & Evaluation - Simple"
   ]
  },
  {
   "cell_type": "markdown",
   "metadata": {},
   "source": [
    "## 4.1) Train & Test Split"
   ]
  },
  {
   "cell_type": "code",
<<<<<<< HEAD
   "execution_count": 653,
   "metadata": {
    "colab": {
     "base_uri": "https://localhost:8080/",
     "height": 34
    },
    "colab_type": "code",
    "id": "qee7k_K-5d4a",
    "outputId": "2094a998-de25-4784-891b-73d08ed21a60"
   },
=======
   "execution_count": 274,
   "metadata": {},
>>>>>>> parent of cc539bd... Nuevo modelo de RF con GSearchCV
   "outputs": [
    {
     "name": "stdout",
     "output_type": "stream",
     "text": [
<<<<<<< HEAD
      "El mejor threshold es: 0.7\n"
=======
      "(3203, 3203) (1374, 1374)\n"
>>>>>>> parent of cc539bd... Nuevo modelo de RF con GSearchCV
     ]
    }
   ],
   "source": [
    "from sklearn import model_selection\n",
    "X_train, X_test, y_train, y_test = model_selection.train_test_split(X, y, train_size = 0.70, random_state=9)\n",
    "print((len(X_train), len(y_train)), (len(X_test), len(y_test)))"
   ]
  },
  {
   "cell_type": "code",
<<<<<<< HEAD
   "execution_count": 654,
=======
   "execution_count": 275,
>>>>>>> parent of cc539bd... Nuevo modelo de RF con GSearchCV
   "metadata": {
    "collapsed": true
   },
   "outputs": [
    {
     "name": "stdout",
     "output_type": "stream",
     "text": [
<<<<<<< HEAD
      "Accuracy - Train: 0.8014361536059944\n",
      "Accuracy - Test : 0.7809315866084425\n"
=======
      "<class 'pandas.core.frame.DataFrame'>\n",
      "Int64Index: 3203 entries, 2927 to 382\n",
      "Data columns (total 47 columns):\n",
      "MesesCliente                      3203 non-null float64\n",
      "MontoCargadoMes                   3203 non-null float64\n",
      "MontoCargadoTotal                 3203 non-null float64\n",
      "flg_bySexo_mayorMedianMontoMes    3203 non-null int64\n",
      "SeguridadOnline_0                 3203 non-null uint8\n",
      "SeguridadOnline_1                 3203 non-null uint8\n",
      "SeguridadOnline_2                 3203 non-null uint8\n",
      "RespaldoOnline_0                  3203 non-null uint8\n",
      "RespaldoOnline_1                  3203 non-null uint8\n",
      "RespaldoOnline_2                  3203 non-null uint8\n",
      "TransmisionTV_0                   3203 non-null uint8\n",
      "TransmisionTV_1                   3203 non-null uint8\n",
      "TransmisionTV_2                   3203 non-null uint8\n",
      "TransmisionPeliculas_0            3203 non-null uint8\n",
      "TransmisionPeliculas_1            3203 non-null uint8\n",
      "TransmisionPeliculas_2            3203 non-null uint8\n",
      "ProteccionDispositivo_0           3203 non-null uint8\n",
      "ProteccionDispositivo_1           3203 non-null uint8\n",
      "ProteccionDispositivo_2           3203 non-null uint8\n",
      "SoporteTecnico_0                  3203 non-null uint8\n",
      "SoporteTecnico_1                  3203 non-null uint8\n",
      "SoporteTecnico_2                  3203 non-null uint8\n",
      "AdultoMayor_0                     3203 non-null uint8\n",
      "AdultoMayor_1                     3203 non-null uint8\n",
      "Socio_0                           3203 non-null uint8\n",
      "Socio_1                           3203 non-null uint8\n",
      "Dependientes_0                    3203 non-null uint8\n",
      "Dependientes_1                    3203 non-null uint8\n",
      "ServicioInternet_0                3203 non-null uint8\n",
      "ServicioInternet_1                3203 non-null uint8\n",
      "ServicioInternet_2                3203 non-null uint8\n",
      "TerminoContrato_0                 3203 non-null uint8\n",
      "TerminoContrato_1                 3203 non-null uint8\n",
      "TerminoContrato_2                 3203 non-null uint8\n",
      "FacturacionElectronica_0          3203 non-null uint8\n",
      "FacturacionElectronica_1          3203 non-null uint8\n",
      "LineasMultiples_0                 3203 non-null uint8\n",
      "LineasMultiples_1                 3203 non-null uint8\n",
      "LineasMultiples_2                 3203 non-null uint8\n",
      "MetodoPago_0                      3203 non-null uint8\n",
      "MetodoPago_1                      3203 non-null uint8\n",
      "MetodoPago_2                      3203 non-null uint8\n",
      "MetodoPago_3                      3203 non-null uint8\n",
      "Sexo_0                            3203 non-null uint8\n",
      "Sexo_1                            3203 non-null uint8\n",
      "ServicioTelefonico_0              3203 non-null uint8\n",
      "ServicioTelefonico_1              3203 non-null uint8\n",
      "dtypes: float64(3), int64(1), uint8(43)\n",
      "memory usage: 259.6 KB\n"
>>>>>>> parent of cc539bd... Nuevo modelo de RF con GSearchCV
     ]
    }
   ],
   "source": [
    "X_train.info()"
   ]
  },
  {
   "cell_type": "markdown",
   "metadata": {},
   "source": [
    "## 4.2.A. LogisticRegression"
   ]
  },
  {
   "cell_type": "markdown",
   "metadata": {},
   "source": [
    "### 4.2.1 Training"
   ]
  },
  {
   "cell_type": "code",
<<<<<<< HEAD
   "execution_count": 655,
   "metadata": {
    "colab": {
     "base_uri": "https://localhost:8080/",
     "height": 462
    },
    "colab_type": "code",
    "id": "5sgMvCrl9onj",
    "outputId": "bcc6e639-249c-4a35-85c5-7cdaf492bc95"
   },
=======
   "execution_count": 276,
   "metadata": {},
   "outputs": [],
   "source": [
    "from sklearn.linear_model import LogisticRegression\n",
    "\n",
    "# Create  model objet \n",
    "model_rlog = LogisticRegression(C=0.01, max_iter= 100, random_state=0, n_jobs = 4, penalty = 'l1')\n",
    "\n",
    "# Fit the model:\n",
    "model_rlog.fit(X_train, y_train)\n",
    "\n",
    "model = model_rlog "
   ]
  },
  {
   "cell_type": "code",
   "execution_count": 281,
   "metadata": {},
>>>>>>> parent of cc539bd... Nuevo modelo de RF con GSearchCV
   "outputs": [
    {
     "data": {
      "text/html": [
       "<div>\n",
       "<style scoped>\n",
       "    .dataframe tbody tr th:only-of-type {\n",
       "        vertical-align: middle;\n",
       "    }\n",
       "\n",
       "    .dataframe tbody tr th {\n",
       "        vertical-align: top;\n",
       "    }\n",
       "\n",
       "    .dataframe thead th {\n",
       "        text-align: right;\n",
       "    }\n",
       "</style>\n",
       "<table border=\"1\" class=\"dataframe\">\n",
       "  <thead>\n",
       "    <tr style=\"text-align: right;\">\n",
       "      <th></th>\n",
       "      <th>feature</th>\n",
       "      <th>beta</th>\n",
       "    </tr>\n",
       "  </thead>\n",
       "  <tbody>\n",
       "    <tr>\n",
       "      <th>34</th>\n",
       "      <td>FacturacionElectronica_0</td>\n",
       "      <td>-0.1575</td>\n",
       "    </tr>\n",
       "    <tr>\n",
       "      <th>37</th>\n",
       "      <td>LineasMultiples_1</td>\n",
       "      <td>-0.1249</td>\n",
       "    </tr>\n",
       "    <tr>\n",
       "      <th>0</th>\n",
       "      <td>MesesCliente</td>\n",
       "      <td>-0.0837</td>\n",
       "    </tr>\n",
       "    <tr>\n",
       "      <th>22</th>\n",
       "      <td>AdultoMayor_0</td>\n",
       "      <td>-0.0258</td>\n",
       "    </tr>\n",
       "    <tr>\n",
       "      <th>24</th>\n",
       "      <td>Socio_0</td>\n",
       "      <td>0.0000</td>\n",
       "    </tr>\n",
       "    <tr>\n",
       "      <th>25</th>\n",
       "      <td>Socio_1</td>\n",
       "      <td>0.0000</td>\n",
       "    </tr>\n",
       "    <tr>\n",
       "      <th>26</th>\n",
       "      <td>Dependientes_0</td>\n",
       "      <td>0.0000</td>\n",
       "    </tr>\n",
       "    <tr>\n",
       "      <th>27</th>\n",
       "      <td>Dependientes_1</td>\n",
       "      <td>0.0000</td>\n",
       "    </tr>\n",
       "    <tr>\n",
       "      <th>28</th>\n",
       "      <td>ServicioInternet_0</td>\n",
       "      <td>0.0000</td>\n",
       "    </tr>\n",
       "    <tr>\n",
       "      <th>30</th>\n",
       "      <td>ServicioInternet_2</td>\n",
       "      <td>0.0000</td>\n",
       "    </tr>\n",
       "    <tr>\n",
       "      <th>31</th>\n",
       "      <td>TerminoContrato_0</td>\n",
<<<<<<< HEAD
       "      <td>0.429224</td>\n",
       "    </tr>\n",
       "    <tr>\n",
       "      <th>1</th>\n",
       "      <td>MontoCargadoTotal</td>\n",
       "      <td>0.190467</td>\n",
       "    </tr>\n",
       "    <tr>\n",
       "      <th>2</th>\n",
       "      <td>ServicioInternet_1</td>\n",
       "      <td>0.157006</td>\n",
       "    </tr>\n",
       "    <tr>\n",
       "      <th>3</th>\n",
       "      <td>MontoCargadoMes</td>\n",
       "      <td>0.076527</td>\n",
       "    </tr>\n",
       "    <tr>\n",
       "      <th>4</th>\n",
       "      <td>MesesCliente</td>\n",
       "      <td>0.066227</td>\n",
       "    </tr>\n",
       "    <tr>\n",
       "      <th>5</th>\n",
       "      <td>AdultoMayor_1</td>\n",
       "      <td>0.021898</td>\n",
       "    </tr>\n",
       "    <tr>\n",
       "      <th>6</th>\n",
       "      <td>ServicioInternet_2</td>\n",
       "      <td>0.013451</td>\n",
       "    </tr>\n",
       "    <tr>\n",
       "      <th>7</th>\n",
       "      <td>MetodoPago_0</td>\n",
       "      <td>0.010839</td>\n",
       "    </tr>\n",
       "    <tr>\n",
       "      <th>8</th>\n",
       "      <td>AdultoMayor_0</td>\n",
       "      <td>0.010517</td>\n",
       "    </tr>\n",
       "    <tr>\n",
       "      <th>9</th>\n",
       "      <td>%Gap</td>\n",
       "      <td>0.006374</td>\n",
       "    </tr>\n",
       "    <tr>\n",
       "      <th>10</th>\n",
       "      <td>TerminoContrato_1</td>\n",
       "      <td>0.005901</td>\n",
       "    </tr>\n",
       "    <tr>\n",
       "      <th>11</th>\n",
       "      <td>MetodoPago_3</td>\n",
       "      <td>0.005813</td>\n",
       "    </tr>\n",
       "    <tr>\n",
       "      <th>12</th>\n",
       "      <td>MesesRestantes</td>\n",
       "      <td>0.004876</td>\n",
       "    </tr>\n",
       "    <tr>\n",
       "      <th>13</th>\n",
       "      <td>FacturacionElectronica_0</td>\n",
       "      <td>0.000884</td>\n",
       "    </tr>\n",
       "    <tr>\n",
       "      <th>14</th>\n",
       "      <td>TerminoContrato_2</td>\n",
       "      <td>0.000000</td>\n",
       "    </tr>\n",
       "    <tr>\n",
       "      <th>15</th>\n",
       "      <td>ServicioInternet_0</td>\n",
       "      <td>0.000000</td>\n",
       "    </tr>\n",
       "    <tr>\n",
       "      <th>16</th>\n",
       "      <td>MetodoPago_2</td>\n",
       "      <td>0.000000</td>\n",
       "    </tr>\n",
       "    <tr>\n",
       "      <th>17</th>\n",
       "      <td>MetodoPago_1</td>\n",
       "      <td>0.000000</td>\n",
       "    </tr>\n",
       "    <tr>\n",
       "      <th>18</th>\n",
       "      <td>FacturacionElectronica_1</td>\n",
       "      <td>0.000000</td>\n",
       "    </tr>\n",
=======
       "      <td>0.0000</td>\n",
       "    </tr>\n",
       "    <tr>\n",
       "      <th>32</th>\n",
       "      <td>TerminoContrato_1</td>\n",
       "      <td>0.0000</td>\n",
       "    </tr>\n",
       "    <tr>\n",
       "      <th>42</th>\n",
       "      <td>MetodoPago_3</td>\n",
       "      <td>0.0000</td>\n",
       "    </tr>\n",
       "    <tr>\n",
       "      <th>45</th>\n",
       "      <td>ServicioTelefonico_0</td>\n",
       "      <td>0.0000</td>\n",
       "    </tr>\n",
       "    <tr>\n",
       "      <th>35</th>\n",
       "      <td>FacturacionElectronica_1</td>\n",
       "      <td>0.0000</td>\n",
       "    </tr>\n",
       "    <tr>\n",
       "      <th>36</th>\n",
       "      <td>LineasMultiples_0</td>\n",
       "      <td>0.0000</td>\n",
       "    </tr>\n",
       "    <tr>\n",
       "      <th>44</th>\n",
       "      <td>Sexo_1</td>\n",
       "      <td>0.0000</td>\n",
       "    </tr>\n",
       "    <tr>\n",
       "      <th>38</th>\n",
       "      <td>LineasMultiples_2</td>\n",
       "      <td>0.0000</td>\n",
       "    </tr>\n",
       "    <tr>\n",
       "      <th>39</th>\n",
       "      <td>MetodoPago_0</td>\n",
       "      <td>0.0000</td>\n",
       "    </tr>\n",
       "    <tr>\n",
       "      <th>40</th>\n",
       "      <td>MetodoPago_1</td>\n",
       "      <td>0.0000</td>\n",
       "    </tr>\n",
       "    <tr>\n",
       "      <th>41</th>\n",
       "      <td>MetodoPago_2</td>\n",
       "      <td>0.0000</td>\n",
       "    </tr>\n",
       "    <tr>\n",
       "      <th>43</th>\n",
       "      <td>Sexo_0</td>\n",
       "      <td>0.0000</td>\n",
       "    </tr>\n",
       "    <tr>\n",
       "      <th>33</th>\n",
       "      <td>TerminoContrato_2</td>\n",
       "      <td>0.0000</td>\n",
       "    </tr>\n",
       "    <tr>\n",
       "      <th>23</th>\n",
       "      <td>AdultoMayor_1</td>\n",
       "      <td>0.0000</td>\n",
       "    </tr>\n",
       "    <tr>\n",
       "      <th>20</th>\n",
       "      <td>SoporteTecnico_1</td>\n",
       "      <td>0.0000</td>\n",
       "    </tr>\n",
       "    <tr>\n",
       "      <th>3</th>\n",
       "      <td>flg_bySexo_mayorMedianMontoMes</td>\n",
       "      <td>0.0000</td>\n",
       "    </tr>\n",
       "    <tr>\n",
       "      <th>4</th>\n",
       "      <td>SeguridadOnline_0</td>\n",
       "      <td>0.0000</td>\n",
       "    </tr>\n",
       "    <tr>\n",
       "      <th>5</th>\n",
       "      <td>SeguridadOnline_1</td>\n",
       "      <td>0.0000</td>\n",
       "    </tr>\n",
       "    <tr>\n",
       "      <th>6</th>\n",
       "      <td>SeguridadOnline_2</td>\n",
       "      <td>0.0000</td>\n",
       "    </tr>\n",
       "    <tr>\n",
       "      <th>7</th>\n",
       "      <td>RespaldoOnline_0</td>\n",
       "      <td>0.0000</td>\n",
       "    </tr>\n",
       "    <tr>\n",
       "      <th>8</th>\n",
       "      <td>RespaldoOnline_1</td>\n",
       "      <td>0.0000</td>\n",
       "    </tr>\n",
       "    <tr>\n",
       "      <th>9</th>\n",
       "      <td>RespaldoOnline_2</td>\n",
       "      <td>0.0000</td>\n",
       "    </tr>\n",
       "    <tr>\n",
       "      <th>21</th>\n",
       "      <td>SoporteTecnico_2</td>\n",
       "      <td>0.0000</td>\n",
       "    </tr>\n",
       "    <tr>\n",
       "      <th>11</th>\n",
       "      <td>TransmisionTV_1</td>\n",
       "      <td>0.0000</td>\n",
       "    </tr>\n",
       "    <tr>\n",
       "      <th>10</th>\n",
       "      <td>TransmisionTV_0</td>\n",
       "      <td>0.0000</td>\n",
       "    </tr>\n",
       "    <tr>\n",
       "      <th>13</th>\n",
       "      <td>TransmisionPeliculas_0</td>\n",
       "      <td>0.0000</td>\n",
       "    </tr>\n",
       "    <tr>\n",
       "      <th>14</th>\n",
       "      <td>TransmisionPeliculas_1</td>\n",
       "      <td>0.0000</td>\n",
       "    </tr>\n",
       "    <tr>\n",
       "      <th>15</th>\n",
       "      <td>TransmisionPeliculas_2</td>\n",
       "      <td>0.0000</td>\n",
       "    </tr>\n",
       "    <tr>\n",
       "      <th>16</th>\n",
       "      <td>ProteccionDispositivo_0</td>\n",
       "      <td>0.0000</td>\n",
       "    </tr>\n",
       "    <tr>\n",
       "      <th>17</th>\n",
       "      <td>ProteccionDispositivo_1</td>\n",
       "      <td>0.0000</td>\n",
       "    </tr>\n",
       "    <tr>\n",
       "      <th>18</th>\n",
       "      <td>ProteccionDispositivo_2</td>\n",
       "      <td>0.0000</td>\n",
       "    </tr>\n",
       "    <tr>\n",
       "      <th>19</th>\n",
       "      <td>SoporteTecnico_0</td>\n",
       "      <td>0.0000</td>\n",
       "    </tr>\n",
       "    <tr>\n",
       "      <th>12</th>\n",
       "      <td>TransmisionTV_2</td>\n",
       "      <td>0.0000</td>\n",
       "    </tr>\n",
       "    <tr>\n",
       "      <th>46</th>\n",
       "      <td>ServicioTelefonico_1</td>\n",
       "      <td>0.0000</td>\n",
       "    </tr>\n",
       "    <tr>\n",
       "      <th>2</th>\n",
       "      <td>MontoCargadoTotal</td>\n",
       "      <td>0.0005</td>\n",
       "    </tr>\n",
       "    <tr>\n",
       "      <th>1</th>\n",
       "      <td>MontoCargadoMes</td>\n",
       "      <td>0.0074</td>\n",
       "    </tr>\n",
       "    <tr>\n",
       "      <th>29</th>\n",
       "      <td>ServicioInternet_1</td>\n",
       "      <td>0.0675</td>\n",
       "    </tr>\n",
>>>>>>> parent of cc539bd... Nuevo modelo de RF con GSearchCV
       "  </tbody>\n",
       "</table>\n",
       "</div>"
      ],
      "text/plain": [
<<<<<<< HEAD
       "                     feature  importance\n",
       "0          TerminoContrato_0    0.429224\n",
       "1          MontoCargadoTotal    0.190467\n",
       "2         ServicioInternet_1    0.157006\n",
       "3            MontoCargadoMes    0.076527\n",
       "4               MesesCliente    0.066227\n",
       "5              AdultoMayor_1    0.021898\n",
       "6         ServicioInternet_2    0.013451\n",
       "7               MetodoPago_0    0.010839\n",
       "8              AdultoMayor_0    0.010517\n",
       "9                       %Gap    0.006374\n",
       "10         TerminoContrato_1    0.005901\n",
       "11              MetodoPago_3    0.005813\n",
       "12            MesesRestantes    0.004876\n",
       "13  FacturacionElectronica_0    0.000884\n",
       "14         TerminoContrato_2    0.000000\n",
       "15        ServicioInternet_0    0.000000\n",
       "16              MetodoPago_2    0.000000\n",
       "17              MetodoPago_1    0.000000\n",
       "18  FacturacionElectronica_1    0.000000"
      ]
     },
     "execution_count": 655,
=======
       "                           feature    beta\n",
       "34        FacturacionElectronica_0 -0.1575\n",
       "37               LineasMultiples_1 -0.1249\n",
       "0                     MesesCliente -0.0837\n",
       "22                   AdultoMayor_0 -0.0258\n",
       "24                         Socio_0  0.0000\n",
       "25                         Socio_1  0.0000\n",
       "26                  Dependientes_0  0.0000\n",
       "27                  Dependientes_1  0.0000\n",
       "28              ServicioInternet_0  0.0000\n",
       "30              ServicioInternet_2  0.0000\n",
       "31               TerminoContrato_0  0.0000\n",
       "32               TerminoContrato_1  0.0000\n",
       "42                    MetodoPago_3  0.0000\n",
       "45            ServicioTelefonico_0  0.0000\n",
       "35        FacturacionElectronica_1  0.0000\n",
       "36               LineasMultiples_0  0.0000\n",
       "44                          Sexo_1  0.0000\n",
       "38               LineasMultiples_2  0.0000\n",
       "39                    MetodoPago_0  0.0000\n",
       "40                    MetodoPago_1  0.0000\n",
       "41                    MetodoPago_2  0.0000\n",
       "43                          Sexo_0  0.0000\n",
       "33               TerminoContrato_2  0.0000\n",
       "23                   AdultoMayor_1  0.0000\n",
       "20                SoporteTecnico_1  0.0000\n",
       "3   flg_bySexo_mayorMedianMontoMes  0.0000\n",
       "4                SeguridadOnline_0  0.0000\n",
       "5                SeguridadOnline_1  0.0000\n",
       "6                SeguridadOnline_2  0.0000\n",
       "7                 RespaldoOnline_0  0.0000\n",
       "8                 RespaldoOnline_1  0.0000\n",
       "9                 RespaldoOnline_2  0.0000\n",
       "21                SoporteTecnico_2  0.0000\n",
       "11                 TransmisionTV_1  0.0000\n",
       "10                 TransmisionTV_0  0.0000\n",
       "13          TransmisionPeliculas_0  0.0000\n",
       "14          TransmisionPeliculas_1  0.0000\n",
       "15          TransmisionPeliculas_2  0.0000\n",
       "16         ProteccionDispositivo_0  0.0000\n",
       "17         ProteccionDispositivo_1  0.0000\n",
       "18         ProteccionDispositivo_2  0.0000\n",
       "19                SoporteTecnico_0  0.0000\n",
       "12                 TransmisionTV_2  0.0000\n",
       "46            ServicioTelefonico_1  0.0000\n",
       "2                MontoCargadoTotal  0.0005\n",
       "1                  MontoCargadoMes  0.0074\n",
       "29              ServicioInternet_1  0.0675"
      ]
     },
     "execution_count": 281,
>>>>>>> parent of cc539bd... Nuevo modelo de RF con GSearchCV
     "metadata": {},
     "output_type": "execute_result"
    }
   ],
   "source": [
    "df_weights = pd.DataFrame({'feature':X_train.columns.values, 'beta': np.round(model_rlog.coef_[0],4) })\n",
    "df_weights.sort_values(\"beta\")"
   ]
  },
  {
   "cell_type": "markdown",
   "metadata": {},
   "source": [
    "### 4.2.2 Evaluación del Modelo"
   ]
  },
  {
   "cell_type": "code",
   "execution_count": 283,
   "metadata": {},
   "outputs": [],
   "source": [
    "# Generar las predicciones:\n",
    "y_pred_train = model.predict(X_train)\n",
    "y_pred_test = model.predict(X_test)\n",
    "\n",
    "# Generar las probabilidades\n",
    "y_pred_proba_train = model.predict_proba(X_train)[:,1]\n",
    "y_pred_proba_test = model.predict_proba(X_test)[:,1]"
   ]
  },
  {
   "cell_type": "code",
<<<<<<< HEAD
   "execution_count": 656,
   "metadata": {
    "colab": {
     "base_uri": "https://localhost:8080/",
     "height": 340
    },
    "colab_type": "code",
    "id": "aBWfpWLP98iL",
    "outputId": "e06a6c5a-e483-429d-cd5f-b826e3163bf1"
   },
=======
   "execution_count": 284,
   "metadata": {},
   "outputs": [
    {
     "name": "stdout",
     "output_type": "stream",
     "text": [
      "Accuracy - Train: 0.7895722759912582\n",
      "Accuracy - Test : 0.7736535662299855\n"
     ]
    }
   ],
   "source": [
    "accuracy_train = mt.accuracy_score(y_train, y_pred_train)\n",
    "accuracy_test = mt.accuracy_score(y_test, y_pred_test)\n",
    "\n",
    "print(\"Accuracy - Train: {}\".format(accuracy_train))\n",
    "print(\"Accuracy - Test : {}\".format(accuracy_test))"
   ]
  },
  {
   "cell_type": "markdown",
   "metadata": {},
   "source": [
    "El punto de corte por defecto es de 0.50 para decidir si la predicción final será 1 ó 0. A continuación trataremos de encontrar ese punto de corte que optimice la métrica de evaluación del problema.."
   ]
  },
  {
   "cell_type": "markdown",
   "metadata": {},
   "source": [
    "### ****Find best threshold:****"
   ]
  },
  {
   "cell_type": "code",
   "execution_count": 285,
   "metadata": {},
   "outputs": [],
   "source": [
    "list_accuracy_test = []\n",
    "for threshold in range(0,100):\n",
    "  pred_0_1 = [1 if x >= threshold/100 else 0 for x in y_pred_proba_test]\n",
    "  list_accuracy_test.append(mt.accuracy_score(y_test, pred_0_1))"
   ]
  },
  {
   "cell_type": "code",
   "execution_count": 286,
   "metadata": {},
>>>>>>> parent of cc539bd... Nuevo modelo de RF con GSearchCV
   "outputs": [
    {
     "data": {
      "text/plain": [
<<<<<<< HEAD
       "<matplotlib.axes._subplots.AxesSubplot at 0x18039fe02e8>"
      ]
     },
     "execution_count": 656,
=======
       "[<matplotlib.lines.Line2D at 0x1d32b7b1400>]"
      ]
     },
     "execution_count": 286,
>>>>>>> parent of cc539bd... Nuevo modelo de RF con GSearchCV
     "metadata": {},
     "output_type": "execute_result"
    },
    {
     "data": {
<<<<<<< HEAD
      "image/png": "iVBORw0KGgoAAAANSUhEUgAAAbsAAAEyCAYAAABj1n4OAAAABHNCSVQICAgIfAhkiAAAAAlwSFlzAAALEgAACxIB0t1+/AAAADl0RVh0U29mdHdhcmUAbWF0cGxvdGxpYiB2ZXJzaW9uIDIuMi4zLCBodHRwOi8vbWF0cGxvdGxpYi5vcmcvIxREBQAAIABJREFUeJzs3Xe4VNXZ/vHvDaiAKNhirMFuFBGlKCqKsbwxNowarK/GFhMjxkSNvxAVu4m+9l5BE4Vgi9Eo2EAsgIBUe8EEsReUYoPn98d6BjbDzJw5wzlnDuc8n+viYmaXtdee5GK5dnlumRkhhBBCU9ai2h0IIYQQ6lsMdiGEEJq8GOxCCCE0eTHYhRBCaPJisAshhNDkxWAXQgihyYvBLoQQQpMXg10IIYQmLwa7EEIITV6rancgNA+rr766dezYsdrdCCE0MePHj//EzNaoabsY7EKD6NixI+PGjat2N0IITYykd8vZLi5jhhBCaPJisAshhNDkxWXM0CBmzpzJgAEDqt2NEEIjVp//RjSpmZ2k1SRN9D8fSHov8335OjzOepKGLMX+K0u6RdJbkqZJGiGpe4VtHSPphxXs93NJm1d4zNUkPSnpDUnDJLWvpJ0QQmgoTWqwM7NPzayLmXUBbgSuyH03s29r2l9SyzKP818z67sUXb0d+ADY2My2BI4DVq+wrWOAgoOdpFIz958DFQ12QH/gUTPbBBgFnFFhOyGE0CCa1GBXiqSjJI31Wd71klpIaiXpC0kXSBoL9JA0Q9KFkkZLelHStpKG+yzseG9rY0kT/fNxku71Gc4bki7OHPMISVMkTZV0kS/bDOgCnGOenGtmb5rZo77+DN9+qqSTM8ebKuk2nwk+Kqm1pL7e1pDc7NX7f5ak54ADJJ3o5zFJ0lBJbST1An4GXOH7dfTzHCNpsqT7apit7Q8M8s+DgD5FfvMTJI2TNG7u3LmV/Q8XQgh1oFkMdpI6AQcAO/isrxVwiK9uD0wwsx5m9oIvm25m2wOjgdty+wLnFznE1sBBQGfgCElrS1oXuADYFdgG2FHSPsCWwEtmtqBAP3sAhwM9gJ7AbyR19tWbAVf6THAe0MfMhgATgb55s9c5ZrajmQ0FhppZdzPbGngLONrMRgH/Bk71/aYDfwP+YGadgdeAs0r8pKuZ2cf++T1grUIbmdnNZtbNzLq1bdu2RHMhhFC/mssDKrsD3YFxkgDaAP/1dd8CD+Rt/5D/PQVoZWZzgDmSFkhqV6D9J8zsKwBJrwLrA+sAT5nZJ778bmBn0gBaTC/gPjOb6/s8COwEDAfeNLMpvt14oGOJdrL3EztLOg/oAKwEPJy/saTVgNZm9qwvGgTcVaL9fFaLbUMIocE1l8FOwO1mtthsxe9pzctdTsz4xv9ekPmc+17oN8tuM9+3UZG+TAO6SGpRYHZXbJ9ixyhmTubzncBeZjZV0nHA9gW2L3XcQj6VtIbP7tYh3X8MIYRGq7kMdk8A90q6ysw+8ZnMisDMejzmaOBSP9Ys0mXTy8zsNUlTgLMlnWtm5vfxNgWeAW6SdCnQknRvrKYHYb4izdiKWRH4QNJywGHA2/n7+W8yT9IOZvY8cCQwskSbDwFHAZf53/+soY+svfba8epBCKFqmsU9O7/8dy7whKTJpMuCa9bzMWcAZwMjSPfVRpvZI776l8B6wJuSppKeHJ1pZmOBe4AXSYPlDZlLl8XcAdxa4vWKs4GxwOPAy5nl9wB/yj2gQhrgrvDfZwvS/cZiLgL2lvQG6dLspTX0MYQQqkpLXsELoe5169bNojZmCKGuSRpvZt1q2q5ZzOxCCCE0b83lnl2ogKQbWfKBlsvN7M5q9CeEECoVg10oysxOrHYfQgihLsRlzBBCCE1ek5nZSTLgb2Z2pH9vBbwPjDGzfSporwNwmJldX8a2mwJXkl4f+I70MvrJZvZhbY9bKUmzzazQC+9I2opFL4mvT3oVYhbwiZntXmSfDYEeZja4huNuDNzrlWmK+va92cw4c1QNZxGWNete0qvaXQihLE1pZjcH6CSpjX/fg1TKqlIdgN/UtJGk1sAjpNcENjazHwM3ADXGxPv+ZRWfXhpmNiVTIPsh4HT/XnCgcxuyqKRaCCEs05rSYAfwKLC3fz6U9C4ZAJJWlfSgFzoenas5KWmApNuVYnbeltTPd7kE2MjfQ7tUyaVekHmKF2GG9KL2C2b2r9yxzOxpr1jSUdIoSRP8zw5+zN6SnvYSYlN82VmSXpX0uKR7JJ3my4/PFHK+T1JbX76BpBd83cKanSX6WZBSQezLM9sflDn/Xf38+0nayM/lJUnjJW1X+/95QgihOprMZUw3mFSZ5GFSUebbSfUmIb1U/pKZ9ZH0E1IZrdylt81JBZtXAl6TdANwJtApd3lO0oG+/dakOJ4XJT0DdCLVqizkI2APM/ta0iakwTf3PkgPb/8dSd2AA0kFo1sBEzJt3m9mt3gfLgCOBa4BriLNJu+UdFLmmD8v1E8ze79IHw8mvUS+NWk2mjuvM4HfmlkfP3bbzLlsTqqfWXLAk3QCcALAOivX6zv8IYRQUpOa2ZnZZFKB5ENJVf2zdsLvW5nZU8BqWhRj84iZfeNFmz+icHWVnYB7zGy+34sbSSouXcpywC1eHmwoaVDJGWtm72Ta/qeZzfOC0v/KbNfJZ1RTSIkIW/ryHVk0c80Wba5tP3cC7vbtPwCeZdGAnLUCcJtXfBmcdy4FZVMPVm3boabNQwih3jS1mR2ke1KXAb2B1TLLCxU7zpWPKafIcqnCzrsUWXcq8CFp1tQC+DqzLlusuVQh5oGkOJ9Jko4mnVdOofI3tS3qXO72fyAlRRxBGsRn1/I4IYRQNU1qZuduB84rUFPyGdLMCEm9SU8iflminfwCy88AfSW1lLQGqSbkWOBuYAdJuXuFSPqpPwHZHnjf0w2OJBV3LuRZYF+lQNZ2LLrviPfhfS/kfHhm+XMseoAku7xYP4t5BjjEt1+TNGMcV+D8c+dipOLPtR1UQwihaprczM4LMF9VYNUA4A4vdDyX9A92qXY+lfScX7Z7FDiDFKg6iTSjOsMv+6EUynqlpCtJrx5MBk4Brgfuk3Qw8DSLz+ayx3pR0kPe9rukwWaWrz4LGOPLp7BoADoFuFvSKcB9meYeKNbPIu4lVUnJbf97M/tI0hdAS0mTSAG215KSIw4lpUh8U6zBQpZfp108ph5CqJooBN1ISGpnZrP9QZBngBPMbEK1+1VXohB0CKE+lFsIusnN7JZhN0vaAmgNDGpKA10IIVRbDHaNhJkdVu0+hBBCU9UUH1AJIYQQFhODXQghhCYvBrsQQghNXtyzCw3iw7ff5P/61jp8ItShPwx5uNpdCKFqms3MTlJ/SdO8EPTEuihkLOk8SUWTAyR1k3R1DW0cLenaGrbpKKlBHmCR1MefCi21zcH+Wy7wup4hhNCoNYuZnaSewD7Atmb2jaTVgeXL3LeVmX1faJ2ZnV1qXzMbR3pBfGl1JKUr3F3uDpJamtn8Co7VB3gYeLnENlNJBadvqqD9EEJocM1lZrcWqTzYNwBm9omZzZTUVdJIj6wZJmktAKW4n4skjQT6S5ouqYWvayvpv5KWkzQwF4kjqbuk5z2KZ6yklZSifB729QUjhrK8vau9nbfz4nZ6+Yz0VC/tdalSvM9kSb/y/ReLDvIZ4SuSbvGZ2HB53p9H9jzm5z5K0uZKEUT7AZf6sTYq9GOa2Stm9lqd/a8TQgj1rLkMdsOB9SS9Lul6Sbt4rclrgIPMrCuppuaFmX06mNkuZnYuqZRWrtjzvsAwM/sut6Gk5YEhwClmtjWwOzAvrw+5iKHOwJ9IEUOFrEVKItiHNMhBitsZ5YGrV5BifmaZWXdSosHxkjbwbXsA/c0sdylyE+A6M9sS+IIUJQRwMylNvStwGnC9mT3P4uGubxX7Qcsh6QRJ4ySNm/PNt0vTVAghLJVmcRnTy3B1JWXb7UoamC4gZdE9LglSkeZs5tuQvM99SfUtDyHVvMzajFQk+UU/3pcA3m7OTvhAY2ZPScpGDGU96IWjX/bCzIXsCXTOzPzakwa1b1k8OgjgHTOb6J/HAx292PQOwNBMH1cocqyKmdnNpEGV9VbtEHXpQghV0ywGOwC/fzUCGKGUDXcSMM3MehbZJVu0+SHgYkmrAl2Bp/K2FYXjdvK3WaJbBZZlCywXSxYQaVY2bLGFKc0hv9h0fnxRG9KM/otcMG0IITR1zWKwk7QZsMDM3vBFXYBXgD0l9TSzF/yy5qZmNi1/f58ZjiWlKTxc4MGPV4G1JXX3BIOVWPIyZi5i6HxlIobyZn/F5MftDAN+LekpM/tO0qbAe+U05OfzpaR3JB1sZkOVOtHZzCYVOFadWHPDjePR9xBC1TSXe3btgEGSXlaK+NkCOBs4CPiLx9hMJF3aK2YIKbh0SP4KM/uWdJnzGm/rcVJB56wBQDc//iXUEDGUZzLwvT/8cipwK+lpyQlKEUQ3Ufv/cDkcONb7Ow3Y35cPBk6X9FKxB1QkHSBpBilK6BFJwwptF0IIjUVE/IQGERE/IYT6oDIjfprLzC6EEEIz1izu2YXKSLoO2DFv8VVmdkc1+hNCCJWKwS4UZWYnVbsPIYRQF+IyZgghhCYvZnahQXz07ldcd2L+64nLhpNu/Em1uxBCWEpNemYnySTdlfneStLHuXqVFbTXQdJvytx2U0n/lvSm16f8R4mKKPVC0uwa1nf03+j8zLLVJX2nGpIYQghhWdKkBztSNZFOueLHwB7U4uXrAjoANQ52kloDjwA3mNnGZvZj4AZgjXIOIqnlUvSxtt4m1eHMOZj03l0IITQZTX2wA3gU2Ns/Hwrck1tRLIlA0gBJtyulH7wtqZ/vcgmwkScCXKrkUklTJU2R1Ne3Owx4wcz+lTuWmT1tZlN9NjVK0gT/s4Mfc7HEAl92lqRXJT0u6R5Jp/ny45USDyZJuk9SW1++gaQXfF12tlasn5AqvbyiRbl0fYF/ZPZdw4/xov/Z0Zfv4r/DRH8Bvc6rroQQQl1pDoPdYOAQn211BsZk1pVKItgc+B9SisA5Xk7sTOAtTwQ4nZTp1gXIJR1cqhQT1IlUdLmQj4A9zGxb0sCSDXddmFjgg8+BwDZ+nOxLk/ebWXdPWHiFlIIAqZzZDZ6G8EFm+2L9zP+N1iXVz5yZWXcVcIW3eSCpegukpISTvL5mL5Ysj7ZY6sHsr78o8nOEEEL9a/IPqJjZZEkdSbO6f+etLpVE8Ijn330j6SOg0P22nYB7vFbmh0r5d91r6NJywLWSupAGlk0z67KJBTsB/zSzeQCS/pXZrpOkC0iXVduRamVCeicuF+FzF/CXGvo52dc/BpwPfMiS5dB2B7bI1PBc2WdxzwGXS/o7afCdkX+i2dSD9dfYLEr1hBCqpskPdu4h4DKgN7BaZnmpJIL8tIBCv1WxKs7TWJR/l+9U0qCyNWlm/XVmXTaxoFSF6IFAHzObJOlo0nnlFBpUSlabNrNvJY0H/gBsScrsy2kB9MwNuhmXSHoE+BkwWtLuZvZqqeOEEEK1NIfLmJCCWc8zsyl5y3NJBLl4nE9yWXRF5CcCPAP0VUoOXwPYGRgL3A3sICl3rxBJP5W0FSl77n3PrDuSlKNXyLPAvpJaK+XP7Z1ZtxLwvl9aPTyz/DlS3h55y4v1M+v/gD+a2ad5y4cDv82cRxf/eyMzm2JmfwHGkS77hhBCo9QsZnZ+ie2qAqsGAHcoJRHMpYYkAjP7VNJzSkkDjwJnkCr/TyLNqM4wsw8AJO0DXCnpSuA70iXDU0jBr/dJOpgUBpufP5c71ouSHvK23yUNKLN89Vmke4/vkh5myQ3ApwB3SzoFuC/T3AOF+umXd3PHm0bhpzD7Adf5b9SKNHCeCPxO0q6kWe/L/nsU9YMfrRTvq4UQqiZSDxoxSe08S68taZA5wcwmVLtflYjUgxBCfVCZqQfNYma3DLtZ0hakbLxBy+pAF0II1RaDXSNmZodVuw8hhNAUNJcHVEIIITRjMdiFEEJo8mKwCyGE0OTFPbs6IMmAv5nZkf69FfA+MMbM9im5c90c/zTgOOB70qsA/2dmd0oaAZxmZuMk/Rs4zMxqXbdLUh/gdTN7udI+fj11Gq9s/uNKd28QP371lWp3IYRQT2JmVzfqOl2hbJJO9OP1MLNOpBfGl6iYYmY/q2Sgc32ALSrvZQghVFcMdnWnVLrCip6i8KInBOzvy7eUNNaTAyZL2sSXH5FZfpNXPmkpaWAmueBUb/5PwG9ylV/MbJaZDcrvnKTpklYv1r4vny3pQk9TGC1pTaVUhv1IxaMnStrI/zwmabxSgkNUTwkhNGox2NWdUukK/YGnPDlgV9LAsSKpEslVnhzQDZgh6cekNIQdffl8UumvLsA6ZtbJzLYiVX5ZCVjJzN4qt5Ml2gdYERjtaQrPAMeb2fOk2qKne9rDW6TiziebWVdS+sH1RY61MPXgs/nfl9vFEEKoc3HPro7UkK6wJ7Cf31uD9JL4+sALQH+P1rnfzN6QtBvQFXjRkwbakGKB/gVsKOkaUjDscFLiQW1L4BRrH+BbIJfiPp50eXQxXqdzB2BoJglhhUIHyqYedGrdJkr1hBCqJga7ulUqXeFAM3stb/tXJI0hXf4cJuk433aQmf2//MYlbU3K2DsJ+IWZHSNpjqQNzeztMvtYtH3gO1tUP65Y0kML4AufFYYQwjIhLmPWrWLpCsOAk+VTIUnb+N8bAm+b2dWkgbIz8CRwkKQf+DarSvqR329rYWb3kQpBb+ttX0wq1Lyyb7+ypBNK9LFg+zWc18K0B783+I4Xss6loG9dw/4hhFBVMbOrQyXSFc4HrgQm+4A3HdiHdO/sCEnfkZLFzzOzzyT9GRguqQUpMeEkUhL4Hb4MIDczu4F0OfNFb+c7UlxPsT6+XKT9d0uc2mDgFkn9gINI9/hu8HaW8/WTSuxP605b8uMoBB1CqJJIPQgNIlIPQgj1odzUg7iMGUIIocmLwS6EEEKTF4NdCCGEJi8GuxBCCE1eDHYhhBCavHj1IDSIaZ9OY6tBW9VqnylH5b+uGEIIlYmZXZkkHSDJihU99iLNB9XQxtGSrvXPfSTVmCTg7c71Opi5ZVd5X1av7XksLS8U/V9Jsxv62CGEUKkY7Mp3KPAscEgdtVeb2Jw3gVxSQgtSMel6ixDyqijF/r/xL6BHfR07hBDqQwx2ZfDixzsCx+KDnQ8I10p6WdIjwA8y22fjdLophahm2ysUm9PFY3UmS3pA0iqZXe4hVVuBVHfzOVJQa669Bz1uZ1quVJikYyVdkdnmeEmX++ffK0UFTZX0O1/WUdIrkq4HJgDrFfotzGy0mb1fy58whBCqKga78vQBHjOz14HPJG0LHABsBmwFHE9KAihLkdicO4E/mllnYApwTmaXN4A1fAA8lFSeK+sYj9vpBvSTtJpvs5+k5XybX5LKjXX1z9sB2wPH52p1+vncaWbbmFmp8mFlyUb8zP9q/tI2F0IIFYvBrjzZAWawf98ZuMfM5pvZTOCpShuX1B7oYGYjfdEgbz/rftKscjtgVN66fpImAaNJM7JNzGyO92kfv8+4nBeo3gl4wMzmmNlsb7eXt/OumY2u9DzymdnNZtbNzLq1XKllXTUbQgi1Fk9j1sBnST8BOkkyoCUpQ+4BimfJfc+i/5BoXUddGUy6vDjIzBbksuQk9QZ2B3qa2Vy/ZJo75q2kJPNXgTtyp1TiGHPqqK8hhNCoxGBXs4NIl/Z+lVsgaSTwGSmZ/E7S/bpdgbt9k+mkgNRHgQOLtJuNzZkl6XNJvcxsFHAkMDK7sZn9R1J/4Im8dtoDn/tAtznp0mRunzGS1iPFAXX2xc8AAyVdQhr4DvDj1astV9uScUdFIegQQnXEZcyaHUqaxWXdB/yQdC9tCilmJzs4nQtcJWkUKQS1kMHA6ZJekrQRcBTpgZXJQBfgvPwdzOwmv7+X9RjQyvc7n3QpM+sfwHNm9rm3MQEYCIwFxgC3mtlLRfq4BEl/lTQDaCtphqQB5e4bQgjVEhE/TZykh4ErzOzJavYjIn5CCPUhIn6aOUkdJL0OzKv2QBdCCNUW9+yaKDP7Ati00v0ljQFWyFt8pD/RGUIIy5QY7EJBZrZdtfsQQgh1JS5jhhBCaPJiZhcaxsyXYED74usHzGq4voQQmp2Y2YUQQmjyms1gJ6m/F0qe7MWXl/qelKTzJO1eYn03SVfX0MbC2J8S23SUdFil/ayNcqKHJF0q6dVM0eoODdG3EEKoVLMY7CT1BPYBtvVCy7sD/y1z36KXes3sbDPLr2iSXT/OzPrVtr8FdARqNdhJqrQYZTnRQ48Dnfy3fB34fxUeK4QQGkSzGOyAtYBPzOwbADP7xMxmSuoqaaTH4wyTtBaApBGSLvKyYP09sqeFr2vr4aXLKRPYKqm7pOclTZI0VtJKknr7S91IWtWjeCZ7lE/n/E56e1d7O29rURjsJUAvn5GeKqmlz65e9PZ+5fv3lvS0pLuBKZnYnlt8VjtcUhvfdiNJj/m5j5K0uQpEDxX6Mc1suJnlIoZGA+sW2i6bevDx3CheEEKonuYy2A0H1pP0uqTrJe3i0TfXAAd5PM7twIWZfTqY2S5mdi4wCdjFl+8LDDOz73IbSloeGAKcYmZbk2aO8/L6cC7wks+G/kSK9ClkLVIywT6kQQ7gTGCUxwFdQcrVm2Vm3YHupJieDXzbHkB/M8vNzjYBrjOzLYEvWFSr82bgZD/304Dri0QP1eQYUg3QJWRTD9ZoW6r+dAgh1K9m8TSmmc32HLdepILNQ4ALgE7A454g0BLIhpIOyfvcF3iaFLNzfd4hNgPeN7MX/XhfAuSSCdxO+EBjZk9JWs2jffI9aGYLgJclrVnklPYEOmdmfu1Jg9q3wFgzeyez7TtmNtE/jwc6KoXR7gAMzfQx/wXyGnlh6u+Bv9d23xBCaEjNYrADMLP5wAhghKQpwEnANDPrWWSXbNzNQ8DFklYlpRnkZ9eJ4nE/2W2W6FaBZd/UsE9u+clmNmyxhSnuJz+mJ9vefKANaUb/hZl1KdXhUiQdRZp97mZRYDWE0Mg1i8FO0mbAAjN7wxd1AV4B9pTU08xe8Muam5rZtPz9fWY4FrgKeNgHzqxXgbUldTezFyWtxJKXMZ8BDgfO90HpEzP7Mm/2V8zCOCA3DPi1pKfM7DtJmwLvldOQn8+Xkt6RdLCZDVXqRGczm1TgWEuQ9FPgj8AuZja3rIOuvQ0MiELQIYTqaBaDHdAOuMYfkf8eeBM4gXTf6mq/nNgKuBJYYrBzQ4ChQO/8FWb2raS+fow2pIEu/5WEAcAdSlE8c0mRPuWaDHyvlEY+kDTodgQm+ED1Mekpyto4HLhB0p+B5UiRQ5P871sk9SPdzyx03+5a0mXP3CXg0WZ2Yi2PH0IIDSYifkKDiIifEEJ9UET8hBBCCElzuYwZKiDpOmDHvMVXmdkd1ehPCCFUKga7UJSZnVTtPoQQQl2Iy5ghhBCavJjZhQYx5b1ZdDzzkYLrpl+ydwP3JoTQ3MTMrhYkmaS7Mt9bSfo4V/+yxH5dJP2sguNNl7R6DdvM9zqWUyUNldS2tsepoF8rSBoi6U1JYyR1rO9jhhDC0ojBrnbmAJ1yxZSBPSjvZe4uQK0HuzLN8zqWnUjlwhrifbdjgc/NbGPgCuAvDXDMEEKoWAx2tfcokLvudihwT26FpBUl3e5pBC9J2t+LRJ8H9PUZWN9iCQheL3O473sTmXJhkn7vs7epkn5XpG+jgI19+wc90WCapBMy7RzrBbFHeBrCtb78R5Ke9D49KWn9Er/B/sAg/3wvsJsKlILJph7MnxtJ5CGE6onBrvYGA4dIag10BsZk1vUHnvI0gl2BS0nVSc4GhvgMbAjFExDOAZ41s21I9TjXB/Ai1r8EtgO2J6UcbJPtlFLu3l7AFF90jCcadAP6+UC6NnCWt7EHsHmmiWuBO71PfwdKhc6ug+cBetTPLGC1/I2yqQct2xaqeR1CCA0jHlCpJTOb7PeoDgX+nbd6T2A/Saf599b4gJWnWALCzsDPffkjkj7PbP+Amc0BkHQ/KcHhJaCNpFyqwSjgNv/cT9IB/nk9UirCD4GRZvaZtzMU2NS36Zk7NnAX8NcSP0O5Ra1DCKFRiMGuMg8Bl5HqZGZnNAIONLPXshtL2i5v/1KDRaFBo1S16Hn56QVeaHp3oKeZzZU0gjTw1iZUrtTgNYM0gM7wGWV74LNatB1CCA0qBrvK3E4KT53iA0vOMOBkSSebmUnaxsxeYskkgWIJCLnlF0jaC1gls/1ASZeQBqwDgCNL9K896QGSuZI2J122BBgLXCFpFe/TgSy67Pk8KavvLu/DsyXaf4hUyPoF4CDSpduSM7ut1mnPuHjFIIRQJTHYVcDMZpCSB/KdT0pOmOwPbEwnZb49DZzplxsvpngCwrnAPZImACOB//jxJkgaSBqsAG71QbSYx4ATvf3XgNHeznuSLiLdZ5wJvEy63wbQD7hd0umkFIVflmj/NuAuSW+SZnSHlNg2hBCqLlIPmhlJ7TyfrxXwAHC7mT1Q38eN1IMQQn2I1INQzACfYU4F3gEerHJ/Qgih3sVlzGbGzE6reatEUn/g4LzFQ83swrrtVQgh1K8Y7EJRPqjFwBZCWObFZcwQQghNXszsQoMolnoQiQchhIYQM7takHSAJx9sXmT9QEkH1dDG0Zl6lH0kbVHGcQdKmitppcyyq7wvJVMR6oOkrpKmeOrB1YXqYoYQQmMSg13tHEp62bqu3ivrA9Q42Lk3SQWYkdSCVHuznMSFiigp9v+PG4ATSCXINgF+Wl/9CCGEulDjYCdpTUm3SXrUv28h6dj671rjIqkdsCMp3uYQXyZJ10p6WdIjwA8y2y/MopPUzUt2ZdvbAdgPuNTTEDZSyr0b7ckDD3ilk5x7gL7+uTfwHPB9pr0lUg484eCKzDbHS7rcPy+RoiCpo6RXJF0PTCCVBMv/HdYCVjazF7xqyp2kQTuEEBqtcmZ2A0llsNb2768DxSJmmrI+wGNm9jrwmaRtSWW7NgO2Ao4Hdii3MTN7nlR263RPQ3iLNHD80ZMHppBSEHLeANaLkr0KAAAgAElEQVTwAfBQUvpC1hIpB77NfpKW821+SarcUipFYTNS+sE2ZvZuga6vQ6qNmTPDly0hIn5CCI1FOYPd6mb2D2ABLIx0mV+vvWqcsgPMYP++M3CPmc03s5nAU5U27qkHHcxspC8a5O1n3U+aVW5HSjjI6idpEqk02HrAJp6S8BSwj99nXM7MppBJUTCz2d5uL2/nXTMbXaqrBZYVLMMTET8hhMainKcx5/gswQAkbc+ieorNgp//T0gp5Qa0JP0eD1A8HeB7Fv3HROs66spg0uXFQWa2IPdcSImUA4BbSZl5rwJ35E6pxDHm1NCHGcC6me/rkupshhBCo1XOYPd70uW2jSQ9B6xBqnTfnBxEurT3q9wCSSPxIsiS7iTdr9sVuNs3mQ50JSWbH1ik3YVpCGY2S9LnknqZ2ShSqsHI7MZm9h+vavJEXjvFUg4wszGS1gO2JYXNQu1TFLJ9eF/SV/4fPWOA/wWuqWm/SD0IIVRTycHOn8ZrDexCupcj4DUz+64B+taYHApckrfsPuDHpHtpU0j3MrOD07nAbZL+xOJp5lmDgVsk9SMNqEcBN0pqC7xNgeQBM7upQDsFUw4y/gF0MbPPvY2CKQpKobTl+DXpXm4b0mD+aJn7hRBCVdSYeiDpBTPr2UD9CfVA0sPAFWb2ZLX6EKkHIYT6UJepB8MlHRgvDi97JHWQ9DopzbxqA10IIVRbuffsVgS+l/Q16VKmmdnK9dqzsNTM7Atg00r3lzQGWCFv8ZH+RGcIISwzahzszGylmrYJTZOZbVftPoQQQl2ocbCTlP+uFwBm9kzddyeEEEKoe+Vcxjw987k10AMYT3rvLISyTPpqLj98euLC7x/s2qWKvQkhNDc1PqBiZvtm/uwBdAI+rP+uhaUhaQ1Jz3rtyz6Z5f+UtHbm++8lveopBpMkXZ4pLxZCCE1CJakHM0gDXmjcDiWVHOuJz84l7QtM8NJmSDoR2BPY3sy2AroDH5HenwshhCajnHt217CoJFYLoAswqT47FerEd6RBawVggaRWpALe+2a26Q/s7E9tYmbfknl5XtINpAGwDXCvmZ3jy6cDQ0gVYwAOM7M36/VsQghhKZRzzy77JvD3pMLHz9VTf0Ldudv//C/wR+A3pJJncwE8CLadmb1Too3+ZvaZpJbAk5I6m9lkX/elmfWQ9L/AlcA++Tt71NAJAC3WXKuuziuEEGqtnMuYHcxskP/5u5k9J+mUeu9ZWCpmNsvM9vbKAhNIg9F9km6RdC+pVubC8jmS/sdz9aZ71h7ALyRNAF4CtmTxoNl7Mn8XrLCTTT1o0b5D3Z5gCCHUQjmD3VEFlh1dx/0I9ets4ELSfbzxwDHAAFKixQYAZjbMzLoAU4HlfflpwG6er/cIi6c3WJHPIYTQ6BS9jCnpUOAwYANJD2VWrQR8Wt8dC3VD0ibA2mY2UlIXYB5pcGoNXAzcIOkQM/vCS8LlBrSVSXE/syStCewFjMg03Zd0f68v8EJN/dh6pbaMi9cNQghVUuqe3fPA+8DqwP9lln8FTC64R2iMLiQ9iALpkuODwCmk2d79QFtgjKRvgNnAc8BLHjn0EjCNlMCQf592BS8n1oI0YwwhhEarxtSDEPL505jdzOyTcveJ1IMQQn2os9QDSdtLelHSbEnfSpov6cu66WYIIYRQ/8p59eBa4BBgKNCN9Cj7xvXZqdC4mVnHavchhBBqo5zBDjN7U1JLM5sP3CHp+XruVwghhFBnyhns5kpaHpgo6a+kh1ZWrN9uhRBCCHWnnPfsjvTtfkt6FH094MD67FQIIYRQl8oJb31XUhtgLTM7twH6FJqgr76awpNPbQTAbj95q8q9CSE0N+U8jbkvMBF4zL93yXvJvNGQtJqXvJoo6QNJ72W+L1+Hx1lP0pCl2H9lL9v1lqRpkkZI6l5hW8dI+mEF+/1c0uYVHrOvpJclLfAX1UMIoVEr557dAFJg6wgAM5soqWO99WgpmNmnpFQGJA0AZpvZZeXun3kIp6bj/JdUOaRStwOvABubmUnaGNikwraOIdW+/CB/haRWZvZ9kf1+DiwAXq3gmFOAPqTzCCGERq+ce3bfm9mseu9JPZN0lKSxPsu7XlILSa0kfSHpAkljgR6SZki6UNJof79wW0nDfRZ2vLe1saSJ/vk4SfdKGibpDUkXZ455hIeiTpV0kS/bjDQgn2P+Rr+ZvWlmj/r6M3z7qZJOzhxvqqTbfCb4qKTWkvp6W0Nys1fv/1mSngMOkHSin8ckSUMltZHUC/gZcIXv19HPc4ykyZLuk9S+2G9pZi+b2etl/OYnSBonadwXXyyo5H+2EEKoE+UMdlMlHQa0lLSJUr7dMvXqgaROwAHADl7suBXp3UGA9qRA0x5mlqvxON3MtgdGA7fl9gXOL3KIrYGDgM7AEZLWlrQucAEp820bYEdJ+5DSA14ysyX+9ZfUAzicNJPuCfxGUmdfvRlwpZltSapv2cfMhpAuMfc1sy6eRwcwx8x2NLOhwFAz625mWwNvAUeb2Sjg38Cpvt904G/AH7zo82vAWWX9uCVkUw86dKgkJziEEOpG0X+BJN3lH98i/QP9Dam24pekENBlye6kENJxPiPbBdjI130LPJC3fe6e5BRgtJnNMbMPSSGo7Qq0/4SZfWVm80iXBdcHtgOeMrNPzOw7UrbczjX0sxdwn5nNNbOvSHUsd/J1b5rZFP88HuhYop3s/cTOkkZJmkIa4LfM31jSakBrM3vWFw0qo68hhLDMKHXPrqukH5HuTe3K4sWg2wJf12fH6piA281ssdmKUnr3vNzlxIxv/O8Fmc+574V+s+w2830bFenLNKCLpBYFZnfF9il2jGLmZD7fCexlZlMlHQdsX2D7UscNIYRlXqlrSzeSnsDcnJRWnvsznsXTy5cFT5CCSFeHhU9trl/PxxwN7OrHyl02HWlmr5FmjGdLkvdnM3/q9RnSfbY2PoPcHxhVw3G+IsUuFbMi8IGk5UiRTUvs5wWd52lRaOuRwMhanGuNVlppK3b7yVvx2kEIoSqKDnZmdrWZ/Zg0I9ow82cDM9uwAfu41Pzy37nAE5ImA8OBNev5mDNIMTojSPfVRpvZI776l6SX89+UNJX0HxYzzWws6VLxi6TB8obMpcti7gBuLfF6xdnAWOBx4OXM8nuAP+UeUCENcFf477MF6X5jQZIOljSDdGl4mKRHim0bQgiNQUT8hAYRET8hhPqguor4CSGEEJZ1ZaUehOZJ0o0s+UDL5WZ2ZzX6E0IIlYrBLhRlZidWuw8hhFAX4jJmCCGEJi8Gu9AgZs6cyYABAxgwYEC1uxJCaIZisKsFSZapLIPX1vxY0sM17NdF0s8qON703LuBJbaZ768PTPXal21re5wK+nWi1/ycKOlZSVvU9zFDCGFpxGBXO3OATkr5fgB7AO+VsV8XUuHl+jDP61t2IpU+a4j7bHeb2VZeZ/SvwOUNcMwQQqhYDHa19yiwt38+lPRyNgCSVpR0u6cMvCRpf3/R+zygr8+E+kpaVdKDnjAwOlfs2autDPd9byJTxkvS7zNpCMVqk44CNvbtH5Q03lMSTsi0c6yk15Uy9G6RdK0v/5GkJ71PT5aqMGNmX2a+rgjEy5ohhEYtBrvaGwwcIqk1KeVgTGZdf1Lx5+6keqKXAsuRqpgM8RnYEFI1l5c8YeBPpPqVAOcAz5rZNqRi1OsDSOpKqrqyHelVgOMlbZPtlJck24tUigzgGDPrCnQD+vlAujYpzWB70qw0G956LXCn9+nvwNWlfgRJJ0l6izSz61dkm4URP3Pnzi3VXAgh1KsY7GrJzCaTEgcOJcXkZO0JnOnJCiOA1viAlWcn4C5v7ylgNc+P25kUtYOXFvs8s/0Dnr4wG7iflJAA0MaPNw74DymSCNIAN4lUdmw9UjhsD1J9zs88iWFopk89SckMeN92ogQzu87MNgL+CPy5yDYLI37atq33W4khhFBUvGdXmYeAy4DewGqZ5QIO9GLPixZK2+XtXyhlwPL+rmn7nHl+7yx7vN6kWKOeZjZX0gjSwFubdINyL00OBm6oRbshhNDgYmZXmduB8woUaR4GnJxJM8hdasxPJniGFNKaG5g+8ftg2eV7Aatktu8jqa2kFUlhsqXSENoDn/tAtzmLqqCMBXaRtIpf9jwws8/zLAq0PRx4liIkbZL5ujfwRom+ALD22mvHqwchhKqJmV0FPNHgqgKrzgeuBCb7gDcd2Ad4mkWXNy8GBgB3eMLAXOAo3/9c4B5JE0gRO//x402QNJA0WAHcamYvlejiY8CJ3v5rpEuZmNl7ki4i3WecSUpBmOX79ANul3Q68DHpHmExv5W0O/Ad6VLrUSW2DSGEqovUg2ZGUjszm+0zuwdIEU75Se11LlIPQgj1IVIPQjEDfIY5FXgHeLDK/QkhhHoXlzGbGTM7rdxtJfUHDs5bPNTMLqzbXoUQQv2KwS4U5YNaDGwhhGVeXMYMIYTQ5MVgFxrEt+/NZsaZo5hxZqk3JkIIoX7EYJdRaapBHR17oKR3vH7mJEm7VdhOb0k7LEU/Okj6TaX7hxBCYxSD3eIqTTWoK6d7NZTfATdW2EZvoOLBDugAxGAXQmhSYrBbUq1SDXz5lpLG+qxscq7CiKQjMstvktTS/wz09IIpkk4t0IcXgHUyx+0qaaSnGAyTtJYv7yfpZT/mYEkdSRE/p/oxe0naV9IY7+8Tktb0fQf4uYyQ9LakXDHnS4CNfP9LfdvT/ZwnSzo381s84rPQqZL61tHvH0IIdS6exlzSYOBsv3TZmVQaLFd0OZdqcIykDsBYSU+QBpirzOzvSpE+LSX9GOgL7Ghm30m6nlSGaxqwjufP4e3k+yn+/puk5YBrgP3N7GMfVC4EjgHOBDYws28kdTCzLyTdCMw2s8t8/1WA7c3MJB0HnAH8wY+zOSmdYSXgNUk3eJudcvU2Je3JoiLSAh6StDOwBjDTzPb27drnn4RStNAJAOusvGa5v38IIdS5GOzymNlknyEVSzXYT1LuXbVcqsELQH9J6wL3m9kbfs+tK/Cil8psA3wE/AvYUNI1wCPA8Ez7l0r6K/ADFtWz3AzoBDzu7bQE3vd1k4G/S3qQ4i+HrwsM8dng8qQXyXMeMbNvgG8kfQQUGpH29D+58mTtSIPfKOAySX8BHjazJZ48MbObgZsBOq+1eZTqCSFUTQx2hdUq1QB4RdIY0uXPYT6DEjDIzP5ffuOStgb+BzgJ+AVplgZwOim+px8wiDRYCphmZj0L9HNvUizQfsBZkrYssM01wOVm9pAXnR6QWfdN5vN8Cv//QcDFZnZTgfPoSkpgv1jScDM7r8D+IYRQdXHPrrBapRpI2hB428yuJg2UnYEngYMk/cC3WVUpDXx1oIWZ3UcKUt02ewAzW0AqMt1C0v+QCjmvIamnt7Oc3yNsAaxnZk+TLk12IM268hMW2rPoIZtyCjbn7z8MOEZSOz/+OpJ+oBQEO9fM/kb6D4Ntl2xqkeXXace6l/Ri3Ut6ldoshBDqRczsCqgg1aAvcISk74APSAPlZ5L+DAz3gek70kxuHinxIPcfGkvM/Pz+2gXAGWY2TNJBwNV+X6yV9+F14G++TMAVfs/uX8C9/vDMyaSZ3FBJ75HSDzao4dw/lfScpKnAo2Z2ut9/fMHH+NnAEcDGpMuuC/zcfl3yRw0hhCqK1IPQICL1IIRQHxSpByGEEEISg10IIYQmLwa7EEIITV4MdiGEEJq8GOxCCCE0eTHYhRBCaPLqbbCTNN+LCef+dKygjaP95eV6Jek8SbtXuO/RSjFA2XPdQlJHf1et0jbr7LwldZN0dR22t4EXl35D0hCvBxpCCI1Wfc7s5plZl8yf6RW0cTRQq3/0JdX6RXkzO9vMnqjtfhlD8s715aVoC0qct6SWtW3MzMaZWb+atyzbX0gvsW8CfA4cW4dthxBCnWvQy5g+2xklaYL/2SGz7gylyJtJki7xqiHdSIWOJ0pqI2m6l9vKzVZG+OcBkm6WNBy4szbH8WUD/XhI2k0pDmeKUgTOCr58uqRzvb0pkjavxXm3lHSpFsXk/KqC8z5b0rPAwZK6SBrtbT2glGyAUlzPX5RihV6X1MuX95YH0EpqJ+kOP+ZkSQf68hskjZM0TR7jU+RcBPwEuNcXDQL6FNn2BG9z3Mcff1zuzxVCCHWuPsuFtZE00T+/Y2YHkKr+72FmXytlvt0DdJO0F+kfzO3MbK6kVb3c1m+B08xsHICXqyqmK7CTmc2T1Lbc42QbkNQaGAjsZmavS7qTVAbrSt/kEzPbVinJ+zTgOF/eV9JOmabyizYfC8wys+4+eD7nA/PmtTjvr81sJ/8+GTjZzEZKOg84hxT4CtDKzHpI+pkvz788e5b3ZStvaxVf3t+P3RJ4UlJnM5tc4HdeDfjCzL737zPIZO9lZVMPunXrFqV6QghVU5+D3bxcJlrGcsC1krqQquxv6st3B+4ws7kAZvZZBcd7yMzmLeVxNiMNzK/790Gkepa5we5+/3s88PPMfkPM7LfZhvIG5j2BzrnZI6k48yZl9CdriLfbHuhgZiMzfRya2S7bx44F2tkdOCT3xcw+94+/UMqfawWsBWxBihDKV+i/OGIgCyE0ag1dCPpU4ENga9Il1K99uSjvH8zvWXTptXXeujl1cJySU0cWReIUi8Mp1e7JZjZssYXST2voT9acmjcBau7jEr+BpA1IM9XuZva5pIEs+fvmfAJ0kNTKZ3frAjPL7FsIIVRFQ7960B5432NsjiQFkUIKMD3GLz+SubyYHzcznXS5EuDAOjxOzqtAR0kb+/cjgZEsvWHAr5VSx5G0qaQVS/Qn/7wXMrNZwOe5+3EV9HE4sHAW6pcxVyYNprMkrQnsVWxnS5XDnwZys9SjgH/W4vghhNDgGnqwux44StJo0qXFOQBm9hgpB26c3+fLJYEPBG7MPagBnAtcJWkUaeZSV8fB138N/JIUiTMFWADcWMZ59dXirx7skLf+VuBlYILS6wg3ke6tlXve+Y4ixetMBroAtQlNvQBYRdJUSZOAXc1sEimJfBopy++5Gtr4I/B7SW+S7uHdVovjhxBCg4uIn9AgIuInhFAfFBE/IYQQQhJJ5aEoSQ+wZLL5H/MftAkhhMYuBrtQlL8bGUIIy7y4jBlCCKHJi8EuhBBCkxeDXS1IMkl3Zb63Uko8eLiG/bp4+a7aHm9hLdAS2+TSJaZKGpp7Z68+SdpZqUbo95mqMCGE0GjFYFc7c4BOmXff9gDeK2O/LkCtB7sy5dIlOgHfAifW03Gy/kNKZri7AY4VQghLLQa72nsU2Ns/H0oqMg2ApBWVkhJeVEpO2F8p6+08Fr143lfSqpIe9NSB0ZI6+/6rSRru+95EpnyZpN/77G2qpN9R2ChgY9/+QUnjPcXghEw7xyolIoyQdIuka335jyQ96X16UtL6xX4AM5vuRaIXlPqhIvUghNBYxGBXe4OBQzwhoTMwJrOuP/CUmXUHdgUuJRWlPptFmXdDSJVgXjKzzsCfgDt9/3OAZ81sG1JllfUBJHUlVXbZDtgeOF7SNtlOKeX47QVM8UXHmFlXUlxQPx9I1yalHmxPmpVmY4quBe70Pv0dWOqwVzO72cy6mVm3NdZYY2mbCyGEisWrB7VkZpOVUtcPBf6dt3pPYD9JubJfrfEBK89OeG1PM3vKB6L2wM54moKZPSLp88z2D5jZHABJ9wO9SCW+slFKo1hUuqufpNyrA+uRUhZ+CIzMpStIGsqiRIieLEpyuAv4a1k/SAghLANisKvMQ8BlQG9SbcgcAQea2WvZjSVtl7d/qZicQvXbSqUxLBGlJKk3Kcqnp+fkjSANvDWlOhTqTwghLPPiMmZlbgfOM7MpecuHASfLw+wylxrzUwyeAQ73bXqTQmG/zFu+F7BKZvs+ktp6WsIBpFlcMe2Bz32g25x02RJgLLCLpFX8smc2OeJ5FuXcHQ48W/onCCGEZUcMdhUwsxlmdlWBVeeT7tFN9nSD833508AWuQdUgAGk5PTJwCWkFANI9/J2ljSBdEn0P368CaQkhLGke4S3mtlLJbr4GNDK2z8fGO3tvAdc5G08QUpimOX79AN+6fscCZxSrHFJ3SXNAA4GbpI0rURfQgih6iL1oJmR1M7MZvvM7gHgdjN7oL6PG6kHIYT6EKkHoZgB/kDLVOAd4MEq9yeEEOpdPKDSzJjZaTVvlUjqT7pUmTXUzC6s216FEEL9isEuFOWDWgxsIYRlXlzGDCGE0OTFYBdCCKHJa1KDnVcimeh/PpD0Xub78nV4nPUkDVmK/Vf2upRvee3KEZK6V9jWMZJ+WMF+P/d38Co55uWSXvM6mvd59ZcQQmi0mtRgZ2afev3JLsCNwBW572b2bU37S2pZ5nH+a2Z9l6KrtwMfABub2ZbAcUDJKJ8SjiGVAVuCv15QzM9ZvDZmbQwDtvQ6mtOBMypsJ4QQGkSTGuxKkXSUpLE+y7teUgulPLovJF0gaSzQQ9IMSRd6GsGLkrb1JIK3JB3vbW2cq0cp6ThJ90oaJukNSRdnjnmEpCmeVHCRL9uMFPlzjvlLjmb2ppk96uvPyKQbnJw53lRJt/lM8FFJrf0F9S7AkNzs1ft/lqTngAMknejnMUkp766NpF6kyKErfL+Ofp5jypmtmdkwM/vev44G1q3L/61CCKGuNYvBTlInUomtHXzW14pFpbHaAxPMrIeZveDLppvZ9qR/yG/L7cuiiij5tgYOIqUgHCFpbUnrAheQ0g+2AXaUtA+wJSnxYIl4HEk9SKW6epAKM/9GHv8DbAZc6TPBeUAfT1CYCPTNm73OMbMdzWwo6VWB7ma2NfAWcLSZjSIVsT7V95sO/A34g8/WXiOlI5TjGFLs0RIUET8hhEaiWQx2pKLI3YFxPiPbBdjI131LqiSS9ZD/PQUYbWZzzOxDYIGkdgXaf8LMvjKzecCrpKSD7UhxP5+Y2XekoNOda+hnL+A+M5trZl+RXvjeyde9manFOR7oWKKd7P3EzpJGSZpCGuC3zN9Y0mpAazPL1cMcVEZfkXQOMNvMBhdaHxE/IYTGorm8ZydSWazFZit+T2te7nJixjf+94LM59z3Qr9Zdpv5vk2xhIFpQBdJLQrM7kqlEhQ6RjFzMp/vBPYys6mSjmNRUehyj1uQpGNJ9Tt3q+2+IYTQ0JrLzO4J4BeSVoeFT20WTeKuI6OBXf1YucumIz3+ZwpwtrQwHWEzSfuS0g0O8Ptq7YD9KZ1uAEsmKuRbEfhA0nLAYYX2M7NPgHmSdvB1RwIjizUoaW/g98B+ZvZ1Df0LIYSqaxaDnV/+Oxd4wqv6DwfWrOdjziAllI8g3VcbbWaP+OpfkgJV31RKR7gRmGlmY4F7gBdJg+UNBWKE8t0B3Fri9YqzSWkJj5NSDnLuAf6Ue0CFNMBd4b/PFqT7jcVcRxoon/T9r6uhjyGEUFWRehAaRKQehBDqgyL1IIQQQkiaywMqoQKSbmTJB1ouN7M7q9GfEEKoVAx2oSgzO7HafQghhLoQlzFDCCE0eTHYhRBCaPJisAshhNDkNZvBTlJ/L6I82d8N264O2jxP0u4l1neTdHUNbRwt6doatuko6bBS29QVSX0kbVHDNqtKetwLXz8uaZWG6FsIIVSqWQx2knoC+wDbeqHj3YH/lrlv0Yd4zOxsM3uixPpxZtavtv0toCOLVz+pUblxRQX0Ib1UXsqZwJNmtgnwpH8PIYRGq1kMdsBawCdm9g2k8lhmNlNSV0kjJY33iJ61AJTCVC+SNBLoL2m6pBa+rq2k/0paTtJASQf58u6SnvconbGSVpLUW9LDvn5VSQ/6zHJ0Js1gIW/vam/n7VzbwCVAL5+RniqppaRLPbpnsqRf+f69JT0t6W5gis8IX1EKip2mFFXUxrfdSNJjfu6jJG3u5cL2Ay71Y22U30e3P6lYNP53n0IbRepBCKGxaC6D3XBgPUmvK2XZ7eK1Iq8BDjKzrqRA1Qsz+3Qws13M7FxgEikpAWBfYJgnGQDgZbqGAKd4lM7upBierHNJ0T6dgT+RCjQXshYp6WAf0iAHaeY0yuN4rgCOBWaZWXdSmsPxkjbwbXsA/c0sNzvbBLjOo4G+AA705TcDJ/u5nwZcb2bPkxIfTvdjvVWkj2ua2fsA/vcPCm0UqQchhMaiWbxnZ2azJXUlRejsShqYLgA6AY97PeaWwPuZ3Ybkfe4LPE0q6Hx93iE2A943sxf9eF8CeLs5O+EDjZk95QWiCwWkPuhpCC9LKla/c09SdE9u5teeNKh9C4w1s3cy275jZhP983igoxeZ3gEYmunjCkWOFUIIy7xmMdgBmNl8UlHmEUrZbicB08ysZ5FdsjE5DwEXS1oV6Ao8lbetgJqKjBaK0Sm0TzbKp1j0jkizsmGLLZR6s3i/89ubD7Qhzei/8CDbSnwoaS0ze98v/X5UYTshhNAgmsVlTI/Q2SSzqAvwCrCGP7yC34NbItgU0syQlBxwFfCwD5xZrwJrS+ruba1U4MGWZ0gp5LlB6ZPcDLAM+TE+w4Bf+6VYJG0qacUy28rNPN+RdLDvL0lbFzlWIQ8BR/nno4B/lnvsEEKohuYys2sHXCOpA/A98CZwAum+1dV+ObEVcCUpXLWQIcBQoHf+CjP7VlJfP0Yb0v26/FcSBgB3KEXozGXRYFGOycD3kiYBA0mDbkdggtJ1yI8p8pBICYcDN0j6M7AcMJh0b3IwcIukfqT7mYXu210C/EMpwPU/wMG1PHYIITSoiPgJDSIifkII9UER8RNCCCEkzeUyZqiAUgL5jnmLrzKzO6rRnxBCqFQMdqEoMzup2n0IIYS6EJcxQwghNHkx2IUQQmjyYrCrBUkm6a7M91aSPs7VvyyxXxdJP6vgeNMlrV7DNvO9juVUSUP1/9s7/+Aqy+yOf74hSFCQCjIUixqhLOgIovj5ufwAAA8HSURBVCa4gsVNFXBHRkVYWR0tcWVWQcCudaozdgV129rFQRm0oqNuqmKlcVaG0a6iaFgBXWHltyA/bMZmmWFddBCBUAKnfzzPhbshyb033NwkN+czcyf3fd/nfZ5z3pvck+fX+UqnZtpOM+y6V9JnMS/nMknntnSbjuM4J4PP2WXGfuBCSV3N7CAwGvhDGvcNA0qA/24Bmw4mMqFIWgjcBcxtgXaSWQuUmNkBSVOBXxLSqWXE4cOHqampoba2NusGOidSVFREv3796Ny5c2ub4jg5x4Nd5vwGuBZ4HbgZ+E9Czk1iFpP5wBDCs50dyz8CdJV0BfCvwLuExNP9CRvMf2pmGyT1ivX1JmRsOZYuTNK9wE/i4fNm9mQDtn0IDI3lFwNnA0WEFZTPxfN3APcDu4DtwCEzmx57Zy/Gtr8CbjezLxt6AGb2QdLhx8CtDZWT9FPC5n3OOeecE67X1NTQvXt3iouL6+cRdbKMmbFnzx5qamo477zzUt/gOHmGD2NmzmvAjyUVEQLL75KuPQi8H9UIyoA5hOwkDwGLopLAIhpXQJgFrDCziwkpuc4BiEmsbwcuA75PUDm4ONmomJ7sh8DGeOonUdGgBJgZE0+fBfw81jEaGJxUxVPAS9GmhUCTorNJ3EEI6CeQSvWgtraWXr16eaDLAZLo1auX96KdDov37DIk9sCKCb26+sOSY4DrJN0Xj4uIAasejSkgjAJujOffkvRNUvk3zGw/gKRfE3qTawk9xoSqwYfAC/H9TEnj4/uzCaoIfwksN7OvYz2VwPdimcsTbQMvE4Ymm0TSrYRgemWqsk3U0dxbnQzxZ+10ZDzYNY8lwOOEPJm9ks4LmGBmnycXlnRZvfubUkBoKH9bU99Sx+bsktr7ASE35+VxXq2KEHgz+bZrMo+cpKsJPdkrE6K4juM4bRUPds3jRYJ46sYYWBK8A8yQNMPMTNLFZraWE5UEEgoIjyYrIEhKnP+FpB8CZySVr5D0GCFgjQdua8K+HsA3MdANJgxbQpgHfELSGdGmCRwf9lxF0Op7OdqworHK4xDqs8A1ZpY1eZ/iB97KVlUAVD92bcoyI0aMYNWqVVlttymqq6tZtWoVt9xyS87adBzH5+yahZnVmNm8Bi49Spij2yBpUzyGIPp6QdwiMImwcKUkKiA8xnEFhIeBUZI+JQyJfhnb+5SgdvAJYY7w+RhEG+NtoDDW/yhhEQlm9gfgX2Id7wGfAXvjPTOB2+M9twH3NFH/HIKSRGX0aUkTZds0uQx0dXV1VFdX8+qrr+asTcdxAt6zywAz69bAuSqCKCxxO8KdDZT5Giitd/r6BsrtIQS5BD9LujaXBrYUNGLTIcJilYZ41cyeiwta3gCWxnuqgb9t5J769deXL2q3dOvWje+++46qqipmzZpFnz59WLduHTfeeCNDhgxh3rx5HDx4kMWLFzNgwADKy8spKipi8+bN7N69m7lz5zJu3Dhqa2uZOnUqa9asobCwkLlz51JWVkZFRQVvvfUWtbW17N+/nwMHDrBlyxaGDRvG5MmTGT9+PLfddhv79wfN3aeeeooRI0ZQVVXF7NmzOfPMM9m0aROXXnopr7zyCpJYvXo199xzD/v376dLly4sW7aMU089lQceeICqqioOHTrE3XffzZ13nvCr6DgdFg92HY/Zcb6tiBDoFreyPW2G9evXs2XLFnr27En//v2ZMmUKn3zyCfPmzWP+/Pk8+WTY7VFdXc3y5cvZuXMnZWVl7Nixg6effhqAjRs3snXrVsaMGcO2bdsA+Oijj9iwYQM9e/akqqqKxx9/nDffDHkIDhw4wLvvvktRURHbt2/n5ptvJiGFtHbtWjZv3sxZZ53FyJEjWblyJcOHD2fSpEksWrSI0tJSvv32W7p27coLL7xAjx49WL16NYcOHWLkyJGMGTPGtxk4TsSDXQfDzO5LXSog6UFOFGatNLN/zq5VbYPS0lL69u0LwIABAxgzJnSyhwwZwgcfHN9aeNNNN1FQUMDAgQPp378/W7duZcWKFcyYMQOAwYMHc+655x4LdqNHj6Znz54Ntnn48GGmT5/OunXr6NSp07F7AIYPH06/fv0AGDZsGNXV1fTo0YO+fftSWhoGCk4//XQAli5dyoYNG3j99dcB2Lt3L9u3b/dg5zgRD3ZOo8SglpeBrSG6dOly7H1BQcGx44KCAurq6o5dq7+EXxJNiSCfdtppjV574okn6NOnD+vXr+fo0aMUFRU1aE+nTp2oq6vDzBrcQmBmzJ8/n7FjxzbhoeN0XHyBiuNkSGVlJUePHmXnzp188cUXDBo0iFGjRrFw4UIAtm3bxpdffsmgQYNOuLd79+7s27fv2PHevXvp27cvBQUFvPzyyxw5cqTJtgcPHsyuXbtYvXo1APv27aOuro6xY8fyzDPPcPjw4WM2JOYBHcfxnp3Thkhnq0BbYNCgQVx55ZXs3r2bBQsWUFRUxLRp07jrrrsYMmQIhYWFVFRU/FnPLMHQoUMpLCzkoosuory8nGnTpjFhwgQqKyspKytrshcIcMopp7Bo0SJmzJjBwYMH6dq1K++99x5TpkyhurqaSy65BDOjd+/eLF7s07GOk0BNDb+cVMXSEY7v4QK4Ia74y6SOcmCpme3KomkNtfMI8Fsze68Z95YTluInJ4S+hZDz8k0zu7CZdWbNb0klwN+Z2cws1Tcd+HtgANDbzP6U6p6SkhJLLLxIsGXLFs4///xsmJQzysvLGTduHBMnTmxtU5pFe3zmjtMUkn5vZiWpyrVkz+6EzB7NoBzYREhanBaSCs2sLnXJ45jZQxnaVZ9FZja9nh3FJ1FfOY34LamTmTU91lUPM1sDrElZMH1WAm8St1w4juO0dXI6ZyepWNKHkj6NrxFJ1/5R0kZJ6yU9JmkiIe/iwrhxuWuyvpukkpgGC0mzJT0naSnwUibtxHMVsT0kXSVpbSzzoqQu8Xy1pIdjfRtjZpJ0/e4kaY6k1VED7s6ka+n6/ZCkFcCPFPTxPo51vREzoiCpStK/SfpE0jZJCTWGHyhq7knqJulXsc0NkibE889IWiNps6SHm/LHzNZm2kvPFyoqKtptr85xOjIt2bNLTlD8P2Y2HvgjMNrMaiUNJMjZlMTUWDcAl8UUVz3N7Os4XHZf7JmkSmR7KXCFmR1UEDBNq53kChSUDCqAq8xsm6SXgKlAQk7nT2Z2iaRpwH3AlHh+koJ8T4LL69l2ByG9WGkMnitjYB6cgd+1ZnZFPN4AzDCz5XEIdhZhWBGg0MyGK4jFziLkyEzm59GWIbGuREqyB2PbnYBlkoaa2YamHngqlELiB2h0daGTfVpqysJx2gO5HsbsDDwlaRhwhOMZ968GfmVmB+BYxpFMWRIzmJxMO4MIgTmx2ek/gLs5Hux+HX/+nuMKAdDwMGby4RhgaKL3SMhdOTANe5JZFOvtAfyFmS1PsrEyqVyyjcUN1HM1IQcmsc2EssJNMTgVAn2BC4CTCnZRQ+85CHN29a8XFRWxZ88el/nJAQk9u+StDY7Tkcj1asyfAbuBiwhDqAlxLZEiy36kjuNDr/X/apPXWTe3nVTfuIns/kfI7NmJ0BN7589OSteksCeZdNeRp7LxhGcg6TxCT7XUzL6RVMGJzzfr9OvXj5qaGr766quWbsrhuFK543REch3segA1ZnZU0mSgUzy/FHhI0qvJw3mcqBZQTRiu/A1RDy5L7STYChRL+msz20FIiLyck+cdYKqk983ssKTvEVZvpuv3Mcxsr6RvJP2NmX3YDBuXAonVlIlhzNMJwXSvpD6EvJpVzfI0Azp37uwZPhzHyQm53lT+78BkSR8Thhb3A5jZ2wSNuDVxni+R0qoCWJBYqEFQBZgn6UNCzyVb7RCv1xIUwSslbQSOAgvS8GtStDHxGlHv+vMEhYFPFdQQniXMraXrd30mA3Pi3N0w4JE0bEzwC+AMSZskrQfKzGw9QQh2M0G+aGVTFUiaKakG6EdQeHg+g/Ydx3FyTovts3OcZBraZ+c4jnOyKM19dp4uzHEcx8l7vGfnNIqkN4D6k2r3119ok2Zd+4DPs2JY++JMIGWGmTzE/e44tLbP55pZ71SFPNg5OUHSmnSGGvIN97tj0RH9bi8++zCm4ziOk/d4sHMcx3HyHg92Tq54rrUNaCXc745FR/S7Xfjsc3aO4zhO3uM9O8dxHCfv8WDnOI7j5D0e7JysIukaSZ9L2iHpgQaud5G0KF7/nU5O5LZNkIbPoxR0EOuSlC/aPWn4fa+kz6Ju4jJJ57aGndkmDb/vinqR6yStkHRBa9iZbVL5nVRuoiST1La2I5iZv/yVlRch4fZOoD9wCrAeuKBemWnAgvj+xwR5pFa3vYV9LgaGAi8BE1vb5hz6XQacGt9Pbe+fdQZ+n570/jrg7da2Oxd+x3Ldgd8CHwMlrW138st7dk42GQ7sMLMvzOz/gNeA6+uVuZ6gwQfwOnCV2reYXUqfzazaghDu0dYwsIVIx+8PLGo1Er788kFfKB2/v006PI30ZbzaMun8bQM8CvyS47JqbQYPdk42+Svgf5OOa+K5BsuYWR2wF+iVE+tahnR8zkcy9fsOgjRXeyctvyXdLWkn4Yt/Zo5sa0lS+i3pYuBsM3szl4aliwc7J5s01EOr/19tOmXaE/nmT7qk7bekW4ESYE6LWpQb0vLbzJ42swHA/cA/tbhVLU+TfksqAJ4A/iFnFmWIBzsnm9QAZycd9wN2NVZGUiFBaPdr2i/p+JyPpOW3pKuBB4HrzOxQjmxrSTL9vF8DbmhRi3JDKr+7AxcCVZKqge8DS9rSIhUPdk42WQ0MlHSepFMIC1CW1CuzhCA+CzAReN/izHY7JR2f85GUfsdhrWcJge6PrWBjS5CO3wOTDq8FtufQvpaiSb/NbK+ZnWlmxWZWTJijvc7M2oyIpQc7J2vEObjpwDvAFuC/zGyzpEckXReLvQD0krQDuBdodAlzeyAdnyWVRmX3HwHPStrcehZnhzQ/6zlAN6AyLsNv9/8EpOn3dEmbJa0j/I5PbqS6dkOafrdpPF2Y4ziOk/d4z85xHMfJezzYOY7jOHmPBzvHcRwn7/Fg5ziO4+Q9Huwcx3GcvMeDneM4jpP3eLBzHMdx8p7/B33Sq8ynDntOAAAAAElFTkSuQmCC\n",
=======
      "image/png": "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\n",
>>>>>>> parent of cc539bd... Nuevo modelo de RF con GSearchCV
      "text/plain": [
       "<Figure size 432x288 with 1 Axes>"
      ]
     },
     "metadata": {
      "needs_background": "light"
     },
     "output_type": "display_data"
    }
   ],
   "source": [
    "xs = [x/100 for x in range(0,100)]\n",
    "ys = list_accuracy_test\n",
    "plt.plot(xs, ys)"
   ]
  },
  {
   "cell_type": "code",
   "execution_count": 287,
   "metadata": {},
   "outputs": [
    {
     "name": "stdout",
     "output_type": "stream",
     "text": [
      "El mejor threshold es: 0.54\n"
     ]
    }
   ],
   "source": [
    "best_scoring = max(list_accuracy_test)\n",
    "best_threshold = list_accuracy_test.index(best_scoring)/100\n",
    "print(\"El mejor threshold es: {}\".format(best_threshold))"
   ]
  },
  {
   "cell_type": "code",
   "execution_count": 288,
   "metadata": {},
   "outputs": [
    {
     "name": "stdout",
     "output_type": "stream",
     "text": [
      "Accuracy - Train: 0.7930065563534187\n",
      "Accuracy - Test : 0.7852983988355168\n"
     ]
    }
   ],
   "source": [
    "accuracy_train = mt.accuracy_score(y_train, [1 if x >= best_threshold else 0 for x in y_pred_proba_train])\n",
    "accuracy_test = mt.accuracy_score(y_test, [1 if x >= best_threshold else 0 for x in y_pred_proba_test])\n",
    "\n",
    "print(\"Accuracy - Train: {}\".format(accuracy_train))\n",
    "print(\"Accuracy - Test : {}\".format(accuracy_test))"
   ]
  },
  {
   "cell_type": "markdown",
   "metadata": {
    "colab_type": "text",
    "id": "-1DC3WCrtSge"
   },
   "source": [
    "## 4.2.B. Decision Tree"
   ]
  },
  {
   "cell_type": "markdown",
   "metadata": {
    "colab_type": "text",
    "id": "Sn1ZmXjrtSge"
   },
   "source": [
    "### 4.2.1 Training"
   ]
  },
  {
   "cell_type": "code",
<<<<<<< HEAD
   "execution_count": 657,
=======
   "execution_count": 289,
>>>>>>> parent of cc539bd... Nuevo modelo de RF con GSearchCV
   "metadata": {
    "colab": {
     "base_uri": "https://localhost:8080/",
     "height": 118
    },
    "colab_type": "code",
    "id": "lFo_Ko-0tSgf",
    "outputId": "17e53db0-7625-4a10-ee87-276a5f4c0c48"
   },
   "outputs": [
    {
     "data": {
      "text/plain": [
       "DecisionTreeClassifier(class_weight=None, criterion='gini', max_depth=None,\n",
       "            max_features=None, max_leaf_nodes=None,\n",
       "            min_impurity_decrease=0.0, min_impurity_split=None,\n",
       "            min_samples_leaf=1, min_samples_split=2,\n",
       "            min_weight_fraction_leaf=0.0, presort=False, random_state=None,\n",
       "            splitter='best')"
      ]
     },
<<<<<<< HEAD
     "execution_count": 657,
=======
     "execution_count": 289,
>>>>>>> parent of cc539bd... Nuevo modelo de RF con GSearchCV
     "metadata": {},
     "output_type": "execute_result"
    }
   ],
   "source": [
    "from sklearn.tree import DecisionTreeClassifier\n",
    "DecisionTreeClassifier()"
   ]
  },
  {
   "cell_type": "code",
<<<<<<< HEAD
   "execution_count": 658,
=======
   "execution_count": 290,
>>>>>>> parent of cc539bd... Nuevo modelo de RF con GSearchCV
   "metadata": {
    "colab": {},
    "colab_type": "code",
    "id": "z2DjunbNtSgi"
   },
   "outputs": [],
   "source": [
    "# Create  model objet \n",
    "model_tree = DecisionTreeClassifier(max_depth=6, min_samples_leaf=5,random_state=0)\n",
    "\n",
    "# Fit the model:\n",
    "model_tree.fit(X_train, y_train)\n",
    "\n",
    "model = model_tree"
   ]
  },
  {
   "cell_type": "markdown",
   "metadata": {
    "colab_type": "text",
    "id": "1dSIZjwStSgn"
   },
   "source": [
    "### 4.2.2 Evaluación del Modelo"
   ]
  },
  {
   "cell_type": "code",
<<<<<<< HEAD
   "execution_count": 659,
=======
   "execution_count": 291,
>>>>>>> parent of cc539bd... Nuevo modelo de RF con GSearchCV
   "metadata": {
    "colab": {},
    "colab_type": "code",
    "id": "Po5_fRk-tSgk"
   },
   "outputs": [],
   "source": [
    "# Generar las predicciones:\n",
    "y_pred_train = model.predict(X_train)\n",
    "y_pred_test = model.predict(X_test)\n",
    "\n",
    "# Generar las probabilidades\n",
    "y_pred_proba_train = model.predict_proba(X_train)[:,1]\n",
    "y_pred_proba_test = model.predict_proba(X_test)[:,1]"
   ]
  },
  {
   "cell_type": "code",
<<<<<<< HEAD
   "execution_count": 660,
=======
   "execution_count": 292,
>>>>>>> parent of cc539bd... Nuevo modelo de RF con GSearchCV
   "metadata": {
    "colab": {
     "base_uri": "https://localhost:8080/",
     "height": 50
    },
    "colab_type": "code",
    "id": "9XkSSTS74xDt",
    "outputId": "e0154ea4-4aa5-4ef5-8265-cef2351c1b10"
   },
   "outputs": [
    {
     "name": "stdout",
     "output_type": "stream",
     "text": [
<<<<<<< HEAD
      "Accuracy - Train: 0.8111145800811739\n",
      "Accuracy - Test : 0.7831149927219796\n"
=======
      "Accuracy - Train: 0.8161098969715891\n",
      "Accuracy - Test : 0.7794759825327511\n"
>>>>>>> parent of cc539bd... Nuevo modelo de RF con GSearchCV
     ]
    }
   ],
   "source": [
    "accuracy_train = mt.accuracy_score(y_train, y_pred_train)\n",
    "accuracy_test = mt.accuracy_score(y_test, y_pred_test)\n",
    "\n",
    "print(\"Accuracy - Train: {}\".format(accuracy_train))\n",
    "print(\"Accuracy - Test : {}\".format(accuracy_test))"
   ]
  },
  {
   "cell_type": "markdown",
   "metadata": {
    "colab_type": "text",
    "id": "Uki5re6889CC"
   },
   "source": [
    "El punto de corte por defecto es de 0.50 para decidir si la predicción final será 1 ó 0. A continuación trataremos de encontrar ese punto de corte que optimice la métrica de evaluación del problema.."
   ]
  },
  {
   "cell_type": "markdown",
   "metadata": {
    "colab_type": "text",
    "id": "g4r8lID8tSgt"
   },
   "source": [
    "### ****Find best threshold:****"
   ]
  },
  {
   "cell_type": "code",
<<<<<<< HEAD
   "execution_count": 661,
=======
   "execution_count": 293,
>>>>>>> parent of cc539bd... Nuevo modelo de RF con GSearchCV
   "metadata": {
    "colab": {},
    "colab_type": "code",
    "id": "t3DQ-OxZ5d-s"
   },
   "outputs": [],
   "source": [
    "list_accuracy_test = []\n",
    "for threshold in range(0,100):\n",
    "  pred_0_1 = [1 if x >= threshold/100 else 0 for x in y_pred_proba_test]\n",
    "  list_accuracy_test.append(mt.accuracy_score(y_test, pred_0_1))"
   ]
  },
  {
   "cell_type": "code",
<<<<<<< HEAD
   "execution_count": 662,
=======
   "execution_count": 294,
>>>>>>> parent of cc539bd... Nuevo modelo de RF con GSearchCV
   "metadata": {
    "colab": {
     "base_uri": "https://localhost:8080/",
     "height": 286
    },
    "colab_type": "code",
    "id": "VnM7wmrt8LPs",
    "outputId": "3ad82548-9d55-4afa-fb9b-d38d36f04c06"
   },
   "outputs": [
    {
     "data": {
      "text/plain": [
<<<<<<< HEAD
       "[<matplotlib.lines.Line2D at 0x1803a0c0d30>]"
      ]
     },
     "execution_count": 662,
=======
       "[<matplotlib.lines.Line2D at 0x1d32baefda0>]"
      ]
     },
     "execution_count": 294,
>>>>>>> parent of cc539bd... Nuevo modelo de RF con GSearchCV
     "metadata": {},
     "output_type": "execute_result"
    },
    {
     "data": {
<<<<<<< HEAD
      "image/png": "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\n",
=======
      "image/png": "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\n",
>>>>>>> parent of cc539bd... Nuevo modelo de RF con GSearchCV
      "text/plain": [
       "<Figure size 432x288 with 1 Axes>"
      ]
     },
     "metadata": {
      "needs_background": "light"
     },
     "output_type": "display_data"
    }
   ],
   "source": [
    "xs = [x/100 for x in range(0,100)]\n",
    "ys = list_accuracy_test\n",
    "plt.plot(xs, ys)"
   ]
  },
  {
   "cell_type": "code",
<<<<<<< HEAD
   "execution_count": 663,
=======
   "execution_count": 295,
>>>>>>> parent of cc539bd... Nuevo modelo de RF con GSearchCV
   "metadata": {
    "colab": {
     "base_uri": "https://localhost:8080/",
     "height": 34
    },
    "colab_type": "code",
    "id": "qee7k_K-5d4a",
    "outputId": "2094a998-de25-4784-891b-73d08ed21a60"
   },
   "outputs": [
    {
     "name": "stdout",
     "output_type": "stream",
     "text": [
<<<<<<< HEAD
      "El mejor threshold es: 0.42\n"
=======
      "El mejor threshold es: 0.51\n"
>>>>>>> parent of cc539bd... Nuevo modelo de RF con GSearchCV
     ]
    }
   ],
   "source": [
    "best_scoring = max(list_accuracy_test)\n",
    "best_threshold = list_accuracy_test.index(best_scoring)/100\n",
    "print(\"El mejor threshold es: {}\".format(best_threshold))"
   ]
  },
  {
   "cell_type": "code",
<<<<<<< HEAD
   "execution_count": 664,
=======
   "execution_count": 296,
>>>>>>> parent of cc539bd... Nuevo modelo de RF con GSearchCV
   "metadata": {
    "colab": {
     "base_uri": "https://localhost:8080/",
     "height": 50
    },
    "colab_type": "code",
    "id": "iiCh9AQu5duo",
    "outputId": "20203ff8-48e5-477a-a5c6-23b138d4aef8"
   },
   "outputs": [
    {
     "name": "stdout",
     "output_type": "stream",
     "text": [
<<<<<<< HEAD
      "Accuracy - Train: 0.8108023727755229\n",
      "Accuracy - Test : 0.7954876273653566\n"
=======
      "Accuracy - Train: 0.8161098969715891\n",
      "Accuracy - Test : 0.7794759825327511\n"
>>>>>>> parent of cc539bd... Nuevo modelo de RF con GSearchCV
     ]
    }
   ],
   "source": [
    "accuracy_train = mt.accuracy_score(y_train, [1 if x >= best_threshold else 0 for x in y_pred_proba_train])\n",
    "accuracy_test = mt.accuracy_score(y_test, [1 if x >= best_threshold else 0 for x in y_pred_proba_test])\n",
    "\n",
    "print(\"Accuracy - Train: {}\".format(accuracy_train))\n",
    "print(\"Accuracy - Test : {}\".format(accuracy_test))"
   ]
  },
  {
   "cell_type": "markdown",
   "metadata": {
    "colab_type": "text",
    "id": "uoCBdmNntSg3"
   },
   "source": [
    "### Feature Importances"
   ]
  },
  {
   "cell_type": "code",
<<<<<<< HEAD
   "execution_count": 665,
=======
   "execution_count": 297,
>>>>>>> parent of cc539bd... Nuevo modelo de RF con GSearchCV
   "metadata": {
    "colab": {
     "base_uri": "https://localhost:8080/",
     "height": 462
    },
    "colab_type": "code",
    "id": "5sgMvCrl9onj",
    "outputId": "bcc6e639-249c-4a35-85c5-7cdaf492bc95"
   },
   "outputs": [
    {
     "data": {
      "text/html": [
       "<div>\n",
       "<style scoped>\n",
       "    .dataframe tbody tr th:only-of-type {\n",
       "        vertical-align: middle;\n",
       "    }\n",
       "\n",
       "    .dataframe tbody tr th {\n",
       "        vertical-align: top;\n",
       "    }\n",
       "\n",
       "    .dataframe thead th {\n",
       "        text-align: right;\n",
       "    }\n",
       "</style>\n",
       "<table border=\"1\" class=\"dataframe\">\n",
       "  <thead>\n",
       "    <tr style=\"text-align: right;\">\n",
       "      <th></th>\n",
       "      <th>feature</th>\n",
       "      <th>importance</th>\n",
       "    </tr>\n",
       "  </thead>\n",
       "  <tbody>\n",
       "    <tr>\n",
       "      <th>0</th>\n",
       "      <td>TerminoContrato_0</td>\n",
<<<<<<< HEAD
       "      <td>0.261959</td>\n",
       "    </tr>\n",
       "    <tr>\n",
       "      <th>1</th>\n",
       "      <td>MesesCliente</td>\n",
       "      <td>0.175024</td>\n",
=======
       "      <td>0.423460</td>\n",
       "    </tr>\n",
       "    <tr>\n",
       "      <th>1</th>\n",
       "      <td>MontoCargadoTotal</td>\n",
       "      <td>0.187582</td>\n",
>>>>>>> parent of cc539bd... Nuevo modelo de RF con GSearchCV
       "    </tr>\n",
       "    <tr>\n",
       "      <th>2</th>\n",
       "      <td>ServicioInternet_1</td>\n",
<<<<<<< HEAD
       "      <td>0.135257</td>\n",
       "    </tr>\n",
       "    <tr>\n",
       "      <th>3</th>\n",
       "      <td>MontoCargadoTotal</td>\n",
       "      <td>0.108587</td>\n",
       "    </tr>\n",
       "    <tr>\n",
       "      <th>4</th>\n",
       "      <td>MontoCargadoMes</td>\n",
       "      <td>0.096841</td>\n",
       "    </tr>\n",
       "    <tr>\n",
       "      <th>5</th>\n",
       "      <td>MesesRestantes</td>\n",
       "      <td>0.094276</td>\n",
=======
       "      <td>0.154897</td>\n",
       "    </tr>\n",
       "    <tr>\n",
       "      <th>3</th>\n",
       "      <td>MontoCargadoMes</td>\n",
       "      <td>0.065578</td>\n",
       "    </tr>\n",
       "    <tr>\n",
       "      <th>4</th>\n",
       "      <td>MesesCliente</td>\n",
       "      <td>0.063063</td>\n",
       "    </tr>\n",
       "    <tr>\n",
       "      <th>5</th>\n",
       "      <td>AdultoMayor_0</td>\n",
       "      <td>0.022266</td>\n",
>>>>>>> parent of cc539bd... Nuevo modelo de RF con GSearchCV
       "    </tr>\n",
       "    <tr>\n",
       "      <th>6</th>\n",
       "      <td>MetodoPago_0</td>\n",
<<<<<<< HEAD
       "      <td>0.025694</td>\n",
       "    </tr>\n",
       "    <tr>\n",
       "      <th>7</th>\n",
       "      <td>ServicioInternet_0</td>\n",
       "      <td>0.021841</td>\n",
       "    </tr>\n",
       "    <tr>\n",
       "      <th>8</th>\n",
       "      <td>%Gap</td>\n",
       "      <td>0.018199</td>\n",
       "    </tr>\n",
       "    <tr>\n",
       "      <th>9</th>\n",
       "      <td>ServicioInternet_2</td>\n",
       "      <td>0.016593</td>\n",
       "    </tr>\n",
       "    <tr>\n",
       "      <th>10</th>\n",
       "      <td>TerminoContrato_2</td>\n",
       "      <td>0.012441</td>\n",
       "    </tr>\n",
       "    <tr>\n",
       "      <th>11</th>\n",
       "      <td>TerminoContrato_1</td>\n",
       "      <td>0.007022</td>\n",
       "    </tr>\n",
       "    <tr>\n",
       "      <th>12</th>\n",
       "      <td>AdultoMayor_1</td>\n",
       "      <td>0.006654</td>\n",
       "    </tr>\n",
       "    <tr>\n",
       "      <th>13</th>\n",
       "      <td>FacturacionElectronica_0</td>\n",
       "      <td>0.005951</td>\n",
       "    </tr>\n",
       "    <tr>\n",
       "      <th>14</th>\n",
       "      <td>AdultoMayor_0</td>\n",
       "      <td>0.005112</td>\n",
       "    </tr>\n",
       "    <tr>\n",
       "      <th>15</th>\n",
       "      <td>FacturacionElectronica_1</td>\n",
       "      <td>0.004191</td>\n",
=======
       "      <td>0.014009</td>\n",
       "    </tr>\n",
       "    <tr>\n",
       "      <th>7</th>\n",
       "      <td>ServicioInternet_2</td>\n",
       "      <td>0.013270</td>\n",
       "    </tr>\n",
       "    <tr>\n",
       "      <th>8</th>\n",
       "      <td>ServicioTelefonico_1</td>\n",
       "      <td>0.010726</td>\n",
       "    </tr>\n",
       "    <tr>\n",
       "      <th>9</th>\n",
       "      <td>AdultoMayor_1</td>\n",
       "      <td>0.010375</td>\n",
       "    </tr>\n",
       "    <tr>\n",
       "      <th>10</th>\n",
       "      <td>RespaldoOnline_1</td>\n",
       "      <td>0.007113</td>\n",
       "    </tr>\n",
       "    <tr>\n",
       "      <th>11</th>\n",
       "      <td>MetodoPago_1</td>\n",
       "      <td>0.005689</td>\n",
       "    </tr>\n",
       "    <tr>\n",
       "      <th>12</th>\n",
       "      <td>SeguridadOnline_1</td>\n",
       "      <td>0.004952</td>\n",
       "    </tr>\n",
       "    <tr>\n",
       "      <th>13</th>\n",
       "      <td>Socio_1</td>\n",
       "      <td>0.004894</td>\n",
       "    </tr>\n",
       "    <tr>\n",
       "      <th>14</th>\n",
       "      <td>Dependientes_1</td>\n",
       "      <td>0.004792</td>\n",
       "    </tr>\n",
       "    <tr>\n",
       "      <th>15</th>\n",
       "      <td>TerminoContrato_1</td>\n",
       "      <td>0.002717</td>\n",
>>>>>>> parent of cc539bd... Nuevo modelo de RF con GSearchCV
       "    </tr>\n",
       "    <tr>\n",
       "      <th>16</th>\n",
       "      <td>MetodoPago_3</td>\n",
<<<<<<< HEAD
       "      <td>0.001588</td>\n",
       "    </tr>\n",
       "    <tr>\n",
       "      <th>17</th>\n",
       "      <td>MetodoPago_1</td>\n",
       "      <td>0.001457</td>\n",
       "    </tr>\n",
       "    <tr>\n",
       "      <th>18</th>\n",
       "      <td>MetodoPago_2</td>\n",
       "      <td>0.001313</td>\n",
=======
       "      <td>0.002215</td>\n",
       "    </tr>\n",
       "    <tr>\n",
       "      <th>17</th>\n",
       "      <td>LineasMultiples_1</td>\n",
       "      <td>0.002002</td>\n",
       "    </tr>\n",
       "    <tr>\n",
       "      <th>18</th>\n",
       "      <td>TerminoContrato_2</td>\n",
       "      <td>0.000398</td>\n",
       "    </tr>\n",
       "    <tr>\n",
       "      <th>19</th>\n",
       "      <td>flg_bySexo_mayorMedianMontoMes</td>\n",
       "      <td>0.000000</td>\n",
       "    </tr>\n",
       "    <tr>\n",
       "      <th>20</th>\n",
       "      <td>TransmisionTV_2</td>\n",
       "      <td>0.000000</td>\n",
       "    </tr>\n",
       "    <tr>\n",
       "      <th>21</th>\n",
       "      <td>TransmisionTV_1</td>\n",
       "      <td>0.000000</td>\n",
       "    </tr>\n",
       "    <tr>\n",
       "      <th>22</th>\n",
       "      <td>TransmisionTV_0</td>\n",
       "      <td>0.000000</td>\n",
       "    </tr>\n",
       "    <tr>\n",
       "      <th>23</th>\n",
       "      <td>TransmisionPeliculas_2</td>\n",
       "      <td>0.000000</td>\n",
       "    </tr>\n",
       "    <tr>\n",
       "      <th>24</th>\n",
       "      <td>TransmisionPeliculas_1</td>\n",
       "      <td>0.000000</td>\n",
       "    </tr>\n",
       "    <tr>\n",
       "      <th>25</th>\n",
       "      <td>TransmisionPeliculas_0</td>\n",
       "      <td>0.000000</td>\n",
       "    </tr>\n",
       "    <tr>\n",
       "      <th>26</th>\n",
       "      <td>SoporteTecnico_2</td>\n",
       "      <td>0.000000</td>\n",
       "    </tr>\n",
       "    <tr>\n",
       "      <th>27</th>\n",
       "      <td>SoporteTecnico_1</td>\n",
       "      <td>0.000000</td>\n",
       "    </tr>\n",
       "    <tr>\n",
       "      <th>28</th>\n",
       "      <td>SoporteTecnico_0</td>\n",
       "      <td>0.000000</td>\n",
       "    </tr>\n",
       "    <tr>\n",
       "      <th>29</th>\n",
       "      <td>Socio_0</td>\n",
       "      <td>0.000000</td>\n",
       "    </tr>\n",
       "    <tr>\n",
       "      <th>30</th>\n",
       "      <td>Sexo_1</td>\n",
       "      <td>0.000000</td>\n",
       "    </tr>\n",
       "    <tr>\n",
       "      <th>31</th>\n",
       "      <td>Sexo_0</td>\n",
       "      <td>0.000000</td>\n",
       "    </tr>\n",
       "    <tr>\n",
       "      <th>32</th>\n",
       "      <td>ServicioTelefonico_0</td>\n",
       "      <td>0.000000</td>\n",
       "    </tr>\n",
       "    <tr>\n",
       "      <th>33</th>\n",
       "      <td>ServicioInternet_0</td>\n",
       "      <td>0.000000</td>\n",
       "    </tr>\n",
       "    <tr>\n",
       "      <th>34</th>\n",
       "      <td>SeguridadOnline_2</td>\n",
       "      <td>0.000000</td>\n",
       "    </tr>\n",
       "    <tr>\n",
       "      <th>35</th>\n",
       "      <td>SeguridadOnline_0</td>\n",
       "      <td>0.000000</td>\n",
       "    </tr>\n",
       "    <tr>\n",
       "      <th>36</th>\n",
       "      <td>RespaldoOnline_2</td>\n",
       "      <td>0.000000</td>\n",
       "    </tr>\n",
       "    <tr>\n",
       "      <th>37</th>\n",
       "      <td>RespaldoOnline_0</td>\n",
       "      <td>0.000000</td>\n",
       "    </tr>\n",
       "    <tr>\n",
       "      <th>38</th>\n",
       "      <td>ProteccionDispositivo_2</td>\n",
       "      <td>0.000000</td>\n",
       "    </tr>\n",
       "    <tr>\n",
       "      <th>39</th>\n",
       "      <td>ProteccionDispositivo_1</td>\n",
       "      <td>0.000000</td>\n",
       "    </tr>\n",
       "    <tr>\n",
       "      <th>40</th>\n",
       "      <td>ProteccionDispositivo_0</td>\n",
       "      <td>0.000000</td>\n",
       "    </tr>\n",
       "    <tr>\n",
       "      <th>41</th>\n",
       "      <td>MetodoPago_2</td>\n",
       "      <td>0.000000</td>\n",
       "    </tr>\n",
       "    <tr>\n",
       "      <th>42</th>\n",
       "      <td>LineasMultiples_2</td>\n",
       "      <td>0.000000</td>\n",
       "    </tr>\n",
       "    <tr>\n",
       "      <th>43</th>\n",
       "      <td>LineasMultiples_0</td>\n",
       "      <td>0.000000</td>\n",
       "    </tr>\n",
       "    <tr>\n",
       "      <th>44</th>\n",
       "      <td>FacturacionElectronica_1</td>\n",
       "      <td>0.000000</td>\n",
       "    </tr>\n",
       "    <tr>\n",
       "      <th>45</th>\n",
       "      <td>FacturacionElectronica_0</td>\n",
       "      <td>0.000000</td>\n",
       "    </tr>\n",
       "    <tr>\n",
       "      <th>46</th>\n",
       "      <td>Dependientes_0</td>\n",
       "      <td>0.000000</td>\n",
>>>>>>> parent of cc539bd... Nuevo modelo de RF con GSearchCV
       "    </tr>\n",
       "  </tbody>\n",
       "</table>\n",
       "</div>"
      ],
      "text/plain": [
<<<<<<< HEAD
       "                     feature  importance\n",
       "0          TerminoContrato_0    0.261959\n",
       "1               MesesCliente    0.175024\n",
       "2         ServicioInternet_1    0.135257\n",
       "3          MontoCargadoTotal    0.108587\n",
       "4            MontoCargadoMes    0.096841\n",
       "5             MesesRestantes    0.094276\n",
       "6               MetodoPago_0    0.025694\n",
       "7         ServicioInternet_0    0.021841\n",
       "8                       %Gap    0.018199\n",
       "9         ServicioInternet_2    0.016593\n",
       "10         TerminoContrato_2    0.012441\n",
       "11         TerminoContrato_1    0.007022\n",
       "12             AdultoMayor_1    0.006654\n",
       "13  FacturacionElectronica_0    0.005951\n",
       "14             AdultoMayor_0    0.005112\n",
       "15  FacturacionElectronica_1    0.004191\n",
       "16              MetodoPago_3    0.001588\n",
       "17              MetodoPago_1    0.001457\n",
       "18              MetodoPago_2    0.001313"
      ]
     },
     "execution_count": 665,
=======
       "                           feature  importance\n",
       "0                TerminoContrato_0    0.423460\n",
       "1                MontoCargadoTotal    0.187582\n",
       "2               ServicioInternet_1    0.154897\n",
       "3                  MontoCargadoMes    0.065578\n",
       "4                     MesesCliente    0.063063\n",
       "5                    AdultoMayor_0    0.022266\n",
       "6                     MetodoPago_0    0.014009\n",
       "7               ServicioInternet_2    0.013270\n",
       "8             ServicioTelefonico_1    0.010726\n",
       "9                    AdultoMayor_1    0.010375\n",
       "10                RespaldoOnline_1    0.007113\n",
       "11                    MetodoPago_1    0.005689\n",
       "12               SeguridadOnline_1    0.004952\n",
       "13                         Socio_1    0.004894\n",
       "14                  Dependientes_1    0.004792\n",
       "15               TerminoContrato_1    0.002717\n",
       "16                    MetodoPago_3    0.002215\n",
       "17               LineasMultiples_1    0.002002\n",
       "18               TerminoContrato_2    0.000398\n",
       "19  flg_bySexo_mayorMedianMontoMes    0.000000\n",
       "20                 TransmisionTV_2    0.000000\n",
       "21                 TransmisionTV_1    0.000000\n",
       "22                 TransmisionTV_0    0.000000\n",
       "23          TransmisionPeliculas_2    0.000000\n",
       "24          TransmisionPeliculas_1    0.000000\n",
       "25          TransmisionPeliculas_0    0.000000\n",
       "26                SoporteTecnico_2    0.000000\n",
       "27                SoporteTecnico_1    0.000000\n",
       "28                SoporteTecnico_0    0.000000\n",
       "29                         Socio_0    0.000000\n",
       "30                          Sexo_1    0.000000\n",
       "31                          Sexo_0    0.000000\n",
       "32            ServicioTelefonico_0    0.000000\n",
       "33              ServicioInternet_0    0.000000\n",
       "34               SeguridadOnline_2    0.000000\n",
       "35               SeguridadOnline_0    0.000000\n",
       "36                RespaldoOnline_2    0.000000\n",
       "37                RespaldoOnline_0    0.000000\n",
       "38         ProteccionDispositivo_2    0.000000\n",
       "39         ProteccionDispositivo_1    0.000000\n",
       "40         ProteccionDispositivo_0    0.000000\n",
       "41                    MetodoPago_2    0.000000\n",
       "42               LineasMultiples_2    0.000000\n",
       "43               LineasMultiples_0    0.000000\n",
       "44        FacturacionElectronica_1    0.000000\n",
       "45        FacturacionElectronica_0    0.000000\n",
       "46                  Dependientes_0    0.000000"
      ]
     },
     "execution_count": 297,
>>>>>>> parent of cc539bd... Nuevo modelo de RF con GSearchCV
     "metadata": {},
     "output_type": "execute_result"
    }
   ],
   "source": [
    "df_feature_importances = pd.DataFrame()\n",
    "df_feature_importances['feature'] = X_train.columns\n",
    "df_feature_importances['importance'] = model.feature_importances_/model.feature_importances_.sum()\n",
    "df_feature_importances = df_feature_importances.sort_values(by = ['importance','feature'],ascending=False)\n",
    "df_feature_importances.reset_index(drop = True,inplace=True)\n",
    "\n",
    "df_feature_importances"
   ]
  },
  {
   "cell_type": "code",
<<<<<<< HEAD
   "execution_count": 666,
=======
   "execution_count": 298,
>>>>>>> parent of cc539bd... Nuevo modelo de RF con GSearchCV
   "metadata": {
    "colab": {
     "base_uri": "https://localhost:8080/",
     "height": 340
    },
    "colab_type": "code",
    "id": "aBWfpWLP98iL",
    "outputId": "e06a6c5a-e483-429d-cd5f-b826e3163bf1"
   },
   "outputs": [
    {
     "data": {
      "text/plain": [
<<<<<<< HEAD
       "<matplotlib.axes._subplots.AxesSubplot at 0x1803a0f62e8>"
      ]
     },
     "execution_count": 666,
=======
       "<matplotlib.axes._subplots.AxesSubplot at 0x1d32b815ba8>"
      ]
     },
     "execution_count": 298,
>>>>>>> parent of cc539bd... Nuevo modelo de RF con GSearchCV
     "metadata": {},
     "output_type": "execute_result"
    },
    {
     "data": {
<<<<<<< HEAD
      "image/png": "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\n",
=======
      "image/png": "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\n",
>>>>>>> parent of cc539bd... Nuevo modelo de RF con GSearchCV
      "text/plain": [
       "<Figure size 360x360 with 1 Axes>"
      ]
     },
     "metadata": {
      "needs_background": "light"
     },
     "output_type": "display_data"
    }
   ],
   "source": [
    "df_feature_importances[['feature','importance']].sort_values(by=['importance'],\n",
    "                                                             ascending = [True]).plot(kind='barh',\n",
    "                                                             x='feature',\n",
    "                                                             y='importance',\n",
    "                                                             legend=True, \n",
    "                                                             figsize=(5, 5))"
   ]
  },
  {
   "cell_type": "markdown",
   "metadata": {
    "colab_type": "text",
    "id": "8h6Zrl3CtSg9"
   },
   "source": [
    "## 4.2.C. Random Forest"
   ]
  },
  {
   "cell_type": "markdown",
   "metadata": {
    "colab_type": "text",
    "id": "Sv-fXQpXtSg9"
   },
   "source": [
    "### 4.2.1 Training"
   ]
  },
  {
   "cell_type": "code",
<<<<<<< HEAD
   "execution_count": 681,
=======
   "execution_count": 299,
>>>>>>> parent of cc539bd... Nuevo modelo de RF con GSearchCV
   "metadata": {
    "colab": {
     "base_uri": "https://localhost:8080/",
     "height": 134
    },
    "colab_type": "code",
    "id": "B9bIt7GetSg-",
    "outputId": "8460d596-9f22-4c42-d24c-cb8d07561f34"
   },
   "outputs": [
    {
     "data": {
      "text/plain": [
       "RandomForestClassifier(bootstrap=True, class_weight=None, criterion='gini',\n",
<<<<<<< HEAD
       "            max_depth=4, max_features=0.2, max_leaf_nodes=None,\n",
       "            min_impurity_decrease=0.0, min_impurity_split=None,\n",
       "            min_samples_leaf=25, min_samples_split=2,\n",
       "            min_weight_fraction_leaf=0.0, n_estimators=167, n_jobs=-1,\n",
       "            oob_score=False, random_state=0, verbose=0, warm_start=False)"
      ]
     },
     "execution_count": 681,
=======
       "            max_depth=None, max_features='auto', max_leaf_nodes=None,\n",
       "            min_impurity_decrease=0.0, min_impurity_split=None,\n",
       "            min_samples_leaf=1, min_samples_split=2,\n",
       "            min_weight_fraction_leaf=0.0, n_estimators=10, n_jobs=1,\n",
       "            oob_score=False, random_state=None, verbose=0,\n",
       "            warm_start=False)"
      ]
     },
     "execution_count": 299,
>>>>>>> parent of cc539bd... Nuevo modelo de RF con GSearchCV
     "metadata": {},
     "output_type": "execute_result"
    }
   ],
   "source": [
    "from sklearn.ensemble import RandomForestClassifier\n",
    "RandomForestClassifier()"
   ]
  },
  {
   "cell_type": "code",
   "execution_count": 300,
   "metadata": {
    "colab": {},
    "colab_type": "code",
    "id": "Dr9Bor7EtShA"
   },
   "outputs": [],
   "source": [
    "# Create  model objet \n",
<<<<<<< HEAD
    "model_rf = RandomForestClassifier(random_state = 0, n_jobs = -1)\n",
    "\n",
    "parameters = {\n",
    "    \n",
    "    \"n_estimators\" : [x for x in range(100,180)],\n",
    "    \"max_depth\" : [4,5,6],\n",
    "    \"min_samples_leaf\" : [10,15,20,25],\n",
    "    \"max_features\" : [0.2,0.4,0.5,0.6]\n",
    "}\n",
    "\n",
    "# Type of scoring used to compare parameter combinations\n",
    "acc_scorer = make_scorer(accuracy_score)\n",
    "\n",
    "# Run the grid search\n",
    "grid_obj = GridSearchCV(model_rf, parameters, scoring=acc_scorer)\n",
    "grid_obj = grid_obj.fit(X_train, y_train)\n",
=======
    "model_rf = RandomForestClassifier(n_estimators = 150, random_state = 0, max_depth=5, \n",
    "                                  max_features = 0.5, min_samples_leaf = 10, \n",
    "                                  n_jobs = -1)\n",
>>>>>>> parent of cc539bd... Nuevo modelo de RF con GSearchCV
    "\n",
    "# Fit the model:\n",
    "model_rf.fit(X_train, y_train)\n",
    "\n",
    "model = model_rf"
   ]
  },
  {
   "cell_type": "markdown",
   "metadata": {
    "colab_type": "text",
    "id": "E-qk6gGStShE"
   },
   "source": [
    "### 4.2.2 Evaluación del Modelo"
   ]
  },
  {
   "cell_type": "code",
<<<<<<< HEAD
   "execution_count": 682,
=======
   "execution_count": 301,
>>>>>>> parent of cc539bd... Nuevo modelo de RF con GSearchCV
   "metadata": {
    "colab": {},
    "colab_type": "code",
    "id": "Vz_6lMXT_A3R"
   },
   "outputs": [],
   "source": [
    "# Generar las predicciones:\n",
    "y_pred_train = model.predict(X_train)\n",
    "y_pred_test = model.predict(X_test)\n",
    "\n",
    "# Generar las probabilidades\n",
    "y_pred_proba_train = model.predict_proba(X_train)[:,1]\n",
    "y_pred_proba_test = model.predict_proba(X_test)[:,1]"
   ]
  },
  {
   "cell_type": "code",
<<<<<<< HEAD
   "execution_count": 683,
=======
   "execution_count": 302,
>>>>>>> parent of cc539bd... Nuevo modelo de RF con GSearchCV
   "metadata": {
    "colab": {
     "base_uri": "https://localhost:8080/",
     "height": 50
    },
    "colab_type": "code",
    "id": "2vzmFDYQ_A3c",
    "outputId": "3e7f110e-3166-4fbd-d8a6-4e13a6879571"
   },
   "outputs": [
    {
     "name": "stdout",
     "output_type": "stream",
     "text": [
<<<<<<< HEAD
      "Accuracy - Train: 0.8008117389946925\n",
      "Accuracy - Test : 0.7787481804949054\n"
=======
      "Accuracy - Train: 0.8133000312207306\n",
      "Accuracy - Test : 0.7852983988355168\n"
>>>>>>> parent of cc539bd... Nuevo modelo de RF con GSearchCV
     ]
    }
   ],
   "source": [
    "accuracy_train = mt.accuracy_score(y_train, y_pred_train)\n",
    "accuracy_test = mt.accuracy_score(y_test, y_pred_test)\n",
    "\n",
    "print(\"Accuracy - Train: {}\".format(accuracy_train))\n",
    "print(\"Accuracy - Test : {}\".format(accuracy_test))"
   ]
  },
  {
   "cell_type": "markdown",
   "metadata": {
    "colab_type": "text",
    "id": "fvW6UlJP_A3m"
   },
   "source": [
    "El punto de corte por defecto es de 0.50 para decidir si la predicción final será 1 ó 0. A continuación trataremos de encontrar ese punto de corte que optimice la métrica de evaluación del problema.."
   ]
  },
  {
   "cell_type": "markdown",
   "metadata": {
    "colab_type": "text",
    "id": "AlGTfJgG_A3o"
   },
   "source": [
    "### ****Find best threshold:****"
   ]
  },
  {
   "cell_type": "code",
<<<<<<< HEAD
   "execution_count": 684,
=======
   "execution_count": 303,
>>>>>>> parent of cc539bd... Nuevo modelo de RF con GSearchCV
   "metadata": {
    "colab": {},
    "colab_type": "code",
    "id": "J76Sf2aY_A3p"
   },
   "outputs": [],
   "source": [
    "list_accuracy_test = []\n",
    "for threshold in range(0,100):\n",
    "  pred_0_1 = [1 if x >= threshold/100 else 0 for x in y_pred_proba_test]\n",
    "  list_accuracy_test.append(mt.accuracy_score(y_test, pred_0_1))"
   ]
  },
  {
   "cell_type": "code",
<<<<<<< HEAD
   "execution_count": 685,
=======
   "execution_count": 304,
>>>>>>> parent of cc539bd... Nuevo modelo de RF con GSearchCV
   "metadata": {
    "colab": {
     "base_uri": "https://localhost:8080/",
     "height": 286
    },
    "colab_type": "code",
    "id": "q7rEKttl_A3v",
    "outputId": "f8d243d6-595f-4dfa-a6a4-a2dbb9e4ad0f"
   },
   "outputs": [
    {
     "data": {
      "text/plain": [
<<<<<<< HEAD
       "[<matplotlib.lines.Line2D at 0x1803d133208>]"
      ]
     },
     "execution_count": 685,
=======
       "[<matplotlib.lines.Line2D at 0x1d32c661518>]"
      ]
     },
     "execution_count": 304,
>>>>>>> parent of cc539bd... Nuevo modelo de RF con GSearchCV
     "metadata": {},
     "output_type": "execute_result"
    },
    {
     "data": {
<<<<<<< HEAD
      "image/png": "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\n",
=======
      "image/png": "iVBORw0KGgoAAAANSUhEUgAAAXcAAAD8CAYAAACMwORRAAAABHNCSVQICAgIfAhkiAAAAAlwSFlzAAALEgAACxIB0t1+/AAAADl0RVh0U29mdHdhcmUAbWF0cGxvdGxpYiB2ZXJzaW9uIDIuMi4zLCBodHRwOi8vbWF0cGxvdGxpYi5vcmcvIxREBQAAIABJREFUeJzt3Xt8VdWd9/HPLwkJJCTcEm4JAURQQAQkBW9tbbUVbQuO1ltrr1Zqp047ttNndGbqdHSmt+ex2k7tzDD2orYK9map0trWqkUFJUpAAYEQLgkkkgsJJCHX83v+SKAxBnLAc7Jz9vm+Xy9er7PPWZzzWyR8s7L22mubuyMiIuGSEnQBIiISewp3EZEQUriLiISQwl1EJIQU7iIiIaRwFxEJIYW7iEgIKdxFREJI4S4iEkJpQX1wbm6uT5kyJaiPFxFJSC+//HKNu+f11y6wcJ8yZQrFxcVBfbyISEIysz3RtNO0jIhICCncRURCKKpwN7PFZrbNzErN7LY+Xi80s6fNbIOZbTKzy2NfqoiIRKvfcDezVOA+4DJgFnC9mc3q1exfgEfdfT5wHfCDWBcqIiLRi2bkvhAodfcyd28DVgBLe7VxIKf78Qhgf+xKFBGRkxXNapl8oLzHcQWwqFebrwF/MLO/A7KAS2JSnYiInJJoRu7Wx3O9b990PfATdy8ALgceMrO3vLeZLTOzYjMrrq6uPvlqRUQkKtGM3CuAST2OC3jrtMuNwGIAd19rZkOBXOBAz0buvhxYDlBUVKT7+8lbNLd1sGFvPdWHW6lpbKWtM8KMsdmcMT6bglHDMOtrrPFm7Z0RNpbX89LuOlraOrueNKNg5DDOnJDN9LHZDEtPjXNPRIIVTbivB6ab2VRgH10nTD/Sq81e4GLgJ2Y2ExgKaGguNLZ20NzaweisdNJSu36Za++MUNfURlZGGsMz/vot+PKeg9y6soS9dc19vtfwjDTOGN8V9DPGDmdczlDGDM8gKyOVXTVNvF55mM37G3hpVx1N3aF+9GdBz1sFpxhcMnMcX7n0DKaPy45Px0UC1m+4u3uHmd0CPAmkAj9y981mdidQ7O6rgC8D/2tmt9I1ZfNJ1523k9rhlnb+d80u7l9TRnNbJ2YwKjOdiDv1ze0ApKem8J4z87hiXj7b3jjMf/65lAkjhrL8YwuYNnY4uVkZpKTA9jcaeb3qENuqDvN61WEe37ifQy0db/nM1BTjtNws/uacfC48PZfzTstlROYQADojzt66ZrZVHWLD3noefnEvl977F648p4AvXjydSaMzT6p/r1cd4odrdrFuVy39faenmDEqK5284enkDs8gd3gGY4anMzZ7KOdNG8PorPST+myRaFhQGVxUVOTafiB8Dre088hLe/mvZ3ZysLmdD8yZwKLTRlPb2EZNYytmdIdbBmXVjfx2YyU1ja0A/M38fP5t6Wxyhg454We4OzWNbcembg63dDAlN5PTxw4nIy266Za6pjb+65lSHli7h47OCJfOHs+NF07l7IKR1DV11Vrd2Hqs7ubWv/4weWVvPc+V1jBsSCrvPXMsGUNOfOqqM+Ld79n1XnVNbXRGuv7fpaUY75qRx9J5E5k5IYfc4RmMHDaElJT+p58kOZnZy+5e1G87hbvEwt7aZh5Yu5uV68tpbO3ggtPH8H8uPZO5k0ae8O91dEZ4YWctqSnGBafnDkyxPVQ1tPDg2t387MW9NBxpP2Hbo1M843OG8rHzJvORhYWMzDz5UXck4tQfaWdvXTO/e7WSVRv3U9nQcuz1tBRjdFY6Y4ZnkDs8ndaOCDXdP2gKR2eydN5EPjR3IuNyhp70Z0viU7hLXLV2dLJmew1rdlSzprSGsuomUlOMD8yZwI0XTu031Aeb5rYOflOynwOHWsnNPjp98tdplKyM+O2xF4k4GyvqqTh4hJrG1mNB3vW4jfS0FHKHpzM6K52N5Q28uq8BM5g4YtixHzhTxmTxifOncPGZYzXqDzmFu8TFS7vq+NUrFax+tZJDLR0MG5LKotNGc8G0XD5w9gQmjhwWdImht7O6kVUl+yk/2H3i2WFdWS37G1qYmpvF4rPGM6Q74AtGZXLVggJSFfihoXCXmDrc0s6//mYzv9qwj8z0VC6dPZ6l8yZy/rRc0tO0/1zQ2jsj/P61Kn743C42VtQDf10htGjqaL5z7Tzy9YM3FBTuEjMv76nj71eWsO/gEW55z+ncfNE0MtMDuxWARMnd+eUr+/jX37xGSopxxwdncdmcCW9afiqJR+Eub4u78/Keg9y/Zhd/2FLFxJHDuPfaeRRNGR10aXKS9tQ28fcrS9iwt560FGN+4UjeNT2Pa98xibE6KZtwFO5yykoPNPIPP99ISXk9I4YN4SOLCvnbi6aR3c8SRRm8OjojvLirjudLa3i+tIZN+xpISzE+NHcin75gKmfljwi6RIlStOGu38/kTbZVHeaj968D4K6ls7lqQYGmYEIgLTWFC07PPbbcdE9tEz9+fjePFpfzq1f2MXNCDld0L7HUSfFw0Mhdjtm8v4Eb7n+R9LQUHr7pXKblDQ+6JImzhiPt/PqVCh4r2U9JedeJ2PE5QzljfDYzJ+RwycyxLJg8Kqo9fWRgaFpGTsoLO2v43E9fISs9lYdvOpcpuVlBlyQDbHdNE3/c8gZbKw+xteowpQcO097pFIwaxtJ5E1k6L58Z2osncAp3iUpbR4S7/7iN5X8pY+qYLB749MKT3mdFwqmxtYM/bK7isZL9PLejmohzbPpmybyJTBih6ZsgKNylX6/ta+C2X23itX2HuH5hIV/94EzNr0ufqg+38sSm/fy6ZD8by+sx61o/f8W8fM4uGEludjpjsjJ0sdQAULjLce2uaeLuP27ntxv3MzornW9eOYf3zx4fdFmSIHbVNLGqZD+/KdlHWU3TsefNYHRm+rFdL9/OQCEtxRg9PJ3crHRyszOObQORmZ5KWU0Tr1ceYndtE1npaeRmZzA2O4P5haOYkz8i9D9gFO7Spwde2M1dj29hSGoKN144lWXvPq3fXRhF+uLubK08zJ7apu5dNNu698Xp2hPnyNEbpZyCo3v+1zW39bmlclqKMWl0Js1tHdQ2ttHRvctm9tA0zp82hhsvPI2FU8N5TYaWQspb/P61Sr72282894yxfOOqOYzN1gUscurMjFkTc5g1MSdun9HRGaGuuY2aw23UNrXS2NLBlNwspuUNP7btRSTi1DS2HlvH/9TrB3jyf9ZyTVEBt182k1FJul++Ru5JYsPeg1y3fB2zJubwyE3nMnSIbjMn4dTc1sF3n9rB/Wt2kTM0jX9behZL5k4MuqyYiXbkrh2fksDe2mY+80Ax43KGcv/HixTsEmqZ6WncftlMnvjChRSOyeILj2zgSytLONxy4v36w0bhHnKNrR185sH1dEScH3/qHYwZnhF0SSID4szxOfzy5vP44sXTeaxkH5d9dw1PbX2DSCQ57gCqcA+xSMT58qMl7Kxu4gcfPUdXnErSSUtN4db3zeDnN59Paopx4wPFXHLPs/x03R6qGlpo74wEXWLcaM49xL731A6+88ftfPWDs7jxwqlBlyMSqPbOCKtfreSHz+1iU0XDsedHZg4ha4Cv7/jKpWdwxfz8U/q7Wi2T5J7a+gbf+eN2rpyfz6cvmBJ0OSKBG5KawtJ5+SyZO5FX9taztfLQsdsaHmkb2BH82Jz4T48q3EOotrGVr/xiE7Mn5vD1K+do0yeRHsyMBZNHsWDyqKBLiSvNuYfQHas209jSwT3XztPKGJEkpXAPmdWvVvLEpkq+eMl07eAnksQU7iFS19TGVx97jTn5I/jsu04LuhwRCZDm3EPkrse3cKilnZ9dvYi0VP3cFklmSoCQeG1fA7/esI+b3nkaZ46P314fIpIYFO4h8a3fv86ozCHcfNG0oEsRkUFA4R4Cz5fWsGZHDZ9/z+navldEgCjD3cwWm9k2Mys1s9v6eP0eMyvp/rPdzOpjX6r0xd351u9fJ3/kMG44d3LQ5YjIINHvCVUzSwXuA94HVADrzWyVu2852sbdb+3R/u+A+XGoVfqw+tUqNlU0cPfVc7WmXUSOiWbkvhAodfcyd28DVgBLT9D+euCRWBQnJ9bS3sm3n3ydM8Zln/I+FSISTtGEez5Q3uO4ovu5tzCzycBU4M/HeX2ZmRWbWXF1dfXJ1iq9/PC5XeypbearH5wV+vtGisjJiSbc+0qN420leR3wC3fv8+aJ7r7c3YvcvSgvLy/aGqUP++qP8J9/3sHlc8Zz4fTcoMsRkUEmmnCvACb1OC4A9h+n7XVoSmZAfP2JrQD88wdmBVyJiAxG0YT7emC6mU01s3S6AnxV70ZmdgYwClgb2xKlt+dLa3ji1Uo+f9Hp5I8cFnQ5IjII9Rvu7t4B3AI8CWwFHnX3zWZ2p5kt6dH0emCFB3X3jyTR0NzOvzz2GoWjM7lJ+8eIyHFEtbeMu68GVvd67o5ex1+LXVnSl7aOCJ/9aTEVB5v56Y2LtPRRRI5LG4clCHfntl9uYl1ZHfdeO49Fp40JuiQRGcS0/UCCuOdPO/jVhn18+X0ztKZdRPqlcE8A3//zDr731A6uXlDALe89PehyRCQBaFpmEHN37vlTV7BfOT+fb+h+qCISJYX7IOXu/N8nt/GDZ3ZyTVEB37jybF2FKiJRU7gPUt97qpQfPLOTjywq5N+XnkWKgl1EToLm3AehHz23i3v+tJ0PLyhQsIvIKVG4DzKPFpdz5+NbWDx7PN+8co6CXUROicJ9EFmzo5rbfrmJd07P5bvXz9NNrkXklCk9Bok9tU3c8vAGZozL5r9vWEBGmq4+FZFTp3AfBJpaO1j24MsALP9YEVkZOs8tIm+Pwj1gkYjzDz/fyI4Dh/n+R+ZTOCYz6JJEJAQU7gFq7ejkiytL+N1rVdx+2UzeOV03MBGR2NDv/wFpONLOZx8qZl1ZHf+4+Ew+886pQZckIiGicA9AfXMb1/7POspqGrn32nnaCExEYk7hHoD7ni5lx4HDPPjpRbr/qYjEhebcB9iBQy08uHYPV8zPV7CLSNwo3AfYfU+X0hlxvnjx9KBLEZEQU7gPoH31R3jkpXKuLipg8pisoMsRkRBTuA+g7/+5FIBb3qtRu4jEl8J9gOypbeLnxeVct3AS+SOHBV2OiIScwn0AuDv/9OtXyUhL4fPv0W3yRCT+FO4D4JGXynm+tJZ/+sBMxuUMDbocEUkCCvc421d/hK+v3sr508bwkYWFQZcjIklC4R5H7s5tv9xExJ1vXXW2bm4tIgNG4R5Hj7xUzpodNdx+2ZlMGq3dHkVk4Cjc46SsupG7Ht/CBaeP4aOLJgddjogkGYV7HLR3Rrh1ZQnpaSncffU83QdVRAZcVOFuZovNbJuZlZrZbcdpc42ZbTGzzWb2cGzLTCz/+dQONlY08I0r5zB+hFbHiMjA63dXSDNLBe4D3gdUAOvNbJW7b+nRZjpwO3CBux80s7HxKniwW7+7ju8/XcpV5xRw+ZwJQZcjIkkqmpH7QqDU3cvcvQ1YASzt1eYm4D53Pwjg7gdiW2Zi2FPbxGcfepnC0Zl8bcmsoMsRkSQWTbjnA+U9jiu6n+tpBjDDzJ43s3VmtjhWBSaKg01tfOrH63F3fvyphWQPHRJ0SSKSxKK5WUdfZwO9j/eZDlwEFABrzOwsd69/0xuZLQOWARQWhueCnpb2TpY9VExF/REe/swipuZqx0cRCVY0I/cKYFKP4wJgfx9tfuPu7e6+C9hGV9i/ibsvd/cidy/KywvPzaC/+bvXWb/7IHdfPZeiKaODLkdEJKpwXw9MN7OpZpYOXAes6tXmMeA9AGaWS9c0TVksCx2sSg8c5qF1e7jh3EI+NHdi0OWIiABRhLu7dwC3AE8CW4FH3X2zmd1pZku6mz0J1JrZFuBp4CvuXhuvogeT/3hiK5npqdx6yYygSxEROSaqG2S7+2pgda/n7ujx2IEvdf9JGn/ZXs3T26r5p8vPZMzwjKDLERE5RleonqLOiPMfT2xl0uhhfOL8KUGXIyLyJgr3U7Ri/V62vXGY2y+bSUZaatDliIi8icL9FJTXNfON1a+zaOpoLjtrfNDliIi8hcL9JHVGnFtXlmDA3dfM1R7tIjIoRXVCVf7qv54ppXjPQe69dh4Fo7RHu4gMThq5n4SN5fXc+6cdfGjuRJbO05p2ERm8FO5R2ld/hM/99GXysjP496VnaTpGRAY1TctEofpwKzfc/yKHWztYsexcRmRqUzARGdw0cu9HQ3M7H/vhi1Q1tPCTT72D2RNHBF2SiEi/FO4n0Blxlj1UTFl1E8s/voAFk7UpmIgkBk3LnMB/P7uTF3fV8f+unss7p4dnF0sRCT+N3I9jU0U99/xxOx88ewJXndP73iQiIoObwr0PzW0d/P2KEvKyM/iPK+ZoZYyIJBxNy/Thrse3sKu2iZ99ZpFWxohIQtLIvZcfPbeLR14q5+Z3T+P8ablBlyMickoU7j38YXMVdz2xhUtnj+Mf3n9G0OWIiJwyhXu3kvJ6vrBiA2cXjOTea+eTmqJ5dhFJXAp3oL0zcmxrgfs/XsSwdO3PLiKJTeEOPLX1AJUNLfzrB2eTl63b5YlI4lO4AyvX72VcTgYXnaELlUQkHJI+3CsbjvDs9mquXjCJtNSk/+cQkZBI+jT7RXEFEYdriiYFXYqISMwkdbhHIs6jL5dz/rQxFI7RXZVEJDySOtzXltVSXneEa9+hUbuIhEtSh/vK9eWMGDaES2ePD7oUEZGYStpwb27r4Pebq1g6byJDh2hdu4iES9KGe/Hug7R1RLhk5rigSxERibmkDfcXdtYyJNUomjIq6FJERGIuacN97c4a5k0aSWa6dj0WkfCJKtzNbLGZbTOzUjO7rY/XP2lm1WZW0v3nM7EvNXYOtbTz6r4GzjttTNCliIjERb/DVjNLBe4D3gdUAOvNbJW7b+nVdKW73xKHGmPupbI6Ig7nab92EQmpaEbuC4FSdy9z9zZgBbA0vmXF19qyWjLSUphfODLoUkRE4iKacM8HynscV3Q/19tVZrbJzH5hZn1eFWRmy8ys2MyKq6urT6Hc2HhhZy0LJo/SEkgRCa1owr2vu1Z4r+PfAlPc/WzgT8ADfb2Ruy939yJ3L8rLC2YHxoNNbWytPMT50zTfLiLhFU24VwA9R+IFwP6eDdy91t1buw//F1gQm/Jib11ZLQDnKdxFJMSiCff1wHQzm2pm6cB1wKqeDcxsQo/DJcDW2JUYW2vLaslMT+XsAs23i0h49btaxt07zOwW4EkgFfiRu282szuBYndfBXzBzJYAHUAd8Mk41vy2vLCzloVTRzNEe7eLSIhFdQWPu68GVvd67o4ej28Hbo9tabFXXtdM6YFGrikqCLoUEZG4Sqrh609f3ENqirFkbl+LfUREwiNpwr2lvZNH15fz/lnjGD9iaNDliIjEVdKE++ObKjnY3M7HzpscdCkiInGXNOH+0NrdnD52uPaTEZGkkBThvrG8no0VDXzs3MmY9XVNlohIuCRFuD+4dg9Z6alceY5OpIpIcgh9uNc3t/HbTfv5m3PyyR46JOhyREQGROjD/dnt1bR1RLjqHK1tF5HkEf5w31bNqMwh2m5ARJJKqMM9EnH+sqOad83IIzVFJ1JFJHmEOty3VB6iprGNd88IZnthEZGghDrcn93edUOQd05XuItIcgl1uD+z7QBn5eeQl50RdCkiIgMqtOHecKSdV/bWa0pGRJJSaMP9hdIaOiPORWeMDboUEZEBF9pwf3Z7NdlD05g/SUsgRST5hDLc3Z1nt1dz4em5pOmOSyKShEKZfKUHGqlsaNF8u4gkrVCG++tVhwGYqykZEUlSoQz3PbVNAEwZkxVwJSIiwQhluO+qaWZ8zlCGpacGXYqISCBCGe57apuYPCYz6DJERAITynDfXdvE1FxNyYhI8gpduB9uaaemsY3Jmm8XkSQWunDfU9sMwNRcTcuISPIKXbjv7l4po5G7iCSz8IV7zdFw18hdRJJX+MK9tplxORlkpqcFXYqISGCiCnczW2xm28ys1MxuO0G7D5uZm1lR7Eo8ObtrmnTxkogkvX7D3cxSgfuAy4BZwPVmNquPdtnAF4AXY13kydhd26xwF5GkF83IfSFQ6u5l7t4GrACW9tHuLuDbQEsM6zspXcsgW5miNe4ikuSiCfd8oLzHcUX3c8eY2Xxgkrs/HsPaTtrRZZBTdDJVRJJcNOFufTznx140SwHuAb7c7xuZLTOzYjMrrq6ujr7KKB1dBqmRu4gku2jCvQKY1OO4ANjf4zgbOAt4xsx2A+cCq/o6qeruy929yN2L8vJiv9f60ZG7lkGKSLKLJtzXA9PNbKqZpQPXAauOvujuDe6e6+5T3H0KsA5Y4u7Fcan4BHbVNGkZpIgIUYS7u3cAtwBPAluBR919s5ndaWZL4l3gyejaDVJTMiIiUQ1x3X01sLrXc3ccp+1Fb7+sU7OrppmLzxwb1MeLiAwaoblCtbG1g5rGViZrwzARkfCE+9E9ZaZqWkZEJDzhXl7XtVJm0miN3EVEQhPulQ1dF8bmjxwWcCUiIsELTbhXHWohIy2FkZlDgi5FRCRwoQn3yoYWxo8YillfF9SKiCSX0IR7VcMRxucMDboMEZFBITzhfqiFCSMU7iIiEJJwj0ScNxpaGT9CJ1NFRCAk4V7X3EZbZ4TxORlBlyIiMiiEItyrupdBauQuItIlFOF+dI275txFRLqEItyrDincRUR6Cke4NxwhNcUYM1xz7iIiEJJwr2xoYVx2BqkpuoBJRARCEu5V3VeniohIl3CE+6EWJmiljIjIMQkf7u6ukbuISC8JH+6HWjpobuvUvjIiIj0kfLj/9QImhbuIyFEJH+6VDUcArXEXEekp4cP9jUMauYuI9Jbw4X5064Gx2Qp3EZGjEj7cqxpayB2eQXpawndFRCRmEj4RKxt0kw4Rkd4SPtzfOKQ17iIivSV8uFc2tGiNu4hILwkd7s1tHTQcadfIXUSkl4QO9yrdpENEpE9RhbuZLTazbWZWama39fH6zWb2qpmVmNlzZjYr9qW+la5OFRHpW7/hbmapwH3AZcAs4Po+wvthd5/j7vOAbwPfiXmlfdh/NNw15y4i8ibRjNwXAqXuXububcAKYGnPBu5+qMdhFuCxK/H4XtvXwLAhqRSOzhyIjxMRSRhpUbTJB8p7HFcAi3o3MrPPA18C0oH39vVGZrYMWAZQWFh4srW+xYbyeuYUjCAtNaFPHYiIxFw0qdjXveveMjJ39/vcfRrwj8C/9PVG7r7c3YvcvSgvL+/kKu2lpb2TLfsbmF848m29j4hIGEUT7hXApB7HBcD+E7RfAVzxdoqKxpbKQ7R3OvMnKdxFRHqLJtzXA9PNbKqZpQPXAat6NjCz6T0OPwDsiF2Jfduwtx6A+YWj4v1RIiIJp985d3fvMLNbgCeBVOBH7r7ZzO4Eit19FXCLmV0CtAMHgU/Es2iAkvJ6JowYyjitlBEReYtoTqji7quB1b2eu6PH4y/GuK5+bdh7UPPtIiLHkZDLTGoaW6k4eIR5mm8XEelTQoZ7iebbRUROKCHDfUP5QVJTjLMmjgi6FBGRQSkhw72kvJ6ZE7IZlp4adCkiIoNSwoV7Z8TZWN7A/EmakhEROZ6EC/ed1Y00tnboZKqIyAkkXLhv2HsQQMsgRUROIOHCfVRmOu+bNY6puVlBlyIiMmhFdRHTYPL+2eN5/+zxQZchIjKoJdzIXURE+qdwFxEJIYW7iEgIKdxFREJI4S4iEkIKdxGREFK4i4iEkMJdRCSEzN2D+WCzamDPKf71XKAmhuUkimTsdzL2GZKz38nYZzj5fk9297z+GgUW7m+HmRW7e1HQdQy0ZOx3MvYZkrPfydhniF+/NS0jIhJCCncRkRBK1HBfHnQBAUnGfidjnyE5+52MfYY49Tsh59xFROTEEnXkLiIiJzCow93MFpvZNjMrNbPb+ng9w8xWdr/+oplNGfgqYyuKPn/JzLaY2SYze8rMJgdRZ6z11+8e7T5sZm5mCb+qIpo+m9k13V/vzWb28EDXGA9RfI8XmtnTZrah+/v88iDqjCUz+5GZHTCz147zupnZ97r/TTaZ2Tlv+0PdfVD+AVKBncBpQDqwEZjVq83fAv/d/fg6YGXQdQ9An98DZHY//lyi9znafne3ywb+AqwDioKuewC+1tOBDcCo7uOxQdc9QP1eDnyu+/EsYHfQdceg3+8CzgFeO87rlwO/Aww4F3jx7X7mYB65LwRK3b3M3duAFcDSXm2WAg90P/4FcLGZ2QDWGGv99tndn3b35u7DdUDBANcYD9F8rQHuAr4NtAxkcXESTZ9vAu5z94MA7n5ggGuMh2j67UBO9+MRwP4BrC8u3P0vQN0JmiwFHvQu64CRZjbh7XzmYA73fKC8x3FF93N9tnH3DqABGDMg1cVHNH3u6Ua6ftonun77bWbzgUnu/vhAFhZH0XytZwAzzOx5M1tnZosHrLr4iabfXwNuMLMKYDXwdwNTWqBO9v9+vwbzPVT7GoH3XtoTTZtEEnV/zOwGoAh4d1wrGhgn7LeZpQD3AJ8cqIIGQDRf6zS6pmYuous3tDVmdpa718e5tniKpt/XAz9x97vN7Dzgoe5+R+JfXmBinmWDeeReAUzqcVzAW389O9bGzNLo+hXuRL/6DHbR9BkzuwT4Z2CJu7cOUG3x1F+/s4GzgGfMbDddc5KrEvykarTf379x93Z33wVsoyvsE1k0/b4ReBTA3dcCQ+nafyXMovq/fzIGc7ivB6ab2VQzS6frhOmqXm1WAZ/ofvxh4M/efXYiQfXb5+7pif+hK9jDMAcL/fTb3RvcPdfdp7j7FLrONSxx9+Jgyo2JaL6/H6PrBDpmlkvXNE3ZgFYZe9H0ey9wMYCZzaQr3KsHtMqBtwr4ePeqmXOBBnevfFvvGPRZ5H7OMF8ObKfr7Po/dz93J13/saHri/5zoBR4CTgt6JoHoM9/At4ASrr/rAq65oHod6+2z5Dgq2Wi/Fob8B1gC/AqcF3QNQ9Qv2cBz9O1kqYEeH/QNcegz48AlUA7XaP0G4GbgZt7fK3v6/43eTUW39+6QlUyF++bAAAAN0lEQVREJIQG87SMiIicIoW7iEgIKdxFREJI4S4iEkIKdxGREFK4i4iEkMJdRCSEFO4iIiH0/wFWoyv6GNztFgAAAABJRU5ErkJggg==\n",
>>>>>>> parent of cc539bd... Nuevo modelo de RF con GSearchCV
      "text/plain": [
       "<Figure size 432x288 with 1 Axes>"
      ]
     },
     "metadata": {
      "needs_background": "light"
     },
     "output_type": "display_data"
    }
   ],
   "source": [
    "xs = [x/100 for x in range(0,100)]\n",
    "ys = list_accuracy_test\n",
    "plt.plot(xs, ys)"
   ]
  },
  {
   "cell_type": "code",
<<<<<<< HEAD
   "execution_count": 686,
=======
   "execution_count": 305,
>>>>>>> parent of cc539bd... Nuevo modelo de RF con GSearchCV
   "metadata": {
    "colab": {
     "base_uri": "https://localhost:8080/",
     "height": 34
    },
    "colab_type": "code",
    "id": "WR38FGw-_A33",
    "outputId": "a6b20ab4-64c7-407b-c965-8c2b4bb99d5b"
   },
   "outputs": [
    {
     "name": "stdout",
     "output_type": "stream",
     "text": [
<<<<<<< HEAD
      "El mejor threshold es: 0.44\n"
=======
      "El mejor threshold es: 0.4\n"
>>>>>>> parent of cc539bd... Nuevo modelo de RF con GSearchCV
     ]
    }
   ],
   "source": [
    "best_scoring = max(list_accuracy_test)\n",
    "best_threshold = list_accuracy_test.index(best_scoring)/100\n",
    "print(\"El mejor threshold es: {}\".format(best_threshold))"
   ]
  },
  {
   "cell_type": "code",
<<<<<<< HEAD
   "execution_count": 687,
=======
   "execution_count": 306,
>>>>>>> parent of cc539bd... Nuevo modelo de RF con GSearchCV
   "metadata": {
    "colab": {
     "base_uri": "https://localhost:8080/",
     "height": 50
    },
    "colab_type": "code",
    "id": "0tlCH3hS_A4A",
    "outputId": "c1282d24-c18a-4f1d-9559-b65dca8e3f2f"
   },
   "outputs": [
    {
     "name": "stdout",
     "output_type": "stream",
     "text": [
<<<<<<< HEAD
      "Accuracy - Train: 0.8076802997190135\n",
      "Accuracy - Test : 0.7983988355167394\n"
=======
      "Accuracy - Train: 0.8108023727755229\n",
      "Accuracy - Test : 0.7940320232896652\n"
>>>>>>> parent of cc539bd... Nuevo modelo de RF con GSearchCV
     ]
    }
   ],
   "source": [
    "accuracy_train = mt.accuracy_score(y_train, [1 if x >= best_threshold else 0 for x in y_pred_proba_train])\n",
    "accuracy_test = mt.accuracy_score(y_test, [1 if x >= best_threshold else 0 for x in y_pred_proba_test])\n",
    "\n",
    "print(\"Accuracy - Train: {}\".format(accuracy_train))\n",
    "print(\"Accuracy - Test : {}\".format(accuracy_test))"
   ]
  },
  {
   "cell_type": "markdown",
   "metadata": {
    "colab_type": "text",
    "id": "1LN8QylgtShX"
   },
   "source": [
    "### Feature Importances"
   ]
  },
  {
   "cell_type": "code",
<<<<<<< HEAD
   "execution_count": 688,
=======
   "execution_count": 307,
>>>>>>> parent of cc539bd... Nuevo modelo de RF con GSearchCV
   "metadata": {
    "colab": {
     "base_uri": "https://localhost:8080/",
     "height": 462
    },
    "colab_type": "code",
    "id": "x5Hziz4p_R_c",
    "outputId": "79e918f7-fc11-431b-8ba5-7d1c4c13e385"
   },
   "outputs": [
    {
     "data": {
      "text/html": [
       "<div>\n",
       "<style scoped>\n",
       "    .dataframe tbody tr th:only-of-type {\n",
       "        vertical-align: middle;\n",
       "    }\n",
       "\n",
       "    .dataframe tbody tr th {\n",
       "        vertical-align: top;\n",
       "    }\n",
       "\n",
       "    .dataframe thead th {\n",
       "        text-align: right;\n",
       "    }\n",
       "</style>\n",
       "<table border=\"1\" class=\"dataframe\">\n",
       "  <thead>\n",
       "    <tr style=\"text-align: right;\">\n",
       "      <th></th>\n",
       "      <th>feature</th>\n",
       "      <th>importance</th>\n",
       "    </tr>\n",
       "  </thead>\n",
       "  <tbody>\n",
       "    <tr>\n",
       "      <th>0</th>\n",
       "      <td>TerminoContrato_0</td>\n",
<<<<<<< HEAD
       "      <td>0.174215</td>\n",
=======
       "      <td>0.247360</td>\n",
>>>>>>> parent of cc539bd... Nuevo modelo de RF con GSearchCV
       "    </tr>\n",
       "    <tr>\n",
       "      <th>1</th>\n",
       "      <td>MesesCliente</td>\n",
<<<<<<< HEAD
       "      <td>0.165232</td>\n",
       "    </tr>\n",
       "    <tr>\n",
       "      <th>2</th>\n",
       "      <td>MesesRestantes</td>\n",
       "      <td>0.120339</td>\n",
       "    </tr>\n",
       "    <tr>\n",
       "      <th>3</th>\n",
       "      <td>ServicioInternet_1</td>\n",
       "      <td>0.112501</td>\n",
=======
       "      <td>0.206658</td>\n",
       "    </tr>\n",
       "    <tr>\n",
       "      <th>2</th>\n",
       "      <td>ServicioInternet_1</td>\n",
       "      <td>0.135750</td>\n",
       "    </tr>\n",
       "    <tr>\n",
       "      <th>3</th>\n",
       "      <td>MontoCargadoTotal</td>\n",
       "      <td>0.097414</td>\n",
>>>>>>> parent of cc539bd... Nuevo modelo de RF con GSearchCV
       "    </tr>\n",
       "    <tr>\n",
       "      <th>4</th>\n",
       "      <td>MontoCargadoMes</td>\n",
<<<<<<< HEAD
       "      <td>0.077260</td>\n",
       "    </tr>\n",
       "    <tr>\n",
       "      <th>5</th>\n",
       "      <td>MontoCargadoTotal</td>\n",
       "      <td>0.075618</td>\n",
       "    </tr>\n",
       "    <tr>\n",
       "      <th>6</th>\n",
       "      <td>TerminoContrato_2</td>\n",
       "      <td>0.070307</td>\n",
=======
       "      <td>0.077538</td>\n",
       "    </tr>\n",
       "    <tr>\n",
       "      <th>5</th>\n",
       "      <td>SeguridadOnline_1</td>\n",
       "      <td>0.065868</td>\n",
       "    </tr>\n",
       "    <tr>\n",
       "      <th>6</th>\n",
       "      <td>SoporteTecnico_1</td>\n",
       "      <td>0.023553</td>\n",
>>>>>>> parent of cc539bd... Nuevo modelo de RF con GSearchCV
       "    </tr>\n",
       "    <tr>\n",
       "      <th>7</th>\n",
       "      <td>MetodoPago_0</td>\n",
<<<<<<< HEAD
       "      <td>0.059643</td>\n",
       "    </tr>\n",
       "    <tr>\n",
       "      <th>8</th>\n",
       "      <td>ServicioInternet_0</td>\n",
       "      <td>0.037784</td>\n",
       "    </tr>\n",
       "    <tr>\n",
       "      <th>9</th>\n",
       "      <td>TerminoContrato_1</td>\n",
       "      <td>0.023596</td>\n",
=======
       "      <td>0.011832</td>\n",
       "    </tr>\n",
       "    <tr>\n",
       "      <th>8</th>\n",
       "      <td>TerminoContrato_2</td>\n",
       "      <td>0.011672</td>\n",
       "    </tr>\n",
       "    <tr>\n",
       "      <th>9</th>\n",
       "      <td>ServicioInternet_0</td>\n",
       "      <td>0.010375</td>\n",
>>>>>>> parent of cc539bd... Nuevo modelo de RF con GSearchCV
       "    </tr>\n",
       "    <tr>\n",
       "      <th>10</th>\n",
       "      <td>ServicioInternet_2</td>\n",
<<<<<<< HEAD
       "      <td>0.020351</td>\n",
       "    </tr>\n",
       "    <tr>\n",
       "      <th>11</th>\n",
       "      <td>FacturacionElectronica_1</td>\n",
       "      <td>0.018071</td>\n",
       "    </tr>\n",
       "    <tr>\n",
       "      <th>12</th>\n",
       "      <td>FacturacionElectronica_0</td>\n",
       "      <td>0.013325</td>\n",
       "    </tr>\n",
       "    <tr>\n",
       "      <th>13</th>\n",
       "      <td>%Gap</td>\n",
       "      <td>0.008537</td>\n",
       "    </tr>\n",
       "    <tr>\n",
       "      <th>14</th>\n",
       "      <td>MetodoPago_3</td>\n",
       "      <td>0.005467</td>\n",
       "    </tr>\n",
       "    <tr>\n",
       "      <th>15</th>\n",
       "      <td>AdultoMayor_1</td>\n",
       "      <td>0.005191</td>\n",
       "    </tr>\n",
       "    <tr>\n",
       "      <th>16</th>\n",
       "      <td>AdultoMayor_0</td>\n",
       "      <td>0.005078</td>\n",
       "    </tr>\n",
       "    <tr>\n",
       "      <th>17</th>\n",
       "      <td>MetodoPago_1</td>\n",
       "      <td>0.004744</td>\n",
       "    </tr>\n",
       "    <tr>\n",
       "      <th>18</th>\n",
       "      <td>MetodoPago_2</td>\n",
       "      <td>0.002740</td>\n",
=======
       "      <td>0.009252</td>\n",
       "    </tr>\n",
       "    <tr>\n",
       "      <th>11</th>\n",
       "      <td>TerminoContrato_1</td>\n",
       "      <td>0.007796</td>\n",
       "    </tr>\n",
       "    <tr>\n",
       "      <th>12</th>\n",
       "      <td>AdultoMayor_0</td>\n",
       "      <td>0.007690</td>\n",
       "    </tr>\n",
       "    <tr>\n",
       "      <th>13</th>\n",
       "      <td>SeguridadOnline_2</td>\n",
       "      <td>0.007537</td>\n",
       "    </tr>\n",
       "    <tr>\n",
       "      <th>14</th>\n",
       "      <td>flg_bySexo_mayorMedianMontoMes</td>\n",
       "      <td>0.006694</td>\n",
       "    </tr>\n",
       "    <tr>\n",
       "      <th>15</th>\n",
       "      <td>TransmisionTV_2</td>\n",
       "      <td>0.005972</td>\n",
       "    </tr>\n",
       "    <tr>\n",
       "      <th>16</th>\n",
       "      <td>RespaldoOnline_1</td>\n",
       "      <td>0.005687</td>\n",
       "    </tr>\n",
       "    <tr>\n",
       "      <th>17</th>\n",
       "      <td>FacturacionElectronica_0</td>\n",
       "      <td>0.005163</td>\n",
       "    </tr>\n",
       "    <tr>\n",
       "      <th>18</th>\n",
       "      <td>TransmisionPeliculas_2</td>\n",
       "      <td>0.005033</td>\n",
       "    </tr>\n",
       "    <tr>\n",
       "      <th>19</th>\n",
       "      <td>AdultoMayor_1</td>\n",
       "      <td>0.004728</td>\n",
       "    </tr>\n",
       "    <tr>\n",
       "      <th>20</th>\n",
       "      <td>ServicioTelefonico_1</td>\n",
       "      <td>0.004182</td>\n",
       "    </tr>\n",
       "    <tr>\n",
       "      <th>21</th>\n",
       "      <td>FacturacionElectronica_1</td>\n",
       "      <td>0.003888</td>\n",
       "    </tr>\n",
       "    <tr>\n",
       "      <th>22</th>\n",
       "      <td>LineasMultiples_0</td>\n",
       "      <td>0.003888</td>\n",
       "    </tr>\n",
       "    <tr>\n",
       "      <th>23</th>\n",
       "      <td>TransmisionTV_1</td>\n",
       "      <td>0.002993</td>\n",
       "    </tr>\n",
       "    <tr>\n",
       "      <th>24</th>\n",
       "      <td>Socio_0</td>\n",
       "      <td>0.002466</td>\n",
       "    </tr>\n",
       "    <tr>\n",
       "      <th>25</th>\n",
       "      <td>Socio_1</td>\n",
       "      <td>0.002402</td>\n",
       "    </tr>\n",
       "    <tr>\n",
       "      <th>26</th>\n",
       "      <td>ServicioTelefonico_0</td>\n",
       "      <td>0.002395</td>\n",
       "    </tr>\n",
       "    <tr>\n",
       "      <th>27</th>\n",
       "      <td>TransmisionPeliculas_1</td>\n",
       "      <td>0.002278</td>\n",
       "    </tr>\n",
       "    <tr>\n",
       "      <th>28</th>\n",
       "      <td>LineasMultiples_1</td>\n",
       "      <td>0.002248</td>\n",
       "    </tr>\n",
       "    <tr>\n",
       "      <th>29</th>\n",
       "      <td>MetodoPago_1</td>\n",
       "      <td>0.002233</td>\n",
       "    </tr>\n",
       "    <tr>\n",
       "      <th>30</th>\n",
       "      <td>RespaldoOnline_2</td>\n",
       "      <td>0.001862</td>\n",
       "    </tr>\n",
       "    <tr>\n",
       "      <th>31</th>\n",
       "      <td>Sexo_1</td>\n",
       "      <td>0.001654</td>\n",
       "    </tr>\n",
       "    <tr>\n",
       "      <th>32</th>\n",
       "      <td>ProteccionDispositivo_1</td>\n",
       "      <td>0.001473</td>\n",
       "    </tr>\n",
       "    <tr>\n",
       "      <th>33</th>\n",
       "      <td>ProteccionDispositivo_0</td>\n",
       "      <td>0.001444</td>\n",
       "    </tr>\n",
       "    <tr>\n",
       "      <th>34</th>\n",
       "      <td>Dependientes_0</td>\n",
       "      <td>0.001348</td>\n",
       "    </tr>\n",
       "    <tr>\n",
       "      <th>35</th>\n",
       "      <td>Sexo_0</td>\n",
       "      <td>0.001322</td>\n",
       "    </tr>\n",
       "    <tr>\n",
       "      <th>36</th>\n",
       "      <td>LineasMultiples_2</td>\n",
       "      <td>0.001279</td>\n",
       "    </tr>\n",
       "    <tr>\n",
       "      <th>37</th>\n",
       "      <td>MetodoPago_2</td>\n",
       "      <td>0.001254</td>\n",
       "    </tr>\n",
       "    <tr>\n",
       "      <th>38</th>\n",
       "      <td>Dependientes_1</td>\n",
       "      <td>0.001214</td>\n",
       "    </tr>\n",
       "    <tr>\n",
       "      <th>39</th>\n",
       "      <td>MetodoPago_3</td>\n",
       "      <td>0.001193</td>\n",
       "    </tr>\n",
       "    <tr>\n",
       "      <th>40</th>\n",
       "      <td>SoporteTecnico_2</td>\n",
       "      <td>0.000963</td>\n",
       "    </tr>\n",
       "    <tr>\n",
       "      <th>41</th>\n",
       "      <td>ProteccionDispositivo_2</td>\n",
       "      <td>0.000698</td>\n",
       "    </tr>\n",
       "    <tr>\n",
       "      <th>42</th>\n",
       "      <td>SoporteTecnico_0</td>\n",
       "      <td>0.000663</td>\n",
       "    </tr>\n",
       "    <tr>\n",
       "      <th>43</th>\n",
       "      <td>RespaldoOnline_0</td>\n",
       "      <td>0.000662</td>\n",
       "    </tr>\n",
       "    <tr>\n",
       "      <th>44</th>\n",
       "      <td>SeguridadOnline_0</td>\n",
       "      <td>0.000254</td>\n",
       "    </tr>\n",
       "    <tr>\n",
       "      <th>45</th>\n",
       "      <td>TransmisionTV_0</td>\n",
       "      <td>0.000133</td>\n",
       "    </tr>\n",
       "    <tr>\n",
       "      <th>46</th>\n",
       "      <td>TransmisionPeliculas_0</td>\n",
       "      <td>0.000042</td>\n",
>>>>>>> parent of cc539bd... Nuevo modelo de RF con GSearchCV
       "    </tr>\n",
       "  </tbody>\n",
       "</table>\n",
       "</div>"
      ],
      "text/plain": [
<<<<<<< HEAD
       "                     feature  importance\n",
       "0          TerminoContrato_0    0.174215\n",
       "1               MesesCliente    0.165232\n",
       "2             MesesRestantes    0.120339\n",
       "3         ServicioInternet_1    0.112501\n",
       "4            MontoCargadoMes    0.077260\n",
       "5          MontoCargadoTotal    0.075618\n",
       "6          TerminoContrato_2    0.070307\n",
       "7               MetodoPago_0    0.059643\n",
       "8         ServicioInternet_0    0.037784\n",
       "9          TerminoContrato_1    0.023596\n",
       "10        ServicioInternet_2    0.020351\n",
       "11  FacturacionElectronica_1    0.018071\n",
       "12  FacturacionElectronica_0    0.013325\n",
       "13                      %Gap    0.008537\n",
       "14              MetodoPago_3    0.005467\n",
       "15             AdultoMayor_1    0.005191\n",
       "16             AdultoMayor_0    0.005078\n",
       "17              MetodoPago_1    0.004744\n",
       "18              MetodoPago_2    0.002740"
      ]
     },
     "execution_count": 688,
=======
       "                           feature  importance\n",
       "0                TerminoContrato_0    0.247360\n",
       "1                     MesesCliente    0.206658\n",
       "2               ServicioInternet_1    0.135750\n",
       "3                MontoCargadoTotal    0.097414\n",
       "4                  MontoCargadoMes    0.077538\n",
       "5                SeguridadOnline_1    0.065868\n",
       "6                 SoporteTecnico_1    0.023553\n",
       "7                     MetodoPago_0    0.011832\n",
       "8                TerminoContrato_2    0.011672\n",
       "9               ServicioInternet_0    0.010375\n",
       "10              ServicioInternet_2    0.009252\n",
       "11               TerminoContrato_1    0.007796\n",
       "12                   AdultoMayor_0    0.007690\n",
       "13               SeguridadOnline_2    0.007537\n",
       "14  flg_bySexo_mayorMedianMontoMes    0.006694\n",
       "15                 TransmisionTV_2    0.005972\n",
       "16                RespaldoOnline_1    0.005687\n",
       "17        FacturacionElectronica_0    0.005163\n",
       "18          TransmisionPeliculas_2    0.005033\n",
       "19                   AdultoMayor_1    0.004728\n",
       "20            ServicioTelefonico_1    0.004182\n",
       "21        FacturacionElectronica_1    0.003888\n",
       "22               LineasMultiples_0    0.003888\n",
       "23                 TransmisionTV_1    0.002993\n",
       "24                         Socio_0    0.002466\n",
       "25                         Socio_1    0.002402\n",
       "26            ServicioTelefonico_0    0.002395\n",
       "27          TransmisionPeliculas_1    0.002278\n",
       "28               LineasMultiples_1    0.002248\n",
       "29                    MetodoPago_1    0.002233\n",
       "30                RespaldoOnline_2    0.001862\n",
       "31                          Sexo_1    0.001654\n",
       "32         ProteccionDispositivo_1    0.001473\n",
       "33         ProteccionDispositivo_0    0.001444\n",
       "34                  Dependientes_0    0.001348\n",
       "35                          Sexo_0    0.001322\n",
       "36               LineasMultiples_2    0.001279\n",
       "37                    MetodoPago_2    0.001254\n",
       "38                  Dependientes_1    0.001214\n",
       "39                    MetodoPago_3    0.001193\n",
       "40                SoporteTecnico_2    0.000963\n",
       "41         ProteccionDispositivo_2    0.000698\n",
       "42                SoporteTecnico_0    0.000663\n",
       "43                RespaldoOnline_0    0.000662\n",
       "44               SeguridadOnline_0    0.000254\n",
       "45                 TransmisionTV_0    0.000133\n",
       "46          TransmisionPeliculas_0    0.000042"
      ]
     },
     "execution_count": 307,
>>>>>>> parent of cc539bd... Nuevo modelo de RF con GSearchCV
     "metadata": {},
     "output_type": "execute_result"
    }
   ],
   "source": [
    "df_feature_importances = pd.DataFrame()\n",
    "df_feature_importances['feature'] = X_train.columns\n",
    "df_feature_importances['importance'] = model.feature_importances_/model.feature_importances_.sum()\n",
    "df_feature_importances = df_feature_importances.sort_values(by = ['importance','feature'],ascending=False)\n",
    "df_feature_importances.reset_index(drop = True,inplace=True)\n",
    "\n",
    "df_feature_importances"
   ]
  },
  {
   "cell_type": "code",
<<<<<<< HEAD
   "execution_count": 689,
=======
   "execution_count": 308,
>>>>>>> parent of cc539bd... Nuevo modelo de RF con GSearchCV
   "metadata": {
    "colab": {
     "base_uri": "https://localhost:8080/",
     "height": 340
    },
    "colab_type": "code",
    "id": "tsDvlIIU_R_1",
    "outputId": "5bf0fb90-9c57-4601-b98e-efe0931188ba"
   },
   "outputs": [
    {
     "data": {
      "text/plain": [
<<<<<<< HEAD
       "<matplotlib.axes._subplots.AxesSubplot at 0x1803d0c1cc0>"
      ]
     },
     "execution_count": 689,
=======
       "<matplotlib.axes._subplots.AxesSubplot at 0x1d32c618550>"
      ]
     },
     "execution_count": 308,
>>>>>>> parent of cc539bd... Nuevo modelo de RF con GSearchCV
     "metadata": {},
     "output_type": "execute_result"
    },
    {
     "data": {
<<<<<<< HEAD
      "image/png": "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\n",
=======
      "image/png": "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\n",
>>>>>>> parent of cc539bd... Nuevo modelo de RF con GSearchCV
      "text/plain": [
       "<Figure size 360x360 with 1 Axes>"
      ]
     },
     "metadata": {
      "needs_background": "light"
     },
     "output_type": "display_data"
    }
   ],
   "source": [
    "df_feature_importances[['feature','importance']].sort_values(by=['importance'],\n",
    "                                                             ascending = [True]).plot(kind='barh',\n",
    "                                                             x='feature',\n",
    "                                                             y='importance',\n",
    "                                                             legend=True, \n",
    "                                                             figsize=(5, 5))"
   ]
  },
  {
   "cell_type": "markdown",
   "metadata": {
    "colab_type": "text",
    "id": "xpp8dOIDDWmv"
   },
   "source": [
    "**MODELO FINAL**"
   ]
  },
  {
   "cell_type": "markdown",
   "metadata": {
    "colab_type": "text",
    "id": "HERjQHFoDcCc"
   },
   "source": [
    "Como se puede notar, de los 3 tipos de algoritmos entrenados, el modelo basado en Random Forrest es el ganador con un accuracy optimizado por el punto de corte (threhold: 0.4)"
   ]
  },
  {
   "cell_type": "markdown",
   "metadata": {
    "colab_type": "text",
    "id": "cb_S6QGXtShc"
   },
   "source": [
    "# Predicciones on Submission DS"
   ]
  },
  {
   "cell_type": "code",
<<<<<<< HEAD
   "execution_count": 690,
=======
   "execution_count": 309,
>>>>>>> parent of cc539bd... Nuevo modelo de RF con GSearchCV
   "metadata": {
    "colab": {},
    "colab_type": "code",
    "id": "_KrAWJ2NtShd"
   },
   "outputs": [],
   "source": [
    "pred_prob_subm = model_rf.predict_proba(X_summit)[:,1]\n",
    "pred_subm = [1 if x >= best_threshold else 0 for x in pred_prob_subm]"
   ]
  },
  {
   "cell_type": "code",
<<<<<<< HEAD
   "execution_count": 691,
=======
   "execution_count": 310,
>>>>>>> parent of cc539bd... Nuevo modelo de RF con GSearchCV
   "metadata": {
    "colab": {
     "base_uri": "https://localhost:8080/",
     "height": 195
    },
    "colab_type": "code",
    "id": "u54bT83htShe",
    "outputId": "963182b2-055c-4136-ebff-880a079aed59"
   },
   "outputs": [
    {
     "data": {
      "text/html": [
       "<div>\n",
       "<style scoped>\n",
       "    .dataframe tbody tr th:only-of-type {\n",
       "        vertical-align: middle;\n",
       "    }\n",
       "\n",
       "    .dataframe tbody tr th {\n",
       "        vertical-align: top;\n",
       "    }\n",
       "\n",
       "    .dataframe thead th {\n",
       "        text-align: right;\n",
       "    }\n",
       "</style>\n",
       "<table border=\"1\" class=\"dataframe\">\n",
       "  <thead>\n",
       "    <tr style=\"text-align: right;\">\n",
       "      <th></th>\n",
       "      <th>ID</th>\n",
       "      <th>Churn</th>\n",
       "    </tr>\n",
       "  </thead>\n",
       "  <tbody>\n",
       "    <tr>\n",
       "      <th>0</th>\n",
       "      <td>ID03436</td>\n",
       "      <td>1</td>\n",
       "    </tr>\n",
       "    <tr>\n",
       "      <th>1</th>\n",
       "      <td>ID05166</td>\n",
       "      <td>0</td>\n",
       "    </tr>\n",
       "    <tr>\n",
       "      <th>2</th>\n",
       "      <td>ID04004</td>\n",
       "      <td>1</td>\n",
       "    </tr>\n",
       "    <tr>\n",
       "      <th>3</th>\n",
       "      <td>ID05309</td>\n",
       "      <td>0</td>\n",
       "    </tr>\n",
       "    <tr>\n",
       "      <th>4</th>\n",
       "      <td>ID05434</td>\n",
       "      <td>0</td>\n",
       "    </tr>\n",
       "  </tbody>\n",
       "</table>\n",
       "</div>"
      ],
      "text/plain": [
       "        ID  Churn\n",
       "0  ID03436      1\n",
       "1  ID05166      0\n",
       "2  ID04004      1\n",
       "3  ID05309      0\n",
       "4  ID05434      0"
      ]
     },
<<<<<<< HEAD
     "execution_count": 691,
=======
     "execution_count": 310,
>>>>>>> parent of cc539bd... Nuevo modelo de RF con GSearchCV
     "metadata": {},
     "output_type": "execute_result"
    }
   ],
   "source": [
    "Y_summit_pred = pd.DataFrame()\n",
    "Y_summit_pred[ID] = df_test[ID]\n",
    "Y_summit_pred[TARGET] = pred_subm #pred_prob_subm\n",
    "Y_summit_pred.head()"
   ]
  },
  {
   "cell_type": "markdown",
   "metadata": {
    "colab_type": "text",
    "id": "HZuqQb8stShf"
   },
   "source": [
    "To submission:"
   ]
  },
  {
   "cell_type": "code",
<<<<<<< HEAD
   "execution_count": 692,
=======
   "execution_count": 311,
>>>>>>> parent of cc539bd... Nuevo modelo de RF con GSearchCV
   "metadata": {
    "colab": {},
    "colab_type": "code",
    "id": "wFz5QCrQEa4u"
   },
   "outputs": [],
   "source": [
<<<<<<< HEAD
    "Y_summit_pred.to_csv(\"jdca_submission_04_rf_gridcv_fix_monto_full.csv\", index = False)"
=======
    "Y_summit_pred.to_csv(\"jdca_submission_01_baseline.csv\", index = False)"
>>>>>>> parent of cc539bd... Nuevo modelo de RF con GSearchCV
   ]
  },
  {
   "cell_type": "code",
<<<<<<< HEAD
   "execution_count": 693,
=======
   "execution_count": 314,
>>>>>>> parent of cc539bd... Nuevo modelo de RF con GSearchCV
   "metadata": {},
   "outputs": [
    {
     "name": "stdout",
     "output_type": "stream",
     "text": [
      "Successfully submitted to DSRP - Kaggle Reuniones 1\n"
     ]
    },
    {
     "name": "stderr",
     "output_type": "stream",
     "text": [
      "\n",
      "  0%|          | 0.00/26.5k [00:00<?, ?B/s]\n",
<<<<<<< HEAD
      " 30%|###       | 8.00k/26.5k [00:00<00:00, 25.6kB/s]\n",
      "100%|##########| 26.5k/26.5k [00:00<00:00, 36.6kB/s]\n"
=======
      " 30%|###       | 8.00k/26.5k [00:00<00:00, 25.3kB/s]\n",
      "100%|##########| 26.5k/26.5k [00:00<00:00, 31.3kB/s]\n"
>>>>>>> parent of cc539bd... Nuevo modelo de RF con GSearchCV
     ]
    }
   ],
   "source": [
<<<<<<< HEAD
    "!kaggle competitions submit -c dsrp-kaggle-semillero-01 -f jdca_submission_04_rf_gridcv_fix_monto_full.csv -m \"Message\""
=======
    "!kaggle competitions submit -c dsrp-kaggle-semillero-01 -f jdca_submission_01_baseline.csv -m \"Message\""
>>>>>>> parent of cc539bd... Nuevo modelo de RF con GSearchCV
   ]
  },
  {
   "cell_type": "code",
   "execution_count": null,
   "metadata": {},
   "outputs": [],
   "source": []
  }
 ],
 "metadata": {
  "kernelspec": {
   "display_name": "Python 3",
   "language": "python",
   "name": "python3"
  },
  "language_info": {
   "codemirror_mode": {
    "name": "ipython",
    "version": 3
   },
   "file_extension": ".py",
   "mimetype": "text/x-python",
   "name": "python",
   "nbconvert_exporter": "python",
   "pygments_lexer": "ipython3",
   "version": "3.7.0"
  }
 },
 "nbformat": 4,
 "nbformat_minor": 2
}
