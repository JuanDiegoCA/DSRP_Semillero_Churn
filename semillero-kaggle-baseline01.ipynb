{
 "cells": [
  {
   "cell_type": "markdown",
   "metadata": {
    "colab_type": "text",
    "id": "XOMSgFHo1Qp2"
   },
   "source": [
    "**Telecom Customer Churn**\n",
    "\n",
    "---"
   ]
  },
  {
   "cell_type": "markdown",
   "metadata": {
    "colab_type": "text",
    "id": "pMC0NiCcIPzt"
   },
   "source": [
    "Challenge Link: https://www.kaggle.com/c/dsrp-kaggle-semillero-01\n",
    "\n",
    "Autor: **Keven Fernandez Carrillo**\n",
    "\n",
    "Versión: 1.0\n",
    "\n",
    "GitHub: https://github.com/KevenRFC"
   ]
  },
  {
   "cell_type": "markdown",
   "metadata": {
    "colab_type": "text",
    "id": "hZr45jA7tSdb"
   },
   "source": [
    "# 1) IMPORT & INSTALL PACKAGES"
   ]
  },
  {
   "cell_type": "code",
   "execution_count": 1,
   "metadata": {
    "colab": {},
    "colab_type": "code",
    "id": "jbCm94H6tSdi"
   },
   "outputs": [],
   "source": [
    "import pandas as pd\n",
    "import numpy as np\n",
    "import matplotlib.pylab as pylab \n",
    "from matplotlib import pyplot as plt\n",
    "import seaborn as sns\n",
    "from scipy import stats \n",
    "from sklearn import metrics as mt\n",
    "\n",
    "%matplotlib inline\n",
    "pylab.rcParams['figure.figsize'] = 6,4\n",
    "\n",
    "# Ignorar warnings\n",
    "import warnings\n",
    "warnings.filterwarnings(\"ignore\")"
   ]
  },
  {
   "cell_type": "markdown",
   "metadata": {
    "colab_type": "text",
    "id": "srynLKfd2EuT"
   },
   "source": [
    "# 2) DATA UNDERSTANDING"
   ]
  },
  {
   "cell_type": "markdown",
   "metadata": {
    "colab_type": "text",
    "id": "cbvLflMqtSdv"
   },
   "source": [
    "## 2.1) Load Data"
   ]
  },
  {
   "cell_type": "code",
   "execution_count": 2,
   "metadata": {
    "colab": {},
    "colab_type": "code",
    "id": "3OlwCUhuOFrG"
   },
   "outputs": [],
   "source": [
    "# Seleccion de Variables a usar en este BASELINE:\n",
    "features_iniciales = ['ID',\n",
    " 'Sexo',\n",
    " 'AdultoMayor',\n",
    " 'MesesCliente',\n",
    " 'ServicioTelefonico',\n",
    " 'LineasMultiples',\n",
    " 'ProteccionDispositivo',\n",
    " 'SoporteTecnico',\n",
    " 'FacturacionElectronica',\n",
    " 'MontoCargadoMes']"
   ]
  },
  {
   "cell_type": "code",
   "execution_count": 5,
   "metadata": {},
   "outputs": [
    {
     "name": "stdout",
     "output_type": "stream",
     "text": [
      "['churn_data_test.csv', 'churn_data_train.csv']\n"
     ]
    }
   ],
   "source": [
    "import os\n",
    "print(os.listdir(\"input\"))"
   ]
  },
  {
   "cell_type": "code",
   "execution_count": 8,
   "metadata": {
    "colab": {},
    "colab_type": "code",
    "id": "nQ_tneyYuW2T"
   },
   "outputs": [],
   "source": [
    "# Import from\n",
    "\n",
    "path = \"input/\"\n",
    "df_train = pd.read_csv(path+\"churn_data_train.csv\",encoding='latin-1', usecols=features_iniciales+['Churn'])\n",
    "df_test = pd.read_csv(path+\"churn_data_test.csv\",encoding='latin-1', usecols=features_iniciales)"
   ]
  },
  {
   "cell_type": "markdown",
   "metadata": {
    "colab_type": "text",
    "id": "fYUPYLp76YEx"
   },
   "source": [
    "## 2.2) Data Exploration"
   ]
  },
  {
   "cell_type": "markdown",
   "metadata": {
    "colab_type": "text",
    "id": "J6rYZXIPZHSH"
   },
   "source": [
    "### 2.2.1) Basic Statistics"
   ]
  },
  {
   "cell_type": "code",
   "execution_count": 9,
   "metadata": {
    "colab": {
     "base_uri": "https://localhost:8080/",
     "height": 34
    },
    "colab_type": "code",
    "id": "KYhhYYlHtSd4",
    "outputId": "66187cd1-bfca-40f1-d391-494eae59eba4"
   },
   "outputs": [
    {
     "data": {
      "text/plain": [
       "((4577, 11), (2466, 10))"
      ]
     },
     "execution_count": 9,
     "metadata": {},
     "output_type": "execute_result"
    }
   ],
   "source": [
    "df_train.shape, df_test.shape"
   ]
  },
  {
   "cell_type": "code",
   "execution_count": 10,
   "metadata": {
    "colab": {
     "base_uri": "https://localhost:8080/",
     "height": 249
    },
    "colab_type": "code",
    "id": "Lr4g3n26tSeA",
    "outputId": "62696ed0-e454-4c13-eb3d-5537572c4abb"
   },
   "outputs": [
    {
     "data": {
      "text/html": [
       "<div>\n",
       "<style scoped>\n",
       "    .dataframe tbody tr th:only-of-type {\n",
       "        vertical-align: middle;\n",
       "    }\n",
       "\n",
       "    .dataframe tbody tr th {\n",
       "        vertical-align: top;\n",
       "    }\n",
       "\n",
       "    .dataframe thead th {\n",
       "        text-align: right;\n",
       "    }\n",
       "</style>\n",
       "<table border=\"1\" class=\"dataframe\">\n",
       "  <thead>\n",
       "    <tr style=\"text-align: right;\">\n",
       "      <th></th>\n",
       "      <th>ID</th>\n",
       "      <th>Sexo</th>\n",
       "      <th>AdultoMayor</th>\n",
       "      <th>MesesCliente</th>\n",
       "      <th>ServicioTelefonico</th>\n",
       "      <th>LineasMultiples</th>\n",
       "      <th>ProteccionDispositivo</th>\n",
       "      <th>SoporteTecnico</th>\n",
       "      <th>FacturacionElectronica</th>\n",
       "      <th>MontoCargadoMes</th>\n",
       "      <th>Churn</th>\n",
       "    </tr>\n",
       "  </thead>\n",
       "  <tbody>\n",
       "    <tr>\n",
       "      <th>0</th>\n",
       "      <td>ID01802</td>\n",
       "      <td>Masculino</td>\n",
       "      <td>1.0</td>\n",
       "      <td>11.0</td>\n",
       "      <td>Si</td>\n",
       "      <td>Si</td>\n",
       "      <td>No</td>\n",
       "      <td>No</td>\n",
       "      <td>No</td>\n",
       "      <td>60.25</td>\n",
       "      <td>0</td>\n",
       "    </tr>\n",
       "    <tr>\n",
       "      <th>1</th>\n",
       "      <td>ID05696</td>\n",
       "      <td>Masculino</td>\n",
       "      <td>0.0</td>\n",
       "      <td>1.0</td>\n",
       "      <td>Si</td>\n",
       "      <td>No</td>\n",
       "      <td>Sin servicio de internet</td>\n",
       "      <td>Sin servicio de internet</td>\n",
       "      <td>No</td>\n",
       "      <td>20.05</td>\n",
       "      <td>0</td>\n",
       "    </tr>\n",
       "    <tr>\n",
       "      <th>2</th>\n",
       "      <td>ID03166</td>\n",
       "      <td>Femenino</td>\n",
       "      <td>0.0</td>\n",
       "      <td>8.0</td>\n",
       "      <td>Si</td>\n",
       "      <td>No</td>\n",
       "      <td>Si</td>\n",
       "      <td>No</td>\n",
       "      <td>Si</td>\n",
       "      <td>94.20</td>\n",
       "      <td>1</td>\n",
       "    </tr>\n",
       "    <tr>\n",
       "      <th>3</th>\n",
       "      <td>ID00104</td>\n",
       "      <td>Masculino</td>\n",
       "      <td>0.0</td>\n",
       "      <td>50.0</td>\n",
       "      <td>No</td>\n",
       "      <td>Sin servicio telefonico</td>\n",
       "      <td>No</td>\n",
       "      <td>No</td>\n",
       "      <td>Si</td>\n",
       "      <td>39.45</td>\n",
       "      <td>0</td>\n",
       "    </tr>\n",
       "    <tr>\n",
       "      <th>4</th>\n",
       "      <td>ID05060</td>\n",
       "      <td>Femenino</td>\n",
       "      <td>0.0</td>\n",
       "      <td>71.0</td>\n",
       "      <td>Si</td>\n",
       "      <td>Si</td>\n",
       "      <td>Si</td>\n",
       "      <td>Si</td>\n",
       "      <td>Si</td>\n",
       "      <td>118.65</td>\n",
       "      <td>0</td>\n",
       "    </tr>\n",
       "  </tbody>\n",
       "</table>\n",
       "</div>"
      ],
      "text/plain": [
       "        ID       Sexo  AdultoMayor  MesesCliente ServicioTelefonico  \\\n",
       "0  ID01802  Masculino          1.0          11.0                 Si   \n",
       "1  ID05696  Masculino          0.0           1.0                 Si   \n",
       "2  ID03166   Femenino          0.0           8.0                 Si   \n",
       "3  ID00104  Masculino          0.0          50.0                 No   \n",
       "4  ID05060   Femenino          0.0          71.0                 Si   \n",
       "\n",
       "           LineasMultiples     ProteccionDispositivo  \\\n",
       "0                       Si                        No   \n",
       "1                       No  Sin servicio de internet   \n",
       "2                       No                        Si   \n",
       "3  Sin servicio telefonico                        No   \n",
       "4                       Si                        Si   \n",
       "\n",
       "             SoporteTecnico FacturacionElectronica  MontoCargadoMes  Churn  \n",
       "0                        No                     No            60.25      0  \n",
       "1  Sin servicio de internet                     No            20.05      0  \n",
       "2                        No                     Si            94.20      1  \n",
       "3                        No                     Si            39.45      0  \n",
       "4                        Si                     Si           118.65      0  "
      ]
     },
     "execution_count": 10,
     "metadata": {},
     "output_type": "execute_result"
    }
   ],
   "source": [
    "df_train.head()"
   ]
  },
  {
   "cell_type": "code",
   "execution_count": 11,
   "metadata": {
    "colab": {
     "base_uri": "https://localhost:8080/",
     "height": 249
    },
    "colab_type": "code",
    "id": "e6DC2WjQeHmC",
    "outputId": "46e491f9-b360-4958-8307-1086f9442fb1"
   },
   "outputs": [
    {
     "data": {
      "text/html": [
       "<div>\n",
       "<style scoped>\n",
       "    .dataframe tbody tr th:only-of-type {\n",
       "        vertical-align: middle;\n",
       "    }\n",
       "\n",
       "    .dataframe tbody tr th {\n",
       "        vertical-align: top;\n",
       "    }\n",
       "\n",
       "    .dataframe thead th {\n",
       "        text-align: right;\n",
       "    }\n",
       "</style>\n",
       "<table border=\"1\" class=\"dataframe\">\n",
       "  <thead>\n",
       "    <tr style=\"text-align: right;\">\n",
       "      <th></th>\n",
       "      <th>ID</th>\n",
       "      <th>Sexo</th>\n",
       "      <th>AdultoMayor</th>\n",
       "      <th>MesesCliente</th>\n",
       "      <th>ServicioTelefonico</th>\n",
       "      <th>LineasMultiples</th>\n",
       "      <th>ProteccionDispositivo</th>\n",
       "      <th>SoporteTecnico</th>\n",
       "      <th>FacturacionElectronica</th>\n",
       "      <th>MontoCargadoMes</th>\n",
       "    </tr>\n",
       "  </thead>\n",
       "  <tbody>\n",
       "    <tr>\n",
       "      <th>0</th>\n",
       "      <td>ID03436</td>\n",
       "      <td>Masculino</td>\n",
       "      <td>0.0</td>\n",
       "      <td>1.0</td>\n",
       "      <td>Si</td>\n",
       "      <td>No</td>\n",
       "      <td>No</td>\n",
       "      <td>No</td>\n",
       "      <td>No</td>\n",
       "      <td>47.95</td>\n",
       "    </tr>\n",
       "    <tr>\n",
       "      <th>1</th>\n",
       "      <td>ID05166</td>\n",
       "      <td>Femenino</td>\n",
       "      <td>0.0</td>\n",
       "      <td>62.0</td>\n",
       "      <td>Si</td>\n",
       "      <td>Si</td>\n",
       "      <td>Si</td>\n",
       "      <td>Si</td>\n",
       "      <td>Si</td>\n",
       "      <td>110.80</td>\n",
       "    </tr>\n",
       "    <tr>\n",
       "      <th>2</th>\n",
       "      <td>ID04004</td>\n",
       "      <td>Femenino</td>\n",
       "      <td>0.0</td>\n",
       "      <td>7.0</td>\n",
       "      <td>Si</td>\n",
       "      <td>No</td>\n",
       "      <td>Si</td>\n",
       "      <td>No</td>\n",
       "      <td>Si</td>\n",
       "      <td>86.25</td>\n",
       "    </tr>\n",
       "    <tr>\n",
       "      <th>3</th>\n",
       "      <td>ID05309</td>\n",
       "      <td>Femenino</td>\n",
       "      <td>1.0</td>\n",
       "      <td>50.0</td>\n",
       "      <td>Si</td>\n",
       "      <td>Si</td>\n",
       "      <td>Sin servicio de internet</td>\n",
       "      <td>Sin servicio de internet</td>\n",
       "      <td>No</td>\n",
       "      <td>25.20</td>\n",
       "    </tr>\n",
       "    <tr>\n",
       "      <th>4</th>\n",
       "      <td>ID05434</td>\n",
       "      <td>Masculino</td>\n",
       "      <td>0.0</td>\n",
       "      <td>1.0</td>\n",
       "      <td>Si</td>\n",
       "      <td>No</td>\n",
       "      <td>Sin servicio de internet</td>\n",
       "      <td>Sin servicio de internet</td>\n",
       "      <td>No</td>\n",
       "      <td>NaN</td>\n",
       "    </tr>\n",
       "  </tbody>\n",
       "</table>\n",
       "</div>"
      ],
      "text/plain": [
       "        ID       Sexo  AdultoMayor  MesesCliente ServicioTelefonico  \\\n",
       "0  ID03436  Masculino          0.0           1.0                 Si   \n",
       "1  ID05166   Femenino          0.0          62.0                 Si   \n",
       "2  ID04004   Femenino          0.0           7.0                 Si   \n",
       "3  ID05309   Femenino          1.0          50.0                 Si   \n",
       "4  ID05434  Masculino          0.0           1.0                 Si   \n",
       "\n",
       "  LineasMultiples     ProteccionDispositivo            SoporteTecnico  \\\n",
       "0              No                        No                        No   \n",
       "1              Si                        Si                        Si   \n",
       "2              No                        Si                        No   \n",
       "3              Si  Sin servicio de internet  Sin servicio de internet   \n",
       "4              No  Sin servicio de internet  Sin servicio de internet   \n",
       "\n",
       "  FacturacionElectronica  MontoCargadoMes  \n",
       "0                     No            47.95  \n",
       "1                     Si           110.80  \n",
       "2                     Si            86.25  \n",
       "3                     No            25.20  \n",
       "4                     No              NaN  "
      ]
     },
     "execution_count": 11,
     "metadata": {},
     "output_type": "execute_result"
    }
   ],
   "source": [
    "df_test.head()"
   ]
  },
  {
   "cell_type": "code",
   "execution_count": 12,
   "metadata": {
    "colab": {
     "base_uri": "https://localhost:8080/",
     "height": 286
    },
    "colab_type": "code",
    "id": "oyQfSVw3tSeG",
    "outputId": "574a21d9-84be-41c2-dfa3-1ff465f1885b"
   },
   "outputs": [
    {
     "name": "stdout",
     "output_type": "stream",
     "text": [
      "<class 'pandas.core.frame.DataFrame'>\n",
      "RangeIndex: 4577 entries, 0 to 4576\n",
      "Data columns (total 11 columns):\n",
      "ID                        4577 non-null object\n",
      "Sexo                      4577 non-null object\n",
      "AdultoMayor               4503 non-null float64\n",
      "MesesCliente              4573 non-null float64\n",
      "ServicioTelefonico        4577 non-null object\n",
      "LineasMultiples           4577 non-null object\n",
      "ProteccionDispositivo     4483 non-null object\n",
      "SoporteTecnico            4483 non-null object\n",
      "FacturacionElectronica    4531 non-null object\n",
      "MontoCargadoMes           4163 non-null float64\n",
      "Churn                     4577 non-null int64\n",
      "dtypes: float64(3), int64(1), object(7)\n",
      "memory usage: 393.4+ KB\n"
     ]
    }
   ],
   "source": [
    "df_train.info()"
   ]
  },
  {
   "cell_type": "code",
   "execution_count": 13,
   "metadata": {
    "colab": {
     "base_uri": "https://localhost:8080/",
     "height": 269
    },
    "colab_type": "code",
    "id": "Ov0whagqeJou",
    "outputId": "da1bf303-d11e-49a6-cb9c-8200602bd1df"
   },
   "outputs": [
    {
     "name": "stdout",
     "output_type": "stream",
     "text": [
      "<class 'pandas.core.frame.DataFrame'>\n",
      "RangeIndex: 2466 entries, 0 to 2465\n",
      "Data columns (total 10 columns):\n",
      "ID                        2466 non-null object\n",
      "Sexo                      2466 non-null object\n",
      "AdultoMayor               2414 non-null float64\n",
      "MesesCliente              2459 non-null float64\n",
      "ServicioTelefonico        2466 non-null object\n",
      "LineasMultiples           2466 non-null object\n",
      "ProteccionDispositivo     2404 non-null object\n",
      "SoporteTecnico            2404 non-null object\n",
      "FacturacionElectronica    2442 non-null object\n",
      "MontoCargadoMes           2267 non-null float64\n",
      "dtypes: float64(3), object(7)\n",
      "memory usage: 192.7+ KB\n"
     ]
    }
   ],
   "source": [
    "df_test.info()"
   ]
  },
  {
   "cell_type": "code",
   "execution_count": 14,
   "metadata": {
    "colab": {},
    "colab_type": "code",
    "id": "RO-fGVkrtSeN"
   },
   "outputs": [],
   "source": [
    "# Defining features types\n",
    "ID = 'ID'\n",
    "TARGET = 'Churn'"
   ]
  },
  {
   "cell_type": "code",
   "execution_count": 15,
   "metadata": {
    "colab": {
     "base_uri": "https://localhost:8080/",
     "height": 67
    },
    "colab_type": "code",
    "id": "EdwIGExolcQ7",
    "outputId": "1fc079d8-1f62-4b52-f195-9c00129e21a3"
   },
   "outputs": [
    {
     "data": {
      "text/plain": [
       "0    3362\n",
       "1    1215\n",
       "Name: Churn, dtype: int64"
      ]
     },
     "execution_count": 15,
     "metadata": {},
     "output_type": "execute_result"
    }
   ],
   "source": [
    "# Distribución del Target\n",
    "df_train[TARGET].value_counts(dropna=False)"
   ]
  },
  {
   "cell_type": "code",
   "execution_count": 16,
   "metadata": {
    "colab": {
     "base_uri": "https://localhost:8080/",
     "height": 67
    },
    "colab_type": "code",
    "id": "mltQbD5dln-Z",
    "outputId": "ad572b19-f5ea-47c4-8980-b61bd0bdaeb5"
   },
   "outputs": [
    {
     "data": {
      "text/plain": [
       "0    73.454228\n",
       "1    26.545772\n",
       "Name: Churn, dtype: float64"
      ]
     },
     "execution_count": 16,
     "metadata": {},
     "output_type": "execute_result"
    }
   ],
   "source": [
    "df_train[TARGET].value_counts(dropna=False, normalize = True)*100"
   ]
  },
  {
   "cell_type": "code",
   "execution_count": 17,
   "metadata": {
    "colab": {
     "base_uri": "https://localhost:8080/",
     "height": 373
    },
    "colab_type": "code",
    "id": "4ZCj9ubHPRWf",
    "outputId": "c836ee21-8837-4c2e-c005-ac90a703903b"
   },
   "outputs": [
    {
     "data": {
      "text/html": [
       "<div>\n",
       "<style scoped>\n",
       "    .dataframe tbody tr th:only-of-type {\n",
       "        vertical-align: middle;\n",
       "    }\n",
       "\n",
       "    .dataframe tbody tr th {\n",
       "        vertical-align: top;\n",
       "    }\n",
       "\n",
       "    .dataframe thead th {\n",
       "        text-align: right;\n",
       "    }\n",
       "</style>\n",
       "<table border=\"1\" class=\"dataframe\">\n",
       "  <thead>\n",
       "    <tr style=\"text-align: right;\">\n",
       "      <th></th>\n",
       "      <th>count</th>\n",
       "      <th>unique</th>\n",
       "      <th>top</th>\n",
       "      <th>freq</th>\n",
       "      <th>mean</th>\n",
       "      <th>std</th>\n",
       "      <th>min</th>\n",
       "      <th>25%</th>\n",
       "      <th>50%</th>\n",
       "      <th>75%</th>\n",
       "      <th>max</th>\n",
       "    </tr>\n",
       "  </thead>\n",
       "  <tbody>\n",
       "    <tr>\n",
       "      <th>ID</th>\n",
       "      <td>4577</td>\n",
       "      <td>4577</td>\n",
       "      <td>ID05701</td>\n",
       "      <td>1</td>\n",
       "      <td>NaN</td>\n",
       "      <td>NaN</td>\n",
       "      <td>NaN</td>\n",
       "      <td>NaN</td>\n",
       "      <td>NaN</td>\n",
       "      <td>NaN</td>\n",
       "      <td>NaN</td>\n",
       "    </tr>\n",
       "    <tr>\n",
       "      <th>Sexo</th>\n",
       "      <td>4577</td>\n",
       "      <td>2</td>\n",
       "      <td>Masculino</td>\n",
       "      <td>2323</td>\n",
       "      <td>NaN</td>\n",
       "      <td>NaN</td>\n",
       "      <td>NaN</td>\n",
       "      <td>NaN</td>\n",
       "      <td>NaN</td>\n",
       "      <td>NaN</td>\n",
       "      <td>NaN</td>\n",
       "    </tr>\n",
       "    <tr>\n",
       "      <th>AdultoMayor</th>\n",
       "      <td>4577</td>\n",
       "      <td>3</td>\n",
       "      <td>0.0</td>\n",
       "      <td>3808</td>\n",
       "      <td>NaN</td>\n",
       "      <td>NaN</td>\n",
       "      <td>NaN</td>\n",
       "      <td>NaN</td>\n",
       "      <td>NaN</td>\n",
       "      <td>NaN</td>\n",
       "      <td>NaN</td>\n",
       "    </tr>\n",
       "    <tr>\n",
       "      <th>MesesCliente</th>\n",
       "      <td>4573</td>\n",
       "      <td>NaN</td>\n",
       "      <td>NaN</td>\n",
       "      <td>NaN</td>\n",
       "      <td>32.4083</td>\n",
       "      <td>24.6555</td>\n",
       "      <td>1</td>\n",
       "      <td>9</td>\n",
       "      <td>29</td>\n",
       "      <td>56</td>\n",
       "      <td>72</td>\n",
       "    </tr>\n",
       "    <tr>\n",
       "      <th>ServicioTelefonico</th>\n",
       "      <td>4577</td>\n",
       "      <td>2</td>\n",
       "      <td>Si</td>\n",
       "      <td>4118</td>\n",
       "      <td>NaN</td>\n",
       "      <td>NaN</td>\n",
       "      <td>NaN</td>\n",
       "      <td>NaN</td>\n",
       "      <td>NaN</td>\n",
       "      <td>NaN</td>\n",
       "      <td>NaN</td>\n",
       "    </tr>\n",
       "    <tr>\n",
       "      <th>LineasMultiples</th>\n",
       "      <td>4577</td>\n",
       "      <td>3</td>\n",
       "      <td>No</td>\n",
       "      <td>2205</td>\n",
       "      <td>NaN</td>\n",
       "      <td>NaN</td>\n",
       "      <td>NaN</td>\n",
       "      <td>NaN</td>\n",
       "      <td>NaN</td>\n",
       "      <td>NaN</td>\n",
       "      <td>NaN</td>\n",
       "    </tr>\n",
       "    <tr>\n",
       "      <th>ProteccionDispositivo</th>\n",
       "      <td>4483</td>\n",
       "      <td>3</td>\n",
       "      <td>No</td>\n",
       "      <td>2032</td>\n",
       "      <td>NaN</td>\n",
       "      <td>NaN</td>\n",
       "      <td>NaN</td>\n",
       "      <td>NaN</td>\n",
       "      <td>NaN</td>\n",
       "      <td>NaN</td>\n",
       "      <td>NaN</td>\n",
       "    </tr>\n",
       "    <tr>\n",
       "      <th>SoporteTecnico</th>\n",
       "      <td>4483</td>\n",
       "      <td>3</td>\n",
       "      <td>No</td>\n",
       "      <td>2249</td>\n",
       "      <td>NaN</td>\n",
       "      <td>NaN</td>\n",
       "      <td>NaN</td>\n",
       "      <td>NaN</td>\n",
       "      <td>NaN</td>\n",
       "      <td>NaN</td>\n",
       "      <td>NaN</td>\n",
       "    </tr>\n",
       "    <tr>\n",
       "      <th>FacturacionElectronica</th>\n",
       "      <td>4531</td>\n",
       "      <td>2</td>\n",
       "      <td>Si</td>\n",
       "      <td>2714</td>\n",
       "      <td>NaN</td>\n",
       "      <td>NaN</td>\n",
       "      <td>NaN</td>\n",
       "      <td>NaN</td>\n",
       "      <td>NaN</td>\n",
       "      <td>NaN</td>\n",
       "      <td>NaN</td>\n",
       "    </tr>\n",
       "    <tr>\n",
       "      <th>MontoCargadoMes</th>\n",
       "      <td>4163</td>\n",
       "      <td>NaN</td>\n",
       "      <td>NaN</td>\n",
       "      <td>NaN</td>\n",
       "      <td>68.7042</td>\n",
       "      <td>28.0161</td>\n",
       "      <td>20</td>\n",
       "      <td>48.75</td>\n",
       "      <td>74.4</td>\n",
       "      <td>90.825</td>\n",
       "      <td>118.65</td>\n",
       "    </tr>\n",
       "    <tr>\n",
       "      <th>Churn</th>\n",
       "      <td>4577</td>\n",
       "      <td>NaN</td>\n",
       "      <td>NaN</td>\n",
       "      <td>NaN</td>\n",
       "      <td>0.265458</td>\n",
       "      <td>0.441625</td>\n",
       "      <td>0</td>\n",
       "      <td>0</td>\n",
       "      <td>0</td>\n",
       "      <td>1</td>\n",
       "      <td>1</td>\n",
       "    </tr>\n",
       "  </tbody>\n",
       "</table>\n",
       "</div>"
      ],
      "text/plain": [
       "                       count unique        top  freq      mean       std  min  \\\n",
       "ID                      4577   4577    ID05701     1       NaN       NaN  NaN   \n",
       "Sexo                    4577      2  Masculino  2323       NaN       NaN  NaN   \n",
       "AdultoMayor             4577      3        0.0  3808       NaN       NaN  NaN   \n",
       "MesesCliente            4573    NaN        NaN   NaN   32.4083   24.6555    1   \n",
       "ServicioTelefonico      4577      2         Si  4118       NaN       NaN  NaN   \n",
       "LineasMultiples         4577      3         No  2205       NaN       NaN  NaN   \n",
       "ProteccionDispositivo   4483      3         No  2032       NaN       NaN  NaN   \n",
       "SoporteTecnico          4483      3         No  2249       NaN       NaN  NaN   \n",
       "FacturacionElectronica  4531      2         Si  2714       NaN       NaN  NaN   \n",
       "MontoCargadoMes         4163    NaN        NaN   NaN   68.7042   28.0161   20   \n",
       "Churn                   4577    NaN        NaN   NaN  0.265458  0.441625    0   \n",
       "\n",
       "                          25%   50%     75%     max  \n",
       "ID                        NaN   NaN     NaN     NaN  \n",
       "Sexo                      NaN   NaN     NaN     NaN  \n",
       "AdultoMayor               NaN   NaN     NaN     NaN  \n",
       "MesesCliente                9    29      56      72  \n",
       "ServicioTelefonico        NaN   NaN     NaN     NaN  \n",
       "LineasMultiples           NaN   NaN     NaN     NaN  \n",
       "ProteccionDispositivo     NaN   NaN     NaN     NaN  \n",
       "SoporteTecnico            NaN   NaN     NaN     NaN  \n",
       "FacturacionElectronica    NaN   NaN     NaN     NaN  \n",
       "MontoCargadoMes         48.75  74.4  90.825  118.65  \n",
       "Churn                       0     0       1       1  "
      ]
     },
     "execution_count": 17,
     "metadata": {},
     "output_type": "execute_result"
    }
   ],
   "source": [
    "# Generar estadisticos básicos para cada variable:\n",
    "### count: Count number of non-NA/null observations.\t\n",
    "### unique: Count uniques numbers of non-NA/null observations.\n",
    "### top: Mean of the values.\n",
    "### freq: Mean of the values.\n",
    "\n",
    "### mean: Mean of the values.\n",
    "### std: Standard deviation of the observations.\n",
    "\n",
    "### min: Minimum of the values in the object.\n",
    "### X%: The value of Quartil: 25% - Q1 , 50% - Q2, 75% - Q3\n",
    "### max: Maximum of the values in the object.\n",
    "\n",
    "df_train['AdultoMayor'] = df_train['AdultoMayor'].astype(str) # Convertir a variable categorica\n",
    "df_train.describe(include = 'all').T"
   ]
  },
  {
   "cell_type": "code",
   "execution_count": 18,
   "metadata": {
    "colab": {},
    "colab_type": "code",
    "id": "dofE1GmsVP03"
   },
   "outputs": [],
   "source": [
    "df_train['AdultoMayor'] = df_train['AdultoMayor'].astype(float) # Convertir a variable numerica"
   ]
  },
  {
   "cell_type": "markdown",
   "metadata": {
    "colab_type": "text",
    "id": "iRIi0a0jZTJe"
   },
   "source": [
    "### 2.2.2) EDA"
   ]
  },
  {
   "cell_type": "markdown",
   "metadata": {
    "colab_type": "text",
    "id": "7dJoUHDiRHcV"
   },
   "source": [
    "#### 2.2.2.a) Evaluate missings"
   ]
  },
  {
   "cell_type": "code",
   "execution_count": 20,
   "metadata": {
    "collapsed": true
   },
   "outputs": [
    {
     "name": "stdout",
     "output_type": "stream",
     "text": [
      "Collecting missingno\n",
      "  Downloading https://files.pythonhosted.org/packages/57/eb/9d7d55ceec57e0e374e70e9ad8d16795ba91960a3c987f3b5ee71d3e8e4d/missingno-0.4.1-py3-none-any.whl\n",
      "Requirement already satisfied: seaborn in c:\\users\\cuya.j\\anaconda3\\lib\\site-packages (from missingno) (0.9.0)\n",
      "Requirement already satisfied: matplotlib in c:\\users\\cuya.j\\anaconda3\\lib\\site-packages (from missingno) (3.0.3)\n",
      "Requirement already satisfied: numpy in c:\\users\\cuya.j\\anaconda3\\lib\\site-packages (from missingno) (1.16.2)\n",
      "Requirement already satisfied: scipy in c:\\users\\cuya.j\\anaconda3\\lib\\site-packages (from missingno) (1.2.1)\n",
      "Requirement already satisfied: pandas>=0.15.2 in c:\\users\\cuya.j\\anaconda3\\lib\\site-packages (from seaborn->missingno) (0.24.2)\n",
      "Requirement already satisfied: cycler>=0.10 in c:\\users\\cuya.j\\anaconda3\\lib\\site-packages (from matplotlib->missingno) (0.10.0)\n",
      "Requirement already satisfied: kiwisolver>=1.0.1 in c:\\users\\cuya.j\\anaconda3\\lib\\site-packages (from matplotlib->missingno) (1.0.1)\n",
      "Requirement already satisfied: pyparsing!=2.0.4,!=2.1.2,!=2.1.6,>=2.0.1 in c:\\users\\cuya.j\\anaconda3\\lib\\site-packages (from matplotlib->missingno) (2.3.1)\n",
      "Requirement already satisfied: python-dateutil>=2.1 in c:\\users\\cuya.j\\anaconda3\\lib\\site-packages (from matplotlib->missingno) (2.8.0)\n",
      "Requirement already satisfied: pytz>=2011k in c:\\users\\cuya.j\\anaconda3\\lib\\site-packages (from pandas>=0.15.2->seaborn->missingno) (2018.9)\n",
      "Requirement already satisfied: six in c:\\users\\cuya.j\\anaconda3\\lib\\site-packages (from cycler>=0.10->matplotlib->missingno) (1.12.0)\n",
      "Requirement already satisfied: setuptools in c:\\users\\cuya.j\\anaconda3\\lib\\site-packages (from kiwisolver>=1.0.1->matplotlib->missingno) (40.8.0)\n",
      "Installing collected packages: missingno\n",
      "Successfully installed missingno-0.4.1\n"
     ]
    }
   ],
   "source": [
    "#!pip install missingno"
   ]
  },
  {
   "cell_type": "code",
   "execution_count": 21,
   "metadata": {
    "colab": {
     "base_uri": "https://localhost:8080/",
     "height": 770
    },
    "colab_type": "code",
    "id": "52fiuBSCRHZN",
    "outputId": "592804c7-a847-4df9-995e-b994947695ab",
    "scrolled": false
   },
   "outputs": [
    {
     "data": {
      "text/plain": [
       "<matplotlib.axes._subplots.AxesSubplot at 0x2a40f1850b8>"
      ]
     },
     "execution_count": 21,
     "metadata": {},
     "output_type": "execute_result"
    },
    {
     "data": {
      "image/png": "[encoded data removed]",
      "text/plain": [
       "<Figure size 1800x720 with 2 Axes>"
      ]
     },
     "metadata": {
      "needs_background": "light"
     },
     "output_type": "display_data"
    }
   ],
   "source": [
    "import missingno as msno\n",
    "msno.matrix(df_train)"
   ]
  },
  {
   "cell_type": "code",
   "execution_count": 22,
   "metadata": {
    "colab": {
     "base_uri": "https://localhost:8080/",
     "height": 770
    },
    "colab_type": "code",
    "id": "_QGMM1zPRHWM",
    "outputId": "0d41e64e-518c-4578-d7ea-adf128718b7a"
   },
   "outputs": [
    {
     "data": {
      "text/plain": [
       "<matplotlib.axes._subplots.AxesSubplot at 0x2a40f00b278>"
      ]
     },
     "execution_count": 22,
     "metadata": {},
     "output_type": "execute_result"
    },
    {
     "data": {
      "image/png": "[encoded data removed]",
      "text/plain": [
       "<Figure size 1800x720 with 2 Axes>"
      ]
     },
     "metadata": {
      "needs_background": "light"
     },
     "output_type": "display_data"
    }
   ],
   "source": [
    "msno.matrix(df_test)"
   ]
  },
  {
   "cell_type": "markdown",
   "metadata": {
    "colab_type": "text",
    "id": "F7iG2IaUJXI_"
   },
   "source": [
    "#### 2.2.3.b) Identify outliers"
   ]
  },
  {
   "cell_type": "code",
   "execution_count": 23,
   "metadata": {
    "colab": {},
    "colab_type": "code",
    "id": "ZrScFpMGJdr1"
   },
   "outputs": [],
   "source": [
    "None"
   ]
  },
  {
   "cell_type": "markdown",
   "metadata": {
    "colab_type": "text",
    "id": "VWjwo_HsJpUY"
   },
   "source": [
    "#### 2.2.4.c) Adictionales"
   ]
  },
  {
   "cell_type": "code",
   "execution_count": 24,
   "metadata": {
    "colab": {},
    "colab_type": "code",
    "id": "5M3Hl6X_JzdU"
   },
   "outputs": [],
   "source": [
    "None"
   ]
  },
  {
   "cell_type": "markdown",
   "metadata": {
    "colab_type": "text",
    "id": "AWXglcCQtSeQ"
   },
   "source": [
    "# 3) DATA PREPARATION"
   ]
  },
  {
   "cell_type": "code",
   "execution_count": 25,
   "metadata": {
    "colab": {},
    "colab_type": "code",
    "id": "hCL3BNjgg7sw"
   },
   "outputs": [],
   "source": [
    "# Copy dataset and then apply transformation to copied dataset\n",
    "ds_train = df_train.copy()\n",
    "\n",
    "ds_test = df_test.copy()"
   ]
  },
  {
   "cell_type": "markdown",
   "metadata": {
    "colab_type": "text",
    "id": "8RlHmp8iSc8q"
   },
   "source": [
    "## 3.1) Data Cleaning"
   ]
  },
  {
   "cell_type": "markdown",
   "metadata": {
    "colab_type": "text",
    "id": "qSmqLuP1Sdsi"
   },
   "source": [
    "### 3.1.1) Impute missings"
   ]
  },
  {
   "cell_type": "code",
   "execution_count": 27,
   "metadata": {
    "colab": {},
    "colab_type": "code",
    "id": "4-PBhyO-Sx5y"
   },
   "outputs": [],
   "source": [
    "# AdultoMayor (imputacion por MODA)\n",
    "ds_train[\"AdultoMayor\"].fillna(0, inplace = True)\n",
    "ds_test[\"AdultoMayor\"].fillna(0, inplace = True)\n",
    "\n",
    "# MesesCliente (imputacion por MEDIA)\n",
    "ds_train[\"MesesCliente\"].fillna(32, inplace = True)\n",
    "ds_test[\"MesesCliente\"].fillna(32, inplace = True)\n",
    "\n",
    "# ProteccionDispositivo (imputacion por MODA)\n",
    "ds_train[\"ProteccionDispositivo\"].fillna('No', inplace = True)\n",
    "ds_test[\"ProteccionDispositivo\"].fillna('No', inplace = True)\n",
    "\n",
    "# SoporteTecnico (imputacion por MODA)\n",
    "ds_train[\"SoporteTecnico\"].fillna('No', inplace = True)\n",
    "ds_test[\"SoporteTecnico\"].fillna('No', inplace = True)\n",
    "\n",
    "# FacturacionElectronica (imputacion por MEDIA)\n",
    "ds_train[\"FacturacionElectronica\"].fillna('Si', inplace = True)\n",
    "ds_test[\"FacturacionElectronica\"].fillna('Si', inplace = True)\n",
    "\n",
    "# MontoCargadoMes (imputacion por MEDIA)\n",
    "ds_train[\"MontoCargadoMes\"].fillna(68.7, inplace = True)\n",
    "ds_test[\"MontoCargadoMes\"].fillna(68.7, inplace = True)"
   ]
  },
  {
   "cell_type": "markdown",
   "metadata": {
    "colab_type": "text",
    "id": "EpWOSxEVmOZw"
   },
   "source": [
    "### 3.1.2) Treat outliers"
   ]
  },
  {
   "cell_type": "code",
   "execution_count": 28,
   "metadata": {
    "colab": {},
    "colab_type": "code",
    "id": "1uicAsRQSxP8"
   },
   "outputs": [],
   "source": [
    "None"
   ]
  },
  {
   "cell_type": "markdown",
   "metadata": {
    "colab_type": "text",
    "id": "jTleGBPXtSeS"
   },
   "source": [
    "## 3.2) Data Transformation"
   ]
  },
  {
   "cell_type": "code",
   "execution_count": 29,
   "metadata": {
    "colab": {
     "base_uri": "https://localhost:8080/",
     "height": 249
    },
    "colab_type": "code",
    "id": "hRHZBhydeErU",
    "outputId": "75da7fdf-7bab-4b27-88e4-21e73b3fe3aa"
   },
   "outputs": [
    {
     "data": {
      "text/html": [
       "<div>\n",
       "<style scoped>\n",
       "    .dataframe tbody tr th:only-of-type {\n",
       "        vertical-align: middle;\n",
       "    }\n",
       "\n",
       "    .dataframe tbody tr th {\n",
       "        vertical-align: top;\n",
       "    }\n",
       "\n",
       "    .dataframe thead th {\n",
       "        text-align: right;\n",
       "    }\n",
       "</style>\n",
       "<table border=\"1\" class=\"dataframe\">\n",
       "  <thead>\n",
       "    <tr style=\"text-align: right;\">\n",
       "      <th></th>\n",
       "      <th>ID</th>\n",
       "      <th>Sexo</th>\n",
       "      <th>AdultoMayor</th>\n",
       "      <th>MesesCliente</th>\n",
       "      <th>ServicioTelefonico</th>\n",
       "      <th>LineasMultiples</th>\n",
       "      <th>ProteccionDispositivo</th>\n",
       "      <th>SoporteTecnico</th>\n",
       "      <th>FacturacionElectronica</th>\n",
       "      <th>MontoCargadoMes</th>\n",
       "      <th>Churn</th>\n",
       "    </tr>\n",
       "  </thead>\n",
       "  <tbody>\n",
       "    <tr>\n",
       "      <th>0</th>\n",
       "      <td>ID01802</td>\n",
       "      <td>Masculino</td>\n",
       "      <td>1.0</td>\n",
       "      <td>11.0</td>\n",
       "      <td>Si</td>\n",
       "      <td>Si</td>\n",
       "      <td>No</td>\n",
       "      <td>No</td>\n",
       "      <td>No</td>\n",
       "      <td>60.25</td>\n",
       "      <td>0</td>\n",
       "    </tr>\n",
       "    <tr>\n",
       "      <th>1</th>\n",
       "      <td>ID05696</td>\n",
       "      <td>Masculino</td>\n",
       "      <td>0.0</td>\n",
       "      <td>1.0</td>\n",
       "      <td>Si</td>\n",
       "      <td>No</td>\n",
       "      <td>Sin servicio de internet</td>\n",
       "      <td>Sin servicio de internet</td>\n",
       "      <td>No</td>\n",
       "      <td>20.05</td>\n",
       "      <td>0</td>\n",
       "    </tr>\n",
       "    <tr>\n",
       "      <th>2</th>\n",
       "      <td>ID03166</td>\n",
       "      <td>Femenino</td>\n",
       "      <td>0.0</td>\n",
       "      <td>8.0</td>\n",
       "      <td>Si</td>\n",
       "      <td>No</td>\n",
       "      <td>Si</td>\n",
       "      <td>No</td>\n",
       "      <td>Si</td>\n",
       "      <td>94.20</td>\n",
       "      <td>1</td>\n",
       "    </tr>\n",
       "    <tr>\n",
       "      <th>3</th>\n",
       "      <td>ID00104</td>\n",
       "      <td>Masculino</td>\n",
       "      <td>0.0</td>\n",
       "      <td>50.0</td>\n",
       "      <td>No</td>\n",
       "      <td>Sin servicio telefonico</td>\n",
       "      <td>No</td>\n",
       "      <td>No</td>\n",
       "      <td>Si</td>\n",
       "      <td>39.45</td>\n",
       "      <td>0</td>\n",
       "    </tr>\n",
       "    <tr>\n",
       "      <th>4</th>\n",
       "      <td>ID05060</td>\n",
       "      <td>Femenino</td>\n",
       "      <td>0.0</td>\n",
       "      <td>71.0</td>\n",
       "      <td>Si</td>\n",
       "      <td>Si</td>\n",
       "      <td>Si</td>\n",
       "      <td>Si</td>\n",
       "      <td>Si</td>\n",
       "      <td>118.65</td>\n",
       "      <td>0</td>\n",
       "    </tr>\n",
       "  </tbody>\n",
       "</table>\n",
       "</div>"
      ],
      "text/plain": [
       "        ID       Sexo  AdultoMayor  MesesCliente ServicioTelefonico  \\\n",
       "0  ID01802  Masculino          1.0          11.0                 Si   \n",
       "1  ID05696  Masculino          0.0           1.0                 Si   \n",
       "2  ID03166   Femenino          0.0           8.0                 Si   \n",
       "3  ID00104  Masculino          0.0          50.0                 No   \n",
       "4  ID05060   Femenino          0.0          71.0                 Si   \n",
       "\n",
       "           LineasMultiples     ProteccionDispositivo  \\\n",
       "0                       Si                        No   \n",
       "1                       No  Sin servicio de internet   \n",
       "2                       No                        Si   \n",
       "3  Sin servicio telefonico                        No   \n",
       "4                       Si                        Si   \n",
       "\n",
       "             SoporteTecnico FacturacionElectronica  MontoCargadoMes  Churn  \n",
       "0                        No                     No            60.25      0  \n",
       "1  Sin servicio de internet                     No            20.05      0  \n",
       "2                        No                     Si            94.20      1  \n",
       "3                        No                     Si            39.45      0  \n",
       "4                        Si                     Si           118.65      0  "
      ]
     },
     "execution_count": 29,
     "metadata": {},
     "output_type": "execute_result"
    }
   ],
   "source": [
    "ds_train.head()"
   ]
  },
  {
   "cell_type": "code",
   "execution_count": 30,
   "metadata": {
    "colab": {},
    "colab_type": "code",
    "id": "YM4febuudhUh"
   },
   "outputs": [],
   "source": [
    "# Sexo \n",
    "dicc_sexo = {'Masculino': 1, 'Femenino':0 }\n",
    "ds_train[\"Sexo\"] = ds_train[\"Sexo\"].map(dicc_sexo)\n",
    "ds_test[\"Sexo\"] = ds_test[\"Sexo\"].map(dicc_sexo)"
   ]
  },
  {
   "cell_type": "code",
   "execution_count": 31,
   "metadata": {
    "colab": {},
    "colab_type": "code",
    "id": "vpfUgV11dhRm"
   },
   "outputs": [],
   "source": [
    "# ServicioTelefonico \n",
    "dicc_serv_telef = {'Si': 1, 'No':0 }\n",
    "ds_train[\"ServicioTelefonico\"] = ds_train[\"ServicioTelefonico\"].map(dicc_serv_telef)\n",
    "ds_test[\"ServicioTelefonico\"] = ds_test[\"ServicioTelefonico\"].map(dicc_serv_telef)\n",
    "\n",
    "# LineasMultiples \n",
    "dicc_lin_mult = {'Si': 2, 'No':1, 'Sin servicio telefonico':0 }\n",
    "ds_train[\"LineasMultiples\"] = ds_train[\"LineasMultiples\"].map(dicc_lin_mult)\n",
    "ds_test[\"LineasMultiples\"] = ds_test[\"LineasMultiples\"].map(dicc_lin_mult)\n",
    "\n",
    "# FacturacionElectronica \n",
    "dicc_fact_elect = {'Si': 1, 'No':0 }\n",
    "ds_train[\"FacturacionElectronica\"] = ds_train[\"FacturacionElectronica\"].map(dicc_fact_elect)\n",
    "ds_test[\"FacturacionElectronica\"] = ds_test[\"FacturacionElectronica\"].map(dicc_fact_elect)\n",
    "\n",
    "# Crear Features Dummies\n",
    "ds_train.loc[ds_train['ProteccionDispositivo']=='Sin servicio de internet', 'ProteccionDispositivo'] = 'SinServInter'\n",
    "ds_train.loc[ds_train['SoporteTecnico']=='Sin servicio de internet', 'SoporteTecnico'] = 'SinServInter'\n",
    "\n",
    "ds_test.loc[ds_test['ProteccionDispositivo']=='Sin servicio de internet', 'ProteccionDispositivo'] = 'SinServInter'\n",
    "ds_test.loc[ds_test['SoporteTecnico']=='Sin servicio de internet', 'SoporteTecnico'] = 'SinServInter'\n",
    "\n",
    "ds_train = pd.get_dummies(ds_train, columns=['ProteccionDispositivo','SoporteTecnico'])\n",
    "ds_test = pd.get_dummies(ds_test, columns=['ProteccionDispositivo','SoporteTecnico'])"
   ]
  },
  {
   "cell_type": "code",
   "execution_count": 35,
   "metadata": {
    "colab": {
     "base_uri": "https://localhost:8080/",
     "height": 215
    },
    "colab_type": "code",
    "id": "7q4t9o2zdhDZ",
    "outputId": "30f46e05-650a-4cc4-d74e-fc877c56b86a"
   },
   "outputs": [
    {
     "data": {
      "text/html": [
       "<div>\n",
       "<style scoped>\n",
       "    .dataframe tbody tr th:only-of-type {\n",
       "        vertical-align: middle;\n",
       "    }\n",
       "\n",
       "    .dataframe tbody tr th {\n",
       "        vertical-align: top;\n",
       "    }\n",
       "\n",
       "    .dataframe thead th {\n",
       "        text-align: right;\n",
       "    }\n",
       "</style>\n",
       "<table border=\"1\" class=\"dataframe\">\n",
       "  <thead>\n",
       "    <tr style=\"text-align: right;\">\n",
       "      <th></th>\n",
       "      <th>ID</th>\n",
       "      <th>Sexo</th>\n",
       "      <th>AdultoMayor</th>\n",
       "      <th>MesesCliente</th>\n",
       "      <th>ServicioTelefonico</th>\n",
       "      <th>LineasMultiples</th>\n",
       "      <th>FacturacionElectronica</th>\n",
       "      <th>MontoCargadoMes</th>\n",
       "      <th>Churn</th>\n",
       "      <th>ProteccionDispositivo_No</th>\n",
       "      <th>ProteccionDispositivo_Si</th>\n",
       "      <th>ProteccionDispositivo_SinServInter</th>\n",
       "      <th>SoporteTecnico_No</th>\n",
       "      <th>SoporteTecnico_Si</th>\n",
       "      <th>SoporteTecnico_SinServInter</th>\n",
       "    </tr>\n",
       "  </thead>\n",
       "  <tbody>\n",
       "    <tr>\n",
       "      <th>0</th>\n",
       "      <td>ID01802</td>\n",
       "      <td>1</td>\n",
       "      <td>1.0</td>\n",
       "      <td>11.0</td>\n",
       "      <td>1</td>\n",
       "      <td>2</td>\n",
       "      <td>0</td>\n",
       "      <td>60.25</td>\n",
       "      <td>0</td>\n",
       "      <td>1</td>\n",
       "      <td>0</td>\n",
       "      <td>0</td>\n",
       "      <td>1</td>\n",
       "      <td>0</td>\n",
       "      <td>0</td>\n",
       "    </tr>\n",
       "    <tr>\n",
       "      <th>1</th>\n",
       "      <td>ID05696</td>\n",
       "      <td>1</td>\n",
       "      <td>0.0</td>\n",
       "      <td>1.0</td>\n",
       "      <td>1</td>\n",
       "      <td>1</td>\n",
       "      <td>0</td>\n",
       "      <td>20.05</td>\n",
       "      <td>0</td>\n",
       "      <td>0</td>\n",
       "      <td>0</td>\n",
       "      <td>1</td>\n",
       "      <td>0</td>\n",
       "      <td>0</td>\n",
       "      <td>1</td>\n",
       "    </tr>\n",
       "    <tr>\n",
       "      <th>2</th>\n",
       "      <td>ID03166</td>\n",
       "      <td>0</td>\n",
       "      <td>0.0</td>\n",
       "      <td>8.0</td>\n",
       "      <td>1</td>\n",
       "      <td>1</td>\n",
       "      <td>1</td>\n",
       "      <td>94.20</td>\n",
       "      <td>1</td>\n",
       "      <td>0</td>\n",
       "      <td>1</td>\n",
       "      <td>0</td>\n",
       "      <td>1</td>\n",
       "      <td>0</td>\n",
       "      <td>0</td>\n",
       "    </tr>\n",
       "    <tr>\n",
       "      <th>3</th>\n",
       "      <td>ID00104</td>\n",
       "      <td>1</td>\n",
       "      <td>0.0</td>\n",
       "      <td>50.0</td>\n",
       "      <td>0</td>\n",
       "      <td>0</td>\n",
       "      <td>1</td>\n",
       "      <td>39.45</td>\n",
       "      <td>0</td>\n",
       "      <td>1</td>\n",
       "      <td>0</td>\n",
       "      <td>0</td>\n",
       "      <td>1</td>\n",
       "      <td>0</td>\n",
       "      <td>0</td>\n",
       "    </tr>\n",
       "    <tr>\n",
       "      <th>4</th>\n",
       "      <td>ID05060</td>\n",
       "      <td>0</td>\n",
       "      <td>0.0</td>\n",
       "      <td>71.0</td>\n",
       "      <td>1</td>\n",
       "      <td>2</td>\n",
       "      <td>1</td>\n",
       "      <td>118.65</td>\n",
       "      <td>0</td>\n",
       "      <td>0</td>\n",
       "      <td>1</td>\n",
       "      <td>0</td>\n",
       "      <td>0</td>\n",
       "      <td>1</td>\n",
       "      <td>0</td>\n",
       "    </tr>\n",
       "  </tbody>\n",
       "</table>\n",
       "</div>"
      ],
      "text/plain": [
       "        ID  Sexo  AdultoMayor  MesesCliente  ServicioTelefonico  \\\n",
       "0  ID01802     1          1.0          11.0                   1   \n",
       "1  ID05696     1          0.0           1.0                   1   \n",
       "2  ID03166     0          0.0           8.0                   1   \n",
       "3  ID00104     1          0.0          50.0                   0   \n",
       "4  ID05060     0          0.0          71.0                   1   \n",
       "\n",
       "   LineasMultiples  FacturacionElectronica  MontoCargadoMes  Churn  \\\n",
       "0                2                       0            60.25      0   \n",
       "1                1                       0            20.05      0   \n",
       "2                1                       1            94.20      1   \n",
       "3                0                       1            39.45      0   \n",
       "4                2                       1           118.65      0   \n",
       "\n",
       "   ProteccionDispositivo_No  ProteccionDispositivo_Si  \\\n",
       "0                         1                         0   \n",
       "1                         0                         0   \n",
       "2                         0                         1   \n",
       "3                         1                         0   \n",
       "4                         0                         1   \n",
       "\n",
       "   ProteccionDispositivo_SinServInter  SoporteTecnico_No  SoporteTecnico_Si  \\\n",
       "0                                   0                  1                  0   \n",
       "1                                   1                  0                  0   \n",
       "2                                   0                  1                  0   \n",
       "3                                   0                  1                  0   \n",
       "4                                   0                  0                  1   \n",
       "\n",
       "   SoporteTecnico_SinServInter  \n",
       "0                            0  \n",
       "1                            1  \n",
       "2                            0  \n",
       "3                            0  \n",
       "4                            0  "
      ]
     },
     "execution_count": 35,
     "metadata": {},
     "output_type": "execute_result"
    }
   ],
   "source": [
    "ds_train.head()"
   ]
  },
  {
   "cell_type": "markdown",
   "metadata": {
    "colab_type": "text",
    "id": "pAteMmFv3IGF"
   },
   "source": [
    "## 3.3) Feature Engineering"
   ]
  },
  {
   "cell_type": "code",
   "execution_count": 36,
   "metadata": {
    "colab": {
     "base_uri": "https://localhost:8080/",
     "height": 84
    },
    "colab_type": "code",
    "id": "oegKsADJtSfA",
    "outputId": "8abb60bb-deec-47fc-82eb-389fe9223086"
   },
   "outputs": [
    {
     "data": {
      "text/plain": [
       "AdultoMayor\n",
       "0.0    69.0\n",
       "1.0    85.0\n",
       "Name: MontoCargadoMes, dtype: float64"
      ]
     },
     "execution_count": 36,
     "metadata": {},
     "output_type": "execute_result"
    }
   ],
   "source": [
    "# New Feature 1\n",
    "tmp_byAdultoMayor_medianMontoMes = ds_train.groupby(['AdultoMayor'])['MontoCargadoMes'].median().round()\n",
    "tmp_byAdultoMayor_medianMontoMes"
   ]
  },
  {
   "cell_type": "code",
   "execution_count": 38,
   "metadata": {
    "colab": {},
    "colab_type": "code",
    "id": "FOPXSqAN6sNi"
   },
   "outputs": [],
   "source": [
    "ds_train['flg_bySexo_mayorMedianMontoMes'] = ds_train.apply(lambda x: 1 if x.MontoCargadoMes >= tmp_byAdultoMayor_medianMontoMes[x.AdultoMayor] else 0,\n",
    "                                                       axis = 1)\n",
    "\n",
    "ds_test['flg_bySexo_mayorMedianMontoMes'] = ds_test.apply(lambda x: 1 if x.MontoCargadoMes >= tmp_byAdultoMayor_medianMontoMes[x.AdultoMayor] else 0,\n",
    "                                                       axis = 1)"
   ]
  },
  {
   "cell_type": "code",
   "execution_count": 39,
   "metadata": {
    "colab": {
     "base_uri": "https://localhost:8080/",
     "height": 363
    },
    "colab_type": "code",
    "id": "-f07WjWU75aS",
    "outputId": "a2217557-7f12-48dd-b483-87e9f0d0ed1b"
   },
   "outputs": [
    {
     "data": {
      "text/html": [
       "<div>\n",
       "<style scoped>\n",
       "    .dataframe tbody tr th:only-of-type {\n",
       "        vertical-align: middle;\n",
       "    }\n",
       "\n",
       "    .dataframe tbody tr th {\n",
       "        vertical-align: top;\n",
       "    }\n",
       "\n",
       "    .dataframe thead th {\n",
       "        text-align: right;\n",
       "    }\n",
       "</style>\n",
       "<table border=\"1\" class=\"dataframe\">\n",
       "  <thead>\n",
       "    <tr style=\"text-align: right;\">\n",
       "      <th></th>\n",
       "      <th>ID</th>\n",
       "      <th>Sexo</th>\n",
       "      <th>AdultoMayor</th>\n",
       "      <th>MesesCliente</th>\n",
       "      <th>ServicioTelefonico</th>\n",
       "      <th>LineasMultiples</th>\n",
       "      <th>FacturacionElectronica</th>\n",
       "      <th>MontoCargadoMes</th>\n",
       "      <th>Churn</th>\n",
       "      <th>ProteccionDispositivo_No</th>\n",
       "      <th>ProteccionDispositivo_Si</th>\n",
       "      <th>ProteccionDispositivo_SinServInter</th>\n",
       "      <th>SoporteTecnico_No</th>\n",
       "      <th>SoporteTecnico_Si</th>\n",
       "      <th>SoporteTecnico_SinServInter</th>\n",
       "      <th>flg_bySexo_mayorMedianMontoMes</th>\n",
       "    </tr>\n",
       "  </thead>\n",
       "  <tbody>\n",
       "    <tr>\n",
       "      <th>0</th>\n",
       "      <td>ID01802</td>\n",
       "      <td>1</td>\n",
       "      <td>1.0</td>\n",
       "      <td>11.0</td>\n",
       "      <td>1</td>\n",
       "      <td>2</td>\n",
       "      <td>0</td>\n",
       "      <td>60.25</td>\n",
       "      <td>0</td>\n",
       "      <td>1</td>\n",
       "      <td>0</td>\n",
       "      <td>0</td>\n",
       "      <td>1</td>\n",
       "      <td>0</td>\n",
       "      <td>0</td>\n",
       "      <td>0</td>\n",
       "    </tr>\n",
       "    <tr>\n",
       "      <th>1</th>\n",
       "      <td>ID05696</td>\n",
       "      <td>1</td>\n",
       "      <td>0.0</td>\n",
       "      <td>1.0</td>\n",
       "      <td>1</td>\n",
       "      <td>1</td>\n",
       "      <td>0</td>\n",
       "      <td>20.05</td>\n",
       "      <td>0</td>\n",
       "      <td>0</td>\n",
       "      <td>0</td>\n",
       "      <td>1</td>\n",
       "      <td>0</td>\n",
       "      <td>0</td>\n",
       "      <td>1</td>\n",
       "      <td>0</td>\n",
       "    </tr>\n",
       "    <tr>\n",
       "      <th>2</th>\n",
       "      <td>ID03166</td>\n",
       "      <td>0</td>\n",
       "      <td>0.0</td>\n",
       "      <td>8.0</td>\n",
       "      <td>1</td>\n",
       "      <td>1</td>\n",
       "      <td>1</td>\n",
       "      <td>94.20</td>\n",
       "      <td>1</td>\n",
       "      <td>0</td>\n",
       "      <td>1</td>\n",
       "      <td>0</td>\n",
       "      <td>1</td>\n",
       "      <td>0</td>\n",
       "      <td>0</td>\n",
       "      <td>1</td>\n",
       "    </tr>\n",
       "    <tr>\n",
       "      <th>3</th>\n",
       "      <td>ID00104</td>\n",
       "      <td>1</td>\n",
       "      <td>0.0</td>\n",
       "      <td>50.0</td>\n",
       "      <td>0</td>\n",
       "      <td>0</td>\n",
       "      <td>1</td>\n",
       "      <td>39.45</td>\n",
       "      <td>0</td>\n",
       "      <td>1</td>\n",
       "      <td>0</td>\n",
       "      <td>0</td>\n",
       "      <td>1</td>\n",
       "      <td>0</td>\n",
       "      <td>0</td>\n",
       "      <td>0</td>\n",
       "    </tr>\n",
       "    <tr>\n",
       "      <th>4</th>\n",
       "      <td>ID05060</td>\n",
       "      <td>0</td>\n",
       "      <td>0.0</td>\n",
       "      <td>71.0</td>\n",
       "      <td>1</td>\n",
       "      <td>2</td>\n",
       "      <td>1</td>\n",
       "      <td>118.65</td>\n",
       "      <td>0</td>\n",
       "      <td>0</td>\n",
       "      <td>1</td>\n",
       "      <td>0</td>\n",
       "      <td>0</td>\n",
       "      <td>1</td>\n",
       "      <td>0</td>\n",
       "      <td>1</td>\n",
       "    </tr>\n",
       "    <tr>\n",
       "      <th>5</th>\n",
       "      <td>ID03313</td>\n",
       "      <td>0</td>\n",
       "      <td>0.0</td>\n",
       "      <td>35.0</td>\n",
       "      <td>1</td>\n",
       "      <td>1</td>\n",
       "      <td>1</td>\n",
       "      <td>106.90</td>\n",
       "      <td>0</td>\n",
       "      <td>0</td>\n",
       "      <td>1</td>\n",
       "      <td>0</td>\n",
       "      <td>0</td>\n",
       "      <td>1</td>\n",
       "      <td>0</td>\n",
       "      <td>1</td>\n",
       "    </tr>\n",
       "    <tr>\n",
       "      <th>6</th>\n",
       "      <td>ID04147</td>\n",
       "      <td>0</td>\n",
       "      <td>1.0</td>\n",
       "      <td>11.0</td>\n",
       "      <td>1</td>\n",
       "      <td>2</td>\n",
       "      <td>1</td>\n",
       "      <td>55.60</td>\n",
       "      <td>0</td>\n",
       "      <td>1</td>\n",
       "      <td>0</td>\n",
       "      <td>0</td>\n",
       "      <td>1</td>\n",
       "      <td>0</td>\n",
       "      <td>0</td>\n",
       "      <td>0</td>\n",
       "    </tr>\n",
       "    <tr>\n",
       "      <th>7</th>\n",
       "      <td>ID05700</td>\n",
       "      <td>1</td>\n",
       "      <td>0.0</td>\n",
       "      <td>1.0</td>\n",
       "      <td>1</td>\n",
       "      <td>1</td>\n",
       "      <td>0</td>\n",
       "      <td>20.10</td>\n",
       "      <td>1</td>\n",
       "      <td>0</td>\n",
       "      <td>0</td>\n",
       "      <td>1</td>\n",
       "      <td>0</td>\n",
       "      <td>0</td>\n",
       "      <td>1</td>\n",
       "      <td>0</td>\n",
       "    </tr>\n",
       "    <tr>\n",
       "      <th>8</th>\n",
       "      <td>ID01972</td>\n",
       "      <td>0</td>\n",
       "      <td>0.0</td>\n",
       "      <td>32.0</td>\n",
       "      <td>1</td>\n",
       "      <td>1</td>\n",
       "      <td>0</td>\n",
       "      <td>84.15</td>\n",
       "      <td>1</td>\n",
       "      <td>1</td>\n",
       "      <td>0</td>\n",
       "      <td>0</td>\n",
       "      <td>1</td>\n",
       "      <td>0</td>\n",
       "      <td>0</td>\n",
       "      <td>1</td>\n",
       "    </tr>\n",
       "    <tr>\n",
       "      <th>9</th>\n",
       "      <td>ID00184</td>\n",
       "      <td>0</td>\n",
       "      <td>0.0</td>\n",
       "      <td>4.0</td>\n",
       "      <td>1</td>\n",
       "      <td>1</td>\n",
       "      <td>1</td>\n",
       "      <td>20.15</td>\n",
       "      <td>0</td>\n",
       "      <td>0</td>\n",
       "      <td>0</td>\n",
       "      <td>1</td>\n",
       "      <td>0</td>\n",
       "      <td>0</td>\n",
       "      <td>1</td>\n",
       "      <td>0</td>\n",
       "    </tr>\n",
       "  </tbody>\n",
       "</table>\n",
       "</div>"
      ],
      "text/plain": [
       "        ID  Sexo  AdultoMayor  MesesCliente  ServicioTelefonico  \\\n",
       "0  ID01802     1          1.0          11.0                   1   \n",
       "1  ID05696     1          0.0           1.0                   1   \n",
       "2  ID03166     0          0.0           8.0                   1   \n",
       "3  ID00104     1          0.0          50.0                   0   \n",
       "4  ID05060     0          0.0          71.0                   1   \n",
       "5  ID03313     0          0.0          35.0                   1   \n",
       "6  ID04147     0          1.0          11.0                   1   \n",
       "7  ID05700     1          0.0           1.0                   1   \n",
       "8  ID01972     0          0.0          32.0                   1   \n",
       "9  ID00184     0          0.0           4.0                   1   \n",
       "\n",
       "   LineasMultiples  FacturacionElectronica  MontoCargadoMes  Churn  \\\n",
       "0                2                       0            60.25      0   \n",
       "1                1                       0            20.05      0   \n",
       "2                1                       1            94.20      1   \n",
       "3                0                       1            39.45      0   \n",
       "4                2                       1           118.65      0   \n",
       "5                1                       1           106.90      0   \n",
       "6                2                       1            55.60      0   \n",
       "7                1                       0            20.10      1   \n",
       "8                1                       0            84.15      1   \n",
       "9                1                       1            20.15      0   \n",
       "\n",
       "   ProteccionDispositivo_No  ProteccionDispositivo_Si  \\\n",
       "0                         1                         0   \n",
       "1                         0                         0   \n",
       "2                         0                         1   \n",
       "3                         1                         0   \n",
       "4                         0                         1   \n",
       "5                         0                         1   \n",
       "6                         1                         0   \n",
       "7                         0                         0   \n",
       "8                         1                         0   \n",
       "9                         0                         0   \n",
       "\n",
       "   ProteccionDispositivo_SinServInter  SoporteTecnico_No  SoporteTecnico_Si  \\\n",
       "0                                   0                  1                  0   \n",
       "1                                   1                  0                  0   \n",
       "2                                   0                  1                  0   \n",
       "3                                   0                  1                  0   \n",
       "4                                   0                  0                  1   \n",
       "5                                   0                  0                  1   \n",
       "6                                   0                  1                  0   \n",
       "7                                   1                  0                  0   \n",
       "8                                   0                  1                  0   \n",
       "9                                   1                  0                  0   \n",
       "\n",
       "   SoporteTecnico_SinServInter  flg_bySexo_mayorMedianMontoMes  \n",
       "0                            0                               0  \n",
       "1                            1                               0  \n",
       "2                            0                               1  \n",
       "3                            0                               0  \n",
       "4                            0                               1  \n",
       "5                            0                               1  \n",
       "6                            0                               0  \n",
       "7                            1                               0  \n",
       "8                            0                               1  \n",
       "9                            1                               0  "
      ]
     },
     "execution_count": 39,
     "metadata": {},
     "output_type": "execute_result"
    }
   ],
   "source": [
    "ds_train.head(10)"
   ]
  },
  {
   "cell_type": "code",
   "execution_count": 40,
   "metadata": {
    "colab": {},
    "colab_type": "code",
    "id": "tDx5plTU7p2x"
   },
   "outputs": [],
   "source": [
    "# New Feature 2,3,4, ...\n",
    "### Here"
   ]
  },
  {
   "cell_type": "markdown",
   "metadata": {
    "colab_type": "text",
    "id": "n6Z3sKdytSfJ"
   },
   "source": [
    "## 3.4) Feature Selection"
   ]
  },
  {
   "cell_type": "code",
   "execution_count": 41,
   "metadata": {
    "colab": {
     "base_uri": "https://localhost:8080/",
     "height": 252
    },
    "colab_type": "code",
    "id": "kYUkAEa0tSfK",
    "outputId": "d33cea92-95ee-432d-ddbc-63380d7c3bec"
   },
   "outputs": [
    {
     "data": {
      "text/plain": [
       "['Sexo',\n",
       " 'AdultoMayor',\n",
       " 'MesesCliente',\n",
       " 'ServicioTelefonico',\n",
       " 'LineasMultiples',\n",
       " 'FacturacionElectronica',\n",
       " 'MontoCargadoMes',\n",
       " 'ProteccionDispositivo_No',\n",
       " 'ProteccionDispositivo_Si',\n",
       " 'ProteccionDispositivo_SinServInter',\n",
       " 'SoporteTecnico_No',\n",
       " 'SoporteTecnico_Si',\n",
       " 'SoporteTecnico_SinServInter',\n",
       " 'flg_bySexo_mayorMedianMontoMes']"
      ]
     },
     "execution_count": 41,
     "metadata": {},
     "output_type": "execute_result"
    }
   ],
   "source": [
    "features_to_model = list(ds_train.columns)\n",
    "\n",
    "features_to_model.remove(TARGET) # Eliminar variable Target\n",
    "features_to_model.remove(ID) # Eliminar variable ID\n",
    "\n",
    "list(features_to_model)"
   ]
  },
  {
   "cell_type": "markdown",
   "metadata": {
    "colab_type": "text",
    "id": "6MBa_ty7tSfP"
   },
   "source": [
    "***Select Final Features:***"
   ]
  },
  {
   "cell_type": "code",
   "execution_count": 42,
   "metadata": {
    "colab": {},
    "colab_type": "code",
    "id": "dLjv0Cs9tSfQ"
   },
   "outputs": [],
   "source": [
    "# Selección de variables. \n",
    "### Una opción es: en base a un modelo basado en árboles, generar la importancia de Variables y seleccionar los features mas importantes.\n",
    "features_to_model = features_to_model # ['var1', 'var2', 'varn'] "
   ]
  },
  {
   "cell_type": "code",
   "execution_count": 43,
   "metadata": {
    "colab": {
     "base_uri": "https://localhost:8080/",
     "height": 34
    },
    "colab_type": "code",
    "id": "sEiOSRIMtSfR",
    "outputId": "e57c6fc9-50c3-4a89-b5bf-e1f519e22792"
   },
   "outputs": [
    {
     "data": {
      "text/plain": [
       "14"
      ]
     },
     "execution_count": 43,
     "metadata": {},
     "output_type": "execute_result"
    }
   ],
   "source": [
    "len(features_to_model)"
   ]
  },
  {
   "cell_type": "code",
   "execution_count": 44,
   "metadata": {
    "colab": {},
    "colab_type": "code",
    "id": "AK9dkj6otSfU"
   },
   "outputs": [],
   "source": [
    "# Features & Target\n",
    "X = ds_train[features_to_model]\n",
    "y = ds_train[TARGET]\n",
    "\n",
    "X_summit = ds_test[features_to_model]"
   ]
  },
  {
   "cell_type": "code",
   "execution_count": 45,
   "metadata": {
    "colab": {
     "base_uri": "https://localhost:8080/",
     "height": 34
    },
    "colab_type": "code",
    "id": "b6QkoPe1tSfW",
    "outputId": "c5c39b01-805d-4289-db74-271183bc9ce8"
   },
   "outputs": [
    {
     "name": "stdout",
     "output_type": "stream",
     "text": [
      "train:  (4577, 14) , summit:  (2466, 14)\n"
     ]
    }
   ],
   "source": [
    "print(\"train: \", X.shape,\", summit: \", X_summit.shape)"
   ]
  },
  {
   "cell_type": "markdown",
   "metadata": {
    "colab_type": "text",
    "id": "QjJoDLvFtSfY"
   },
   "source": [
    "## 3.5) Train & Test Split"
   ]
  },
  {
   "cell_type": "code",
   "execution_count": 46,
   "metadata": {
    "colab": {
     "base_uri": "https://localhost:8080/",
     "height": 34
    },
    "colab_type": "code",
    "id": "q4ByLCc8tSfZ",
    "outputId": "18edc7ca-d94e-4e63-97b6-df07563f5ece"
   },
   "outputs": [
    {
     "name": "stdout",
     "output_type": "stream",
     "text": [
      "(3203, 3203) (1374, 1374)\n"
     ]
    }
   ],
   "source": [
    "from sklearn import model_selection\n",
    "X_train, X_test, y_train, y_test = model_selection.train_test_split(X, y, train_size = 0.70, random_state=9)\n",
    "print((len(X_train), len(y_train)), (len(X_test), len(y_test)))"
   ]
  },
  {
   "cell_type": "code",
   "execution_count": 47,
   "metadata": {
    "colab": {
     "base_uri": "https://localhost:8080/",
     "height": 336
    },
    "colab_type": "code",
    "id": "qUy5Jac5tSfc",
    "outputId": "ff4dd85c-3d6a-4ed3-e62f-0d1628d9ecd1"
   },
   "outputs": [
    {
     "name": "stdout",
     "output_type": "stream",
     "text": [
      "<class 'pandas.core.frame.DataFrame'>\n",
      "Int64Index: 3203 entries, 2927 to 382\n",
      "Data columns (total 14 columns):\n",
      "Sexo                                  3203 non-null int64\n",
      "AdultoMayor                           3203 non-null float64\n",
      "MesesCliente                          3203 non-null float64\n",
      "ServicioTelefonico                    3203 non-null int64\n",
      "LineasMultiples                       3203 non-null int64\n",
      "FacturacionElectronica                3203 non-null int64\n",
      "MontoCargadoMes                       3203 non-null float64\n",
      "ProteccionDispositivo_No              3203 non-null uint8\n",
      "ProteccionDispositivo_Si              3203 non-null uint8\n",
      "ProteccionDispositivo_SinServInter    3203 non-null uint8\n",
      "SoporteTecnico_No                     3203 non-null uint8\n",
      "SoporteTecnico_Si                     3203 non-null uint8\n",
      "SoporteTecnico_SinServInter           3203 non-null uint8\n",
      "flg_bySexo_mayorMedianMontoMes        3203 non-null int64\n",
      "dtypes: float64(3), int64(5), uint8(6)\n",
      "memory usage: 244.0 KB\n"
     ]
    }
   ],
   "source": [
    "X_train.info()"
   ]
  },
  {
   "cell_type": "markdown",
   "metadata": {
    "colab_type": "text",
    "id": "ZRes8j9qtSff"
   },
   "source": [
    "# 4) Modeling & Evaluation - Simple"
   ]
  },
  {
   "cell_type": "markdown",
   "metadata": {
    "colab_type": "text",
    "id": "Rvak-A_btSfo"
   },
   "source": [
    "## 4.1.A. LogisticRegression"
   ]
  },
  {
   "cell_type": "markdown",
   "metadata": {
    "colab_type": "text",
    "id": "cSC7rEMjtSfo"
   },
   "source": [
    "### 4.1.1 Training"
   ]
  },
  {
   "cell_type": "code",
   "execution_count": 48,
   "metadata": {
    "colab": {},
    "colab_type": "code",
    "id": "pbNdF7tAtSfp"
   },
   "outputs": [],
   "source": [
    "from sklearn.linear_model import LogisticRegression"
   ]
  },
  {
   "cell_type": "code",
   "execution_count": 49,
   "metadata": {
    "colab": {},
    "colab_type": "code",
    "id": "pvN_PW40tSfr"
   },
   "outputs": [],
   "source": [
    "# Create  model objet \n",
    "model_rlog = LogisticRegression(C=0.01, max_iter= 100, random_state=0, n_jobs = 4, penalty = 'l1')\n",
    "\n",
    "# Fit the model:\n",
    "model_rlog.fit(X_train, y_train)\n",
    "\n",
    "model = model_rlog "
   ]
  },
  {
   "cell_type": "code",
   "execution_count": 50,
   "metadata": {
    "colab": {
     "base_uri": "https://localhost:8080/",
     "height": 462
    },
    "colab_type": "code",
    "id": "ngUP2m_9tSfu",
    "outputId": "4059d313-51dc-4cee-fb23-8ff5b6386f3a",
    "scrolled": false
   },
   "outputs": [
    {
     "data": {
      "text/html": [
       "<div>\n",
       "<style scoped>\n",
       "    .dataframe tbody tr th:only-of-type {\n",
       "        vertical-align: middle;\n",
       "    }\n",
       "\n",
       "    .dataframe tbody tr th {\n",
       "        vertical-align: top;\n",
       "    }\n",
       "\n",
       "    .dataframe thead th {\n",
       "        text-align: right;\n",
       "    }\n",
       "</style>\n",
       "<table border=\"1\" class=\"dataframe\">\n",
       "  <thead>\n",
       "    <tr style=\"text-align: right;\">\n",
       "      <th></th>\n",
       "      <th>feature</th>\n",
       "      <th>beta</th>\n",
       "    </tr>\n",
       "  </thead>\n",
       "  <tbody>\n",
       "    <tr>\n",
       "      <th>0</th>\n",
       "      <td>Sexo</td>\n",
       "      <td>0.0000</td>\n",
       "    </tr>\n",
       "    <tr>\n",
       "      <th>1</th>\n",
       "      <td>AdultoMayor</td>\n",
       "      <td>0.0000</td>\n",
       "    </tr>\n",
       "    <tr>\n",
       "      <th>2</th>\n",
       "      <td>MesesCliente</td>\n",
       "      <td>-0.0507</td>\n",
       "    </tr>\n",
       "    <tr>\n",
       "      <th>3</th>\n",
       "      <td>ServicioTelefonico</td>\n",
       "      <td>0.0000</td>\n",
       "    </tr>\n",
       "    <tr>\n",
       "      <th>4</th>\n",
       "      <td>LineasMultiples</td>\n",
       "      <td>0.0000</td>\n",
       "    </tr>\n",
       "    <tr>\n",
       "      <th>5</th>\n",
       "      <td>FacturacionElectronica</td>\n",
       "      <td>0.0000</td>\n",
       "    </tr>\n",
       "    <tr>\n",
       "      <th>6</th>\n",
       "      <td>MontoCargadoMes</td>\n",
       "      <td>0.0080</td>\n",
       "    </tr>\n",
       "    <tr>\n",
       "      <th>7</th>\n",
       "      <td>ProteccionDispositivo_No</td>\n",
       "      <td>0.0000</td>\n",
       "    </tr>\n",
       "    <tr>\n",
       "      <th>8</th>\n",
       "      <td>ProteccionDispositivo_Si</td>\n",
       "      <td>0.0000</td>\n",
       "    </tr>\n",
       "    <tr>\n",
       "      <th>9</th>\n",
       "      <td>ProteccionDispositivo_SinServInter</td>\n",
       "      <td>-0.1982</td>\n",
       "    </tr>\n",
       "    <tr>\n",
       "      <th>10</th>\n",
       "      <td>SoporteTecnico_No</td>\n",
       "      <td>0.0000</td>\n",
       "    </tr>\n",
       "    <tr>\n",
       "      <th>11</th>\n",
       "      <td>SoporteTecnico_Si</td>\n",
       "      <td>0.0000</td>\n",
       "    </tr>\n",
       "    <tr>\n",
       "      <th>12</th>\n",
       "      <td>SoporteTecnico_SinServInter</td>\n",
       "      <td>-0.1765</td>\n",
       "    </tr>\n",
       "    <tr>\n",
       "      <th>13</th>\n",
       "      <td>flg_bySexo_mayorMedianMontoMes</td>\n",
       "      <td>0.0000</td>\n",
       "    </tr>\n",
       "  </tbody>\n",
       "</table>\n",
       "</div>"
      ],
      "text/plain": [
       "                               feature    beta\n",
       "0                                 Sexo  0.0000\n",
       "1                          AdultoMayor  0.0000\n",
       "2                         MesesCliente -0.0507\n",
       "3                   ServicioTelefonico  0.0000\n",
       "4                      LineasMultiples  0.0000\n",
       "5               FacturacionElectronica  0.0000\n",
       "6                      MontoCargadoMes  0.0080\n",
       "7             ProteccionDispositivo_No  0.0000\n",
       "8             ProteccionDispositivo_Si  0.0000\n",
       "9   ProteccionDispositivo_SinServInter -0.1982\n",
       "10                   SoporteTecnico_No  0.0000\n",
       "11                   SoporteTecnico_Si  0.0000\n",
       "12         SoporteTecnico_SinServInter -0.1765\n",
       "13      flg_bySexo_mayorMedianMontoMes  0.0000"
      ]
     },
     "execution_count": 50,
     "metadata": {},
     "output_type": "execute_result"
    }
   ],
   "source": [
    "df_weights = pd.DataFrame({'feature':X_train.columns.values, 'beta': np.round(model_rlog.coef_[0],4) })\n",
    "df_weights"
   ]
  },
  {
   "cell_type": "markdown",
   "metadata": {
    "colab_type": "text",
    "id": "TCis-a3EtSf4"
   },
   "source": [
    "### 4.1.2 Evaluación del Modelo"
   ]
  },
  {
   "cell_type": "code",
   "execution_count": 51,
   "metadata": {
    "colab": {},
    "colab_type": "code",
    "id": "jvvKiBe1-odu"
   },
   "outputs": [],
   "source": [
    "# Generar las predicciones:\n",
    "y_pred_train = model.predict(X_train)\n",
    "y_pred_test = model.predict(X_test)\n",
    "\n",
    "# Generar las probabilidades\n",
    "y_pred_proba_train = model.predict_proba(X_train)[:,1]\n",
    "y_pred_proba_test = model.predict_proba(X_test)[:,1]"
   ]
  },
  {
   "cell_type": "code",
   "execution_count": 52,
   "metadata": {
    "colab": {
     "base_uri": "https://localhost:8080/",
     "height": 50
    },
    "colab_type": "code",
    "id": "jA3cnd3Q-od3",
    "outputId": "2b4995a2-0a75-4e4d-c74b-67cc157ba8a9"
   },
   "outputs": [
    {
     "name": "stdout",
     "output_type": "stream",
     "text": [
      "Accuracy - Train: 0.7730252887917577\n",
      "Accuracy - Test : 0.7569141193595342\n"
     ]
    }
   ],
   "source": [
    "accuracy_train = mt.accuracy_score(y_train, y_pred_train)\n",
    "accuracy_test = mt.accuracy_score(y_test, y_pred_test)\n",
    "\n",
    "print(\"Accuracy - Train: {}\".format(accuracy_train))\n",
    "print(\"Accuracy - Test : {}\".format(accuracy_test))"
   ]
  },
  {
   "cell_type": "markdown",
   "metadata": {
    "colab_type": "text",
    "id": "oKyPD6XD-oeC"
   },
   "source": [
    "El punto de corte por defecto es de 0.50 para decidir si la predicción final será 1 ó 0. A continuación trataremos de encontrar ese punto de corte que optimice la métrica de evaluación del problema.."
   ]
  },
  {
   "cell_type": "markdown",
   "metadata": {
    "colab_type": "text",
    "id": "9tJxCLVE-oeF"
   },
   "source": [
    "### ****Find best threshold:****"
   ]
  },
  {
   "cell_type": "code",
   "execution_count": 54,
   "metadata": {
    "colab": {},
    "colab_type": "code",
    "id": "JjU0SyXo-oeG"
   },
   "outputs": [],
   "source": [
    "list_accuracy_test = []\n",
    "for threshold in range(0,100):\n",
    "  pred_0_1 = [1 if x >= threshold/100 else 0 for x in y_pred_proba_test]\n",
    "  list_accuracy_test.append(mt.accuracy_score(y_test, pred_0_1))"
   ]
  },
  {
   "cell_type": "code",
   "execution_count": 55,
   "metadata": {
    "colab": {
     "base_uri": "https://localhost:8080/",
     "height": 286
    },
    "colab_type": "code",
    "id": "HHMvAfr3-oeN",
    "outputId": "379da3b9-ea85-4ab7-af04-00da707f80e6"
   },
   "outputs": [
    {
     "data": {
      "text/plain": [
       "[<matplotlib.lines.Line2D at 0x2a40f92fbe0>]"
      ]
     },
     "execution_count": 55,
     "metadata": {},
     "output_type": "execute_result"
    },
    {
     "data": {
      "image/png": "[encoded data removed]",
      "text/plain": [
       "<Figure size 432x288 with 1 Axes>"
      ]
     },
     "metadata": {
      "needs_background": "light"
     },
     "output_type": "display_data"
    }
   ],
   "source": [
    "xs = [x/100 for x in range(0,100)]\n",
    "ys = list_accuracy_test\n",
    "plt.plot(xs, ys)"
   ]
  },
  {
   "cell_type": "code",
   "execution_count": 56,
   "metadata": {
    "colab": {
     "base_uri": "https://localhost:8080/",
     "height": 34
    },
    "colab_type": "code",
    "id": "vcTUgi-h-oeX",
    "outputId": "cef1047d-6613-4850-c7bd-1dfb5fb95588"
   },
   "outputs": [
    {
     "name": "stdout",
     "output_type": "stream",
     "text": [
      "El mejor threshold es: 0.54\n"
     ]
    }
   ],
   "source": [
    "best_scoring = max(list_accuracy_test)\n",
    "best_threshold = list_accuracy_test.index(best_scoring)/100\n",
    "print(\"El mejor threshold es: {}\".format(best_threshold))"
   ]
  },
  {
   "cell_type": "code",
   "execution_count": 57,
   "metadata": {
    "colab": {
     "base_uri": "https://localhost:8080/",
     "height": 50
    },
    "colab_type": "code",
    "id": "aHfBLMSu-oeg",
    "outputId": "1fd63fcd-96e7-4a30-d1b1-6a3f41ee7e7b"
   },
   "outputs": [
    {
     "name": "stdout",
     "output_type": "stream",
     "text": [
      "Accuracy - Train: 0.7858257883234467\n",
      "Accuracy - Test : 0.7751091703056768\n"
     ]
    }
   ],
   "source": [
    "accuracy_train = mt.accuracy_score(y_train, [1 if x >= best_threshold else 0 for x in y_pred_proba_train])\n",
    "accuracy_test = mt.accuracy_score(y_test, [1 if x >= best_threshold else 0 for x in y_pred_proba_test])\n",
    "\n",
    "print(\"Accuracy - Train: {}\".format(accuracy_train))\n",
    "print(\"Accuracy - Test : {}\".format(accuracy_test))"
   ]
  },
  {
   "cell_type": "markdown",
   "metadata": {
    "colab_type": "text",
    "id": "-1DC3WCrtSge"
   },
   "source": [
    "## 4.1.B. Decision Tree"
   ]
  },
  {
   "cell_type": "markdown",
   "metadata": {
    "colab_type": "text",
    "id": "Sn1ZmXjrtSge"
   },
   "source": [
    "### 4.1.1 Training"
   ]
  },
  {
   "cell_type": "code",
   "execution_count": 58,
   "metadata": {
    "colab": {
     "base_uri": "https://localhost:8080/",
     "height": 118
    },
    "colab_type": "code",
    "id": "lFo_Ko-0tSgf",
    "outputId": "17e53db0-7625-4a10-ee87-276a5f4c0c48"
   },
   "outputs": [
    {
     "data": {
      "text/plain": [
       "DecisionTreeClassifier(class_weight=None, criterion='gini', max_depth=None,\n",
       "            max_features=None, max_leaf_nodes=None,\n",
       "            min_impurity_decrease=0.0, min_impurity_split=None,\n",
       "            min_samples_leaf=1, min_samples_split=2,\n",
       "            min_weight_fraction_leaf=0.0, presort=False, random_state=None,\n",
       "            splitter='best')"
      ]
     },
     "execution_count": 58,
     "metadata": {},
     "output_type": "execute_result"
    }
   ],
   "source": [
    "from sklearn.tree import DecisionTreeClassifier\n",
    "DecisionTreeClassifier()"
   ]
  },
  {
   "cell_type": "code",
   "execution_count": 59,
   "metadata": {
    "colab": {},
    "colab_type": "code",
    "id": "z2DjunbNtSgi"
   },
   "outputs": [],
   "source": [
    "# Create  model objet \n",
    "model_tree = DecisionTreeClassifier(max_depth=6, min_samples_leaf=5,random_state=0)\n",
    "\n",
    "# Fit the model:\n",
    "model_tree.fit(X_train, y_train)\n",
    "\n",
    "model = model_tree"
   ]
  },
  {
   "cell_type": "markdown",
   "metadata": {
    "colab_type": "text",
    "id": "1dSIZjwStSgn"
   },
   "source": [
    "### 4.1.2 Evaluación del Modelo"
   ]
  },
  {
   "cell_type": "code",
   "execution_count": 60,
   "metadata": {
    "colab": {},
    "colab_type": "code",
    "id": "Po5_fRk-tSgk"
   },
   "outputs": [],
   "source": [
    "# Generar las predicciones:\n",
    "y_pred_train = model.predict(X_train)\n",
    "y_pred_test = model.predict(X_test)\n",
    "\n",
    "# Generar las probabilidades\n",
    "y_pred_proba_train = model.predict_proba(X_train)[:,1]\n",
    "y_pred_proba_test = model.predict_proba(X_test)[:,1]"
   ]
  },
  {
   "cell_type": "code",
   "execution_count": 61,
   "metadata": {
    "colab": {
     "base_uri": "https://localhost:8080/",
     "height": 50
    },
    "colab_type": "code",
    "id": "9XkSSTS74xDt",
    "outputId": "e0154ea4-4aa5-4ef5-8265-cef2351c1b10"
   },
   "outputs": [
    {
     "name": "stdout",
     "output_type": "stream",
     "text": [
      "Accuracy - Train: 0.8129878239150796\n",
      "Accuracy - Test : 0.7867540029112081\n"
     ]
    }
   ],
   "source": [
    "accuracy_train = mt.accuracy_score(y_train, y_pred_train)\n",
    "accuracy_test = mt.accuracy_score(y_test, y_pred_test)\n",
    "\n",
    "print(\"Accuracy - Train: {}\".format(accuracy_train))\n",
    "print(\"Accuracy - Test : {}\".format(accuracy_test))"
   ]
  },
  {
   "cell_type": "markdown",
   "metadata": {
    "colab_type": "text",
    "id": "Uki5re6889CC"
   },
   "source": [
    "El punto de corte por defecto es de 0.50 para decidir si la predicción final será 1 ó 0. A continuación trataremos de encontrar ese punto de corte que optimice la métrica de evaluación del problema.."
   ]
  },
  {
   "cell_type": "markdown",
   "metadata": {
    "colab_type": "text",
    "id": "g4r8lID8tSgt"
   },
   "source": [
    "### ****Find best threshold:****"
   ]
  },
  {
   "cell_type": "code",
   "execution_count": 62,
   "metadata": {
    "colab": {},
    "colab_type": "code",
    "id": "t3DQ-OxZ5d-s"
   },
   "outputs": [],
   "source": [
    "list_accuracy_test = []\n",
    "for threshold in range(0,100):\n",
    "  pred_0_1 = [1 if x >= threshold/100 else 0 for x in y_pred_proba_test]\n",
    "  list_accuracy_test.append(mt.accuracy_score(y_test, pred_0_1))"
   ]
  },
  {
   "cell_type": "code",
   "execution_count": 63,
   "metadata": {
    "colab": {
     "base_uri": "https://localhost:8080/",
     "height": 286
    },
    "colab_type": "code",
    "id": "VnM7wmrt8LPs",
    "outputId": "3ad82548-9d55-4afa-fb9b-d38d36f04c06"
   },
   "outputs": [
    {
     "data": {
      "text/plain": [
       "[<matplotlib.lines.Line2D at 0x2a40fa04518>]"
      ]
     },
     "execution_count": 63,
     "metadata": {},
     "output_type": "execute_result"
    },
    {
     "data": {
      "image/png": "[encoded data removed]",
      "text/plain": [
       "<Figure size 432x288 with 1 Axes>"
      ]
     },
     "metadata": {
      "needs_background": "light"
     },
     "output_type": "display_data"
    }
   ],
   "source": [
    "xs = [x/100 for x in range(0,100)]\n",
    "ys = list_accuracy_test\n",
    "plt.plot(xs, ys)"
   ]
  },
  {
   "cell_type": "code",
   "execution_count": 64,
   "metadata": {
    "colab": {
     "base_uri": "https://localhost:8080/",
     "height": 34
    },
    "colab_type": "code",
    "id": "qee7k_K-5d4a",
    "outputId": "2094a998-de25-4784-891b-73d08ed21a60"
   },
   "outputs": [
    {
     "name": "stdout",
     "output_type": "stream",
     "text": [
      "El mejor threshold es: 0.52\n"
     ]
    }
   ],
   "source": [
    "best_scoring = max(list_accuracy_test)\n",
    "best_threshold = list_accuracy_test.index(best_scoring)/100\n",
    "print(\"El mejor threshold es: {}\".format(best_threshold))"
   ]
  },
  {
   "cell_type": "code",
   "execution_count": 65,
   "metadata": {
    "colab": {
     "base_uri": "https://localhost:8080/",
     "height": 50
    },
    "colab_type": "code",
    "id": "iiCh9AQu5duo",
    "outputId": "20203ff8-48e5-477a-a5c6-23b138d4aef8"
   },
   "outputs": [
    {
     "name": "stdout",
     "output_type": "stream",
     "text": [
      "Accuracy - Train: 0.8126756166094287\n",
      "Accuracy - Test : 0.7874818049490538\n"
     ]
    }
   ],
   "source": [
    "accuracy_train = mt.accuracy_score(y_train, [1 if x >= best_threshold else 0 for x in y_pred_proba_train])\n",
    "accuracy_test = mt.accuracy_score(y_test, [1 if x >= best_threshold else 0 for x in y_pred_proba_test])\n",
    "\n",
    "print(\"Accuracy - Train: {}\".format(accuracy_train))\n",
    "print(\"Accuracy - Test : {}\".format(accuracy_test))"
   ]
  },
  {
   "cell_type": "markdown",
   "metadata": {
    "colab_type": "text",
    "id": "uoCBdmNntSg3"
   },
   "source": [
    "### Feature Importances"
   ]
  },
  {
   "cell_type": "code",
   "execution_count": 66,
   "metadata": {
    "colab": {
     "base_uri": "https://localhost:8080/",
     "height": 462
    },
    "colab_type": "code",
    "id": "5sgMvCrl9onj",
    "outputId": "bcc6e639-249c-4a35-85c5-7cdaf492bc95"
   },
   "outputs": [
    {
     "data": {
      "text/html": [
       "<div>\n",
       "<style scoped>\n",
       "    .dataframe tbody tr th:only-of-type {\n",
       "        vertical-align: middle;\n",
       "    }\n",
       "\n",
       "    .dataframe tbody tr th {\n",
       "        vertical-align: top;\n",
       "    }\n",
       "\n",
       "    .dataframe thead th {\n",
       "        text-align: right;\n",
       "    }\n",
       "</style>\n",
       "<table border=\"1\" class=\"dataframe\">\n",
       "  <thead>\n",
       "    <tr style=\"text-align: right;\">\n",
       "      <th></th>\n",
       "      <th>feature</th>\n",
       "      <th>importance</th>\n",
       "    </tr>\n",
       "  </thead>\n",
       "  <tbody>\n",
       "    <tr>\n",
       "      <th>0</th>\n",
       "      <td>MesesCliente</td>\n",
       "      <td>0.496030</td>\n",
       "    </tr>\n",
       "    <tr>\n",
       "      <th>1</th>\n",
       "      <td>MontoCargadoMes</td>\n",
       "      <td>0.363359</td>\n",
       "    </tr>\n",
       "    <tr>\n",
       "      <th>2</th>\n",
       "      <td>FacturacionElectronica</td>\n",
       "      <td>0.038265</td>\n",
       "    </tr>\n",
       "    <tr>\n",
       "      <th>3</th>\n",
       "      <td>SoporteTecnico_Si</td>\n",
       "      <td>0.024490</td>\n",
       "    </tr>\n",
       "    <tr>\n",
       "      <th>4</th>\n",
       "      <td>SoporteTecnico_SinServInter</td>\n",
       "      <td>0.016940</td>\n",
       "    </tr>\n",
       "    <tr>\n",
       "      <th>5</th>\n",
       "      <td>AdultoMayor</td>\n",
       "      <td>0.014162</td>\n",
       "    </tr>\n",
       "    <tr>\n",
       "      <th>6</th>\n",
       "      <td>LineasMultiples</td>\n",
       "      <td>0.012887</td>\n",
       "    </tr>\n",
       "    <tr>\n",
       "      <th>7</th>\n",
       "      <td>ProteccionDispositivo_SinServInter</td>\n",
       "      <td>0.009488</td>\n",
       "    </tr>\n",
       "    <tr>\n",
       "      <th>8</th>\n",
       "      <td>SoporteTecnico_No</td>\n",
       "      <td>0.009024</td>\n",
       "    </tr>\n",
       "    <tr>\n",
       "      <th>9</th>\n",
       "      <td>ProteccionDispositivo_Si</td>\n",
       "      <td>0.005007</td>\n",
       "    </tr>\n",
       "    <tr>\n",
       "      <th>10</th>\n",
       "      <td>ProteccionDispositivo_No</td>\n",
       "      <td>0.003866</td>\n",
       "    </tr>\n",
       "    <tr>\n",
       "      <th>11</th>\n",
       "      <td>ServicioTelefonico</td>\n",
       "      <td>0.003427</td>\n",
       "    </tr>\n",
       "    <tr>\n",
       "      <th>12</th>\n",
       "      <td>Sexo</td>\n",
       "      <td>0.003056</td>\n",
       "    </tr>\n",
       "    <tr>\n",
       "      <th>13</th>\n",
       "      <td>flg_bySexo_mayorMedianMontoMes</td>\n",
       "      <td>0.000000</td>\n",
       "    </tr>\n",
       "  </tbody>\n",
       "</table>\n",
       "</div>"
      ],
      "text/plain": [
       "                               feature  importance\n",
       "0                         MesesCliente    0.496030\n",
       "1                      MontoCargadoMes    0.363359\n",
       "2               FacturacionElectronica    0.038265\n",
       "3                    SoporteTecnico_Si    0.024490\n",
       "4          SoporteTecnico_SinServInter    0.016940\n",
       "5                          AdultoMayor    0.014162\n",
       "6                      LineasMultiples    0.012887\n",
       "7   ProteccionDispositivo_SinServInter    0.009488\n",
       "8                    SoporteTecnico_No    0.009024\n",
       "9             ProteccionDispositivo_Si    0.005007\n",
       "10            ProteccionDispositivo_No    0.003866\n",
       "11                  ServicioTelefonico    0.003427\n",
       "12                                Sexo    0.003056\n",
       "13      flg_bySexo_mayorMedianMontoMes    0.000000"
      ]
     },
     "execution_count": 66,
     "metadata": {},
     "output_type": "execute_result"
    }
   ],
   "source": [
    "df_feature_importances = pd.DataFrame()\n",
    "df_feature_importances['feature'] = X_train.columns\n",
    "df_feature_importances['importance'] = model.feature_importances_/model.feature_importances_.sum()\n",
    "df_feature_importances = df_feature_importances.sort_values(by = ['importance','feature'],ascending=False)\n",
    "df_feature_importances.reset_index(drop = True,inplace=True)\n",
    "\n",
    "df_feature_importances"
   ]
  },
  {
   "cell_type": "code",
   "execution_count": 67,
   "metadata": {
    "colab": {
     "base_uri": "https://localhost:8080/",
     "height": 340
    },
    "colab_type": "code",
    "id": "aBWfpWLP98iL",
    "outputId": "e06a6c5a-e483-429d-cd5f-b826e3163bf1"
   },
   "outputs": [
    {
     "data": {
      "text/plain": [
       "<matplotlib.axes._subplots.AxesSubplot at 0x2a40fa20780>"
      ]
     },
     "execution_count": 67,
     "metadata": {},
     "output_type": "execute_result"
    },
    {
     "data": {
      "image/png": "[encoded data removed]",
      "text/plain": [
       "<Figure size 360x360 with 1 Axes>"
      ]
     },
     "metadata": {
      "needs_background": "light"
     },
     "output_type": "display_data"
    }
   ],
   "source": [
    "df_feature_importances[['feature','importance']].sort_values(by=['importance'],\n",
    "                                                             ascending = [True]).plot(kind='barh',\n",
    "                                                             x='feature',\n",
    "                                                             y='importance',\n",
    "                                                             legend=True, \n",
    "                                                             figsize=(5, 5))"
   ]
  },
  {
   "cell_type": "markdown",
   "metadata": {
    "colab_type": "text",
    "id": "8h6Zrl3CtSg9"
   },
   "source": [
    "## 4.1.C. Random Forest"
   ]
  },
  {
   "cell_type": "markdown",
   "metadata": {
    "colab_type": "text",
    "id": "Sv-fXQpXtSg9"
   },
   "source": [
    "### 4.1.1 Training"
   ]
  },
  {
   "cell_type": "code",
   "execution_count": 68,
   "metadata": {
    "colab": {
     "base_uri": "https://localhost:8080/",
     "height": 134
    },
    "colab_type": "code",
    "id": "B9bIt7GetSg-",
    "outputId": "8460d596-9f22-4c42-d24c-cb8d07561f34"
   },
   "outputs": [
    {
     "data": {
      "text/plain": [
       "RandomForestClassifier(bootstrap=True, class_weight=None, criterion='gini',\n",
       "            max_depth=None, max_features='auto', max_leaf_nodes=None,\n",
       "            min_impurity_decrease=0.0, min_impurity_split=None,\n",
       "            min_samples_leaf=1, min_samples_split=2,\n",
       "            min_weight_fraction_leaf=0.0, n_estimators='warn', n_jobs=None,\n",
       "            oob_score=False, random_state=None, verbose=0,\n",
       "            warm_start=False)"
      ]
     },
     "execution_count": 68,
     "metadata": {},
     "output_type": "execute_result"
    }
   ],
   "source": [
    "from sklearn.ensemble import RandomForestClassifier\n",
    "RandomForestClassifier()"
   ]
  },
  {
   "cell_type": "code",
   "execution_count": 69,
   "metadata": {
    "colab": {},
    "colab_type": "code",
    "id": "Dr9Bor7EtShA"
   },
   "outputs": [],
   "source": [
    "# Create  model objet \n",
    "model_rf = RandomForestClassifier(n_estimators = 150, random_state = 0, max_depth=5, \n",
    "                                  max_features = 0.5, min_samples_leaf = 10, \n",
    "                                  n_jobs = -1)\n",
    "\n",
    "# Fit the model:\n",
    "model_rf.fit(X_train, y_train)\n",
    "\n",
    "model = model_rf"
   ]
  },
  {
   "cell_type": "markdown",
   "metadata": {
    "colab_type": "text",
    "id": "E-qk6gGStShE"
   },
   "source": [
    "### 4.1.2 Evaluación del Modelo"
   ]
  },
  {
   "cell_type": "code",
   "execution_count": 70,
   "metadata": {
    "colab": {},
    "colab_type": "code",
    "id": "Vz_6lMXT_A3R"
   },
   "outputs": [],
   "source": [
    "# Generar las predicciones:\n",
    "y_pred_train = model.predict(X_train)\n",
    "y_pred_test = model.predict(X_test)\n",
    "\n",
    "# Generar las probabilidades\n",
    "y_pred_proba_train = model.predict_proba(X_train)[:,1]\n",
    "y_pred_proba_test = model.predict_proba(X_test)[:,1]"
   ]
  },
  {
   "cell_type": "code",
   "execution_count": 71,
   "metadata": {
    "colab": {
     "base_uri": "https://localhost:8080/",
     "height": 50
    },
    "colab_type": "code",
    "id": "2vzmFDYQ_A3c",
    "outputId": "3e7f110e-3166-4fbd-d8a6-4e13a6879571"
   },
   "outputs": [
    {
     "name": "stdout",
     "output_type": "stream",
     "text": [
      "Accuracy - Train: 0.8126756166094287\n",
      "Accuracy - Test : 0.7802037845705968\n"
     ]
    }
   ],
   "source": [
    "accuracy_train = mt.accuracy_score(y_train, y_pred_train)\n",
    "accuracy_test = mt.accuracy_score(y_test, y_pred_test)\n",
    "\n",
    "print(\"Accuracy - Train: {}\".format(accuracy_train))\n",
    "print(\"Accuracy - Test : {}\".format(accuracy_test))"
   ]
  },
  {
   "cell_type": "markdown",
   "metadata": {
    "colab_type": "text",
    "id": "fvW6UlJP_A3m"
   },
   "source": [
    "El punto de corte por defecto es de 0.50 para decidir si la predicción final será 1 ó 0. A continuación trataremos de encontrar ese punto de corte que optimice la métrica de evaluación del problema.."
   ]
  },
  {
   "cell_type": "markdown",
   "metadata": {
    "colab_type": "text",
    "id": "AlGTfJgG_A3o"
   },
   "source": [
    "### ****Find best threshold:****"
   ]
  },
  {
   "cell_type": "code",
   "execution_count": 72,
   "metadata": {
    "colab": {},
    "colab_type": "code",
    "id": "J76Sf2aY_A3p"
   },
   "outputs": [],
   "source": [
    "list_accuracy_test = []\n",
    "for threshold in range(0,100):\n",
    "  pred_0_1 = [1 if x >= threshold/100 else 0 for x in y_pred_proba_test]\n",
    "  list_accuracy_test.append(mt.accuracy_score(y_test, pred_0_1))"
   ]
  },
  {
   "cell_type": "code",
   "execution_count": 73,
   "metadata": {
    "colab": {
     "base_uri": "https://localhost:8080/",
     "height": 286
    },
    "colab_type": "code",
    "id": "q7rEKttl_A3v",
    "outputId": "f8d243d6-595f-4dfa-a6a4-a2dbb9e4ad0f"
   },
   "outputs": [
    {
     "data": {
      "text/plain": [
       "[<matplotlib.lines.Line2D at 0x2a4105913c8>]"
      ]
     },
     "execution_count": 73,
     "metadata": {},
     "output_type": "execute_result"
    },
    {
     "data": {
      "image/png": "[encoded data removed]",
      "text/plain": [
       "<Figure size 432x288 with 1 Axes>"
      ]
     },
     "metadata": {
      "needs_background": "light"
     },
     "output_type": "display_data"
    }
   ],
   "source": [
    "xs = [x/100 for x in range(0,100)]\n",
    "ys = list_accuracy_test\n",
    "plt.plot(xs, ys)"
   ]
  },
  {
   "cell_type": "code",
   "execution_count": 74,
   "metadata": {
    "colab": {
     "base_uri": "https://localhost:8080/",
     "height": 34
    },
    "colab_type": "code",
    "id": "WR38FGw-_A33",
    "outputId": "a6b20ab4-64c7-407b-c965-8c2b4bb99d5b"
   },
   "outputs": [
    {
     "name": "stdout",
     "output_type": "stream",
     "text": [
      "El mejor threshold es: 0.36\n"
     ]
    }
   ],
   "source": [
    "best_scoring = max(list_accuracy_test)\n",
    "best_threshold = list_accuracy_test.index(best_scoring)/100\n",
    "print(\"El mejor threshold es: {}\".format(best_threshold))"
   ]
  },
  {
   "cell_type": "code",
   "execution_count": 75,
   "metadata": {
    "colab": {
     "base_uri": "https://localhost:8080/",
     "height": 50
    },
    "colab_type": "code",
    "id": "0tlCH3hS_A4A",
    "outputId": "c1282d24-c18a-4f1d-9559-b65dca8e3f2f"
   },
   "outputs": [
    {
     "name": "stdout",
     "output_type": "stream",
     "text": [
      "Accuracy - Train: 0.8014361536059944\n",
      "Accuracy - Test : 0.7903930131004366\n"
     ]
    }
   ],
   "source": [
    "accuracy_train = mt.accuracy_score(y_train, [1 if x >= best_threshold else 0 for x in y_pred_proba_train])\n",
    "accuracy_test = mt.accuracy_score(y_test, [1 if x >= best_threshold else 0 for x in y_pred_proba_test])\n",
    "\n",
    "print(\"Accuracy - Train: {}\".format(accuracy_train))\n",
    "print(\"Accuracy - Test : {}\".format(accuracy_test))"
   ]
  },
  {
   "cell_type": "markdown",
   "metadata": {
    "colab_type": "text",
    "id": "1LN8QylgtShX"
   },
   "source": [
    "### Feature Importances"
   ]
  },
  {
   "cell_type": "code",
   "execution_count": 76,
   "metadata": {
    "colab": {
     "base_uri": "https://localhost:8080/",
     "height": 462
    },
    "colab_type": "code",
    "id": "x5Hziz4p_R_c",
    "outputId": "79e918f7-fc11-431b-8ba5-7d1c4c13e385"
   },
   "outputs": [
    {
     "data": {
      "text/html": [
       "<div>\n",
       "<style scoped>\n",
       "    .dataframe tbody tr th:only-of-type {\n",
       "        vertical-align: middle;\n",
       "    }\n",
       "\n",
       "    .dataframe tbody tr th {\n",
       "        vertical-align: top;\n",
       "    }\n",
       "\n",
       "    .dataframe thead th {\n",
       "        text-align: right;\n",
       "    }\n",
       "</style>\n",
       "<table border=\"1\" class=\"dataframe\">\n",
       "  <thead>\n",
       "    <tr style=\"text-align: right;\">\n",
       "      <th></th>\n",
       "      <th>feature</th>\n",
       "      <th>importance</th>\n",
       "    </tr>\n",
       "  </thead>\n",
       "  <tbody>\n",
       "    <tr>\n",
       "      <th>0</th>\n",
       "      <td>MesesCliente</td>\n",
       "      <td>0.468132</td>\n",
       "    </tr>\n",
       "    <tr>\n",
       "      <th>1</th>\n",
       "      <td>MontoCargadoMes</td>\n",
       "      <td>0.210376</td>\n",
       "    </tr>\n",
       "    <tr>\n",
       "      <th>2</th>\n",
       "      <td>SoporteTecnico_No</td>\n",
       "      <td>0.131923</td>\n",
       "    </tr>\n",
       "    <tr>\n",
       "      <th>3</th>\n",
       "      <td>flg_bySexo_mayorMedianMontoMes</td>\n",
       "      <td>0.038628</td>\n",
       "    </tr>\n",
       "    <tr>\n",
       "      <th>4</th>\n",
       "      <td>ProteccionDispositivo_No</td>\n",
       "      <td>0.033334</td>\n",
       "    </tr>\n",
       "    <tr>\n",
       "      <th>5</th>\n",
       "      <td>FacturacionElectronica</td>\n",
       "      <td>0.023274</td>\n",
       "    </tr>\n",
       "    <tr>\n",
       "      <th>6</th>\n",
       "      <td>SoporteTecnico_SinServInter</td>\n",
       "      <td>0.018511</td>\n",
       "    </tr>\n",
       "    <tr>\n",
       "      <th>7</th>\n",
       "      <td>ProteccionDispositivo_SinServInter</td>\n",
       "      <td>0.018392</td>\n",
       "    </tr>\n",
       "    <tr>\n",
       "      <th>8</th>\n",
       "      <td>AdultoMayor</td>\n",
       "      <td>0.017806</td>\n",
       "    </tr>\n",
       "    <tr>\n",
       "      <th>9</th>\n",
       "      <td>LineasMultiples</td>\n",
       "      <td>0.012128</td>\n",
       "    </tr>\n",
       "    <tr>\n",
       "      <th>10</th>\n",
       "      <td>SoporteTecnico_Si</td>\n",
       "      <td>0.010726</td>\n",
       "    </tr>\n",
       "    <tr>\n",
       "      <th>11</th>\n",
       "      <td>ProteccionDispositivo_Si</td>\n",
       "      <td>0.007485</td>\n",
       "    </tr>\n",
       "    <tr>\n",
       "      <th>12</th>\n",
       "      <td>ServicioTelefonico</td>\n",
       "      <td>0.005218</td>\n",
       "    </tr>\n",
       "    <tr>\n",
       "      <th>13</th>\n",
       "      <td>Sexo</td>\n",
       "      <td>0.004066</td>\n",
       "    </tr>\n",
       "  </tbody>\n",
       "</table>\n",
       "</div>"
      ],
      "text/plain": [
       "                               feature  importance\n",
       "0                         MesesCliente    0.468132\n",
       "1                      MontoCargadoMes    0.210376\n",
       "2                    SoporteTecnico_No    0.131923\n",
       "3       flg_bySexo_mayorMedianMontoMes    0.038628\n",
       "4             ProteccionDispositivo_No    0.033334\n",
       "5               FacturacionElectronica    0.023274\n",
       "6          SoporteTecnico_SinServInter    0.018511\n",
       "7   ProteccionDispositivo_SinServInter    0.018392\n",
       "8                          AdultoMayor    0.017806\n",
       "9                      LineasMultiples    0.012128\n",
       "10                   SoporteTecnico_Si    0.010726\n",
       "11            ProteccionDispositivo_Si    0.007485\n",
       "12                  ServicioTelefonico    0.005218\n",
       "13                                Sexo    0.004066"
      ]
     },
     "execution_count": 76,
     "metadata": {},
     "output_type": "execute_result"
    }
   ],
   "source": [
    "df_feature_importances = pd.DataFrame()\n",
    "df_feature_importances['feature'] = X_train.columns\n",
    "df_feature_importances['importance'] = model.feature_importances_/model.feature_importances_.sum()\n",
    "df_feature_importances = df_feature_importances.sort_values(by = ['importance','feature'],ascending=False)\n",
    "df_feature_importances.reset_index(drop = True,inplace=True)\n",
    "\n",
    "df_feature_importances"
   ]
  },
  {
   "cell_type": "code",
   "execution_count": 77,
   "metadata": {
    "colab": {
     "base_uri": "https://localhost:8080/",
     "height": 340
    },
    "colab_type": "code",
    "id": "tsDvlIIU_R_1",
    "outputId": "5bf0fb90-9c57-4601-b98e-efe0931188ba"
   },
   "outputs": [
    {
     "data": {
      "text/plain": [
       "<matplotlib.axes._subplots.AxesSubplot at 0x2a40fbf9978>"
      ]
     },
     "execution_count": 77,
     "metadata": {},
     "output_type": "execute_result"
    },
    {
     "data": {
      "image/png": "[encoded data removed]",
      "text/plain": [
       "<Figure size 360x360 with 1 Axes>"
      ]
     },
     "metadata": {
      "needs_background": "light"
     },
     "output_type": "display_data"
    }
   ],
   "source": [
    "df_feature_importances[['feature','importance']].sort_values(by=['importance'],\n",
    "                                                             ascending = [True]).plot(kind='barh',\n",
    "                                                             x='feature',\n",
    "                                                             y='importance',\n",
    "                                                             legend=True, \n",
    "                                                             figsize=(5, 5))"
   ]
  },
  {
   "cell_type": "markdown",
   "metadata": {
    "colab_type": "text",
    "id": "xpp8dOIDDWmv"
   },
   "source": [
    "**MODELO FINAL**"
   ]
  },
  {
   "cell_type": "markdown",
   "metadata": {
    "colab_type": "text",
    "id": "HERjQHFoDcCc"
   },
   "source": [
    "Como se puede notar, de los 3 tipos de algoritmos entrenados, el modelo basado en Random Forrest es el ganador con un accuracy optimizado por el punto de corte (threhold: 0.36)"
   ]
  },
  {
   "cell_type": "markdown",
   "metadata": {
    "colab_type": "text",
    "id": "cb_S6QGXtShc"
   },
   "source": [
    "# Predicciones on Submission DS"
   ]
  },
  {
   "cell_type": "code",
   "execution_count": 78,
   "metadata": {
    "colab": {},
    "colab_type": "code",
    "id": "_KrAWJ2NtShd"
   },
   "outputs": [],
   "source": [
    "pred_prob_subm = model_rf.predict_proba(X_summit)[:,1]\n",
    "pred_subm = [1 if x >= best_threshold else 0 for x in pred_prob_subm]"
   ]
  },
  {
   "cell_type": "code",
   "execution_count": 79,
   "metadata": {
    "colab": {
     "base_uri": "https://localhost:8080/",
     "height": 195
    },
    "colab_type": "code",
    "id": "u54bT83htShe",
    "outputId": "963182b2-055c-4136-ebff-880a079aed59"
   },
   "outputs": [
    {
     "data": {
      "text/html": [
       "<div>\n",
       "<style scoped>\n",
       "    .dataframe tbody tr th:only-of-type {\n",
       "        vertical-align: middle;\n",
       "    }\n",
       "\n",
       "    .dataframe tbody tr th {\n",
       "        vertical-align: top;\n",
       "    }\n",
       "\n",
       "    .dataframe thead th {\n",
       "        text-align: right;\n",
       "    }\n",
       "</style>\n",
       "<table border=\"1\" class=\"dataframe\">\n",
       "  <thead>\n",
       "    <tr style=\"text-align: right;\">\n",
       "      <th></th>\n",
       "      <th>ID</th>\n",
       "      <th>Churn</th>\n",
       "    </tr>\n",
       "  </thead>\n",
       "  <tbody>\n",
       "    <tr>\n",
       "      <th>0</th>\n",
       "      <td>ID03436</td>\n",
       "      <td>1</td>\n",
       "    </tr>\n",
       "    <tr>\n",
       "      <th>1</th>\n",
       "      <td>ID05166</td>\n",
       "      <td>0</td>\n",
       "    </tr>\n",
       "    <tr>\n",
       "      <th>2</th>\n",
       "      <td>ID04004</td>\n",
       "      <td>1</td>\n",
       "    </tr>\n",
       "    <tr>\n",
       "      <th>3</th>\n",
       "      <td>ID05309</td>\n",
       "      <td>0</td>\n",
       "    </tr>\n",
       "    <tr>\n",
       "      <th>4</th>\n",
       "      <td>ID05434</td>\n",
       "      <td>0</td>\n",
       "    </tr>\n",
       "  </tbody>\n",
       "</table>\n",
       "</div>"
      ],
      "text/plain": [
       "        ID  Churn\n",
       "0  ID03436      1\n",
       "1  ID05166      0\n",
       "2  ID04004      1\n",
       "3  ID05309      0\n",
       "4  ID05434      0"
      ]
     },
     "execution_count": 79,
     "metadata": {},
     "output_type": "execute_result"
    }
   ],
   "source": [
    "Y_summit_pred = pd.DataFrame()\n",
    "Y_summit_pred[ID] = df_test[ID]\n",
    "Y_summit_pred[TARGET] = pred_subm #pred_prob_subm\n",
    "Y_summit_pred.head()"
   ]
  },
  {
   "cell_type": "markdown",
   "metadata": {
    "colab_type": "text",
    "id": "HZuqQb8stShf"
   },
   "source": [
    "To submission:"
   ]
  },
  {
   "cell_type": "code",
   "execution_count": 72,
   "metadata": {
    "colab": {},
    "colab_type": "code",
    "id": "wFz5QCrQEa4u"
   },
   "outputs": [],
   "source": [
    "Y_summit_pred.to_csv(\"krfc_submission_01_baseline.csv\", index = False)"
   ]
  },
  {
   "cell_type": "code",
   "execution_count": 73,
   "metadata": {
    "colab": {},
    "colab_type": "code",
    "id": "2nIdVKzfDOMG"
   },
   "outputs": [],
   "source": []
  }
 ],
 "metadata": {
  "colab": {
   "collapsed_sections": [],
   "name": "DSRP - Semillero Kaggle Piloto_01.ipynb",
   "provenance": [],
   "toc_visible": true,
   "version": "0.3.2"
  },
  "kernelspec": {
   "display_name": "Python 3",
   "language": "python",
   "name": "python3"
  },
  "language_info": {
   "codemirror_mode": {
    "name": "ipython",
    "version": 3
   },
   "file_extension": ".py",
   "mimetype": "text/x-python",
   "name": "python",
   "nbconvert_exporter": "python",
   "pygments_lexer": "ipython3",
   "version": "3.7.3"
  }
 },
 "nbformat": 4,
 "nbformat_minor": 1
}
