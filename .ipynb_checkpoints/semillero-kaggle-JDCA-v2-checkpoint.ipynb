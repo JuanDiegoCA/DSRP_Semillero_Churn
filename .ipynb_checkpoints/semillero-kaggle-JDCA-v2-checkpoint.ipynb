{
 "cells": [
  {
   "cell_type": "markdown",
   "metadata": {},
   "source": [
    "# 1) IMPORT & INSTALL PACKAGES"
   ]
  },
  {
   "cell_type": "code",
   "execution_count": 1,
   "metadata": {},
   "outputs": [],
   "source": [
    "import pandas as pd\n",
    "import numpy as np\n",
    "import matplotlib.pylab as pylab \n",
    "from matplotlib import pyplot as plt\n",
    "import seaborn as sns\n",
    "from scipy import stats \n",
    "from sklearn import metrics as mt\n",
    "\n",
    "%matplotlib inline\n",
    "pylab.rcParams['figure.figsize'] = 6,4\n",
    "\n",
    "# Ignorar warnings\n",
    "import warnings\n",
    "warnings.filterwarnings(\"ignore\")"
   ]
  },
  {
   "cell_type": "markdown",
   "metadata": {},
   "source": [
    "# 2) DATA UNDERSTANDING"
   ]
  },
  {
   "cell_type": "markdown",
   "metadata": {},
   "source": [
    "## 2.1) Load Data"
   ]
  },
  {
   "cell_type": "code",
   "execution_count": 2,
   "metadata": {},
   "outputs": [],
   "source": [
    "# Import from\n",
    "\n",
    "path = \"input/\"\n",
    "df_train = pd.read_csv(path+\"churn_data_train.csv\",encoding='latin-1')\n",
    "df_test = pd.read_csv(path+\"churn_data_test.csv\",encoding='latin-1')"
   ]
  },
  {
   "cell_type": "markdown",
   "metadata": {},
   "source": [
    "## 2.2) Data Exploration"
   ]
  },
  {
   "cell_type": "code",
   "execution_count": 3,
   "metadata": {},
   "outputs": [
    {
     "data": {
      "text/plain": [
       "((4577, 21), (2466, 20))"
      ]
     },
     "execution_count": 3,
     "metadata": {},
     "output_type": "execute_result"
    }
   ],
   "source": [
    "df_train.shape, df_test.shape"
   ]
  },
  {
   "cell_type": "code",
   "execution_count": 4,
   "metadata": {},
   "outputs": [
    {
     "data": {
      "text/html": [
       "<div>\n",
       "<style scoped>\n",
       "    .dataframe tbody tr th:only-of-type {\n",
       "        vertical-align: middle;\n",
       "    }\n",
       "\n",
       "    .dataframe tbody tr th {\n",
       "        vertical-align: top;\n",
       "    }\n",
       "\n",
       "    .dataframe thead th {\n",
       "        text-align: right;\n",
       "    }\n",
       "</style>\n",
       "<table border=\"1\" class=\"dataframe\">\n",
       "  <thead>\n",
       "    <tr style=\"text-align: right;\">\n",
       "      <th></th>\n",
       "      <th>ID</th>\n",
       "      <th>Sexo</th>\n",
       "      <th>AdultoMayor</th>\n",
       "      <th>Socio</th>\n",
       "      <th>Dependientes</th>\n",
       "      <th>MesesCliente</th>\n",
       "      <th>ServicioTelefonico</th>\n",
       "      <th>LineasMultiples</th>\n",
       "      <th>ServicioInternet</th>\n",
       "      <th>SeguridadOnline</th>\n",
       "      <th>...</th>\n",
       "      <th>ProteccionDispositivo</th>\n",
       "      <th>SoporteTecnico</th>\n",
       "      <th>TransmisionTV</th>\n",
       "      <th>TransmisionPeliculas</th>\n",
       "      <th>TerminoContrato</th>\n",
       "      <th>FacturacionElectronica</th>\n",
       "      <th>MetodoPago</th>\n",
       "      <th>MontoCargadoMes</th>\n",
       "      <th>MontoCargadoTotal</th>\n",
       "      <th>Churn</th>\n",
       "    </tr>\n",
       "  </thead>\n",
       "  <tbody>\n",
       "    <tr>\n",
       "      <th>0</th>\n",
       "      <td>ID01802</td>\n",
       "      <td>Masculino</td>\n",
       "      <td>1.0</td>\n",
       "      <td>No</td>\n",
       "      <td>No</td>\n",
       "      <td>11.0</td>\n",
       "      <td>Si</td>\n",
       "      <td>Si</td>\n",
       "      <td>DSL</td>\n",
       "      <td>Si</td>\n",
       "      <td>...</td>\n",
       "      <td>No</td>\n",
       "      <td>No</td>\n",
       "      <td>No</td>\n",
       "      <td>No</td>\n",
       "      <td>Mes a mes</td>\n",
       "      <td>No</td>\n",
       "      <td>Tarjeta de credito (automatico)</td>\n",
       "      <td>60.25</td>\n",
       "      <td>662.95</td>\n",
       "      <td>0</td>\n",
       "    </tr>\n",
       "    <tr>\n",
       "      <th>1</th>\n",
       "      <td>ID05696</td>\n",
       "      <td>Masculino</td>\n",
       "      <td>0.0</td>\n",
       "      <td>No</td>\n",
       "      <td>No</td>\n",
       "      <td>1.0</td>\n",
       "      <td>Si</td>\n",
       "      <td>No</td>\n",
       "      <td>No</td>\n",
       "      <td>Sin servicio de internet</td>\n",
       "      <td>...</td>\n",
       "      <td>Sin servicio de internet</td>\n",
       "      <td>Sin servicio de internet</td>\n",
       "      <td>Sin servicio de internet</td>\n",
       "      <td>Sin servicio de internet</td>\n",
       "      <td>Mes a mes</td>\n",
       "      <td>No</td>\n",
       "      <td>Checke electronico</td>\n",
       "      <td>20.05</td>\n",
       "      <td>20.05</td>\n",
       "      <td>0</td>\n",
       "    </tr>\n",
       "    <tr>\n",
       "      <th>2</th>\n",
       "      <td>ID03166</td>\n",
       "      <td>Femenino</td>\n",
       "      <td>0.0</td>\n",
       "      <td>Si</td>\n",
       "      <td>Si</td>\n",
       "      <td>8.0</td>\n",
       "      <td>Si</td>\n",
       "      <td>No</td>\n",
       "      <td>Fibra Optica</td>\n",
       "      <td>No</td>\n",
       "      <td>...</td>\n",
       "      <td>Si</td>\n",
       "      <td>No</td>\n",
       "      <td>Si</td>\n",
       "      <td>Si</td>\n",
       "      <td>Mes a mes</td>\n",
       "      <td>Si</td>\n",
       "      <td>Checke por correo</td>\n",
       "      <td>94.20</td>\n",
       "      <td>777.3</td>\n",
       "      <td>1</td>\n",
       "    </tr>\n",
       "    <tr>\n",
       "      <th>3</th>\n",
       "      <td>ID00104</td>\n",
       "      <td>Masculino</td>\n",
       "      <td>0.0</td>\n",
       "      <td>Si</td>\n",
       "      <td>Si</td>\n",
       "      <td>50.0</td>\n",
       "      <td>No</td>\n",
       "      <td>Sin servicio telefonico</td>\n",
       "      <td>DSL</td>\n",
       "      <td>Si</td>\n",
       "      <td>...</td>\n",
       "      <td>No</td>\n",
       "      <td>No</td>\n",
       "      <td>Si</td>\n",
       "      <td>No</td>\n",
       "      <td>Mes a mes</td>\n",
       "      <td>Si</td>\n",
       "      <td>Transferencia bancaria (automatico)</td>\n",
       "      <td>39.45</td>\n",
       "      <td>2021.35</td>\n",
       "      <td>0</td>\n",
       "    </tr>\n",
       "    <tr>\n",
       "      <th>4</th>\n",
       "      <td>ID05060</td>\n",
       "      <td>Femenino</td>\n",
       "      <td>0.0</td>\n",
       "      <td>No</td>\n",
       "      <td>No</td>\n",
       "      <td>71.0</td>\n",
       "      <td>Si</td>\n",
       "      <td>Si</td>\n",
       "      <td>Fibra Optica</td>\n",
       "      <td>Si</td>\n",
       "      <td>...</td>\n",
       "      <td>Si</td>\n",
       "      <td>Si</td>\n",
       "      <td>Si</td>\n",
       "      <td>Si</td>\n",
       "      <td>Bianual</td>\n",
       "      <td>Si</td>\n",
       "      <td>Checke por correo</td>\n",
       "      <td>118.65</td>\n",
       "      <td>NaN</td>\n",
       "      <td>0</td>\n",
       "    </tr>\n",
       "  </tbody>\n",
       "</table>\n",
       "<p>5 rows × 21 columns</p>\n",
       "</div>"
      ],
      "text/plain": [
       "        ID       Sexo  AdultoMayor Socio Dependientes  MesesCliente  \\\n",
       "0  ID01802  Masculino          1.0    No           No          11.0   \n",
       "1  ID05696  Masculino          0.0    No           No           1.0   \n",
       "2  ID03166   Femenino          0.0    Si           Si           8.0   \n",
       "3  ID00104  Masculino          0.0    Si           Si          50.0   \n",
       "4  ID05060   Femenino          0.0    No           No          71.0   \n",
       "\n",
       "  ServicioTelefonico          LineasMultiples ServicioInternet  \\\n",
       "0                 Si                       Si              DSL   \n",
       "1                 Si                       No               No   \n",
       "2                 Si                       No     Fibra Optica   \n",
       "3                 No  Sin servicio telefonico              DSL   \n",
       "4                 Si                       Si     Fibra Optica   \n",
       "\n",
       "            SeguridadOnline  ...      ProteccionDispositivo  \\\n",
       "0                        Si  ...                         No   \n",
       "1  Sin servicio de internet  ...   Sin servicio de internet   \n",
       "2                        No  ...                         Si   \n",
       "3                        Si  ...                         No   \n",
       "4                        Si  ...                         Si   \n",
       "\n",
       "             SoporteTecnico             TransmisionTV  \\\n",
       "0                        No                        No   \n",
       "1  Sin servicio de internet  Sin servicio de internet   \n",
       "2                        No                        Si   \n",
       "3                        No                        Si   \n",
       "4                        Si                        Si   \n",
       "\n",
       "       TransmisionPeliculas TerminoContrato FacturacionElectronica  \\\n",
       "0                        No       Mes a mes                     No   \n",
       "1  Sin servicio de internet       Mes a mes                     No   \n",
       "2                        Si       Mes a mes                     Si   \n",
       "3                        No       Mes a mes                     Si   \n",
       "4                        Si         Bianual                     Si   \n",
       "\n",
       "                            MetodoPago MontoCargadoMes  MontoCargadoTotal  \\\n",
       "0      Tarjeta de credito (automatico)           60.25             662.95   \n",
       "1                   Checke electronico           20.05              20.05   \n",
       "2                    Checke por correo           94.20              777.3   \n",
       "3  Transferencia bancaria (automatico)           39.45            2021.35   \n",
       "4                    Checke por correo          118.65                NaN   \n",
       "\n",
       "  Churn  \n",
       "0     0  \n",
       "1     0  \n",
       "2     1  \n",
       "3     0  \n",
       "4     0  \n",
       "\n",
       "[5 rows x 21 columns]"
      ]
     },
     "execution_count": 4,
     "metadata": {},
     "output_type": "execute_result"
    }
   ],
   "source": [
    "df_train.head()"
   ]
  },
  {
   "cell_type": "code",
   "execution_count": 5,
   "metadata": {},
   "outputs": [
    {
     "data": {
      "text/html": [
       "<div>\n",
       "<style scoped>\n",
       "    .dataframe tbody tr th:only-of-type {\n",
       "        vertical-align: middle;\n",
       "    }\n",
       "\n",
       "    .dataframe tbody tr th {\n",
       "        vertical-align: top;\n",
       "    }\n",
       "\n",
       "    .dataframe thead th {\n",
       "        text-align: right;\n",
       "    }\n",
       "</style>\n",
       "<table border=\"1\" class=\"dataframe\">\n",
       "  <thead>\n",
       "    <tr style=\"text-align: right;\">\n",
       "      <th></th>\n",
       "      <th>ID</th>\n",
       "      <th>Sexo</th>\n",
       "      <th>AdultoMayor</th>\n",
       "      <th>Socio</th>\n",
       "      <th>Dependientes</th>\n",
       "      <th>MesesCliente</th>\n",
       "      <th>ServicioTelefonico</th>\n",
       "      <th>LineasMultiples</th>\n",
       "      <th>ServicioInternet</th>\n",
       "      <th>SeguridadOnline</th>\n",
       "      <th>RespaldoOnline</th>\n",
       "      <th>ProteccionDispositivo</th>\n",
       "      <th>SoporteTecnico</th>\n",
       "      <th>TransmisionTV</th>\n",
       "      <th>TransmisionPeliculas</th>\n",
       "      <th>TerminoContrato</th>\n",
       "      <th>FacturacionElectronica</th>\n",
       "      <th>MetodoPago</th>\n",
       "      <th>MontoCargadoMes</th>\n",
       "      <th>MontoCargadoTotal</th>\n",
       "    </tr>\n",
       "  </thead>\n",
       "  <tbody>\n",
       "    <tr>\n",
       "      <th>0</th>\n",
       "      <td>ID03436</td>\n",
       "      <td>Masculino</td>\n",
       "      <td>0.0</td>\n",
       "      <td>No</td>\n",
       "      <td>No</td>\n",
       "      <td>1.0</td>\n",
       "      <td>Si</td>\n",
       "      <td>No</td>\n",
       "      <td>DSL</td>\n",
       "      <td>Si</td>\n",
       "      <td>No</td>\n",
       "      <td>No</td>\n",
       "      <td>No</td>\n",
       "      <td>No</td>\n",
       "      <td>No</td>\n",
       "      <td>Mes a mes</td>\n",
       "      <td>No</td>\n",
       "      <td>Checke por correo</td>\n",
       "      <td>47.95</td>\n",
       "      <td>47.95</td>\n",
       "    </tr>\n",
       "    <tr>\n",
       "      <th>1</th>\n",
       "      <td>ID05166</td>\n",
       "      <td>Femenino</td>\n",
       "      <td>0.0</td>\n",
       "      <td>Si</td>\n",
       "      <td>Si</td>\n",
       "      <td>62.0</td>\n",
       "      <td>Si</td>\n",
       "      <td>Si</td>\n",
       "      <td>Fibra Optica</td>\n",
       "      <td>No</td>\n",
       "      <td>Si</td>\n",
       "      <td>Si</td>\n",
       "      <td>Si</td>\n",
       "      <td>Si</td>\n",
       "      <td>Si</td>\n",
       "      <td>Anual</td>\n",
       "      <td>Si</td>\n",
       "      <td>Checke por correo</td>\n",
       "      <td>110.80</td>\n",
       "      <td>6840.95</td>\n",
       "    </tr>\n",
       "    <tr>\n",
       "      <th>2</th>\n",
       "      <td>ID04004</td>\n",
       "      <td>Femenino</td>\n",
       "      <td>0.0</td>\n",
       "      <td>Si</td>\n",
       "      <td>No</td>\n",
       "      <td>7.0</td>\n",
       "      <td>Si</td>\n",
       "      <td>No</td>\n",
       "      <td>Fibra Optica</td>\n",
       "      <td>No</td>\n",
       "      <td>No</td>\n",
       "      <td>Si</td>\n",
       "      <td>No</td>\n",
       "      <td>Si</td>\n",
       "      <td>No</td>\n",
       "      <td>Mes a mes</td>\n",
       "      <td>Si</td>\n",
       "      <td>Checke por correo</td>\n",
       "      <td>86.25</td>\n",
       "      <td>587.1</td>\n",
       "    </tr>\n",
       "    <tr>\n",
       "      <th>3</th>\n",
       "      <td>ID05309</td>\n",
       "      <td>Femenino</td>\n",
       "      <td>1.0</td>\n",
       "      <td>Si</td>\n",
       "      <td>No</td>\n",
       "      <td>50.0</td>\n",
       "      <td>Si</td>\n",
       "      <td>Si</td>\n",
       "      <td>No</td>\n",
       "      <td>Sin servicio de internet</td>\n",
       "      <td>Sin servicio de internet</td>\n",
       "      <td>Sin servicio de internet</td>\n",
       "      <td>Sin servicio de internet</td>\n",
       "      <td>Sin servicio de internet</td>\n",
       "      <td>Sin servicio de internet</td>\n",
       "      <td>Anual</td>\n",
       "      <td>No</td>\n",
       "      <td>Checke por correo</td>\n",
       "      <td>25.20</td>\n",
       "      <td>1306.3</td>\n",
       "    </tr>\n",
       "    <tr>\n",
       "      <th>4</th>\n",
       "      <td>ID05434</td>\n",
       "      <td>Masculino</td>\n",
       "      <td>0.0</td>\n",
       "      <td>Si</td>\n",
       "      <td>Si</td>\n",
       "      <td>1.0</td>\n",
       "      <td>Si</td>\n",
       "      <td>No</td>\n",
       "      <td>No</td>\n",
       "      <td>Sin servicio de internet</td>\n",
       "      <td>Sin servicio de internet</td>\n",
       "      <td>Sin servicio de internet</td>\n",
       "      <td>Sin servicio de internet</td>\n",
       "      <td>Sin servicio de internet</td>\n",
       "      <td>Sin servicio de internet</td>\n",
       "      <td>Mes a mes</td>\n",
       "      <td>No</td>\n",
       "      <td>Checke electronico</td>\n",
       "      <td>NaN</td>\n",
       "      <td>19.2</td>\n",
       "    </tr>\n",
       "  </tbody>\n",
       "</table>\n",
       "</div>"
      ],
      "text/plain": [
       "        ID       Sexo  AdultoMayor Socio Dependientes  MesesCliente  \\\n",
       "0  ID03436  Masculino          0.0    No           No           1.0   \n",
       "1  ID05166   Femenino          0.0    Si           Si          62.0   \n",
       "2  ID04004   Femenino          0.0    Si           No           7.0   \n",
       "3  ID05309   Femenino          1.0    Si           No          50.0   \n",
       "4  ID05434  Masculino          0.0    Si           Si           1.0   \n",
       "\n",
       "  ServicioTelefonico LineasMultiples ServicioInternet  \\\n",
       "0                 Si              No              DSL   \n",
       "1                 Si              Si     Fibra Optica   \n",
       "2                 Si              No     Fibra Optica   \n",
       "3                 Si              Si               No   \n",
       "4                 Si              No               No   \n",
       "\n",
       "            SeguridadOnline            RespaldoOnline  \\\n",
       "0                        Si                        No   \n",
       "1                        No                        Si   \n",
       "2                        No                        No   \n",
       "3  Sin servicio de internet  Sin servicio de internet   \n",
       "4  Sin servicio de internet  Sin servicio de internet   \n",
       "\n",
       "      ProteccionDispositivo            SoporteTecnico  \\\n",
       "0                        No                        No   \n",
       "1                        Si                        Si   \n",
       "2                        Si                        No   \n",
       "3  Sin servicio de internet  Sin servicio de internet   \n",
       "4  Sin servicio de internet  Sin servicio de internet   \n",
       "\n",
       "              TransmisionTV      TransmisionPeliculas TerminoContrato  \\\n",
       "0                        No                        No       Mes a mes   \n",
       "1                        Si                        Si           Anual   \n",
       "2                        Si                        No       Mes a mes   \n",
       "3  Sin servicio de internet  Sin servicio de internet           Anual   \n",
       "4  Sin servicio de internet  Sin servicio de internet       Mes a mes   \n",
       "\n",
       "  FacturacionElectronica          MetodoPago  MontoCargadoMes  \\\n",
       "0                     No   Checke por correo            47.95   \n",
       "1                     Si   Checke por correo           110.80   \n",
       "2                     Si   Checke por correo            86.25   \n",
       "3                     No   Checke por correo            25.20   \n",
       "4                     No  Checke electronico              NaN   \n",
       "\n",
       "  MontoCargadoTotal  \n",
       "0             47.95  \n",
       "1           6840.95  \n",
       "2             587.1  \n",
       "3            1306.3  \n",
       "4              19.2  "
      ]
     },
     "execution_count": 5,
     "metadata": {},
     "output_type": "execute_result"
    }
   ],
   "source": [
    "df_test.head()"
   ]
  },
  {
   "cell_type": "code",
   "execution_count": 6,
   "metadata": {},
   "outputs": [
    {
     "name": "stdout",
     "output_type": "stream",
     "text": [
      "<class 'pandas.core.frame.DataFrame'>\n",
      "RangeIndex: 4577 entries, 0 to 4576\n",
      "Data columns (total 21 columns):\n",
      "ID                        4577 non-null object\n",
      "Sexo                      4577 non-null object\n",
      "AdultoMayor               4503 non-null float64\n",
      "Socio                     4548 non-null object\n",
      "Dependientes              4577 non-null object\n",
      "MesesCliente              4573 non-null float64\n",
      "ServicioTelefonico        4577 non-null object\n",
      "LineasMultiples           4577 non-null object\n",
      "ServicioInternet          4577 non-null object\n",
      "SeguridadOnline           4483 non-null object\n",
      "RespaldoOnline            4483 non-null object\n",
      "ProteccionDispositivo     4483 non-null object\n",
      "SoporteTecnico            4483 non-null object\n",
      "TransmisionTV             4483 non-null object\n",
      "TransmisionPeliculas      4483 non-null object\n",
      "TerminoContrato           4577 non-null object\n",
      "FacturacionElectronica    4531 non-null object\n",
      "MetodoPago                4577 non-null object\n",
      "MontoCargadoMes           4163 non-null float64\n",
      "MontoCargadoTotal         4350 non-null object\n",
      "Churn                     4577 non-null int64\n",
      "dtypes: float64(3), int64(1), object(17)\n",
      "memory usage: 751.0+ KB\n"
     ]
    }
   ],
   "source": [
    "df_train.info()"
   ]
  },
  {
   "cell_type": "code",
   "execution_count": 7,
   "metadata": {},
   "outputs": [
    {
     "name": "stdout",
     "output_type": "stream",
     "text": [
      "<class 'pandas.core.frame.DataFrame'>\n",
      "RangeIndex: 2466 entries, 0 to 2465\n",
      "Data columns (total 20 columns):\n",
      "ID                        2466 non-null object\n",
      "Sexo                      2466 non-null object\n",
      "AdultoMayor               2414 non-null float64\n",
      "Socio                     2447 non-null object\n",
      "Dependientes              2466 non-null object\n",
      "MesesCliente              2459 non-null float64\n",
      "ServicioTelefonico        2466 non-null object\n",
      "LineasMultiples           2466 non-null object\n",
      "ServicioInternet          2466 non-null object\n",
      "SeguridadOnline           2404 non-null object\n",
      "RespaldoOnline            2404 non-null object\n",
      "ProteccionDispositivo     2404 non-null object\n",
      "SoporteTecnico            2404 non-null object\n",
      "TransmisionTV             2404 non-null object\n",
      "TransmisionPeliculas      2404 non-null object\n",
      "TerminoContrato           2466 non-null object\n",
      "FacturacionElectronica    2442 non-null object\n",
      "MetodoPago                2466 non-null object\n",
      "MontoCargadoMes           2267 non-null float64\n",
      "MontoCargadoTotal         2353 non-null object\n",
      "dtypes: float64(3), object(17)\n",
      "memory usage: 385.4+ KB\n"
     ]
    }
   ],
   "source": [
    "df_test.info()"
   ]
  },
  {
   "cell_type": "code",
   "execution_count": 8,
   "metadata": {},
   "outputs": [],
   "source": [
    "# Defining features types\n",
    "ID = 'ID'\n",
    "TARGET = 'Churn'"
   ]
  },
  {
   "cell_type": "code",
   "execution_count": 9,
   "metadata": {},
   "outputs": [
    {
     "data": {
      "text/plain": [
       "0    3362\n",
       "1    1215\n",
       "Name: Churn, dtype: int64"
      ]
     },
     "execution_count": 9,
     "metadata": {},
     "output_type": "execute_result"
    }
   ],
   "source": [
    "# Distribución del Target\n",
    "df_train[TARGET].value_counts(dropna=False)"
   ]
  },
  {
   "cell_type": "code",
   "execution_count": 10,
   "metadata": {
    "scrolled": true
   },
   "outputs": [
    {
     "data": {
      "text/plain": [
       "0    73.454228\n",
       "1    26.545772\n",
       "Name: Churn, dtype: float64"
      ]
     },
     "execution_count": 10,
     "metadata": {},
     "output_type": "execute_result"
    }
   ],
   "source": [
    "df_train[TARGET].value_counts(dropna=False, normalize = True)*100"
   ]
  },
  {
   "cell_type": "code",
   "execution_count": 11,
   "metadata": {},
   "outputs": [],
   "source": [
    "df_train['AdultoMayor'] = df_train['AdultoMayor'].astype(str) # Convertir a variable categorica\n",
    "df_test['AdultoMayor'] = df_test['AdultoMayor'].astype(str) # Convertir a variable categorica"
   ]
  },
  {
   "cell_type": "code",
   "execution_count": 12,
   "metadata": {},
   "outputs": [],
   "source": [
    "# Arreglando valores \" \" en esta columna\n",
    "df_train.MontoCargadoTotal= df_train.MontoCargadoTotal.replace(\" \",0)\n",
    "df_train.MontoCargadoTotal = df_train.MontoCargadoTotal.astype(float)\n",
    "\n",
    "df_test.MontoCargadoTotal= df_test.MontoCargadoTotal.replace(\" \",0)\n",
    "df_test.MontoCargadoTotal = df_test.MontoCargadoTotal.astype(float)"
   ]
  },
  {
   "cell_type": "code",
   "execution_count": 13,
   "metadata": {},
   "outputs": [
    {
     "data": {
      "text/html": [
       "<div>\n",
       "<style scoped>\n",
       "    .dataframe tbody tr th:only-of-type {\n",
       "        vertical-align: middle;\n",
       "    }\n",
       "\n",
       "    .dataframe tbody tr th {\n",
       "        vertical-align: top;\n",
       "    }\n",
       "\n",
       "    .dataframe thead th {\n",
       "        text-align: right;\n",
       "    }\n",
       "</style>\n",
       "<table border=\"1\" class=\"dataframe\">\n",
       "  <thead>\n",
       "    <tr style=\"text-align: right;\">\n",
       "      <th></th>\n",
       "      <th>count</th>\n",
       "      <th>unique</th>\n",
       "      <th>top</th>\n",
       "      <th>freq</th>\n",
       "      <th>mean</th>\n",
       "      <th>std</th>\n",
       "      <th>min</th>\n",
       "      <th>25%</th>\n",
       "      <th>50%</th>\n",
       "      <th>75%</th>\n",
       "      <th>max</th>\n",
       "    </tr>\n",
       "  </thead>\n",
       "  <tbody>\n",
       "    <tr>\n",
       "      <th>ID</th>\n",
       "      <td>4577</td>\n",
       "      <td>4577</td>\n",
       "      <td>ID03081</td>\n",
       "      <td>1</td>\n",
       "      <td>NaN</td>\n",
       "      <td>NaN</td>\n",
       "      <td>NaN</td>\n",
       "      <td>NaN</td>\n",
       "      <td>NaN</td>\n",
       "      <td>NaN</td>\n",
       "      <td>NaN</td>\n",
       "    </tr>\n",
       "    <tr>\n",
       "      <th>Sexo</th>\n",
       "      <td>4577</td>\n",
       "      <td>2</td>\n",
       "      <td>Masculino</td>\n",
       "      <td>2323</td>\n",
       "      <td>NaN</td>\n",
       "      <td>NaN</td>\n",
       "      <td>NaN</td>\n",
       "      <td>NaN</td>\n",
       "      <td>NaN</td>\n",
       "      <td>NaN</td>\n",
       "      <td>NaN</td>\n",
       "    </tr>\n",
       "    <tr>\n",
       "      <th>AdultoMayor</th>\n",
       "      <td>4577</td>\n",
       "      <td>3</td>\n",
       "      <td>0.0</td>\n",
       "      <td>3808</td>\n",
       "      <td>NaN</td>\n",
       "      <td>NaN</td>\n",
       "      <td>NaN</td>\n",
       "      <td>NaN</td>\n",
       "      <td>NaN</td>\n",
       "      <td>NaN</td>\n",
       "      <td>NaN</td>\n",
       "    </tr>\n",
       "    <tr>\n",
       "      <th>Socio</th>\n",
       "      <td>4548</td>\n",
       "      <td>2</td>\n",
       "      <td>No</td>\n",
       "      <td>2368</td>\n",
       "      <td>NaN</td>\n",
       "      <td>NaN</td>\n",
       "      <td>NaN</td>\n",
       "      <td>NaN</td>\n",
       "      <td>NaN</td>\n",
       "      <td>NaN</td>\n",
       "      <td>NaN</td>\n",
       "    </tr>\n",
       "    <tr>\n",
       "      <th>Dependientes</th>\n",
       "      <td>4577</td>\n",
       "      <td>2</td>\n",
       "      <td>No</td>\n",
       "      <td>3216</td>\n",
       "      <td>NaN</td>\n",
       "      <td>NaN</td>\n",
       "      <td>NaN</td>\n",
       "      <td>NaN</td>\n",
       "      <td>NaN</td>\n",
       "      <td>NaN</td>\n",
       "      <td>NaN</td>\n",
       "    </tr>\n",
       "    <tr>\n",
       "      <th>MesesCliente</th>\n",
       "      <td>4573</td>\n",
       "      <td>NaN</td>\n",
       "      <td>NaN</td>\n",
       "      <td>NaN</td>\n",
       "      <td>32.4083</td>\n",
       "      <td>24.6555</td>\n",
       "      <td>1</td>\n",
       "      <td>9</td>\n",
       "      <td>29</td>\n",
       "      <td>56</td>\n",
       "      <td>72</td>\n",
       "    </tr>\n",
       "    <tr>\n",
       "      <th>ServicioTelefonico</th>\n",
       "      <td>4577</td>\n",
       "      <td>2</td>\n",
       "      <td>Si</td>\n",
       "      <td>4118</td>\n",
       "      <td>NaN</td>\n",
       "      <td>NaN</td>\n",
       "      <td>NaN</td>\n",
       "      <td>NaN</td>\n",
       "      <td>NaN</td>\n",
       "      <td>NaN</td>\n",
       "      <td>NaN</td>\n",
       "    </tr>\n",
       "    <tr>\n",
       "      <th>LineasMultiples</th>\n",
       "      <td>4577</td>\n",
       "      <td>3</td>\n",
       "      <td>No</td>\n",
       "      <td>2205</td>\n",
       "      <td>NaN</td>\n",
       "      <td>NaN</td>\n",
       "      <td>NaN</td>\n",
       "      <td>NaN</td>\n",
       "      <td>NaN</td>\n",
       "      <td>NaN</td>\n",
       "      <td>NaN</td>\n",
       "    </tr>\n",
       "    <tr>\n",
       "      <th>ServicioInternet</th>\n",
       "      <td>4577</td>\n",
       "      <td>3</td>\n",
       "      <td>Fibra Optica</td>\n",
       "      <td>1988</td>\n",
       "      <td>NaN</td>\n",
       "      <td>NaN</td>\n",
       "      <td>NaN</td>\n",
       "      <td>NaN</td>\n",
       "      <td>NaN</td>\n",
       "      <td>NaN</td>\n",
       "      <td>NaN</td>\n",
       "    </tr>\n",
       "    <tr>\n",
       "      <th>SeguridadOnline</th>\n",
       "      <td>4483</td>\n",
       "      <td>3</td>\n",
       "      <td>No</td>\n",
       "      <td>2261</td>\n",
       "      <td>NaN</td>\n",
       "      <td>NaN</td>\n",
       "      <td>NaN</td>\n",
       "      <td>NaN</td>\n",
       "      <td>NaN</td>\n",
       "      <td>NaN</td>\n",
       "      <td>NaN</td>\n",
       "    </tr>\n",
       "    <tr>\n",
       "      <th>RespaldoOnline</th>\n",
       "      <td>4483</td>\n",
       "      <td>3</td>\n",
       "      <td>No</td>\n",
       "      <td>1996</td>\n",
       "      <td>NaN</td>\n",
       "      <td>NaN</td>\n",
       "      <td>NaN</td>\n",
       "      <td>NaN</td>\n",
       "      <td>NaN</td>\n",
       "      <td>NaN</td>\n",
       "      <td>NaN</td>\n",
       "    </tr>\n",
       "    <tr>\n",
       "      <th>ProteccionDispositivo</th>\n",
       "      <td>4483</td>\n",
       "      <td>3</td>\n",
       "      <td>No</td>\n",
       "      <td>2032</td>\n",
       "      <td>NaN</td>\n",
       "      <td>NaN</td>\n",
       "      <td>NaN</td>\n",
       "      <td>NaN</td>\n",
       "      <td>NaN</td>\n",
       "      <td>NaN</td>\n",
       "      <td>NaN</td>\n",
       "    </tr>\n",
       "    <tr>\n",
       "      <th>SoporteTecnico</th>\n",
       "      <td>4483</td>\n",
       "      <td>3</td>\n",
       "      <td>No</td>\n",
       "      <td>2249</td>\n",
       "      <td>NaN</td>\n",
       "      <td>NaN</td>\n",
       "      <td>NaN</td>\n",
       "      <td>NaN</td>\n",
       "      <td>NaN</td>\n",
       "      <td>NaN</td>\n",
       "      <td>NaN</td>\n",
       "    </tr>\n",
       "    <tr>\n",
       "      <th>TransmisionTV</th>\n",
       "      <td>4483</td>\n",
       "      <td>3</td>\n",
       "      <td>No</td>\n",
       "      <td>1840</td>\n",
       "      <td>NaN</td>\n",
       "      <td>NaN</td>\n",
       "      <td>NaN</td>\n",
       "      <td>NaN</td>\n",
       "      <td>NaN</td>\n",
       "      <td>NaN</td>\n",
       "      <td>NaN</td>\n",
       "    </tr>\n",
       "    <tr>\n",
       "      <th>TransmisionPeliculas</th>\n",
       "      <td>4483</td>\n",
       "      <td>3</td>\n",
       "      <td>No</td>\n",
       "      <td>1810</td>\n",
       "      <td>NaN</td>\n",
       "      <td>NaN</td>\n",
       "      <td>NaN</td>\n",
       "      <td>NaN</td>\n",
       "      <td>NaN</td>\n",
       "      <td>NaN</td>\n",
       "      <td>NaN</td>\n",
       "    </tr>\n",
       "    <tr>\n",
       "      <th>TerminoContrato</th>\n",
       "      <td>4577</td>\n",
       "      <td>3</td>\n",
       "      <td>Mes a mes</td>\n",
       "      <td>2529</td>\n",
       "      <td>NaN</td>\n",
       "      <td>NaN</td>\n",
       "      <td>NaN</td>\n",
       "      <td>NaN</td>\n",
       "      <td>NaN</td>\n",
       "      <td>NaN</td>\n",
       "      <td>NaN</td>\n",
       "    </tr>\n",
       "    <tr>\n",
       "      <th>FacturacionElectronica</th>\n",
       "      <td>4531</td>\n",
       "      <td>2</td>\n",
       "      <td>Si</td>\n",
       "      <td>2714</td>\n",
       "      <td>NaN</td>\n",
       "      <td>NaN</td>\n",
       "      <td>NaN</td>\n",
       "      <td>NaN</td>\n",
       "      <td>NaN</td>\n",
       "      <td>NaN</td>\n",
       "      <td>NaN</td>\n",
       "    </tr>\n",
       "    <tr>\n",
       "      <th>MetodoPago</th>\n",
       "      <td>4577</td>\n",
       "      <td>4</td>\n",
       "      <td>Checke por correo</td>\n",
       "      <td>1566</td>\n",
       "      <td>NaN</td>\n",
       "      <td>NaN</td>\n",
       "      <td>NaN</td>\n",
       "      <td>NaN</td>\n",
       "      <td>NaN</td>\n",
       "      <td>NaN</td>\n",
       "      <td>NaN</td>\n",
       "    </tr>\n",
       "    <tr>\n",
       "      <th>MontoCargadoMes</th>\n",
       "      <td>4163</td>\n",
       "      <td>NaN</td>\n",
       "      <td>NaN</td>\n",
       "      <td>NaN</td>\n",
       "      <td>68.7042</td>\n",
       "      <td>28.0161</td>\n",
       "      <td>20</td>\n",
       "      <td>48.75</td>\n",
       "      <td>74.4</td>\n",
       "      <td>90.825</td>\n",
       "      <td>118.65</td>\n",
       "    </tr>\n",
       "    <tr>\n",
       "      <th>MontoCargadoTotal</th>\n",
       "      <td>4350</td>\n",
       "      <td>NaN</td>\n",
       "      <td>NaN</td>\n",
       "      <td>NaN</td>\n",
       "      <td>1987.4</td>\n",
       "      <td>1965.94</td>\n",
       "      <td>0</td>\n",
       "      <td>347.35</td>\n",
       "      <td>1251.42</td>\n",
       "      <td>3236.25</td>\n",
       "      <td>6976.75</td>\n",
       "    </tr>\n",
       "    <tr>\n",
       "      <th>Churn</th>\n",
       "      <td>4577</td>\n",
       "      <td>NaN</td>\n",
       "      <td>NaN</td>\n",
       "      <td>NaN</td>\n",
       "      <td>0.265458</td>\n",
       "      <td>0.441625</td>\n",
       "      <td>0</td>\n",
       "      <td>0</td>\n",
       "      <td>0</td>\n",
       "      <td>1</td>\n",
       "      <td>1</td>\n",
       "    </tr>\n",
       "  </tbody>\n",
       "</table>\n",
       "</div>"
      ],
      "text/plain": [
       "                       count unique                top  freq      mean  \\\n",
       "ID                      4577   4577            ID03081     1       NaN   \n",
       "Sexo                    4577      2          Masculino  2323       NaN   \n",
       "AdultoMayor             4577      3                0.0  3808       NaN   \n",
       "Socio                   4548      2                 No  2368       NaN   \n",
       "Dependientes            4577      2                 No  3216       NaN   \n",
       "MesesCliente            4573    NaN                NaN   NaN   32.4083   \n",
       "ServicioTelefonico      4577      2                 Si  4118       NaN   \n",
       "LineasMultiples         4577      3                 No  2205       NaN   \n",
       "ServicioInternet        4577      3       Fibra Optica  1988       NaN   \n",
       "SeguridadOnline         4483      3                 No  2261       NaN   \n",
       "RespaldoOnline          4483      3                 No  1996       NaN   \n",
       "ProteccionDispositivo   4483      3                 No  2032       NaN   \n",
       "SoporteTecnico          4483      3                 No  2249       NaN   \n",
       "TransmisionTV           4483      3                 No  1840       NaN   \n",
       "TransmisionPeliculas    4483      3                 No  1810       NaN   \n",
       "TerminoContrato         4577      3          Mes a mes  2529       NaN   \n",
       "FacturacionElectronica  4531      2                 Si  2714       NaN   \n",
       "MetodoPago              4577      4  Checke por correo  1566       NaN   \n",
       "MontoCargadoMes         4163    NaN                NaN   NaN   68.7042   \n",
       "MontoCargadoTotal       4350    NaN                NaN   NaN    1987.4   \n",
       "Churn                   4577    NaN                NaN   NaN  0.265458   \n",
       "\n",
       "                             std  min     25%      50%      75%      max  \n",
       "ID                           NaN  NaN     NaN      NaN      NaN      NaN  \n",
       "Sexo                         NaN  NaN     NaN      NaN      NaN      NaN  \n",
       "AdultoMayor                  NaN  NaN     NaN      NaN      NaN      NaN  \n",
       "Socio                        NaN  NaN     NaN      NaN      NaN      NaN  \n",
       "Dependientes                 NaN  NaN     NaN      NaN      NaN      NaN  \n",
       "MesesCliente             24.6555    1       9       29       56       72  \n",
       "ServicioTelefonico           NaN  NaN     NaN      NaN      NaN      NaN  \n",
       "LineasMultiples              NaN  NaN     NaN      NaN      NaN      NaN  \n",
       "ServicioInternet             NaN  NaN     NaN      NaN      NaN      NaN  \n",
       "SeguridadOnline              NaN  NaN     NaN      NaN      NaN      NaN  \n",
       "RespaldoOnline               NaN  NaN     NaN      NaN      NaN      NaN  \n",
       "ProteccionDispositivo        NaN  NaN     NaN      NaN      NaN      NaN  \n",
       "SoporteTecnico               NaN  NaN     NaN      NaN      NaN      NaN  \n",
       "TransmisionTV                NaN  NaN     NaN      NaN      NaN      NaN  \n",
       "TransmisionPeliculas         NaN  NaN     NaN      NaN      NaN      NaN  \n",
       "TerminoContrato              NaN  NaN     NaN      NaN      NaN      NaN  \n",
       "FacturacionElectronica       NaN  NaN     NaN      NaN      NaN      NaN  \n",
       "MetodoPago                   NaN  NaN     NaN      NaN      NaN      NaN  \n",
       "MontoCargadoMes          28.0161   20   48.75     74.4   90.825   118.65  \n",
       "MontoCargadoTotal        1965.94    0  347.35  1251.42  3236.25  6976.75  \n",
       "Churn                   0.441625    0       0        0        1        1  "
      ]
     },
     "execution_count": 13,
     "metadata": {},
     "output_type": "execute_result"
    }
   ],
   "source": [
    "df_train.describe(include = 'all').T"
   ]
  },
  {
   "cell_type": "code",
   "execution_count": 14,
   "metadata": {},
   "outputs": [
    {
     "data": {
      "text/html": [
       "<div>\n",
       "<style scoped>\n",
       "    .dataframe tbody tr th:only-of-type {\n",
       "        vertical-align: middle;\n",
       "    }\n",
       "\n",
       "    .dataframe tbody tr th {\n",
       "        vertical-align: top;\n",
       "    }\n",
       "\n",
       "    .dataframe thead th {\n",
       "        text-align: right;\n",
       "    }\n",
       "</style>\n",
       "<table border=\"1\" class=\"dataframe\">\n",
       "  <thead>\n",
       "    <tr style=\"text-align: right;\">\n",
       "      <th></th>\n",
       "      <th>count</th>\n",
       "      <th>unique</th>\n",
       "      <th>top</th>\n",
       "      <th>freq</th>\n",
       "      <th>mean</th>\n",
       "      <th>std</th>\n",
       "      <th>min</th>\n",
       "      <th>25%</th>\n",
       "      <th>50%</th>\n",
       "      <th>75%</th>\n",
       "      <th>max</th>\n",
       "    </tr>\n",
       "  </thead>\n",
       "  <tbody>\n",
       "    <tr>\n",
       "      <th>ID</th>\n",
       "      <td>2466</td>\n",
       "      <td>2466</td>\n",
       "      <td>ID01503</td>\n",
       "      <td>1</td>\n",
       "      <td>NaN</td>\n",
       "      <td>NaN</td>\n",
       "      <td>NaN</td>\n",
       "      <td>NaN</td>\n",
       "      <td>NaN</td>\n",
       "      <td>NaN</td>\n",
       "      <td>NaN</td>\n",
       "    </tr>\n",
       "    <tr>\n",
       "      <th>Sexo</th>\n",
       "      <td>2466</td>\n",
       "      <td>2</td>\n",
       "      <td>Femenino</td>\n",
       "      <td>1234</td>\n",
       "      <td>NaN</td>\n",
       "      <td>NaN</td>\n",
       "      <td>NaN</td>\n",
       "      <td>NaN</td>\n",
       "      <td>NaN</td>\n",
       "      <td>NaN</td>\n",
       "      <td>NaN</td>\n",
       "    </tr>\n",
       "    <tr>\n",
       "      <th>AdultoMayor</th>\n",
       "      <td>2466</td>\n",
       "      <td>3</td>\n",
       "      <td>0.0</td>\n",
       "      <td>2028</td>\n",
       "      <td>NaN</td>\n",
       "      <td>NaN</td>\n",
       "      <td>NaN</td>\n",
       "      <td>NaN</td>\n",
       "      <td>NaN</td>\n",
       "      <td>NaN</td>\n",
       "      <td>NaN</td>\n",
       "    </tr>\n",
       "    <tr>\n",
       "      <th>Socio</th>\n",
       "      <td>2447</td>\n",
       "      <td>2</td>\n",
       "      <td>No</td>\n",
       "      <td>1225</td>\n",
       "      <td>NaN</td>\n",
       "      <td>NaN</td>\n",
       "      <td>NaN</td>\n",
       "      <td>NaN</td>\n",
       "      <td>NaN</td>\n",
       "      <td>NaN</td>\n",
       "      <td>NaN</td>\n",
       "    </tr>\n",
       "    <tr>\n",
       "      <th>Dependientes</th>\n",
       "      <td>2466</td>\n",
       "      <td>2</td>\n",
       "      <td>No</td>\n",
       "      <td>1717</td>\n",
       "      <td>NaN</td>\n",
       "      <td>NaN</td>\n",
       "      <td>NaN</td>\n",
       "      <td>NaN</td>\n",
       "      <td>NaN</td>\n",
       "      <td>NaN</td>\n",
       "      <td>NaN</td>\n",
       "    </tr>\n",
       "    <tr>\n",
       "      <th>MesesCliente</th>\n",
       "      <td>2459</td>\n",
       "      <td>NaN</td>\n",
       "      <td>NaN</td>\n",
       "      <td>NaN</td>\n",
       "      <td>32.4469</td>\n",
       "      <td>24.344</td>\n",
       "      <td>1</td>\n",
       "      <td>9</td>\n",
       "      <td>29</td>\n",
       "      <td>55</td>\n",
       "      <td>72</td>\n",
       "    </tr>\n",
       "    <tr>\n",
       "      <th>ServicioTelefonico</th>\n",
       "      <td>2466</td>\n",
       "      <td>2</td>\n",
       "      <td>Si</td>\n",
       "      <td>2243</td>\n",
       "      <td>NaN</td>\n",
       "      <td>NaN</td>\n",
       "      <td>NaN</td>\n",
       "      <td>NaN</td>\n",
       "      <td>NaN</td>\n",
       "      <td>NaN</td>\n",
       "      <td>NaN</td>\n",
       "    </tr>\n",
       "    <tr>\n",
       "      <th>LineasMultiples</th>\n",
       "      <td>2466</td>\n",
       "      <td>3</td>\n",
       "      <td>No</td>\n",
       "      <td>1185</td>\n",
       "      <td>NaN</td>\n",
       "      <td>NaN</td>\n",
       "      <td>NaN</td>\n",
       "      <td>NaN</td>\n",
       "      <td>NaN</td>\n",
       "      <td>NaN</td>\n",
       "      <td>NaN</td>\n",
       "    </tr>\n",
       "    <tr>\n",
       "      <th>ServicioInternet</th>\n",
       "      <td>2466</td>\n",
       "      <td>3</td>\n",
       "      <td>Fibra Optica</td>\n",
       "      <td>1108</td>\n",
       "      <td>NaN</td>\n",
       "      <td>NaN</td>\n",
       "      <td>NaN</td>\n",
       "      <td>NaN</td>\n",
       "      <td>NaN</td>\n",
       "      <td>NaN</td>\n",
       "      <td>NaN</td>\n",
       "    </tr>\n",
       "    <tr>\n",
       "      <th>SeguridadOnline</th>\n",
       "      <td>2404</td>\n",
       "      <td>3</td>\n",
       "      <td>No</td>\n",
       "      <td>1237</td>\n",
       "      <td>NaN</td>\n",
       "      <td>NaN</td>\n",
       "      <td>NaN</td>\n",
       "      <td>NaN</td>\n",
       "      <td>NaN</td>\n",
       "      <td>NaN</td>\n",
       "      <td>NaN</td>\n",
       "    </tr>\n",
       "    <tr>\n",
       "      <th>RespaldoOnline</th>\n",
       "      <td>2404</td>\n",
       "      <td>3</td>\n",
       "      <td>No</td>\n",
       "      <td>1092</td>\n",
       "      <td>NaN</td>\n",
       "      <td>NaN</td>\n",
       "      <td>NaN</td>\n",
       "      <td>NaN</td>\n",
       "      <td>NaN</td>\n",
       "      <td>NaN</td>\n",
       "      <td>NaN</td>\n",
       "    </tr>\n",
       "    <tr>\n",
       "      <th>ProteccionDispositivo</th>\n",
       "      <td>2404</td>\n",
       "      <td>3</td>\n",
       "      <td>No</td>\n",
       "      <td>1063</td>\n",
       "      <td>NaN</td>\n",
       "      <td>NaN</td>\n",
       "      <td>NaN</td>\n",
       "      <td>NaN</td>\n",
       "      <td>NaN</td>\n",
       "      <td>NaN</td>\n",
       "      <td>NaN</td>\n",
       "    </tr>\n",
       "    <tr>\n",
       "      <th>SoporteTecnico</th>\n",
       "      <td>2404</td>\n",
       "      <td>3</td>\n",
       "      <td>No</td>\n",
       "      <td>1224</td>\n",
       "      <td>NaN</td>\n",
       "      <td>NaN</td>\n",
       "      <td>NaN</td>\n",
       "      <td>NaN</td>\n",
       "      <td>NaN</td>\n",
       "      <td>NaN</td>\n",
       "      <td>NaN</td>\n",
       "    </tr>\n",
       "    <tr>\n",
       "      <th>TransmisionTV</th>\n",
       "      <td>2404</td>\n",
       "      <td>3</td>\n",
       "      <td>Si</td>\n",
       "      <td>980</td>\n",
       "      <td>NaN</td>\n",
       "      <td>NaN</td>\n",
       "      <td>NaN</td>\n",
       "      <td>NaN</td>\n",
       "      <td>NaN</td>\n",
       "      <td>NaN</td>\n",
       "      <td>NaN</td>\n",
       "    </tr>\n",
       "    <tr>\n",
       "      <th>TransmisionPeliculas</th>\n",
       "      <td>2404</td>\n",
       "      <td>3</td>\n",
       "      <td>No</td>\n",
       "      <td>975</td>\n",
       "      <td>NaN</td>\n",
       "      <td>NaN</td>\n",
       "      <td>NaN</td>\n",
       "      <td>NaN</td>\n",
       "      <td>NaN</td>\n",
       "      <td>NaN</td>\n",
       "      <td>NaN</td>\n",
       "    </tr>\n",
       "    <tr>\n",
       "      <th>TerminoContrato</th>\n",
       "      <td>2466</td>\n",
       "      <td>3</td>\n",
       "      <td>Mes a mes</td>\n",
       "      <td>1346</td>\n",
       "      <td>NaN</td>\n",
       "      <td>NaN</td>\n",
       "      <td>NaN</td>\n",
       "      <td>NaN</td>\n",
       "      <td>NaN</td>\n",
       "      <td>NaN</td>\n",
       "      <td>NaN</td>\n",
       "    </tr>\n",
       "    <tr>\n",
       "      <th>FacturacionElectronica</th>\n",
       "      <td>2442</td>\n",
       "      <td>2</td>\n",
       "      <td>Si</td>\n",
       "      <td>1424</td>\n",
       "      <td>NaN</td>\n",
       "      <td>NaN</td>\n",
       "      <td>NaN</td>\n",
       "      <td>NaN</td>\n",
       "      <td>NaN</td>\n",
       "      <td>NaN</td>\n",
       "      <td>NaN</td>\n",
       "    </tr>\n",
       "    <tr>\n",
       "      <th>MetodoPago</th>\n",
       "      <td>2466</td>\n",
       "      <td>4</td>\n",
       "      <td>Checke por correo</td>\n",
       "      <td>799</td>\n",
       "      <td>NaN</td>\n",
       "      <td>NaN</td>\n",
       "      <td>NaN</td>\n",
       "      <td>NaN</td>\n",
       "      <td>NaN</td>\n",
       "      <td>NaN</td>\n",
       "      <td>NaN</td>\n",
       "    </tr>\n",
       "    <tr>\n",
       "      <th>MontoCargadoMes</th>\n",
       "      <td>2267</td>\n",
       "      <td>NaN</td>\n",
       "      <td>NaN</td>\n",
       "      <td>NaN</td>\n",
       "      <td>69.744</td>\n",
       "      <td>27.6766</td>\n",
       "      <td>20</td>\n",
       "      <td>50.05</td>\n",
       "      <td>74.8</td>\n",
       "      <td>91.6</td>\n",
       "      <td>118.75</td>\n",
       "    </tr>\n",
       "    <tr>\n",
       "      <th>MontoCargadoTotal</th>\n",
       "      <td>2353</td>\n",
       "      <td>NaN</td>\n",
       "      <td>NaN</td>\n",
       "      <td>NaN</td>\n",
       "      <td>2045.97</td>\n",
       "      <td>1961.37</td>\n",
       "      <td>0</td>\n",
       "      <td>386.5</td>\n",
       "      <td>1345.75</td>\n",
       "      <td>3437.45</td>\n",
       "      <td>6953.4</td>\n",
       "    </tr>\n",
       "  </tbody>\n",
       "</table>\n",
       "</div>"
      ],
      "text/plain": [
       "                       count unique                top  freq     mean  \\\n",
       "ID                      2466   2466            ID01503     1      NaN   \n",
       "Sexo                    2466      2           Femenino  1234      NaN   \n",
       "AdultoMayor             2466      3                0.0  2028      NaN   \n",
       "Socio                   2447      2                 No  1225      NaN   \n",
       "Dependientes            2466      2                 No  1717      NaN   \n",
       "MesesCliente            2459    NaN                NaN   NaN  32.4469   \n",
       "ServicioTelefonico      2466      2                 Si  2243      NaN   \n",
       "LineasMultiples         2466      3                 No  1185      NaN   \n",
       "ServicioInternet        2466      3       Fibra Optica  1108      NaN   \n",
       "SeguridadOnline         2404      3                 No  1237      NaN   \n",
       "RespaldoOnline          2404      3                 No  1092      NaN   \n",
       "ProteccionDispositivo   2404      3                 No  1063      NaN   \n",
       "SoporteTecnico          2404      3                 No  1224      NaN   \n",
       "TransmisionTV           2404      3                 Si   980      NaN   \n",
       "TransmisionPeliculas    2404      3                 No   975      NaN   \n",
       "TerminoContrato         2466      3          Mes a mes  1346      NaN   \n",
       "FacturacionElectronica  2442      2                 Si  1424      NaN   \n",
       "MetodoPago              2466      4  Checke por correo   799      NaN   \n",
       "MontoCargadoMes         2267    NaN                NaN   NaN   69.744   \n",
       "MontoCargadoTotal       2353    NaN                NaN   NaN  2045.97   \n",
       "\n",
       "                            std  min    25%      50%      75%     max  \n",
       "ID                          NaN  NaN    NaN      NaN      NaN     NaN  \n",
       "Sexo                        NaN  NaN    NaN      NaN      NaN     NaN  \n",
       "AdultoMayor                 NaN  NaN    NaN      NaN      NaN     NaN  \n",
       "Socio                       NaN  NaN    NaN      NaN      NaN     NaN  \n",
       "Dependientes                NaN  NaN    NaN      NaN      NaN     NaN  \n",
       "MesesCliente             24.344    1      9       29       55      72  \n",
       "ServicioTelefonico          NaN  NaN    NaN      NaN      NaN     NaN  \n",
       "LineasMultiples             NaN  NaN    NaN      NaN      NaN     NaN  \n",
       "ServicioInternet            NaN  NaN    NaN      NaN      NaN     NaN  \n",
       "SeguridadOnline             NaN  NaN    NaN      NaN      NaN     NaN  \n",
       "RespaldoOnline              NaN  NaN    NaN      NaN      NaN     NaN  \n",
       "ProteccionDispositivo       NaN  NaN    NaN      NaN      NaN     NaN  \n",
       "SoporteTecnico              NaN  NaN    NaN      NaN      NaN     NaN  \n",
       "TransmisionTV               NaN  NaN    NaN      NaN      NaN     NaN  \n",
       "TransmisionPeliculas        NaN  NaN    NaN      NaN      NaN     NaN  \n",
       "TerminoContrato             NaN  NaN    NaN      NaN      NaN     NaN  \n",
       "FacturacionElectronica      NaN  NaN    NaN      NaN      NaN     NaN  \n",
       "MetodoPago                  NaN  NaN    NaN      NaN      NaN     NaN  \n",
       "MontoCargadoMes         27.6766   20  50.05     74.8     91.6  118.75  \n",
       "MontoCargadoTotal       1961.37    0  386.5  1345.75  3437.45  6953.4  "
      ]
     },
     "execution_count": 14,
     "metadata": {},
     "output_type": "execute_result"
    }
   ],
   "source": [
    "df_test.describe(include = 'all').T"
   ]
  },
  {
   "cell_type": "code",
   "execution_count": 15,
   "metadata": {},
   "outputs": [],
   "source": [
    "df_train['AdultoMayor'] = df_train['AdultoMayor'].astype(float) # Convertir a variable numerica\n",
    "df_test['AdultoMayor'] = df_test['AdultoMayor'].astype(float) "
   ]
  },
  {
   "cell_type": "markdown",
   "metadata": {},
   "source": [
    "## 2.3) Evaluate missings"
   ]
  },
  {
   "cell_type": "code",
   "execution_count": 16,
   "metadata": {},
   "outputs": [
    {
     "data": {
      "text/plain": [
       "<matplotlib.axes._subplots.AxesSubplot at 0x2b2d54cfcc0>"
      ]
     },
     "execution_count": 16,
     "metadata": {},
     "output_type": "execute_result"
    },
    {
     "data": {
      "image/png": "[encoded data removed]",
      "text/plain": [
       "<Figure size 1800x720 with 2 Axes>"
      ]
     },
     "metadata": {
      "needs_background": "light"
     },
     "output_type": "display_data"
    }
   ],
   "source": [
    "import missingno as msno\n",
    "\n",
    "msno.matrix(df_train)"
   ]
  },
  {
   "cell_type": "code",
   "execution_count": 17,
   "metadata": {},
   "outputs": [
    {
     "data": {
      "text/plain": [
       "<matplotlib.axes._subplots.AxesSubplot at 0x2b2d50b2278>"
      ]
     },
     "execution_count": 17,
     "metadata": {},
     "output_type": "execute_result"
    },
    {
     "data": {
      "image/png": "[encoded data removed]",
      "text/plain": [
       "<Figure size 1800x720 with 2 Axes>"
      ]
     },
     "metadata": {
      "needs_background": "light"
     },
     "output_type": "display_data"
    }
   ],
   "source": [
    "msno.matrix(df_test)"
   ]
  },
  {
   "cell_type": "code",
   "execution_count": 18,
   "metadata": {},
   "outputs": [],
   "source": [
    "# No hay outliers"
   ]
  },
  {
   "cell_type": "markdown",
   "metadata": {},
   "source": [
    "# 3) DATA PREPARATION"
   ]
  },
  {
   "cell_type": "code",
   "execution_count": 418,
   "metadata": {},
   "outputs": [],
   "source": [
    "# Copy dataset and then apply transformation to copied dataset\n",
    "ds_train = df_train.copy()\n",
    "\n",
    "ds_test = df_test.copy()"
   ]
  },
  {
   "cell_type": "markdown",
   "metadata": {},
   "source": [
    "## 3.1) Impute missings"
   ]
  },
  {
   "cell_type": "code",
   "execution_count": 419,
   "metadata": {
    "scrolled": true
   },
   "outputs": [],
   "source": [
    "# AdultoMayor (imputacion por MODA)\n",
    "ds_train[\"AdultoMayor\"].fillna(0, inplace = True)\n",
    "ds_test[\"AdultoMayor\"].fillna(0, inplace = True)\n",
    "\n",
    "#Socio (imputacion por MODA)\n",
    "ds_train[\"Socio\"].fillna(\"No\",inplace = True)\n",
    "ds_test[\"Socio\"].fillna(\"No\",inplace = True)\n",
    "\n",
    "# MesesCliente (imputacion por MEDIA)\n",
    "ds_train[\"MesesCliente\"].fillna(32, inplace = True)\n",
    "ds_test[\"MesesCliente\"].fillna(32, inplace = True)\n",
    "\n",
    "#SeguridadOnline (imputacion por MODA)\n",
    "ds_train[\"SeguridadOnline\"].fillna(\"No\", inplace = True)\n",
    "ds_test[\"SeguridadOnline\"].fillna(\"No\", inplace = True)\n",
    "\n",
    "#RespaldoOnline (imputacion por MODA)\n",
    "ds_train[\"RespaldoOnline\"].fillna(\"No\", inplace = True)\n",
    "ds_test[\"RespaldoOnline\"].fillna(\"No\", inplace = True)\n",
    "\n",
    "# ProteccionDispositivo (imputacion por MODA)\n",
    "ds_train[\"ProteccionDispositivo\"].fillna('No', inplace = True)\n",
    "ds_test[\"ProteccionDispositivo\"].fillna('No', inplace = True)\n",
    "\n",
    "# SoporteTecnico (imputacion por MODA)\n",
    "ds_train[\"SoporteTecnico\"].fillna('No', inplace = True)\n",
    "ds_test[\"SoporteTecnico\"].fillna('No', inplace = True)\n",
    "\n",
    "# TransmisionTV (imputacion por MODA)\n",
    "ds_train[\"TransmisionTV\"].fillna('No', inplace = True)\n",
    "ds_test[\"TransmisionTV\"].fillna('No', inplace = True)\n",
    "\n",
    "# TransmisionPeliculas (imputacion por MODA)\n",
    "ds_train[\"TransmisionPeliculas\"].fillna('No', inplace = True)\n",
    "ds_test[\"TransmisionPeliculas\"].fillna('No', inplace = True)\n",
    "\n",
    "# TerminoContrato (imputacion por MODA)\n",
    "ds_train[\"TerminoContrato\"].fillna('Mes a mes', inplace = True)\n",
    "ds_test[\"TerminoContrato\"].fillna('Mes a mes', inplace = True)\n",
    "\n",
    "# FacturacionElectronica (imputacion por MODA)\n",
    "ds_train[\"FacturacionElectronica\"].fillna('Si', inplace = True)\n",
    "ds_test[\"FacturacionElectronica\"].fillna('Si', inplace = True)\n",
    "\n",
    "# MetodoPago (imputacion por MODA)\n",
    "ds_train[\"MetodoPago\"].fillna('Checke por correo', inplace = True)\n",
    "ds_test[\"MetodoPago\"].fillna('Checke por correo', inplace = True)\n",
    "\n",
    "# MontoCargadoMes (imputacion por MEDIA)\n",
    "ds_train[\"MontoCargadoMes\"].fillna(68.7, inplace = True)\n",
    "ds_test[\"MontoCargadoMes\"].fillna(69.7, inplace = True)\n",
    "\n",
    "# MontoCargadoTotal (imputacion por MEDIA)\n",
    "ds_train[\"MontoCargadoTotal\"].fillna(1987.4, inplace = True)\n",
    "ds_test[\"MontoCargadoTotal\"].fillna(2045.97, inplace = True)\n"
   ]
  },
  {
   "cell_type": "code",
   "execution_count": 420,
   "metadata": {},
   "outputs": [],
   "source": [
    "#Reemplazando los ceros\n",
    "\n",
    "#ds_train.loc[ds_train[\"MontoCargadoTotal\"] == 0, \"MontoCargadoTotal\"] = ds_train.MontoCargadoMes * ds_train.MesesCliente\n",
    "#ds_test.loc[ds_test[\"MontoCargadoTotal\"] == 0, \"MontoCargadoTotal\"] = ds_test.MontoCargadoMes * ds_test.MesesCliente"
   ]
  },
  {
   "cell_type": "markdown",
   "metadata": {},
   "source": [
    "## 3.2) Data Transformation"
   ]
  },
  {
   "cell_type": "code",
   "execution_count": 421,
   "metadata": {},
   "outputs": [],
   "source": [
    "# ServicioTelefonico \n",
    "dicc_serv_telef = {'Si': 1, 'No':0 }\n",
    "ds_train[\"ServicioTelefonico\"] = ds_train[\"ServicioTelefonico\"].map(dicc_serv_telef)\n",
    "ds_test[\"ServicioTelefonico\"] = ds_test[\"ServicioTelefonico\"].map(dicc_serv_telef)\n",
    "\n",
    "# Socio\n",
    "dicc = {'Si': 1, 'No':0 }\n",
    "ds_train[\"Socio\"] = ds_train[\"Socio\"].map(dicc)\n",
    "ds_test[\"Socio\"] = ds_test[\"Socio\"].map(dicc)\n",
    "\n",
    "# Dependientes\n",
    "dicc = {'Si': 1, 'No':0 }\n",
    "ds_train[\"Dependientes\"] = ds_train[\"Dependientes\"].map(dicc)\n",
    "ds_test[\"Dependientes\"] = ds_test[\"Dependientes\"].map(dicc)\n",
    "\n",
    "# Sexo\n",
    "dicc = {'Masculino': 1, 'Femenino':0 }\n",
    "ds_train[\"Sexo\"] = ds_train[\"Sexo\"].map(dicc)\n",
    "ds_test[\"Sexo\"] = ds_test[\"Sexo\"].map(dicc)\n",
    "\n",
    "\n",
    "# ServicioInternet \n",
    "dicc = {'Fibra Optica': 1, 'DSL':2, 'No':0 }\n",
    "ds_train[\"ServicioInternet\"] = ds_train[\"ServicioInternet\"].map(dicc)\n",
    "ds_test[\"ServicioInternet\"] = ds_test[\"ServicioInternet\"].map(dicc)\n",
    "\n",
    "\n",
    "# TerminoContrato\n",
    "dicc = {'Mes a mes': 0, 'Anual':1, 'Bianual':2 }\n",
    "ds_train[\"TerminoContrato\"] = ds_train[\"TerminoContrato\"].map(dicc)\n",
    "ds_test[\"TerminoContrato\"] = ds_test[\"TerminoContrato\"].map(dicc)\n",
    "\n",
    "# FacturacionElectronica \n",
    "dicc_fact_elect = {'Si': 1, 'No':0 }\n",
    "ds_train[\"FacturacionElectronica\"] = ds_train[\"FacturacionElectronica\"].map(dicc_fact_elect)\n",
    "ds_test[\"FacturacionElectronica\"] = ds_test[\"FacturacionElectronica\"].map(dicc_fact_elect)\n",
    "\n",
    "# Lineas Multiples\n",
    "dicc_fact_elect = {'Si': 2, 'No':1 , \"Sin servicio telefonico\": 0}\n",
    "ds_train['LineasMultiples'] = ds_train['LineasMultiples'].map(dicc_fact_elect)\n",
    "ds_test['LineasMultiples'] = ds_test['LineasMultiples'].map(dicc_fact_elect)\n",
    "\n",
    "# MetodoPago\n",
    "dicc_fact_elect = {'Checke por correo': 0, 'Checke electronico':1 , \"Tarjeta de credito (automatico)\": 2,\"Transferencia bancaria (automatico)\":3}\n",
    "ds_train['MetodoPago'] = ds_train['MetodoPago'].map(dicc_fact_elect)\n",
    "ds_test['MetodoPago'] = ds_test['MetodoPago'].map(dicc_fact_elect)\n",
    "\n",
    "\n",
    "# Mapeo multiple\n",
    "list_cols = ['SeguridadOnline', 'RespaldoOnline', 'TransmisionTV',\n",
    "       'TransmisionPeliculas',  'ProteccionDispositivo', 'SoporteTecnico']\n",
    "\n",
    "dicc = {'Si': 2, 'No':1, 'Sin servicio de internet':0 }\n",
    "\n",
    "for col in list_cols:\n",
    "    \n",
    "    ds_train[col] = ds_train[col].map(dicc)\n",
    "    ds_test[col] = ds_test[col].map(dicc)\n",
    "\n"
   ]
  },
  {
   "cell_type": "code",
   "execution_count": 422,
   "metadata": {},
   "outputs": [],
   "source": [
    "ds_train['AdultoMayor'] = ds_train['AdultoMayor'].astype(int)\n",
    "ds_test['AdultoMayor'] = ds_test['AdultoMayor'].astype(int)"
   ]
  },
  {
   "cell_type": "markdown",
   "metadata": {},
   "source": [
    "### Feature selection\n"
   ]
  },
  {
   "cell_type": "code",
   "execution_count": 423,
   "metadata": {
    "scrolled": true
   },
   "outputs": [
    {
     "data": {
      "text/plain": [
       "Index(['ID', 'Sexo', 'AdultoMayor', 'Socio', 'Dependientes', 'MesesCliente',\n",
       "       'ServicioTelefonico', 'LineasMultiples', 'ServicioInternet',\n",
       "       'SeguridadOnline', 'RespaldoOnline', 'ProteccionDispositivo',\n",
       "       'SoporteTecnico', 'TransmisionTV', 'TransmisionPeliculas',\n",
       "       'TerminoContrato', 'FacturacionElectronica', 'MetodoPago',\n",
       "       'MontoCargadoMes', 'MontoCargadoTotal', 'Churn'],\n",
       "      dtype='object')"
      ]
     },
     "execution_count": 423,
     "metadata": {},
     "output_type": "execute_result"
    }
   ],
   "source": [
    "ds_train.columns"
   ]
  },
  {
   "cell_type": "code",
   "execution_count": 424,
   "metadata": {},
   "outputs": [
    {
     "data": {
      "text/plain": [
       "['Sexo',\n",
       " 'AdultoMayor',\n",
       " 'Socio',\n",
       " 'Dependientes',\n",
       " 'MesesCliente',\n",
       " 'ServicioTelefonico',\n",
       " 'LineasMultiples',\n",
       " 'ServicioInternet',\n",
       " 'SeguridadOnline',\n",
       " 'RespaldoOnline',\n",
       " 'ProteccionDispositivo',\n",
       " 'SoporteTecnico',\n",
       " 'TransmisionTV',\n",
       " 'TransmisionPeliculas',\n",
       " 'TerminoContrato',\n",
       " 'FacturacionElectronica',\n",
       " 'MetodoPago',\n",
       " 'MontoCargadoMes',\n",
       " 'MontoCargadoTotal']"
      ]
     },
     "execution_count": 424,
     "metadata": {},
     "output_type": "execute_result"
    }
   ],
   "source": [
    "features_to_model = list(ds_train.columns)\n",
    "\n",
    "features_to_model.remove(TARGET) # Eliminar variable Target\n",
    "features_to_model.remove(ID) # Eliminar variable ID\n",
    "\n",
    "list(features_to_model)"
   ]
  },
  {
   "cell_type": "code",
   "execution_count": 425,
   "metadata": {
    "colab": {
     "base_uri": "https://localhost:8080/",
     "height": 118
    },
    "colab_type": "code",
    "id": "lFo_Ko-0tSgf",
    "outputId": "17e53db0-7625-4a10-ee87-276a5f4c0c48",
    "scrolled": false
   },
   "outputs": [
    {
     "data": {
      "text/plain": [
       "DecisionTreeClassifier(class_weight=None, criterion='gini', max_depth=None,\n",
       "            max_features=None, max_leaf_nodes=None,\n",
       "            min_impurity_decrease=0.0, min_impurity_split=None,\n",
       "            min_samples_leaf=1, min_samples_split=2,\n",
       "            min_weight_fraction_leaf=0.0, presort=False, random_state=None,\n",
       "            splitter='best')"
      ]
     },
     "execution_count": 425,
     "metadata": {},
     "output_type": "execute_result"
    }
   ],
   "source": [
    "from sklearn.tree import DecisionTreeClassifier\n",
    "DecisionTreeClassifier()"
   ]
  },
  {
   "cell_type": "code",
   "execution_count": 426,
   "metadata": {},
   "outputs": [],
   "source": [
    "X_train = ds_train[features_to_model]\n",
    "y_train = ds_train[TARGET]"
   ]
  },
  {
   "cell_type": "code",
   "execution_count": 427,
   "metadata": {
    "colab": {},
    "colab_type": "code",
    "id": "z2DjunbNtSgi"
   },
   "outputs": [],
   "source": [
    "# Create  model objet \n",
    "model_tree = DecisionTreeClassifier(min_samples_leaf=20)\n",
    "\n",
    "# Fit the model:\n",
    "model_tree.fit(X_train, y_train)\n",
    "\n",
    "model = model_tree"
   ]
  },
  {
   "cell_type": "code",
   "execution_count": 428,
   "metadata": {
    "colab": {},
    "colab_type": "code",
    "id": "Po5_fRk-tSgk"
   },
   "outputs": [],
   "source": [
    "# Generar las predicciones:\n",
    "y_pred_train = model.predict(X_train)"
   ]
  },
  {
   "cell_type": "code",
   "execution_count": 429,
   "metadata": {
    "colab": {
     "base_uri": "https://localhost:8080/",
     "height": 50
    },
    "colab_type": "code",
    "id": "9XkSSTS74xDt",
    "outputId": "e0154ea4-4aa5-4ef5-8265-cef2351c1b10",
    "scrolled": false
   },
   "outputs": [
    {
     "name": "stdout",
     "output_type": "stream",
     "text": [
      "Accuracy - Train: 0.8271793751365524\n"
     ]
    }
   ],
   "source": [
    "accuracy_train = mt.accuracy_score(y_train, y_pred_train)\n",
    "\n",
    "print(\"Accuracy - Train: {}\".format(accuracy_train))\n"
   ]
  },
  {
   "cell_type": "code",
   "execution_count": 430,
   "metadata": {
    "colab": {
     "base_uri": "https://localhost:8080/",
     "height": 462
    },
    "colab_type": "code",
    "id": "x5Hziz4p_R_c",
    "outputId": "79e918f7-fc11-431b-8ba5-7d1c4c13e385"
   },
   "outputs": [
    {
     "data": {
      "text/html": [
       "<div>\n",
       "<style scoped>\n",
       "    .dataframe tbody tr th:only-of-type {\n",
       "        vertical-align: middle;\n",
       "    }\n",
       "\n",
       "    .dataframe tbody tr th {\n",
       "        vertical-align: top;\n",
       "    }\n",
       "\n",
       "    .dataframe thead th {\n",
       "        text-align: right;\n",
       "    }\n",
       "</style>\n",
       "<table border=\"1\" class=\"dataframe\">\n",
       "  <thead>\n",
       "    <tr style=\"text-align: right;\">\n",
       "      <th></th>\n",
       "      <th>feature</th>\n",
       "      <th>importance</th>\n",
       "    </tr>\n",
       "  </thead>\n",
       "  <tbody>\n",
       "    <tr>\n",
       "      <th>0</th>\n",
       "      <td>TerminoContrato</td>\n",
       "      <td>39.358008</td>\n",
       "    </tr>\n",
       "    <tr>\n",
       "      <th>1</th>\n",
       "      <td>MontoCargadoMes</td>\n",
       "      <td>20.322575</td>\n",
       "    </tr>\n",
       "    <tr>\n",
       "      <th>2</th>\n",
       "      <td>MesesCliente</td>\n",
       "      <td>14.916149</td>\n",
       "    </tr>\n",
       "    <tr>\n",
       "      <th>3</th>\n",
       "      <td>MontoCargadoTotal</td>\n",
       "      <td>8.743491</td>\n",
       "    </tr>\n",
       "    <tr>\n",
       "      <th>4</th>\n",
       "      <td>ServicioInternet</td>\n",
       "      <td>3.098054</td>\n",
       "    </tr>\n",
       "    <tr>\n",
       "      <th>5</th>\n",
       "      <td>MetodoPago</td>\n",
       "      <td>2.108981</td>\n",
       "    </tr>\n",
       "    <tr>\n",
       "      <th>6</th>\n",
       "      <td>Sexo</td>\n",
       "      <td>2.008327</td>\n",
       "    </tr>\n",
       "    <tr>\n",
       "      <th>7</th>\n",
       "      <td>SeguridadOnline</td>\n",
       "      <td>1.854469</td>\n",
       "    </tr>\n",
       "    <tr>\n",
       "      <th>8</th>\n",
       "      <td>LineasMultiples</td>\n",
       "      <td>1.578575</td>\n",
       "    </tr>\n",
       "    <tr>\n",
       "      <th>9</th>\n",
       "      <td>AdultoMayor</td>\n",
       "      <td>1.574887</td>\n",
       "    </tr>\n",
       "    <tr>\n",
       "      <th>10</th>\n",
       "      <td>FacturacionElectronica</td>\n",
       "      <td>1.305839</td>\n",
       "    </tr>\n",
       "    <tr>\n",
       "      <th>11</th>\n",
       "      <td>TransmisionPeliculas</td>\n",
       "      <td>0.836107</td>\n",
       "    </tr>\n",
       "    <tr>\n",
       "      <th>12</th>\n",
       "      <td>RespaldoOnline</td>\n",
       "      <td>0.713332</td>\n",
       "    </tr>\n",
       "    <tr>\n",
       "      <th>13</th>\n",
       "      <td>SoporteTecnico</td>\n",
       "      <td>0.616865</td>\n",
       "    </tr>\n",
       "    <tr>\n",
       "      <th>14</th>\n",
       "      <td>ProteccionDispositivo</td>\n",
       "      <td>0.290225</td>\n",
       "    </tr>\n",
       "    <tr>\n",
       "      <th>15</th>\n",
       "      <td>TransmisionTV</td>\n",
       "      <td>0.248123</td>\n",
       "    </tr>\n",
       "    <tr>\n",
       "      <th>16</th>\n",
       "      <td>ServicioTelefonico</td>\n",
       "      <td>0.177622</td>\n",
       "    </tr>\n",
       "    <tr>\n",
       "      <th>17</th>\n",
       "      <td>Socio</td>\n",
       "      <td>0.145010</td>\n",
       "    </tr>\n",
       "    <tr>\n",
       "      <th>18</th>\n",
       "      <td>Dependientes</td>\n",
       "      <td>0.103362</td>\n",
       "    </tr>\n",
       "  </tbody>\n",
       "</table>\n",
       "</div>"
      ],
      "text/plain": [
       "                   feature  importance\n",
       "0          TerminoContrato   39.358008\n",
       "1          MontoCargadoMes   20.322575\n",
       "2             MesesCliente   14.916149\n",
       "3        MontoCargadoTotal    8.743491\n",
       "4         ServicioInternet    3.098054\n",
       "5               MetodoPago    2.108981\n",
       "6                     Sexo    2.008327\n",
       "7          SeguridadOnline    1.854469\n",
       "8          LineasMultiples    1.578575\n",
       "9              AdultoMayor    1.574887\n",
       "10  FacturacionElectronica    1.305839\n",
       "11    TransmisionPeliculas    0.836107\n",
       "12          RespaldoOnline    0.713332\n",
       "13          SoporteTecnico    0.616865\n",
       "14   ProteccionDispositivo    0.290225\n",
       "15           TransmisionTV    0.248123\n",
       "16      ServicioTelefonico    0.177622\n",
       "17                   Socio    0.145010\n",
       "18            Dependientes    0.103362"
      ]
     },
     "execution_count": 430,
     "metadata": {},
     "output_type": "execute_result"
    }
   ],
   "source": [
    "df_feature_importances = pd.DataFrame()\n",
    "df_feature_importances['feature'] = X_train.columns\n",
    "df_feature_importances['importance'] = (model.feature_importances_/model.feature_importances_.sum())*100\n",
    "df_feature_importances = df_feature_importances.sort_values(by = ['importance','feature'],ascending=False)\n",
    "df_feature_importances.reset_index(drop = True,inplace=True)\n",
    "\n",
    "df_feature_importances"
   ]
  },
  {
   "cell_type": "code",
   "execution_count": 431,
   "metadata": {},
   "outputs": [],
   "source": [
    "#Variables finales a usar (> 1% tanto en arbol de 20 y 10 minleaf)\n",
    "\n",
    "features_to_model = ['Sexo',\n",
    " 'AdultoMayor',\n",
    " 'MesesCliente',\n",
    " 'ServicioInternet',\n",
    " 'SeguridadOnline',\n",
    " 'TerminoContrato',\n",
    " 'FacturacionElectronica',\n",
    " 'MetodoPago',\n",
    " 'MontoCargadoMes',\n",
    " 'MontoCargadoTotal']"
   ]
  },
  {
   "cell_type": "code",
   "execution_count": 432,
   "metadata": {},
   "outputs": [],
   "source": [
    "ds_train = ds_train[features_to_model+[TARGET]]\n",
    "ds_test = ds_test[features_to_model]"
   ]
  },
  {
   "cell_type": "markdown",
   "metadata": {},
   "source": [
    "## 3.3) Feature Engineering"
   ]
  },
  {
   "cell_type": "code",
   "execution_count": 433,
   "metadata": {},
   "outputs": [
    {
     "data": {
      "text/plain": [
       "AdultoMayor\n",
       "0    69.0\n",
       "1    85.0\n",
       "Name: MontoCargadoMes, dtype: float64"
      ]
     },
     "execution_count": 433,
     "metadata": {},
     "output_type": "execute_result"
    }
   ],
   "source": [
    "# New Feature 1\n",
    "tmp_byAdultoMayor_medianMontoMes = ds_train.groupby(['AdultoMayor'])['MontoCargadoMes'].median().round()\n",
    "tmp_byAdultoMayor_medianMontoMes"
   ]
  },
  {
   "cell_type": "code",
   "execution_count": 434,
   "metadata": {},
   "outputs": [],
   "source": [
    "ds_train['flg_bySexo_mayorMedianMontoMes'] = ds_train.apply(lambda x: 1 if x.MontoCargadoMes >= tmp_byAdultoMayor_medianMontoMes[x.AdultoMayor] else 0,\n",
    "                                                       axis = 1)\n",
    "\n",
    "ds_test['flg_bySexo_mayorMedianMontoMes'] = ds_test.apply(lambda x: 1 if x.MontoCargadoMes >= tmp_byAdultoMayor_medianMontoMes[x.AdultoMayor] else 0,\n",
    "                                                       axis = 1)"
   ]
  },
  {
   "cell_type": "code",
   "execution_count": 435,
   "metadata": {},
   "outputs": [],
   "source": [
    "# MontoCargoTotal a veces tiene valores por encima o por debajo que el MontoCargoMes x Numero Meses. Esto implica que parece haber\n",
    "# un sobrecargo o descuento. Vamos a mapear eso en otra variable"
   ]
  },
  {
   "cell_type": "code",
   "execution_count": 436,
   "metadata": {},
   "outputs": [],
   "source": [
    "ds_train[\"%Gap\"] =  ds_train.MontoCargadoTotal / (ds_train.MontoCargadoMes * ds_train.MesesCliente) - 1\n",
    "ds_test[\"%Gap\"] =  ds_test.MontoCargadoTotal / (ds_test.MontoCargadoMes * ds_test.MesesCliente) - 1"
   ]
  },
  {
   "cell_type": "code",
   "execution_count": 437,
   "metadata": {},
   "outputs": [],
   "source": [
    "# Meses restante que le queda del contrato\n",
    "def MesesRestante(row):\n",
    "    \n",
    "    if row.TerminoContrato == 0:\n",
    "        return 1\n",
    "    elif row.TerminoContrato == 1:\n",
    "        return 12 - row.MesesCliente % 12\n",
    "    else:\n",
    "        return 24 - row.MesesCliente % 24\n"
   ]
  },
  {
   "cell_type": "code",
   "execution_count": 438,
   "metadata": {},
   "outputs": [],
   "source": [
    "ds_train[\"MesesRestantes\"] = ds_train.apply(MesesRestante, axis= 1)\n",
    "ds_test[\"MesesRestantes\"] = ds_test.apply(MesesRestante, axis= 1)"
   ]
  },
  {
   "cell_type": "code",
   "execution_count": 439,
   "metadata": {},
   "outputs": [],
   "source": [
    "# Crear Features Dummies\n",
    "#ds_train = pd.get_dummies(ds_train, columns=list_cols+[\"AdultoMayor\",\"Socio\",\"Dependientes\",\"ServicioInternet\",\"TerminoContrato\",\"FacturacionElectronica\",\"LineasMultiples\",\"MetodoPago\",\"Sexo\",\"ServicioTelefonico\"])\n",
    "#ds_test = pd.get_dummies(ds_test, columns=list_cols+[\"AdultoMayor\",\"Socio\",\"Dependientes\",\"ServicioInternet\",\"TerminoContrato\",\"FacturacionElectronica\",\"LineasMultiples\",\"MetodoPago\",\"Sexo\",\"ServicioTelefonico\"])\n",
    "\n",
    "ds_train = pd.get_dummies(ds_train, columns=['Sexo',\n",
    " 'AdultoMayor',\n",
    " 'ServicioInternet',\n",
    " 'SeguridadOnline',\n",
    " 'TerminoContrato',\n",
    " 'FacturacionElectronica',\n",
    " 'MetodoPago'])\n",
    "\n",
    "ds_test = pd.get_dummies(ds_test, columns=['Sexo',\n",
    " 'AdultoMayor',\n",
    " 'ServicioInternet',\n",
    " 'SeguridadOnline',\n",
    " 'TerminoContrato',\n",
    " 'FacturacionElectronica',\n",
    " 'MetodoPago'])"
   ]
  },
  {
   "cell_type": "code",
   "execution_count": 440,
   "metadata": {},
   "outputs": [
    {
     "data": {
      "text/plain": [
       "((4577, 26), (2466, 25))"
      ]
     },
     "execution_count": 440,
     "metadata": {},
     "output_type": "execute_result"
    }
   ],
   "source": [
    "ds_train.shape, ds_test.shape"
   ]
  },
  {
   "cell_type": "code",
   "execution_count": 441,
   "metadata": {
    "scrolled": true
   },
   "outputs": [
    {
     "name": "stdout",
     "output_type": "stream",
     "text": [
      "<class 'pandas.core.frame.DataFrame'>\n",
      "RangeIndex: 4577 entries, 0 to 4576\n",
      "Data columns (total 26 columns):\n",
      "MesesCliente                      4577 non-null float64\n",
      "MontoCargadoMes                   4577 non-null float64\n",
      "MontoCargadoTotal                 4577 non-null float64\n",
      "Churn                             4577 non-null int64\n",
      "flg_bySexo_mayorMedianMontoMes    4577 non-null int64\n",
      "%Gap                              4577 non-null float64\n",
      "MesesRestantes                    4577 non-null float64\n",
      "Sexo_0                            4577 non-null uint8\n",
      "Sexo_1                            4577 non-null uint8\n",
      "AdultoMayor_0                     4577 non-null uint8\n",
      "AdultoMayor_1                     4577 non-null uint8\n",
      "ServicioInternet_0                4577 non-null uint8\n",
      "ServicioInternet_1                4577 non-null uint8\n",
      "ServicioInternet_2                4577 non-null uint8\n",
      "SeguridadOnline_0                 4577 non-null uint8\n",
      "SeguridadOnline_1                 4577 non-null uint8\n",
      "SeguridadOnline_2                 4577 non-null uint8\n",
      "TerminoContrato_0                 4577 non-null uint8\n",
      "TerminoContrato_1                 4577 non-null uint8\n",
      "TerminoContrato_2                 4577 non-null uint8\n",
      "FacturacionElectronica_0          4577 non-null uint8\n",
      "FacturacionElectronica_1          4577 non-null uint8\n",
      "MetodoPago_0                      4577 non-null uint8\n",
      "MetodoPago_1                      4577 non-null uint8\n",
      "MetodoPago_2                      4577 non-null uint8\n",
      "MetodoPago_3                      4577 non-null uint8\n",
      "dtypes: float64(5), int64(2), uint8(19)\n",
      "memory usage: 335.3 KB\n",
      "<class 'pandas.core.frame.DataFrame'>\n",
      "RangeIndex: 2466 entries, 0 to 2465\n",
      "Data columns (total 25 columns):\n",
      "MesesCliente                      2466 non-null float64\n",
      "MontoCargadoMes                   2466 non-null float64\n",
      "MontoCargadoTotal                 2466 non-null float64\n",
      "flg_bySexo_mayorMedianMontoMes    2466 non-null int64\n",
      "%Gap                              2466 non-null float64\n",
      "MesesRestantes                    2466 non-null float64\n",
      "Sexo_0                            2466 non-null uint8\n",
      "Sexo_1                            2466 non-null uint8\n",
      "AdultoMayor_0                     2466 non-null uint8\n",
      "AdultoMayor_1                     2466 non-null uint8\n",
      "ServicioInternet_0                2466 non-null uint8\n",
      "ServicioInternet_1                2466 non-null uint8\n",
      "ServicioInternet_2                2466 non-null uint8\n",
      "SeguridadOnline_0                 2466 non-null uint8\n",
      "SeguridadOnline_1                 2466 non-null uint8\n",
      "SeguridadOnline_2                 2466 non-null uint8\n",
      "TerminoContrato_0                 2466 non-null uint8\n",
      "TerminoContrato_1                 2466 non-null uint8\n",
      "TerminoContrato_2                 2466 non-null uint8\n",
      "FacturacionElectronica_0          2466 non-null uint8\n",
      "FacturacionElectronica_1          2466 non-null uint8\n",
      "MetodoPago_0                      2466 non-null uint8\n",
      "MetodoPago_1                      2466 non-null uint8\n",
      "MetodoPago_2                      2466 non-null uint8\n",
      "MetodoPago_3                      2466 non-null uint8\n",
      "dtypes: float64(5), int64(1), uint8(19)\n",
      "memory usage: 161.4 KB\n"
     ]
    },
    {
     "data": {
      "text/plain": [
       "(None, None)"
      ]
     },
     "execution_count": 441,
     "metadata": {},
     "output_type": "execute_result"
    }
   ],
   "source": [
    "ds_train.info(), ds_test.info()"
   ]
  },
  {
   "cell_type": "markdown",
   "metadata": {},
   "source": [
    "### Nuevo Feature Selection"
   ]
  },
  {
   "cell_type": "code",
   "execution_count": 442,
   "metadata": {},
   "outputs": [],
   "source": [
    "X_train = ds_train.drop([TARGET], axis=1)\n",
    "y_train = ds_train[TARGET]"
   ]
  },
  {
   "cell_type": "code",
   "execution_count": 443,
   "metadata": {},
   "outputs": [],
   "source": [
    "#Escalando features"
   ]
  },
  {
   "cell_type": "code",
   "execution_count": 444,
   "metadata": {},
   "outputs": [],
   "source": [
    "from sklearn.preprocessing import StandardScaler\n",
    "\n",
    "X_train_s = StandardScaler().fit_transform(X_train)"
   ]
  },
  {
   "cell_type": "code",
   "execution_count": 445,
   "metadata": {
    "colab": {},
    "colab_type": "code",
    "id": "z2DjunbNtSgi"
   },
   "outputs": [],
   "source": [
    "# Create  model objet \n",
    "model_tree = DecisionTreeClassifier(min_samples_leaf=20)\n",
    "\n",
    "# Fit the model:\n",
    "model_tree.fit(X_train_s, y_train)\n",
    "\n",
    "model = model_tree"
   ]
  },
  {
   "cell_type": "code",
   "execution_count": 446,
   "metadata": {
    "colab": {},
    "colab_type": "code",
    "id": "Po5_fRk-tSgk"
   },
   "outputs": [],
   "source": [
    "# Generar las predicciones:\n",
    "y_pred_train = model.predict(X_train_s)"
   ]
  },
  {
   "cell_type": "code",
   "execution_count": 447,
   "metadata": {
    "colab": {
     "base_uri": "https://localhost:8080/",
     "height": 50
    },
    "colab_type": "code",
    "id": "9XkSSTS74xDt",
    "outputId": "e0154ea4-4aa5-4ef5-8265-cef2351c1b10",
    "scrolled": false
   },
   "outputs": [
    {
     "name": "stdout",
     "output_type": "stream",
     "text": [
      "Accuracy - Train: 0.8304566309809919\n"
     ]
    }
   ],
   "source": [
    "accuracy_train = mt.accuracy_score(y_train, y_pred_train)\n",
    "\n",
    "print(\"Accuracy - Train: {}\".format(accuracy_train))\n"
   ]
  },
  {
   "cell_type": "code",
   "execution_count": 448,
   "metadata": {
    "colab": {
     "base_uri": "https://localhost:8080/",
     "height": 462
    },
    "colab_type": "code",
    "id": "x5Hziz4p_R_c",
    "outputId": "79e918f7-fc11-431b-8ba5-7d1c4c13e385"
   },
   "outputs": [
    {
     "data": {
      "text/html": [
       "<div>\n",
       "<style scoped>\n",
       "    .dataframe tbody tr th:only-of-type {\n",
       "        vertical-align: middle;\n",
       "    }\n",
       "\n",
       "    .dataframe tbody tr th {\n",
       "        vertical-align: top;\n",
       "    }\n",
       "\n",
       "    .dataframe thead th {\n",
       "        text-align: right;\n",
       "    }\n",
       "</style>\n",
       "<table border=\"1\" class=\"dataframe\">\n",
       "  <thead>\n",
       "    <tr style=\"text-align: right;\">\n",
       "      <th></th>\n",
       "      <th>feature</th>\n",
       "      <th>importance</th>\n",
       "    </tr>\n",
       "  </thead>\n",
       "  <tbody>\n",
       "    <tr>\n",
       "      <th>0</th>\n",
       "      <td>TerminoContrato_0</td>\n",
       "      <td>38.252436</td>\n",
       "    </tr>\n",
       "    <tr>\n",
       "      <th>1</th>\n",
       "      <td>MontoCargadoTotal</td>\n",
       "      <td>18.535453</td>\n",
       "    </tr>\n",
       "    <tr>\n",
       "      <th>2</th>\n",
       "      <td>ServicioInternet_1</td>\n",
       "      <td>13.472524</td>\n",
       "    </tr>\n",
       "    <tr>\n",
       "      <th>3</th>\n",
       "      <td>MontoCargadoMes</td>\n",
       "      <td>8.728199</td>\n",
       "    </tr>\n",
       "    <tr>\n",
       "      <th>4</th>\n",
       "      <td>MesesCliente</td>\n",
       "      <td>6.412906</td>\n",
       "    </tr>\n",
       "    <tr>\n",
       "      <th>5</th>\n",
       "      <td>%Gap</td>\n",
       "      <td>4.198585</td>\n",
       "    </tr>\n",
       "    <tr>\n",
       "      <th>6</th>\n",
       "      <td>MetodoPago_0</td>\n",
       "      <td>1.813650</td>\n",
       "    </tr>\n",
       "    <tr>\n",
       "      <th>7</th>\n",
       "      <td>ServicioInternet_0</td>\n",
       "      <td>1.619685</td>\n",
       "    </tr>\n",
       "    <tr>\n",
       "      <th>8</th>\n",
       "      <td>SeguridadOnline_1</td>\n",
       "      <td>1.556914</td>\n",
       "    </tr>\n",
       "    <tr>\n",
       "      <th>9</th>\n",
       "      <td>ServicioInternet_2</td>\n",
       "      <td>0.834794</td>\n",
       "    </tr>\n",
       "    <tr>\n",
       "      <th>10</th>\n",
       "      <td>MetodoPago_1</td>\n",
       "      <td>0.780138</td>\n",
       "    </tr>\n",
       "    <tr>\n",
       "      <th>11</th>\n",
       "      <td>AdultoMayor_0</td>\n",
       "      <td>0.741216</td>\n",
       "    </tr>\n",
       "    <tr>\n",
       "      <th>12</th>\n",
       "      <td>Sexo_1</td>\n",
       "      <td>0.682487</td>\n",
       "    </tr>\n",
       "    <tr>\n",
       "      <th>13</th>\n",
       "      <td>FacturacionElectronica_0</td>\n",
       "      <td>0.643868</td>\n",
       "    </tr>\n",
       "    <tr>\n",
       "      <th>14</th>\n",
       "      <td>AdultoMayor_1</td>\n",
       "      <td>0.636661</td>\n",
       "    </tr>\n",
       "    <tr>\n",
       "      <th>15</th>\n",
       "      <td>FacturacionElectronica_1</td>\n",
       "      <td>0.486792</td>\n",
       "    </tr>\n",
       "    <tr>\n",
       "      <th>16</th>\n",
       "      <td>MesesRestantes</td>\n",
       "      <td>0.373903</td>\n",
       "    </tr>\n",
       "    <tr>\n",
       "      <th>17</th>\n",
       "      <td>Sexo_0</td>\n",
       "      <td>0.135638</td>\n",
       "    </tr>\n",
       "    <tr>\n",
       "      <th>18</th>\n",
       "      <td>TerminoContrato_1</td>\n",
       "      <td>0.090918</td>\n",
       "    </tr>\n",
       "    <tr>\n",
       "      <th>19</th>\n",
       "      <td>MetodoPago_3</td>\n",
       "      <td>0.003235</td>\n",
       "    </tr>\n",
       "    <tr>\n",
       "      <th>20</th>\n",
       "      <td>flg_bySexo_mayorMedianMontoMes</td>\n",
       "      <td>0.000000</td>\n",
       "    </tr>\n",
       "    <tr>\n",
       "      <th>21</th>\n",
       "      <td>TerminoContrato_2</td>\n",
       "      <td>0.000000</td>\n",
       "    </tr>\n",
       "    <tr>\n",
       "      <th>22</th>\n",
       "      <td>SeguridadOnline_2</td>\n",
       "      <td>0.000000</td>\n",
       "    </tr>\n",
       "    <tr>\n",
       "      <th>23</th>\n",
       "      <td>SeguridadOnline_0</td>\n",
       "      <td>0.000000</td>\n",
       "    </tr>\n",
       "    <tr>\n",
       "      <th>24</th>\n",
       "      <td>MetodoPago_2</td>\n",
       "      <td>0.000000</td>\n",
       "    </tr>\n",
       "  </tbody>\n",
       "</table>\n",
       "</div>"
      ],
      "text/plain": [
       "                           feature  importance\n",
       "0                TerminoContrato_0   38.252436\n",
       "1                MontoCargadoTotal   18.535453\n",
       "2               ServicioInternet_1   13.472524\n",
       "3                  MontoCargadoMes    8.728199\n",
       "4                     MesesCliente    6.412906\n",
       "5                             %Gap    4.198585\n",
       "6                     MetodoPago_0    1.813650\n",
       "7               ServicioInternet_0    1.619685\n",
       "8                SeguridadOnline_1    1.556914\n",
       "9               ServicioInternet_2    0.834794\n",
       "10                    MetodoPago_1    0.780138\n",
       "11                   AdultoMayor_0    0.741216\n",
       "12                          Sexo_1    0.682487\n",
       "13        FacturacionElectronica_0    0.643868\n",
       "14                   AdultoMayor_1    0.636661\n",
       "15        FacturacionElectronica_1    0.486792\n",
       "16                  MesesRestantes    0.373903\n",
       "17                          Sexo_0    0.135638\n",
       "18               TerminoContrato_1    0.090918\n",
       "19                    MetodoPago_3    0.003235\n",
       "20  flg_bySexo_mayorMedianMontoMes    0.000000\n",
       "21               TerminoContrato_2    0.000000\n",
       "22               SeguridadOnline_2    0.000000\n",
       "23               SeguridadOnline_0    0.000000\n",
       "24                    MetodoPago_2    0.000000"
      ]
     },
     "execution_count": 448,
     "metadata": {},
     "output_type": "execute_result"
    }
   ],
   "source": [
    "df_feature_importances = pd.DataFrame()\n",
    "df_feature_importances['feature'] = X_train.columns\n",
    "df_feature_importances['importance'] = (model.feature_importances_/model.feature_importances_.sum())*100\n",
    "df_feature_importances = df_feature_importances.sort_values(by = ['importance','feature'],ascending=False)\n",
    "df_feature_importances.reset_index(drop = True,inplace=True)\n",
    "\n",
    "df_feature_importances"
   ]
  },
  {
   "cell_type": "code",
   "execution_count": 449,
   "metadata": {},
   "outputs": [],
   "source": [
    "#Variables finales a usar (> 1% tanto en arbol de 20 y 10 minleaf)\n",
    "features_to_remove = [\"flg_bySexo_mayorMedianMontoMes\",\n",
    "                                                  \"SeguridadOnline_0\",\"MetodoPago_3\",\"MetodoPago_2\",\"TerminoContrato_1\",\"ServicioInternet_0\",\"Sexo_0\",\"Sexo_1\"]"
   ]
  },
  {
   "cell_type": "code",
   "execution_count": 450,
   "metadata": {},
   "outputs": [],
   "source": [
    "ds_train = ds_train.drop(features_to_remove, axis = 1)\n",
    "ds_test = ds_test.drop(features_to_remove, axis = 1)"
   ]
  },
  {
   "cell_type": "code",
   "execution_count": 451,
   "metadata": {},
   "outputs": [
    {
     "name": "stdout",
     "output_type": "stream",
     "text": [
      "train:  (4577, 17) , summit:  (2466, 17)\n"
     ]
    }
   ],
   "source": [
    "# Features & Target\n",
    "features = list(ds_train.columns)\n",
    "features.remove(TARGET)\n",
    "\n",
    "X = ds_train[features]\n",
    "y = ds_train[TARGET]\n",
    "\n",
    "X_summit = ds_test\n",
    "\n",
    "print(\"train: \", X.shape,\", summit: \", X_summit.shape)"
   ]
  },
  {
   "cell_type": "code",
   "execution_count": 452,
   "metadata": {},
   "outputs": [
    {
     "data": {
      "text/html": [
       "<div>\n",
       "<style scoped>\n",
       "    .dataframe tbody tr th:only-of-type {\n",
       "        vertical-align: middle;\n",
       "    }\n",
       "\n",
       "    .dataframe tbody tr th {\n",
       "        vertical-align: top;\n",
       "    }\n",
       "\n",
       "    .dataframe thead th {\n",
       "        text-align: right;\n",
       "    }\n",
       "</style>\n",
       "<table border=\"1\" class=\"dataframe\">\n",
       "  <thead>\n",
       "    <tr style=\"text-align: right;\">\n",
       "      <th></th>\n",
       "      <th>count</th>\n",
       "      <th>mean</th>\n",
       "      <th>std</th>\n",
       "      <th>min</th>\n",
       "      <th>25%</th>\n",
       "      <th>50%</th>\n",
       "      <th>75%</th>\n",
       "      <th>max</th>\n",
       "    </tr>\n",
       "  </thead>\n",
       "  <tbody>\n",
       "    <tr>\n",
       "      <th>MesesCliente</th>\n",
       "      <td>2466.0</td>\n",
       "      <td>32.445661</td>\n",
       "      <td>24.309392</td>\n",
       "      <td>1.0</td>\n",
       "      <td>9.000000</td>\n",
       "      <td>29.000000</td>\n",
       "      <td>55.000000</td>\n",
       "      <td>72.000000</td>\n",
       "    </tr>\n",
       "    <tr>\n",
       "      <th>MontoCargadoMes</th>\n",
       "      <td>2466.0</td>\n",
       "      <td>69.740491</td>\n",
       "      <td>26.535906</td>\n",
       "      <td>20.0</td>\n",
       "      <td>51.600000</td>\n",
       "      <td>70.725000</td>\n",
       "      <td>90.350000</td>\n",
       "      <td>118.750000</td>\n",
       "    </tr>\n",
       "    <tr>\n",
       "      <th>MontoCargadoTotal</th>\n",
       "      <td>2466.0</td>\n",
       "      <td>2045.974213</td>\n",
       "      <td>1915.883372</td>\n",
       "      <td>0.0</td>\n",
       "      <td>415.550000</td>\n",
       "      <td>1464.600000</td>\n",
       "      <td>3269.175000</td>\n",
       "      <td>6953.400000</td>\n",
       "    </tr>\n",
       "    <tr>\n",
       "      <th>%Gap</th>\n",
       "      <td>2466.0</td>\n",
       "      <td>-0.094072</td>\n",
       "      <td>0.248094</td>\n",
       "      <td>-1.0</td>\n",
       "      <td>-0.038056</td>\n",
       "      <td>-0.002624</td>\n",
       "      <td>0.015137</td>\n",
       "      <td>0.293586</td>\n",
       "    </tr>\n",
       "    <tr>\n",
       "      <th>MesesRestantes</th>\n",
       "      <td>2466.0</td>\n",
       "      <td>4.929846</td>\n",
       "      <td>6.547838</td>\n",
       "      <td>1.0</td>\n",
       "      <td>1.000000</td>\n",
       "      <td>1.000000</td>\n",
       "      <td>7.000000</td>\n",
       "      <td>24.000000</td>\n",
       "    </tr>\n",
       "    <tr>\n",
       "      <th>AdultoMayor_0</th>\n",
       "      <td>2466.0</td>\n",
       "      <td>0.843471</td>\n",
       "      <td>0.363430</td>\n",
       "      <td>0.0</td>\n",
       "      <td>1.000000</td>\n",
       "      <td>1.000000</td>\n",
       "      <td>1.000000</td>\n",
       "      <td>1.000000</td>\n",
       "    </tr>\n",
       "    <tr>\n",
       "      <th>AdultoMayor_1</th>\n",
       "      <td>2466.0</td>\n",
       "      <td>0.156529</td>\n",
       "      <td>0.363430</td>\n",
       "      <td>0.0</td>\n",
       "      <td>0.000000</td>\n",
       "      <td>0.000000</td>\n",
       "      <td>0.000000</td>\n",
       "      <td>1.000000</td>\n",
       "    </tr>\n",
       "    <tr>\n",
       "      <th>ServicioInternet_1</th>\n",
       "      <td>2466.0</td>\n",
       "      <td>0.449311</td>\n",
       "      <td>0.497525</td>\n",
       "      <td>0.0</td>\n",
       "      <td>0.000000</td>\n",
       "      <td>0.000000</td>\n",
       "      <td>1.000000</td>\n",
       "      <td>1.000000</td>\n",
       "    </tr>\n",
       "    <tr>\n",
       "      <th>ServicioInternet_2</th>\n",
       "      <td>2466.0</td>\n",
       "      <td>0.341444</td>\n",
       "      <td>0.474290</td>\n",
       "      <td>0.0</td>\n",
       "      <td>0.000000</td>\n",
       "      <td>0.000000</td>\n",
       "      <td>1.000000</td>\n",
       "      <td>1.000000</td>\n",
       "    </tr>\n",
       "    <tr>\n",
       "      <th>SeguridadOnline_1</th>\n",
       "      <td>2466.0</td>\n",
       "      <td>0.526764</td>\n",
       "      <td>0.499384</td>\n",
       "      <td>0.0</td>\n",
       "      <td>0.000000</td>\n",
       "      <td>1.000000</td>\n",
       "      <td>1.000000</td>\n",
       "      <td>1.000000</td>\n",
       "    </tr>\n",
       "    <tr>\n",
       "      <th>SeguridadOnline_2</th>\n",
       "      <td>2466.0</td>\n",
       "      <td>0.289132</td>\n",
       "      <td>0.453451</td>\n",
       "      <td>0.0</td>\n",
       "      <td>0.000000</td>\n",
       "      <td>0.000000</td>\n",
       "      <td>1.000000</td>\n",
       "      <td>1.000000</td>\n",
       "    </tr>\n",
       "    <tr>\n",
       "      <th>TerminoContrato_0</th>\n",
       "      <td>2466.0</td>\n",
       "      <td>0.545823</td>\n",
       "      <td>0.497997</td>\n",
       "      <td>0.0</td>\n",
       "      <td>0.000000</td>\n",
       "      <td>1.000000</td>\n",
       "      <td>1.000000</td>\n",
       "      <td>1.000000</td>\n",
       "    </tr>\n",
       "    <tr>\n",
       "      <th>TerminoContrato_2</th>\n",
       "      <td>2466.0</td>\n",
       "      <td>0.242498</td>\n",
       "      <td>0.428681</td>\n",
       "      <td>0.0</td>\n",
       "      <td>0.000000</td>\n",
       "      <td>0.000000</td>\n",
       "      <td>0.000000</td>\n",
       "      <td>1.000000</td>\n",
       "    </tr>\n",
       "    <tr>\n",
       "      <th>FacturacionElectronica_0</th>\n",
       "      <td>2466.0</td>\n",
       "      <td>0.412814</td>\n",
       "      <td>0.492440</td>\n",
       "      <td>0.0</td>\n",
       "      <td>0.000000</td>\n",
       "      <td>0.000000</td>\n",
       "      <td>1.000000</td>\n",
       "      <td>1.000000</td>\n",
       "    </tr>\n",
       "    <tr>\n",
       "      <th>FacturacionElectronica_1</th>\n",
       "      <td>2466.0</td>\n",
       "      <td>0.587186</td>\n",
       "      <td>0.492440</td>\n",
       "      <td>0.0</td>\n",
       "      <td>0.000000</td>\n",
       "      <td>1.000000</td>\n",
       "      <td>1.000000</td>\n",
       "      <td>1.000000</td>\n",
       "    </tr>\n",
       "    <tr>\n",
       "      <th>MetodoPago_0</th>\n",
       "      <td>2466.0</td>\n",
       "      <td>0.324006</td>\n",
       "      <td>0.468097</td>\n",
       "      <td>0.0</td>\n",
       "      <td>0.000000</td>\n",
       "      <td>0.000000</td>\n",
       "      <td>1.000000</td>\n",
       "      <td>1.000000</td>\n",
       "    </tr>\n",
       "    <tr>\n",
       "      <th>MetodoPago_1</th>\n",
       "      <td>2466.0</td>\n",
       "      <td>0.227494</td>\n",
       "      <td>0.419299</td>\n",
       "      <td>0.0</td>\n",
       "      <td>0.000000</td>\n",
       "      <td>0.000000</td>\n",
       "      <td>0.000000</td>\n",
       "      <td>1.000000</td>\n",
       "    </tr>\n",
       "  </tbody>\n",
       "</table>\n",
       "</div>"
      ],
      "text/plain": [
       "                           count         mean          std   min         25%  \\\n",
       "MesesCliente              2466.0    32.445661    24.309392   1.0    9.000000   \n",
       "MontoCargadoMes           2466.0    69.740491    26.535906  20.0   51.600000   \n",
       "MontoCargadoTotal         2466.0  2045.974213  1915.883372   0.0  415.550000   \n",
       "%Gap                      2466.0    -0.094072     0.248094  -1.0   -0.038056   \n",
       "MesesRestantes            2466.0     4.929846     6.547838   1.0    1.000000   \n",
       "AdultoMayor_0             2466.0     0.843471     0.363430   0.0    1.000000   \n",
       "AdultoMayor_1             2466.0     0.156529     0.363430   0.0    0.000000   \n",
       "ServicioInternet_1        2466.0     0.449311     0.497525   0.0    0.000000   \n",
       "ServicioInternet_2        2466.0     0.341444     0.474290   0.0    0.000000   \n",
       "SeguridadOnline_1         2466.0     0.526764     0.499384   0.0    0.000000   \n",
       "SeguridadOnline_2         2466.0     0.289132     0.453451   0.0    0.000000   \n",
       "TerminoContrato_0         2466.0     0.545823     0.497997   0.0    0.000000   \n",
       "TerminoContrato_2         2466.0     0.242498     0.428681   0.0    0.000000   \n",
       "FacturacionElectronica_0  2466.0     0.412814     0.492440   0.0    0.000000   \n",
       "FacturacionElectronica_1  2466.0     0.587186     0.492440   0.0    0.000000   \n",
       "MetodoPago_0              2466.0     0.324006     0.468097   0.0    0.000000   \n",
       "MetodoPago_1              2466.0     0.227494     0.419299   0.0    0.000000   \n",
       "\n",
       "                                  50%          75%          max  \n",
       "MesesCliente                29.000000    55.000000    72.000000  \n",
       "MontoCargadoMes             70.725000    90.350000   118.750000  \n",
       "MontoCargadoTotal         1464.600000  3269.175000  6953.400000  \n",
       "%Gap                        -0.002624     0.015137     0.293586  \n",
       "MesesRestantes               1.000000     7.000000    24.000000  \n",
       "AdultoMayor_0                1.000000     1.000000     1.000000  \n",
       "AdultoMayor_1                0.000000     0.000000     1.000000  \n",
       "ServicioInternet_1           0.000000     1.000000     1.000000  \n",
       "ServicioInternet_2           0.000000     1.000000     1.000000  \n",
       "SeguridadOnline_1            1.000000     1.000000     1.000000  \n",
       "SeguridadOnline_2            0.000000     1.000000     1.000000  \n",
       "TerminoContrato_0            1.000000     1.000000     1.000000  \n",
       "TerminoContrato_2            0.000000     0.000000     1.000000  \n",
       "FacturacionElectronica_0     0.000000     1.000000     1.000000  \n",
       "FacturacionElectronica_1     1.000000     1.000000     1.000000  \n",
       "MetodoPago_0                 0.000000     1.000000     1.000000  \n",
       "MetodoPago_1                 0.000000     0.000000     1.000000  "
      ]
     },
     "execution_count": 452,
     "metadata": {},
     "output_type": "execute_result"
    }
   ],
   "source": [
    "X_summit.describe().T"
   ]
  },
  {
   "cell_type": "markdown",
   "metadata": {},
   "source": [
    "# 4) Modeling & Evaluation - Simple"
   ]
  },
  {
   "cell_type": "markdown",
   "metadata": {},
   "source": [
    "## 4.1) Train & Test Split"
   ]
  },
  {
   "cell_type": "code",
   "execution_count": 453,
   "metadata": {},
   "outputs": [
    {
     "name": "stdout",
     "output_type": "stream",
     "text": [
      "(3203, 3203) (1374, 1374)\n"
     ]
    }
   ],
   "source": [
    "from sklearn import model_selection\n",
    "X_train, X_test, y_train, y_test = model_selection.train_test_split(X, y, train_size = 0.70, random_state=9)\n",
    "print((len(X_train), len(y_train)), (len(X_test), len(y_test)))"
   ]
  },
  {
   "cell_type": "code",
   "execution_count": 454,
   "metadata": {},
   "outputs": [
    {
     "name": "stdout",
     "output_type": "stream",
     "text": [
      "<class 'pandas.core.frame.DataFrame'>\n",
      "Int64Index: 3203 entries, 2927 to 382\n",
      "Data columns (total 17 columns):\n",
      "MesesCliente                3203 non-null float64\n",
      "MontoCargadoMes             3203 non-null float64\n",
      "MontoCargadoTotal           3203 non-null float64\n",
      "%Gap                        3203 non-null float64\n",
      "MesesRestantes              3203 non-null float64\n",
      "AdultoMayor_0               3203 non-null uint8\n",
      "AdultoMayor_1               3203 non-null uint8\n",
      "ServicioInternet_1          3203 non-null uint8\n",
      "ServicioInternet_2          3203 non-null uint8\n",
      "SeguridadOnline_1           3203 non-null uint8\n",
      "SeguridadOnline_2           3203 non-null uint8\n",
      "TerminoContrato_0           3203 non-null uint8\n",
      "TerminoContrato_2           3203 non-null uint8\n",
      "FacturacionElectronica_0    3203 non-null uint8\n",
      "FacturacionElectronica_1    3203 non-null uint8\n",
      "MetodoPago_0                3203 non-null uint8\n",
      "MetodoPago_1                3203 non-null uint8\n",
      "dtypes: float64(5), uint8(12)\n",
      "memory usage: 187.7 KB\n"
     ]
    }
   ],
   "source": [
    "X_train.info()"
   ]
  },
  {
   "cell_type": "markdown",
   "metadata": {},
   "source": [
    "## 4.2.A. LogisticRegression"
   ]
  },
  {
   "cell_type": "markdown",
   "metadata": {},
   "source": [
    "### 4.2.1 Training"
   ]
  },
  {
   "cell_type": "code",
   "execution_count": 455,
   "metadata": {},
   "outputs": [],
   "source": [
    "from sklearn.linear_model import LogisticRegression\n",
    "\n",
    "# Create  model objet \n",
    "model_rlog = LogisticRegression(C=0.01, max_iter= 100, random_state=0, n_jobs = 4, penalty = 'l1')\n",
    "\n",
    "# Fit the model:\n",
    "model_rlog.fit(X_train, y_train)\n",
    "\n",
    "model = model_rlog "
   ]
  },
  {
   "cell_type": "code",
   "execution_count": 456,
   "metadata": {},
   "outputs": [
    {
     "data": {
      "text/html": [
       "<div>\n",
       "<style scoped>\n",
       "    .dataframe tbody tr th:only-of-type {\n",
       "        vertical-align: middle;\n",
       "    }\n",
       "\n",
       "    .dataframe tbody tr th {\n",
       "        vertical-align: top;\n",
       "    }\n",
       "\n",
       "    .dataframe thead th {\n",
       "        text-align: right;\n",
       "    }\n",
       "</style>\n",
       "<table border=\"1\" class=\"dataframe\">\n",
       "  <thead>\n",
       "    <tr style=\"text-align: right;\">\n",
       "      <th></th>\n",
       "      <th>feature</th>\n",
       "      <th>beta</th>\n",
       "    </tr>\n",
       "  </thead>\n",
       "  <tbody>\n",
       "    <tr>\n",
       "      <th>4</th>\n",
       "      <td>MesesRestantes</td>\n",
       "      <td>-0.1230</td>\n",
       "    </tr>\n",
       "    <tr>\n",
       "      <th>0</th>\n",
       "      <td>MesesCliente</td>\n",
       "      <td>-0.0704</td>\n",
       "    </tr>\n",
       "    <tr>\n",
       "      <th>13</th>\n",
       "      <td>FacturacionElectronica_0</td>\n",
       "      <td>-0.0562</td>\n",
       "    </tr>\n",
       "    <tr>\n",
       "      <th>14</th>\n",
       "      <td>FacturacionElectronica_1</td>\n",
       "      <td>0.0000</td>\n",
       "    </tr>\n",
       "    <tr>\n",
       "      <th>12</th>\n",
       "      <td>TerminoContrato_2</td>\n",
       "      <td>0.0000</td>\n",
       "    </tr>\n",
       "    <tr>\n",
       "      <th>11</th>\n",
       "      <td>TerminoContrato_0</td>\n",
       "      <td>0.0000</td>\n",
       "    </tr>\n",
       "    <tr>\n",
       "      <th>10</th>\n",
       "      <td>SeguridadOnline_2</td>\n",
       "      <td>0.0000</td>\n",
       "    </tr>\n",
       "    <tr>\n",
       "      <th>9</th>\n",
       "      <td>SeguridadOnline_1</td>\n",
       "      <td>0.0000</td>\n",
       "    </tr>\n",
       "    <tr>\n",
       "      <th>8</th>\n",
       "      <td>ServicioInternet_2</td>\n",
       "      <td>0.0000</td>\n",
       "    </tr>\n",
       "    <tr>\n",
       "      <th>7</th>\n",
       "      <td>ServicioInternet_1</td>\n",
       "      <td>0.0000</td>\n",
       "    </tr>\n",
       "    <tr>\n",
       "      <th>6</th>\n",
       "      <td>AdultoMayor_1</td>\n",
       "      <td>0.0000</td>\n",
       "    </tr>\n",
       "    <tr>\n",
       "      <th>5</th>\n",
       "      <td>AdultoMayor_0</td>\n",
       "      <td>0.0000</td>\n",
       "    </tr>\n",
       "    <tr>\n",
       "      <th>3</th>\n",
       "      <td>%Gap</td>\n",
       "      <td>0.0000</td>\n",
       "    </tr>\n",
       "    <tr>\n",
       "      <th>15</th>\n",
       "      <td>MetodoPago_0</td>\n",
       "      <td>0.0000</td>\n",
       "    </tr>\n",
       "    <tr>\n",
       "      <th>16</th>\n",
       "      <td>MetodoPago_1</td>\n",
       "      <td>0.0000</td>\n",
       "    </tr>\n",
       "    <tr>\n",
       "      <th>2</th>\n",
       "      <td>MontoCargadoTotal</td>\n",
       "      <td>0.0004</td>\n",
       "    </tr>\n",
       "    <tr>\n",
       "      <th>1</th>\n",
       "      <td>MontoCargadoMes</td>\n",
       "      <td>0.0076</td>\n",
       "    </tr>\n",
       "  </tbody>\n",
       "</table>\n",
       "</div>"
      ],
      "text/plain": [
       "                     feature    beta\n",
       "4             MesesRestantes -0.1230\n",
       "0               MesesCliente -0.0704\n",
       "13  FacturacionElectronica_0 -0.0562\n",
       "14  FacturacionElectronica_1  0.0000\n",
       "12         TerminoContrato_2  0.0000\n",
       "11         TerminoContrato_0  0.0000\n",
       "10         SeguridadOnline_2  0.0000\n",
       "9          SeguridadOnline_1  0.0000\n",
       "8         ServicioInternet_2  0.0000\n",
       "7         ServicioInternet_1  0.0000\n",
       "6              AdultoMayor_1  0.0000\n",
       "5              AdultoMayor_0  0.0000\n",
       "3                       %Gap  0.0000\n",
       "15              MetodoPago_0  0.0000\n",
       "16              MetodoPago_1  0.0000\n",
       "2          MontoCargadoTotal  0.0004\n",
       "1            MontoCargadoMes  0.0076"
      ]
     },
     "execution_count": 456,
     "metadata": {},
     "output_type": "execute_result"
    }
   ],
   "source": [
    "df_weights = pd.DataFrame({'feature':X_train.columns.values, 'beta': np.round(model_rlog.coef_[0],4) })\n",
    "df_weights.sort_values(\"beta\")"
   ]
  },
  {
   "cell_type": "markdown",
   "metadata": {},
   "source": [
    "### 4.2.2 Evaluación del Modelo"
   ]
  },
  {
   "cell_type": "code",
   "execution_count": 457,
   "metadata": {},
   "outputs": [],
   "source": [
    "# Generar las predicciones:\n",
    "y_pred_train = model.predict(X_train)\n",
    "y_pred_test = model.predict(X_test)\n",
    "\n",
    "# Generar las probabilidades\n",
    "y_pred_proba_train = model.predict_proba(X_train)[:,1]\n",
    "y_pred_proba_test = model.predict_proba(X_test)[:,1]"
   ]
  },
  {
   "cell_type": "code",
   "execution_count": 458,
   "metadata": {},
   "outputs": [
    {
     "name": "stdout",
     "output_type": "stream",
     "text": [
      "Accuracy - Train: 0.7873868248517015\n",
      "Accuracy - Test : 0.7671033478893741\n"
     ]
    }
   ],
   "source": [
    "accuracy_train = mt.accuracy_score(y_train, y_pred_train)\n",
    "accuracy_test = mt.accuracy_score(y_test, y_pred_test)\n",
    "\n",
    "print(\"Accuracy - Train: {}\".format(accuracy_train))\n",
    "print(\"Accuracy - Test : {}\".format(accuracy_test))"
   ]
  },
  {
   "cell_type": "markdown",
   "metadata": {},
   "source": [
    "El punto de corte por defecto es de 0.50 para decidir si la predicción final será 1 ó 0. A continuación trataremos de encontrar ese punto de corte que optimice la métrica de evaluación del problema.."
   ]
  },
  {
   "cell_type": "markdown",
   "metadata": {},
   "source": [
    "### ****Find best threshold:****"
   ]
  },
  {
   "cell_type": "code",
   "execution_count": 459,
   "metadata": {},
   "outputs": [],
   "source": [
    "list_accuracy_test = []\n",
    "for threshold in range(0,100):\n",
    "  pred_0_1 = [1 if x >= threshold/100 else 0 for x in y_pred_proba_test]\n",
    "  list_accuracy_test.append(mt.accuracy_score(y_test, pred_0_1))"
   ]
  },
  {
   "cell_type": "code",
   "execution_count": 460,
   "metadata": {},
   "outputs": [
    {
     "data": {
      "text/plain": [
       "[<matplotlib.lines.Line2D at 0x2b2d95a5fd0>]"
      ]
     },
     "execution_count": 460,
     "metadata": {},
     "output_type": "execute_result"
    },
    {
     "data": {
      "image/png": "[encoded data removed]",
      "text/plain": [
       "<Figure size 432x288 with 1 Axes>"
      ]
     },
     "metadata": {
      "needs_background": "light"
     },
     "output_type": "display_data"
    }
   ],
   "source": [
    "xs = [x/100 for x in range(0,100)]\n",
    "ys = list_accuracy_test\n",
    "plt.plot(xs, ys)"
   ]
  },
  {
   "cell_type": "code",
   "execution_count": 461,
   "metadata": {},
   "outputs": [
    {
     "name": "stdout",
     "output_type": "stream",
     "text": [
      "El mejor threshold es: 0.56\n"
     ]
    }
   ],
   "source": [
    "best_scoring = max(list_accuracy_test)\n",
    "best_threshold = list_accuracy_test.index(best_scoring)/100\n",
    "print(\"El mejor threshold es: {}\".format(best_threshold))"
   ]
  },
  {
   "cell_type": "code",
   "execution_count": 462,
   "metadata": {},
   "outputs": [
    {
     "name": "stdout",
     "output_type": "stream",
     "text": [
      "Accuracy - Train: 0.7802060568217296\n",
      "Accuracy - Test : 0.7794759825327511\n"
     ]
    }
   ],
   "source": [
    "accuracy_train = mt.accuracy_score(y_train, [1 if x >= best_threshold else 0 for x in y_pred_proba_train])\n",
    "accuracy_test = mt.accuracy_score(y_test, [1 if x >= best_threshold else 0 for x in y_pred_proba_test])\n",
    "\n",
    "print(\"Accuracy - Train: {}\".format(accuracy_train))\n",
    "print(\"Accuracy - Test : {}\".format(accuracy_test))"
   ]
  },
  {
   "cell_type": "markdown",
   "metadata": {
    "colab_type": "text",
    "id": "-1DC3WCrtSge"
   },
   "source": [
    "## 4.2.B. Decision Tree"
   ]
  },
  {
   "cell_type": "markdown",
   "metadata": {
    "colab_type": "text",
    "id": "Sn1ZmXjrtSge"
   },
   "source": [
    "### 4.2.1 Training"
   ]
  },
  {
   "cell_type": "code",
   "execution_count": 463,
   "metadata": {
    "colab": {
     "base_uri": "https://localhost:8080/",
     "height": 118
    },
    "colab_type": "code",
    "id": "lFo_Ko-0tSgf",
    "outputId": "17e53db0-7625-4a10-ee87-276a5f4c0c48"
   },
   "outputs": [
    {
     "data": {
      "text/plain": [
       "DecisionTreeClassifier(class_weight=None, criterion='gini', max_depth=None,\n",
       "            max_features=None, max_leaf_nodes=None,\n",
       "            min_impurity_decrease=0.0, min_impurity_split=None,\n",
       "            min_samples_leaf=1, min_samples_split=2,\n",
       "            min_weight_fraction_leaf=0.0, presort=False, random_state=None,\n",
       "            splitter='best')"
      ]
     },
     "execution_count": 463,
     "metadata": {},
     "output_type": "execute_result"
    }
   ],
   "source": [
    "from sklearn.tree import DecisionTreeClassifier\n",
    "DecisionTreeClassifier()"
   ]
  },
  {
   "cell_type": "code",
   "execution_count": 464,
   "metadata": {
    "colab": {},
    "colab_type": "code",
    "id": "z2DjunbNtSgi"
   },
   "outputs": [],
   "source": [
    "# Create  model objet \n",
    "model_tree = DecisionTreeClassifier(max_depth=6, min_samples_leaf=5,random_state=0)\n",
    "\n",
    "# Fit the model:\n",
    "model_tree.fit(X_train, y_train)\n",
    "\n",
    "model = model_tree"
   ]
  },
  {
   "cell_type": "markdown",
   "metadata": {
    "colab_type": "text",
    "id": "1dSIZjwStSgn"
   },
   "source": [
    "### 4.2.2 Evaluación del Modelo"
   ]
  },
  {
   "cell_type": "code",
   "execution_count": 465,
   "metadata": {
    "colab": {},
    "colab_type": "code",
    "id": "Po5_fRk-tSgk"
   },
   "outputs": [],
   "source": [
    "# Generar las predicciones:\n",
    "y_pred_train = model.predict(X_train)\n",
    "y_pred_test = model.predict(X_test)\n",
    "\n",
    "# Generar las probabilidades\n",
    "y_pred_proba_train = model.predict_proba(X_train)[:,1]\n",
    "y_pred_proba_test = model.predict_proba(X_test)[:,1]"
   ]
  },
  {
   "cell_type": "code",
   "execution_count": 466,
   "metadata": {
    "colab": {
     "base_uri": "https://localhost:8080/",
     "height": 50
    },
    "colab_type": "code",
    "id": "9XkSSTS74xDt",
    "outputId": "e0154ea4-4aa5-4ef5-8265-cef2351c1b10"
   },
   "outputs": [
    {
     "name": "stdout",
     "output_type": "stream",
     "text": [
      "Accuracy - Train: 0.8154854823602873\n",
      "Accuracy - Test : 0.7751091703056768\n"
     ]
    }
   ],
   "source": [
    "accuracy_train = mt.accuracy_score(y_train, y_pred_train)\n",
    "accuracy_test = mt.accuracy_score(y_test, y_pred_test)\n",
    "\n",
    "print(\"Accuracy - Train: {}\".format(accuracy_train))\n",
    "print(\"Accuracy - Test : {}\".format(accuracy_test))"
   ]
  },
  {
   "cell_type": "markdown",
   "metadata": {
    "colab_type": "text",
    "id": "Uki5re6889CC"
   },
   "source": [
    "El punto de corte por defecto es de 0.50 para decidir si la predicción final será 1 ó 0. A continuación trataremos de encontrar ese punto de corte que optimice la métrica de evaluación del problema.."
   ]
  },
  {
   "cell_type": "markdown",
   "metadata": {
    "colab_type": "text",
    "id": "g4r8lID8tSgt"
   },
   "source": [
    "### ****Find best threshold:****"
   ]
  },
  {
   "cell_type": "code",
   "execution_count": 467,
   "metadata": {
    "colab": {},
    "colab_type": "code",
    "id": "t3DQ-OxZ5d-s"
   },
   "outputs": [],
   "source": [
    "list_accuracy_test = []\n",
    "for threshold in range(0,100):\n",
    "  pred_0_1 = [1 if x >= threshold/100 else 0 for x in y_pred_proba_test]\n",
    "  list_accuracy_test.append(mt.accuracy_score(y_test, pred_0_1))"
   ]
  },
  {
   "cell_type": "code",
   "execution_count": 468,
   "metadata": {
    "colab": {
     "base_uri": "https://localhost:8080/",
     "height": 286
    },
    "colab_type": "code",
    "id": "VnM7wmrt8LPs",
    "outputId": "3ad82548-9d55-4afa-fb9b-d38d36f04c06"
   },
   "outputs": [
    {
     "data": {
      "text/plain": [
       "[<matplotlib.lines.Line2D at 0x2b2d960f160>]"
      ]
     },
     "execution_count": 468,
     "metadata": {},
     "output_type": "execute_result"
    },
    {
     "data": {
      "image/png": "[encoded data removed]",
      "text/plain": [
       "<Figure size 432x288 with 1 Axes>"
      ]
     },
     "metadata": {
      "needs_background": "light"
     },
     "output_type": "display_data"
    }
   ],
   "source": [
    "xs = [x/100 for x in range(0,100)]\n",
    "ys = list_accuracy_test\n",
    "plt.plot(xs, ys)"
   ]
  },
  {
   "cell_type": "code",
   "execution_count": 469,
   "metadata": {
    "colab": {
     "base_uri": "https://localhost:8080/",
     "height": 34
    },
    "colab_type": "code",
    "id": "qee7k_K-5d4a",
    "outputId": "2094a998-de25-4784-891b-73d08ed21a60"
   },
   "outputs": [
    {
     "name": "stdout",
     "output_type": "stream",
     "text": [
      "El mejor threshold es: 0.61\n"
     ]
    }
   ],
   "source": [
    "best_scoring = max(list_accuracy_test)\n",
    "best_threshold = list_accuracy_test.index(best_scoring)/100\n",
    "print(\"El mejor threshold es: {}\".format(best_threshold))"
   ]
  },
  {
   "cell_type": "code",
   "execution_count": 470,
   "metadata": {
    "colab": {
     "base_uri": "https://localhost:8080/",
     "height": 50
    },
    "colab_type": "code",
    "id": "iiCh9AQu5duo",
    "outputId": "20203ff8-48e5-477a-a5c6-23b138d4aef8"
   },
   "outputs": [
    {
     "name": "stdout",
     "output_type": "stream",
     "text": [
      "Accuracy - Train: 0.8014361536059944\n",
      "Accuracy - Test : 0.7809315866084425\n"
     ]
    }
   ],
   "source": [
    "accuracy_train = mt.accuracy_score(y_train, [1 if x >= best_threshold else 0 for x in y_pred_proba_train])\n",
    "accuracy_test = mt.accuracy_score(y_test, [1 if x >= best_threshold else 0 for x in y_pred_proba_test])\n",
    "\n",
    "print(\"Accuracy - Train: {}\".format(accuracy_train))\n",
    "print(\"Accuracy - Test : {}\".format(accuracy_test))"
   ]
  },
  {
   "cell_type": "markdown",
   "metadata": {
    "colab_type": "text",
    "id": "uoCBdmNntSg3"
   },
   "source": [
    "### Feature Importances"
   ]
  },
  {
   "cell_type": "code",
   "execution_count": 471,
   "metadata": {
    "colab": {
     "base_uri": "https://localhost:8080/",
     "height": 462
    },
    "colab_type": "code",
    "id": "5sgMvCrl9onj",
    "outputId": "bcc6e639-249c-4a35-85c5-7cdaf492bc95"
   },
   "outputs": [
    {
     "data": {
      "text/html": [
       "<div>\n",
       "<style scoped>\n",
       "    .dataframe tbody tr th:only-of-type {\n",
       "        vertical-align: middle;\n",
       "    }\n",
       "\n",
       "    .dataframe tbody tr th {\n",
       "        vertical-align: top;\n",
       "    }\n",
       "\n",
       "    .dataframe thead th {\n",
       "        text-align: right;\n",
       "    }\n",
       "</style>\n",
       "<table border=\"1\" class=\"dataframe\">\n",
       "  <thead>\n",
       "    <tr style=\"text-align: right;\">\n",
       "      <th></th>\n",
       "      <th>feature</th>\n",
       "      <th>importance</th>\n",
       "    </tr>\n",
       "  </thead>\n",
       "  <tbody>\n",
       "    <tr>\n",
       "      <th>0</th>\n",
       "      <td>TerminoContrato_0</td>\n",
       "      <td>0.429283</td>\n",
       "    </tr>\n",
       "    <tr>\n",
       "      <th>1</th>\n",
       "      <td>MontoCargadoTotal</td>\n",
       "      <td>0.186684</td>\n",
       "    </tr>\n",
       "    <tr>\n",
       "      <th>2</th>\n",
       "      <td>ServicioInternet_1</td>\n",
       "      <td>0.157027</td>\n",
       "    </tr>\n",
       "    <tr>\n",
       "      <th>3</th>\n",
       "      <td>MontoCargadoMes</td>\n",
       "      <td>0.070856</td>\n",
       "    </tr>\n",
       "    <tr>\n",
       "      <th>4</th>\n",
       "      <td>MesesCliente</td>\n",
       "      <td>0.056266</td>\n",
       "    </tr>\n",
       "    <tr>\n",
       "      <th>5</th>\n",
       "      <td>AdultoMayor_1</td>\n",
       "      <td>0.032419</td>\n",
       "    </tr>\n",
       "    <tr>\n",
       "      <th>6</th>\n",
       "      <td>ServicioInternet_2</td>\n",
       "      <td>0.019082</td>\n",
       "    </tr>\n",
       "    <tr>\n",
       "      <th>7</th>\n",
       "      <td>MetodoPago_0</td>\n",
       "      <td>0.010614</td>\n",
       "    </tr>\n",
       "    <tr>\n",
       "      <th>8</th>\n",
       "      <td>TerminoContrato_2</td>\n",
       "      <td>0.007875</td>\n",
       "    </tr>\n",
       "    <tr>\n",
       "      <th>9</th>\n",
       "      <td>MetodoPago_1</td>\n",
       "      <td>0.006450</td>\n",
       "    </tr>\n",
       "    <tr>\n",
       "      <th>10</th>\n",
       "      <td>%Gap</td>\n",
       "      <td>0.006283</td>\n",
       "    </tr>\n",
       "    <tr>\n",
       "      <th>11</th>\n",
       "      <td>MesesRestantes</td>\n",
       "      <td>0.004876</td>\n",
       "    </tr>\n",
       "    <tr>\n",
       "      <th>12</th>\n",
       "      <td>SeguridadOnline_1</td>\n",
       "      <td>0.004297</td>\n",
       "    </tr>\n",
       "    <tr>\n",
       "      <th>13</th>\n",
       "      <td>SeguridadOnline_2</td>\n",
       "      <td>0.004097</td>\n",
       "    </tr>\n",
       "    <tr>\n",
       "      <th>14</th>\n",
       "      <td>FacturacionElectronica_1</td>\n",
       "      <td>0.003219</td>\n",
       "    </tr>\n",
       "    <tr>\n",
       "      <th>15</th>\n",
       "      <td>AdultoMayor_0</td>\n",
       "      <td>0.000671</td>\n",
       "    </tr>\n",
       "    <tr>\n",
       "      <th>16</th>\n",
       "      <td>FacturacionElectronica_0</td>\n",
       "      <td>0.000000</td>\n",
       "    </tr>\n",
       "  </tbody>\n",
       "</table>\n",
       "</div>"
      ],
      "text/plain": [
       "                     feature  importance\n",
       "0          TerminoContrato_0    0.429283\n",
       "1          MontoCargadoTotal    0.186684\n",
       "2         ServicioInternet_1    0.157027\n",
       "3            MontoCargadoMes    0.070856\n",
       "4               MesesCliente    0.056266\n",
       "5              AdultoMayor_1    0.032419\n",
       "6         ServicioInternet_2    0.019082\n",
       "7               MetodoPago_0    0.010614\n",
       "8          TerminoContrato_2    0.007875\n",
       "9               MetodoPago_1    0.006450\n",
       "10                      %Gap    0.006283\n",
       "11            MesesRestantes    0.004876\n",
       "12         SeguridadOnline_1    0.004297\n",
       "13         SeguridadOnline_2    0.004097\n",
       "14  FacturacionElectronica_1    0.003219\n",
       "15             AdultoMayor_0    0.000671\n",
       "16  FacturacionElectronica_0    0.000000"
      ]
     },
     "execution_count": 471,
     "metadata": {},
     "output_type": "execute_result"
    }
   ],
   "source": [
    "df_feature_importances = pd.DataFrame()\n",
    "df_feature_importances['feature'] = X_train.columns\n",
    "df_feature_importances['importance'] = model.feature_importances_/model.feature_importances_.sum()\n",
    "df_feature_importances = df_feature_importances.sort_values(by = ['importance','feature'],ascending=False)\n",
    "df_feature_importances.reset_index(drop = True,inplace=True)\n",
    "\n",
    "df_feature_importances"
   ]
  },
  {
   "cell_type": "code",
   "execution_count": 472,
   "metadata": {
    "colab": {
     "base_uri": "https://localhost:8080/",
     "height": 340
    },
    "colab_type": "code",
    "id": "aBWfpWLP98iL",
    "outputId": "e06a6c5a-e483-429d-cd5f-b826e3163bf1"
   },
   "outputs": [
    {
     "data": {
      "text/plain": [
       "<matplotlib.axes._subplots.AxesSubplot at 0x2b2d963d048>"
      ]
     },
     "execution_count": 472,
     "metadata": {},
     "output_type": "execute_result"
    },
    {
     "data": {
      "image/png": "[encoded data removed]",
      "text/plain": [
       "<Figure size 360x360 with 1 Axes>"
      ]
     },
     "metadata": {
      "needs_background": "light"
     },
     "output_type": "display_data"
    }
   ],
   "source": [
    "df_feature_importances[['feature','importance']].sort_values(by=['importance'],\n",
    "                                                             ascending = [True]).plot(kind='barh',\n",
    "                                                             x='feature',\n",
    "                                                             y='importance',\n",
    "                                                             legend=True, \n",
    "                                                             figsize=(5, 5))"
   ]
  },
  {
   "cell_type": "markdown",
   "metadata": {
    "colab_type": "text",
    "id": "8h6Zrl3CtSg9"
   },
   "source": [
    "## 4.2.C. Random Forest"
   ]
  },
  {
   "cell_type": "markdown",
   "metadata": {
    "colab_type": "text",
    "id": "Sv-fXQpXtSg9"
   },
   "source": [
    "### 4.2.1 Training"
   ]
  },
  {
   "cell_type": "code",
   "execution_count": 473,
   "metadata": {
    "colab": {
     "base_uri": "https://localhost:8080/",
     "height": 134
    },
    "colab_type": "code",
    "id": "B9bIt7GetSg-",
    "outputId": "8460d596-9f22-4c42-d24c-cb8d07561f34"
   },
   "outputs": [
    {
     "data": {
      "text/plain": [
       "RandomForestClassifier(bootstrap=True, class_weight=None, criterion='gini',\n",
       "            max_depth=None, max_features='auto', max_leaf_nodes=None,\n",
       "            min_impurity_decrease=0.0, min_impurity_split=None,\n",
       "            min_samples_leaf=1, min_samples_split=2,\n",
       "            min_weight_fraction_leaf=0.0, n_estimators=10, n_jobs=1,\n",
       "            oob_score=False, random_state=None, verbose=0,\n",
       "            warm_start=False)"
      ]
     },
     "execution_count": 473,
     "metadata": {},
     "output_type": "execute_result"
    }
   ],
   "source": [
    "from sklearn.ensemble import RandomForestClassifier\n",
    "RandomForestClassifier()"
   ]
  },
  {
   "cell_type": "code",
   "execution_count": 474,
   "metadata": {
    "colab": {},
    "colab_type": "code",
    "id": "Dr9Bor7EtShA"
   },
   "outputs": [],
   "source": [
    "# Create  model objet \n",
    "model_rf = RandomForestClassifier(n_estimators = 150, random_state = 0, max_depth=5, \n",
    "                                  max_features = 0.5, min_samples_leaf = 10, \n",
    "                                  n_jobs = -1)\n",
    "\n",
    "# Fit the model:\n",
    "model_rf.fit(X_train, y_train)\n",
    "\n",
    "model = model_rf"
   ]
  },
  {
   "cell_type": "markdown",
   "metadata": {
    "colab_type": "text",
    "id": "E-qk6gGStShE"
   },
   "source": [
    "### 4.2.2 Evaluación del Modelo"
   ]
  },
  {
   "cell_type": "code",
   "execution_count": 475,
   "metadata": {
    "colab": {},
    "colab_type": "code",
    "id": "Vz_6lMXT_A3R"
   },
   "outputs": [],
   "source": [
    "# Generar las predicciones:\n",
    "y_pred_train = model.predict(X_train)\n",
    "y_pred_test = model.predict(X_test)\n",
    "\n",
    "# Generar las probabilidades\n",
    "y_pred_proba_train = model.predict_proba(X_train)[:,1]\n",
    "y_pred_proba_test = model.predict_proba(X_test)[:,1]"
   ]
  },
  {
   "cell_type": "code",
   "execution_count": 476,
   "metadata": {
    "colab": {
     "base_uri": "https://localhost:8080/",
     "height": 50
    },
    "colab_type": "code",
    "id": "2vzmFDYQ_A3c",
    "outputId": "3e7f110e-3166-4fbd-d8a6-4e13a6879571"
   },
   "outputs": [
    {
     "name": "stdout",
     "output_type": "stream",
     "text": [
      "Accuracy - Train: 0.8123634093037777\n",
      "Accuracy - Test : 0.7903930131004366\n"
     ]
    }
   ],
   "source": [
    "accuracy_train = mt.accuracy_score(y_train, y_pred_train)\n",
    "accuracy_test = mt.accuracy_score(y_test, y_pred_test)\n",
    "\n",
    "print(\"Accuracy - Train: {}\".format(accuracy_train))\n",
    "print(\"Accuracy - Test : {}\".format(accuracy_test))"
   ]
  },
  {
   "cell_type": "markdown",
   "metadata": {
    "colab_type": "text",
    "id": "fvW6UlJP_A3m"
   },
   "source": [
    "El punto de corte por defecto es de 0.50 para decidir si la predicción final será 1 ó 0. A continuación trataremos de encontrar ese punto de corte que optimice la métrica de evaluación del problema.."
   ]
  },
  {
   "cell_type": "markdown",
   "metadata": {
    "colab_type": "text",
    "id": "AlGTfJgG_A3o"
   },
   "source": [
    "### ****Find best threshold:****"
   ]
  },
  {
   "cell_type": "code",
   "execution_count": 477,
   "metadata": {
    "colab": {},
    "colab_type": "code",
    "id": "J76Sf2aY_A3p"
   },
   "outputs": [],
   "source": [
    "list_accuracy_test = []\n",
    "for threshold in range(0,100):\n",
    "  pred_0_1 = [1 if x >= threshold/100 else 0 for x in y_pred_proba_test]\n",
    "  list_accuracy_test.append(mt.accuracy_score(y_test, pred_0_1))"
   ]
  },
  {
   "cell_type": "code",
   "execution_count": 478,
   "metadata": {
    "colab": {
     "base_uri": "https://localhost:8080/",
     "height": 286
    },
    "colab_type": "code",
    "id": "q7rEKttl_A3v",
    "outputId": "f8d243d6-595f-4dfa-a6a4-a2dbb9e4ad0f"
   },
   "outputs": [
    {
     "data": {
      "text/plain": [
       "[<matplotlib.lines.Line2D at 0x2b2d9712278>]"
      ]
     },
     "execution_count": 478,
     "metadata": {},
     "output_type": "execute_result"
    },
    {
     "data": {
      "image/png": "[encoded data removed]",
      "text/plain": [
       "<Figure size 432x288 with 1 Axes>"
      ]
     },
     "metadata": {
      "needs_background": "light"
     },
     "output_type": "display_data"
    }
   ],
   "source": [
    "xs = [x/100 for x in range(0,100)]\n",
    "ys = list_accuracy_test\n",
    "plt.plot(xs, ys)"
   ]
  },
  {
   "cell_type": "code",
   "execution_count": 479,
   "metadata": {
    "colab": {
     "base_uri": "https://localhost:8080/",
     "height": 34
    },
    "colab_type": "code",
    "id": "WR38FGw-_A33",
    "outputId": "a6b20ab4-64c7-407b-c965-8c2b4bb99d5b"
   },
   "outputs": [
    {
     "name": "stdout",
     "output_type": "stream",
     "text": [
      "El mejor threshold es: 0.39\n"
     ]
    }
   ],
   "source": [
    "best_scoring = max(list_accuracy_test)\n",
    "best_threshold = list_accuracy_test.index(best_scoring)/100\n",
    "print(\"El mejor threshold es: {}\".format(best_threshold))"
   ]
  },
  {
   "cell_type": "code",
   "execution_count": 480,
   "metadata": {
    "colab": {
     "base_uri": "https://localhost:8080/",
     "height": 50
    },
    "colab_type": "code",
    "id": "0tlCH3hS_A4A",
    "outputId": "c1282d24-c18a-4f1d-9559-b65dca8e3f2f"
   },
   "outputs": [
    {
     "name": "stdout",
     "output_type": "stream",
     "text": [
      "Accuracy - Train: 0.810490165469872\n",
      "Accuracy - Test : 0.7954876273653566\n"
     ]
    }
   ],
   "source": [
    "accuracy_train = mt.accuracy_score(y_train, [1 if x >= best_threshold else 0 for x in y_pred_proba_train])\n",
    "accuracy_test = mt.accuracy_score(y_test, [1 if x >= best_threshold else 0 for x in y_pred_proba_test])\n",
    "\n",
    "print(\"Accuracy - Train: {}\".format(accuracy_train))\n",
    "print(\"Accuracy - Test : {}\".format(accuracy_test))"
   ]
  },
  {
   "cell_type": "markdown",
   "metadata": {
    "colab_type": "text",
    "id": "1LN8QylgtShX"
   },
   "source": [
    "### Feature Importances"
   ]
  },
  {
   "cell_type": "code",
   "execution_count": 481,
   "metadata": {
    "colab": {
     "base_uri": "https://localhost:8080/",
     "height": 462
    },
    "colab_type": "code",
    "id": "x5Hziz4p_R_c",
    "outputId": "79e918f7-fc11-431b-8ba5-7d1c4c13e385",
    "scrolled": true
   },
   "outputs": [
    {
     "data": {
      "text/html": [
       "<div>\n",
       "<style scoped>\n",
       "    .dataframe tbody tr th:only-of-type {\n",
       "        vertical-align: middle;\n",
       "    }\n",
       "\n",
       "    .dataframe tbody tr th {\n",
       "        vertical-align: top;\n",
       "    }\n",
       "\n",
       "    .dataframe thead th {\n",
       "        text-align: right;\n",
       "    }\n",
       "</style>\n",
       "<table border=\"1\" class=\"dataframe\">\n",
       "  <thead>\n",
       "    <tr style=\"text-align: right;\">\n",
       "      <th></th>\n",
       "      <th>feature</th>\n",
       "      <th>importance</th>\n",
       "    </tr>\n",
       "  </thead>\n",
       "  <tbody>\n",
       "    <tr>\n",
       "      <th>0</th>\n",
       "      <td>TerminoContrato_0</td>\n",
       "      <td>0.261453</td>\n",
       "    </tr>\n",
       "    <tr>\n",
       "      <th>1</th>\n",
       "      <td>MesesCliente</td>\n",
       "      <td>0.158068</td>\n",
       "    </tr>\n",
       "    <tr>\n",
       "      <th>2</th>\n",
       "      <td>ServicioInternet_1</td>\n",
       "      <td>0.128110</td>\n",
       "    </tr>\n",
       "    <tr>\n",
       "      <th>3</th>\n",
       "      <td>MesesRestantes</td>\n",
       "      <td>0.104738</td>\n",
       "    </tr>\n",
       "    <tr>\n",
       "      <th>4</th>\n",
       "      <td>MontoCargadoTotal</td>\n",
       "      <td>0.103860</td>\n",
       "    </tr>\n",
       "    <tr>\n",
       "      <th>5</th>\n",
       "      <td>MontoCargadoMes</td>\n",
       "      <td>0.088428</td>\n",
       "    </tr>\n",
       "    <tr>\n",
       "      <th>6</th>\n",
       "      <td>SeguridadOnline_1</td>\n",
       "      <td>0.066492</td>\n",
       "    </tr>\n",
       "    <tr>\n",
       "      <th>7</th>\n",
       "      <td>%Gap</td>\n",
       "      <td>0.019102</td>\n",
       "    </tr>\n",
       "    <tr>\n",
       "      <th>8</th>\n",
       "      <td>ServicioInternet_2</td>\n",
       "      <td>0.015799</td>\n",
       "    </tr>\n",
       "    <tr>\n",
       "      <th>9</th>\n",
       "      <td>MetodoPago_0</td>\n",
       "      <td>0.013830</td>\n",
       "    </tr>\n",
       "    <tr>\n",
       "      <th>10</th>\n",
       "      <td>TerminoContrato_2</td>\n",
       "      <td>0.008064</td>\n",
       "    </tr>\n",
       "    <tr>\n",
       "      <th>11</th>\n",
       "      <td>AdultoMayor_1</td>\n",
       "      <td>0.007033</td>\n",
       "    </tr>\n",
       "    <tr>\n",
       "      <th>12</th>\n",
       "      <td>FacturacionElectronica_0</td>\n",
       "      <td>0.006188</td>\n",
       "    </tr>\n",
       "    <tr>\n",
       "      <th>13</th>\n",
       "      <td>SeguridadOnline_2</td>\n",
       "      <td>0.005750</td>\n",
       "    </tr>\n",
       "    <tr>\n",
       "      <th>14</th>\n",
       "      <td>AdultoMayor_0</td>\n",
       "      <td>0.005709</td>\n",
       "    </tr>\n",
       "    <tr>\n",
       "      <th>15</th>\n",
       "      <td>FacturacionElectronica_1</td>\n",
       "      <td>0.005505</td>\n",
       "    </tr>\n",
       "    <tr>\n",
       "      <th>16</th>\n",
       "      <td>MetodoPago_1</td>\n",
       "      <td>0.001874</td>\n",
       "    </tr>\n",
       "  </tbody>\n",
       "</table>\n",
       "</div>"
      ],
      "text/plain": [
       "                     feature  importance\n",
       "0          TerminoContrato_0    0.261453\n",
       "1               MesesCliente    0.158068\n",
       "2         ServicioInternet_1    0.128110\n",
       "3             MesesRestantes    0.104738\n",
       "4          MontoCargadoTotal    0.103860\n",
       "5            MontoCargadoMes    0.088428\n",
       "6          SeguridadOnline_1    0.066492\n",
       "7                       %Gap    0.019102\n",
       "8         ServicioInternet_2    0.015799\n",
       "9               MetodoPago_0    0.013830\n",
       "10         TerminoContrato_2    0.008064\n",
       "11             AdultoMayor_1    0.007033\n",
       "12  FacturacionElectronica_0    0.006188\n",
       "13         SeguridadOnline_2    0.005750\n",
       "14             AdultoMayor_0    0.005709\n",
       "15  FacturacionElectronica_1    0.005505\n",
       "16              MetodoPago_1    0.001874"
      ]
     },
     "execution_count": 481,
     "metadata": {},
     "output_type": "execute_result"
    }
   ],
   "source": [
    "df_feature_importances = pd.DataFrame()\n",
    "df_feature_importances['feature'] = X_train.columns\n",
    "df_feature_importances['importance'] = model.feature_importances_/model.feature_importances_.sum()\n",
    "df_feature_importances = df_feature_importances.sort_values(by = ['importance','feature'],ascending=False)\n",
    "df_feature_importances.reset_index(drop = True,inplace=True)\n",
    "\n",
    "df_feature_importances"
   ]
  },
  {
   "cell_type": "code",
   "execution_count": 482,
   "metadata": {
    "colab": {
     "base_uri": "https://localhost:8080/",
     "height": 340
    },
    "colab_type": "code",
    "id": "tsDvlIIU_R_1",
    "outputId": "5bf0fb90-9c57-4601-b98e-efe0931188ba"
   },
   "outputs": [
    {
     "data": {
      "text/plain": [
       "<matplotlib.axes._subplots.AxesSubplot at 0x2b2d974f208>"
      ]
     },
     "execution_count": 482,
     "metadata": {},
     "output_type": "execute_result"
    },
    {
     "data": {
      "image/png": "[encoded data removed]",
      "text/plain": [
       "<Figure size 360x360 with 1 Axes>"
      ]
     },
     "metadata": {
      "needs_background": "light"
     },
     "output_type": "display_data"
    }
   ],
   "source": [
    "df_feature_importances[['feature','importance']].sort_values(by=['importance'],\n",
    "                                                             ascending = [True]).plot(kind='barh',\n",
    "                                                             x='feature',\n",
    "                                                             y='importance',\n",
    "                                                             legend=True, \n",
    "                                                             figsize=(5, 5))"
   ]
  },
  {
   "cell_type": "markdown",
   "metadata": {},
   "source": [
    "## 4.2.D. Random Forest con GridSearchCV"
   ]
  },
  {
   "cell_type": "code",
   "execution_count": 483,
   "metadata": {
    "colab": {},
    "colab_type": "code",
    "id": "Dr9Bor7EtShA"
   },
   "outputs": [
    {
     "data": {
      "text/plain": [
       "RandomForestClassifier(bootstrap=True, class_weight=None, criterion='gini',\n",
       "            max_depth=5, max_features=0.4, max_leaf_nodes=None,\n",
       "            min_impurity_decrease=0.0, min_impurity_split=None,\n",
       "            min_samples_leaf=10, min_samples_split=2,\n",
       "            min_weight_fraction_leaf=0.0, n_estimators=140, n_jobs=-1,\n",
       "            oob_score=False, random_state=0, verbose=0, warm_start=False)"
      ]
     },
     "execution_count": 483,
     "metadata": {},
     "output_type": "execute_result"
    }
   ],
   "source": [
    "from sklearn.metrics import make_scorer, accuracy_score\n",
    "from sklearn.model_selection import GridSearchCV\n",
    "\n",
    "# Create  model objet \n",
    "model_rf = RandomForestClassifier(random_state = 0, n_jobs = -1)\n",
    "\n",
    "parameters = {\n",
    "    \n",
    "    \"n_estimators\" : [120,125,130,135,140,145,150,155,160],\n",
    "    \"max_depth\" : [4,5],\n",
    "    \"min_samples_leaf\" : [10,15,20],\n",
    "    \"max_features\" : [0.2,0.4,0.5]\n",
    "}\n",
    "\n",
    "# Type of scoring used to compare parameter combinations\n",
    "acc_scorer = make_scorer(accuracy_score)\n",
    "\n",
    "\n",
    "X_train_s = StandardScaler().fit_transform(X_train)\n",
    "\n",
    "\n",
    "# Run the grid search\n",
    "grid_obj = GridSearchCV(model_rf, parameters, scoring=acc_scorer)\n",
    "grid_obj = grid_obj.fit(X_train_s, y_train)\n",
    "\n",
    "# Set the clf to the best combination of parameters\n",
    "model = grid_obj.best_estimator_\n",
    "\n",
    "# Fit the best algorithm to the data. \n",
    "model.fit(X_train_s, y_train)"
   ]
  },
  {
   "cell_type": "markdown",
   "metadata": {
    "colab_type": "text",
    "id": "E-qk6gGStShE"
   },
   "source": [
    "### 4.2.2 Evaluación del Modelo"
   ]
  },
  {
   "cell_type": "code",
   "execution_count": 484,
   "metadata": {
    "colab": {},
    "colab_type": "code",
    "id": "Vz_6lMXT_A3R"
   },
   "outputs": [],
   "source": [
    "# Generar las predicciones:\n",
    "y_pred_train = model.predict(X_train_s)\n",
    "\n",
    "X_test_s = StandardScaler().fit_transform(X_test)\n",
    "y_pred_test = model.predict(X_test_s)\n",
    "\n",
    "# Generar las probabilidades\n",
    "y_pred_proba_train = model.predict_proba(X_train_s)[:,1]\n",
    "y_pred_proba_test = model.predict_proba(X_test_s)[:,1]"
   ]
  },
  {
   "cell_type": "code",
   "execution_count": 485,
   "metadata": {
    "colab": {
     "base_uri": "https://localhost:8080/",
     "height": 50
    },
    "colab_type": "code",
    "id": "2vzmFDYQ_A3c",
    "outputId": "3e7f110e-3166-4fbd-d8a6-4e13a6879571"
   },
   "outputs": [
    {
     "name": "stdout",
     "output_type": "stream",
     "text": [
      "Accuracy - Train: 0.8117389946924758\n",
      "Accuracy - Test : 0.7874818049490538\n"
     ]
    }
   ],
   "source": [
    "accuracy_train = mt.accuracy_score(y_train, y_pred_train)\n",
    "accuracy_test = mt.accuracy_score(y_test, y_pred_test)\n",
    "\n",
    "print(\"Accuracy - Train: {}\".format(accuracy_train))\n",
    "print(\"Accuracy - Test : {}\".format(accuracy_test))"
   ]
  },
  {
   "cell_type": "markdown",
   "metadata": {
    "colab_type": "text",
    "id": "fvW6UlJP_A3m"
   },
   "source": [
    "El punto de corte por defecto es de 0.50 para decidir si la predicción final será 1 ó 0. A continuación trataremos de encontrar ese punto de corte que optimice la métrica de evaluación del problema.."
   ]
  },
  {
   "cell_type": "markdown",
   "metadata": {
    "colab_type": "text",
    "id": "AlGTfJgG_A3o"
   },
   "source": [
    "### ****Find best threshold:****"
   ]
  },
  {
   "cell_type": "code",
   "execution_count": 486,
   "metadata": {
    "colab": {},
    "colab_type": "code",
    "id": "J76Sf2aY_A3p"
   },
   "outputs": [],
   "source": [
    "list_accuracy_test = []\n",
    "for threshold in range(0,100):\n",
    "  pred_0_1 = [1 if x >= threshold/100 else 0 for x in y_pred_proba_test]\n",
    "  list_accuracy_test.append(mt.accuracy_score(y_test, pred_0_1))"
   ]
  },
  {
   "cell_type": "code",
   "execution_count": 487,
   "metadata": {
    "colab": {
     "base_uri": "https://localhost:8080/",
     "height": 286
    },
    "colab_type": "code",
    "id": "q7rEKttl_A3v",
    "outputId": "f8d243d6-595f-4dfa-a6a4-a2dbb9e4ad0f"
   },
   "outputs": [
    {
     "data": {
      "text/plain": [
       "[<matplotlib.lines.Line2D at 0x2b2d98225f8>]"
      ]
     },
     "execution_count": 487,
     "metadata": {},
     "output_type": "execute_result"
    },
    {
     "data": {
      "image/png": "[encoded data removed]",
      "text/plain": [
       "<Figure size 432x288 with 1 Axes>"
      ]
     },
     "metadata": {
      "needs_background": "light"
     },
     "output_type": "display_data"
    }
   ],
   "source": [
    "xs = [x/100 for x in range(0,100)]\n",
    "ys = list_accuracy_test\n",
    "plt.plot(xs, ys)"
   ]
  },
  {
   "cell_type": "code",
   "execution_count": 488,
   "metadata": {
    "colab": {
     "base_uri": "https://localhost:8080/",
     "height": 34
    },
    "colab_type": "code",
    "id": "WR38FGw-_A33",
    "outputId": "a6b20ab4-64c7-407b-c965-8c2b4bb99d5b"
   },
   "outputs": [
    {
     "name": "stdout",
     "output_type": "stream",
     "text": [
      "El mejor threshold es: 0.45\n"
     ]
    }
   ],
   "source": [
    "best_scoring = max(list_accuracy_test)\n",
    "best_threshold = list_accuracy_test.index(best_scoring)/100\n",
    "print(\"El mejor threshold es: {}\".format(best_threshold))"
   ]
  },
  {
   "cell_type": "code",
   "execution_count": 489,
   "metadata": {
    "colab": {
     "base_uri": "https://localhost:8080/",
     "height": 50
    },
    "colab_type": "code",
    "id": "0tlCH3hS_A4A",
    "outputId": "c1282d24-c18a-4f1d-9559-b65dca8e3f2f"
   },
   "outputs": [
    {
     "name": "stdout",
     "output_type": "stream",
     "text": [
      "Accuracy - Train: 0.8145488604433344\n",
      "Accuracy - Test : 0.7962154294032023\n"
     ]
    }
   ],
   "source": [
    "accuracy_train = mt.accuracy_score(y_train, [1 if x >= best_threshold else 0 for x in y_pred_proba_train])\n",
    "accuracy_test = mt.accuracy_score(y_test, [1 if x >= best_threshold else 0 for x in y_pred_proba_test])\n",
    "\n",
    "print(\"Accuracy - Train: {}\".format(accuracy_train))\n",
    "print(\"Accuracy - Test : {}\".format(accuracy_test))"
   ]
  },
  {
   "cell_type": "markdown",
   "metadata": {
    "colab_type": "text",
    "id": "1LN8QylgtShX"
   },
   "source": [
    "### Feature Importances"
   ]
  },
  {
   "cell_type": "code",
   "execution_count": 490,
   "metadata": {
    "colab": {
     "base_uri": "https://localhost:8080/",
     "height": 462
    },
    "colab_type": "code",
    "id": "x5Hziz4p_R_c",
    "outputId": "79e918f7-fc11-431b-8ba5-7d1c4c13e385",
    "scrolled": true
   },
   "outputs": [
    {
     "data": {
      "text/html": [
       "<div>\n",
       "<style scoped>\n",
       "    .dataframe tbody tr th:only-of-type {\n",
       "        vertical-align: middle;\n",
       "    }\n",
       "\n",
       "    .dataframe tbody tr th {\n",
       "        vertical-align: top;\n",
       "    }\n",
       "\n",
       "    .dataframe thead th {\n",
       "        text-align: right;\n",
       "    }\n",
       "</style>\n",
       "<table border=\"1\" class=\"dataframe\">\n",
       "  <thead>\n",
       "    <tr style=\"text-align: right;\">\n",
       "      <th></th>\n",
       "      <th>feature</th>\n",
       "      <th>importance</th>\n",
       "    </tr>\n",
       "  </thead>\n",
       "  <tbody>\n",
       "    <tr>\n",
       "      <th>0</th>\n",
       "      <td>TerminoContrato_0</td>\n",
       "      <td>0.225861</td>\n",
       "    </tr>\n",
       "    <tr>\n",
       "      <th>1</th>\n",
       "      <td>MesesCliente</td>\n",
       "      <td>0.171117</td>\n",
       "    </tr>\n",
       "    <tr>\n",
       "      <th>2</th>\n",
       "      <td>ServicioInternet_1</td>\n",
       "      <td>0.132022</td>\n",
       "    </tr>\n",
       "    <tr>\n",
       "      <th>3</th>\n",
       "      <td>MesesRestantes</td>\n",
       "      <td>0.110838</td>\n",
       "    </tr>\n",
       "    <tr>\n",
       "      <th>4</th>\n",
       "      <td>MontoCargadoTotal</td>\n",
       "      <td>0.096844</td>\n",
       "    </tr>\n",
       "    <tr>\n",
       "      <th>5</th>\n",
       "      <td>MontoCargadoMes</td>\n",
       "      <td>0.084467</td>\n",
       "    </tr>\n",
       "    <tr>\n",
       "      <th>6</th>\n",
       "      <td>SeguridadOnline_1</td>\n",
       "      <td>0.070904</td>\n",
       "    </tr>\n",
       "    <tr>\n",
       "      <th>7</th>\n",
       "      <td>%Gap</td>\n",
       "      <td>0.024437</td>\n",
       "    </tr>\n",
       "    <tr>\n",
       "      <th>8</th>\n",
       "      <td>MetodoPago_0</td>\n",
       "      <td>0.020846</td>\n",
       "    </tr>\n",
       "    <tr>\n",
       "      <th>9</th>\n",
       "      <td>ServicioInternet_2</td>\n",
       "      <td>0.013322</td>\n",
       "    </tr>\n",
       "    <tr>\n",
       "      <th>10</th>\n",
       "      <td>TerminoContrato_2</td>\n",
       "      <td>0.012050</td>\n",
       "    </tr>\n",
       "    <tr>\n",
       "      <th>11</th>\n",
       "      <td>SeguridadOnline_2</td>\n",
       "      <td>0.008063</td>\n",
       "    </tr>\n",
       "    <tr>\n",
       "      <th>12</th>\n",
       "      <td>FacturacionElectronica_1</td>\n",
       "      <td>0.007804</td>\n",
       "    </tr>\n",
       "    <tr>\n",
       "      <th>13</th>\n",
       "      <td>FacturacionElectronica_0</td>\n",
       "      <td>0.007587</td>\n",
       "    </tr>\n",
       "    <tr>\n",
       "      <th>14</th>\n",
       "      <td>AdultoMayor_0</td>\n",
       "      <td>0.006498</td>\n",
       "    </tr>\n",
       "    <tr>\n",
       "      <th>15</th>\n",
       "      <td>AdultoMayor_1</td>\n",
       "      <td>0.005440</td>\n",
       "    </tr>\n",
       "    <tr>\n",
       "      <th>16</th>\n",
       "      <td>MetodoPago_1</td>\n",
       "      <td>0.001899</td>\n",
       "    </tr>\n",
       "  </tbody>\n",
       "</table>\n",
       "</div>"
      ],
      "text/plain": [
       "                     feature  importance\n",
       "0          TerminoContrato_0    0.225861\n",
       "1               MesesCliente    0.171117\n",
       "2         ServicioInternet_1    0.132022\n",
       "3             MesesRestantes    0.110838\n",
       "4          MontoCargadoTotal    0.096844\n",
       "5            MontoCargadoMes    0.084467\n",
       "6          SeguridadOnline_1    0.070904\n",
       "7                       %Gap    0.024437\n",
       "8               MetodoPago_0    0.020846\n",
       "9         ServicioInternet_2    0.013322\n",
       "10         TerminoContrato_2    0.012050\n",
       "11         SeguridadOnline_2    0.008063\n",
       "12  FacturacionElectronica_1    0.007804\n",
       "13  FacturacionElectronica_0    0.007587\n",
       "14             AdultoMayor_0    0.006498\n",
       "15             AdultoMayor_1    0.005440\n",
       "16              MetodoPago_1    0.001899"
      ]
     },
     "execution_count": 490,
     "metadata": {},
     "output_type": "execute_result"
    }
   ],
   "source": [
    "df_feature_importances = pd.DataFrame()\n",
    "df_feature_importances['feature'] = X_train.columns\n",
    "df_feature_importances['importance'] = model.feature_importances_/model.feature_importances_.sum()\n",
    "df_feature_importances = df_feature_importances.sort_values(by = ['importance','feature'],ascending=False)\n",
    "df_feature_importances.reset_index(drop = True,inplace=True)\n",
    "\n",
    "df_feature_importances"
   ]
  },
  {
   "cell_type": "code",
   "execution_count": 491,
   "metadata": {
    "colab": {
     "base_uri": "https://localhost:8080/",
     "height": 340
    },
    "colab_type": "code",
    "id": "tsDvlIIU_R_1",
    "outputId": "5bf0fb90-9c57-4601-b98e-efe0931188ba"
   },
   "outputs": [
    {
     "data": {
      "text/plain": [
       "<matplotlib.axes._subplots.AxesSubplot at 0x2b2d987ccf8>"
      ]
     },
     "execution_count": 491,
     "metadata": {},
     "output_type": "execute_result"
    },
    {
     "data": {
      "image/png": "[encoded data removed]",
      "text/plain": [
       "<Figure size 360x360 with 1 Axes>"
      ]
     },
     "metadata": {
      "needs_background": "light"
     },
     "output_type": "display_data"
    }
   ],
   "source": [
    "df_feature_importances[['feature','importance']].sort_values(by=['importance'],\n",
    "                                                             ascending = [True]).plot(kind='barh',\n",
    "                                                             x='feature',\n",
    "                                                             y='importance',\n",
    "                                                             legend=True, \n",
    "                                                             figsize=(5, 5))"
   ]
  },
  {
   "cell_type": "markdown",
   "metadata": {
    "colab_type": "text",
    "id": "xpp8dOIDDWmv"
   },
   "source": [
    "**MODELO FINAL**"
   ]
  },
  {
   "cell_type": "markdown",
   "metadata": {
    "colab_type": "text",
    "id": "HERjQHFoDcCc"
   },
   "source": [
    "Como se puede notar, de los algoritmos entrenados, el modelo basado en Random Forrest con CV es el ganador con un accuracy optimizado por el punto de corte (threhold: 0.46)"
   ]
  },
  {
   "cell_type": "markdown",
   "metadata": {
    "colab_type": "text",
    "id": "cb_S6QGXtShc"
   },
   "source": [
    "# Predicciones on Submission DS"
   ]
  },
  {
   "cell_type": "code",
   "execution_count": 492,
   "metadata": {
    "colab": {},
    "colab_type": "code",
    "id": "_KrAWJ2NtShd"
   },
   "outputs": [],
   "source": [
    "X_summit_s = StandardScaler().fit_transform(X_summit)\n",
    "\n",
    "pred_prob_subm = model.predict_proba(X_summit_s)[:,1]\n",
    "pred_subm = [1 if x >= best_threshold else 0 for x in pred_prob_subm]"
   ]
  },
  {
   "cell_type": "code",
   "execution_count": 493,
   "metadata": {
    "colab": {
     "base_uri": "https://localhost:8080/",
     "height": 195
    },
    "colab_type": "code",
    "id": "u54bT83htShe",
    "outputId": "963182b2-055c-4136-ebff-880a079aed59"
   },
   "outputs": [
    {
     "data": {
      "text/html": [
       "<div>\n",
       "<style scoped>\n",
       "    .dataframe tbody tr th:only-of-type {\n",
       "        vertical-align: middle;\n",
       "    }\n",
       "\n",
       "    .dataframe tbody tr th {\n",
       "        vertical-align: top;\n",
       "    }\n",
       "\n",
       "    .dataframe thead th {\n",
       "        text-align: right;\n",
       "    }\n",
       "</style>\n",
       "<table border=\"1\" class=\"dataframe\">\n",
       "  <thead>\n",
       "    <tr style=\"text-align: right;\">\n",
       "      <th></th>\n",
       "      <th>ID</th>\n",
       "      <th>Churn</th>\n",
       "    </tr>\n",
       "  </thead>\n",
       "  <tbody>\n",
       "    <tr>\n",
       "      <th>0</th>\n",
       "      <td>ID03436</td>\n",
       "      <td>0</td>\n",
       "    </tr>\n",
       "    <tr>\n",
       "      <th>1</th>\n",
       "      <td>ID05166</td>\n",
       "      <td>0</td>\n",
       "    </tr>\n",
       "    <tr>\n",
       "      <th>2</th>\n",
       "      <td>ID04004</td>\n",
       "      <td>1</td>\n",
       "    </tr>\n",
       "    <tr>\n",
       "      <th>3</th>\n",
       "      <td>ID05309</td>\n",
       "      <td>0</td>\n",
       "    </tr>\n",
       "    <tr>\n",
       "      <th>4</th>\n",
       "      <td>ID05434</td>\n",
       "      <td>0</td>\n",
       "    </tr>\n",
       "  </tbody>\n",
       "</table>\n",
       "</div>"
      ],
      "text/plain": [
       "        ID  Churn\n",
       "0  ID03436      0\n",
       "1  ID05166      0\n",
       "2  ID04004      1\n",
       "3  ID05309      0\n",
       "4  ID05434      0"
      ]
     },
     "execution_count": 493,
     "metadata": {},
     "output_type": "execute_result"
    }
   ],
   "source": [
    "Y_summit_pred = pd.DataFrame()\n",
    "Y_summit_pred[ID] = df_test[ID]\n",
    "Y_summit_pred[TARGET] = pred_subm #pred_prob_subm\n",
    "Y_summit_pred.head()"
   ]
  },
  {
   "cell_type": "markdown",
   "metadata": {
    "colab_type": "text",
    "id": "HZuqQb8stShf"
   },
   "source": [
    "To submission:"
   ]
  },
  {
   "cell_type": "code",
   "execution_count": 494,
   "metadata": {
    "colab": {},
    "colab_type": "code",
    "id": "wFz5QCrQEa4u"
   },
   "outputs": [],
   "source": [
    "Y_summit_pred.to_csv(\"jdca_submission_14_rf_gsearch.csv\", index = False)"
   ]
  },
  {
   "cell_type": "code",
   "execution_count": 495,
   "metadata": {},
   "outputs": [
    {
     "name": "stdout",
     "output_type": "stream",
     "text": [
      "Successfully submitted to DSRP - Kaggle Reuniones 1\n"
     ]
    },
    {
     "name": "stderr",
     "output_type": "stream",
     "text": [
      "\n",
      "  0%|          | 0.00/26.5k [00:00<?, ?B/s]\n",
      " 30%|###       | 8.00k/26.5k [00:00<00:00, 25.8kB/s]\n",
      "100%|##########| 26.5k/26.5k [00:00<00:00, 37.1kB/s]\n"
     ]
    }
   ],
   "source": [
    "!kaggle competitions submit -c dsrp-kaggle-semillero-01 -f jdca_submission_14_rf_gsearch.csv -m \"Message\""
   ]
  },
  {
   "cell_type": "code",
   "execution_count": null,
   "metadata": {},
   "outputs": [],
   "source": []
  }
 ],
 "metadata": {
  "kernelspec": {
   "display_name": "Python 3",
   "language": "python",
   "name": "python3"
  },
  "language_info": {
   "codemirror_mode": {
    "name": "ipython",
    "version": 3
   },
   "file_extension": ".py",
   "mimetype": "text/x-python",
   "name": "python",
   "nbconvert_exporter": "python",
   "pygments_lexer": "ipython3",
   "version": "3.7.0"
  }
 },
 "nbformat": 4,
 "nbformat_minor": 2
}
